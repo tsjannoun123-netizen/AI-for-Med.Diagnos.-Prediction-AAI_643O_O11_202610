{
  "cells": [
    {
      "cell_type": "markdown",
      "metadata": {
        "id": "view-in-github",
        "colab_type": "text"
      },
      "source": [
        "<a href=\"https://colab.research.google.com/github/tsjannoun123-netizen/AI-for-Med.Diagnos.-Prediction-AAI_643O_O11_202610/blob/main/Week3_lesson1_Saera_Rawas.ipynb\" target=\"_parent\"><img src=\"https://colab.research.google.com/assets/colab-badge.svg\" alt=\"Open In Colab\"/></a>"
      ]
    },
    {
      "cell_type": "markdown",
      "id": "8c136db4-ad96-4151-95c9-a70e616bfd1b",
      "metadata": {
        "id": "8c136db4-ad96-4151-95c9-a70e616bfd1b"
      },
      "source": [
        "# Notebook for practical exercises | Week #3 Lesson #1\n",
        "\n",
        "## Introduction\n",
        "\n",
        "This notebook contains practical hands-on exercises for the lesson about *Supervised Learning in Medicine*.\n",
        "\n",
        "After this session, you will know how to create, train and validate a classifier for a real-world clinical problem:\n",
        "* Create the classifier object ;\n",
        "* Understand the impact of hyperparameters ;\n",
        "* Compare different classification algorithms."
      ]
    },
    {
      "cell_type": "markdown",
      "id": "18c35988-7734-422f-971d-a9311468441c",
      "metadata": {
        "id": "18c35988-7734-422f-971d-a9311468441c"
      },
      "source": [
        "## Dataset\n",
        "\n",
        "As last week, we will use the [The Brain Resection Multimodal Imaging Database](https://www.cancerimagingarchive.net/collection/remind/) [1]. The Brain Resection Multimodal Imaging Database (ReMIND) contains pre- and intra-operative brain MRI collected on 114 consecutive patients who were surgically treated with image-guided tumor resection between 2018 and 2022.\n",
        "\n",
        "[1] Juvekar, P., Dorent, R., Kögl, F., Torio, E., Barr, C., Rigolo, L., Galvin, C., Jowkar, N., Kazi, A., Haouchine, N., Cheema, H., Navab, N., Pieper, S., Wells, W. M., Bi, W. L., Golby, A., Frisken, S., & Kapur, T. (2023). The Brain Resection Multimodal Imaging Database (ReMIND) (Version 1) [dataset]. The Cancer Imaging Archive. [https://doi.org/10.7937/3RAG-D070](https://doi.org/10.7937/3RAG-D070)"
      ]
    },
    {
      "cell_type": "code",
      "execution_count": 2,
      "id": "07b61336-5cde-49e0-ac27-edb14b22d3ce",
      "metadata": {
        "id": "07b61336-5cde-49e0-ac27-edb14b22d3ce"
      },
      "outputs": [],
      "source": [
        "import pandas as pd\n",
        "import numpy as np\n",
        "import matplotlib.pyplot as plt\n",
        "import seaborn as sns\n",
        "import os"
      ]
    },
    {
      "cell_type": "markdown",
      "id": "f2976f95-dd1b-4527-8853-ec5d21a5ca15",
      "metadata": {
        "id": "f2976f95-dd1b-4527-8853-ec5d21a5ca15"
      },
      "source": [
        "### Download\n",
        "\n",
        "If needed, run the following cells to download and unzip the radiomics and metadata csv files.\n",
        "\n",
        "<div class=\"alert alert-block alert-danger\">\n",
        "<b>Replace the <code>DATA_PATH</code> with the path where you want to store the data folder. By default, it will be stored at the root of this repository.</b> <br>\n",
        "<b>If you have already downloaded the dataset, comment the following cell by adding a <code>#</code> before the <code>!</code></b>\n",
        "</div>"
      ]
    },
    {
      "cell_type": "code",
      "execution_count": 3,
      "id": "a5ae511c-895a-4edf-86f8-bca5a0b1ce92",
      "metadata": {
        "colab": {
          "base_uri": "https://localhost:8080/"
        },
        "id": "a5ae511c-895a-4edf-86f8-bca5a0b1ce92",
        "outputId": "7ff21190-54a7-4cd5-c603-9b1febe1f95d"
      },
      "outputs": [
        {
          "output_type": "stream",
          "name": "stdout",
          "text": [
            "  % Total    % Received % Xferd  Average Speed   Time    Time     Time  Current\n",
            "                                 Dload  Upload   Total   Spent    Left  Speed\n",
            "100  183k  100  183k    0     0   161k      0  0:00:01  0:00:01 --:--:--  161k\n"
          ]
        }
      ],
      "source": [
        "DATA_PATH = './'\n",
        "\n",
        "if not os.path.exists(f'{DATA_PATH}/data'):\n",
        "    os.mkdir(f'{DATA_PATH}/data')\n",
        "\n",
        "if not os.path.exists(f'{DATA_PATH}/data/ReMIND'):\n",
        "    os.mkdir(f'{DATA_PATH}/data/ReMIND')\n",
        "\n",
        "!curl https://uni-bonn.sciebo.de/s/eIHqHLT6dvsaSck/download --output {DATA_PATH}/data/ReMIND/radiomics_standardized.csv"
      ]
    },
    {
      "cell_type": "markdown",
      "id": "64fd0170-5cfb-484d-b22b-0af1ceee6ba8",
      "metadata": {
        "id": "64fd0170-5cfb-484d-b22b-0af1ceee6ba8"
      },
      "source": [
        "### Quick reminder\n",
        "\n",
        "Last week, we learned how to clean, organize and extract features from a brain MRI dataset with segmentation masks of tumors. Our objective is now to train a classifier to identify the tumor grade from the radiomic features."
      ]
    },
    {
      "cell_type": "code",
      "execution_count": 4,
      "id": "19261c57-2ce0-47c6-a4fa-1e7ffbb8a012",
      "metadata": {
        "colab": {
          "base_uri": "https://localhost:8080/",
          "height": 255
        },
        "id": "19261c57-2ce0-47c6-a4fa-1e7ffbb8a012",
        "outputId": "e85c3334-851b-4544-e40f-a8458c38d475"
      },
      "outputs": [
        {
          "output_type": "execute_result",
          "data": {
            "text/plain": [
              "   original_shape_Elongation  original_shape_Flatness  \\\n",
              "0                   0.860020                 1.122862   \n",
              "1                   1.025073                 0.507871   \n",
              "2                  -0.954156                -0.646563   \n",
              "3                   1.339663                 1.151933   \n",
              "4                  -0.509357                -0.613268   \n",
              "\n",
              "   original_shape_LeastAxisLength  original_shape_MajorAxisLength  \\\n",
              "0                        1.396610                        0.253136   \n",
              "1                        0.104606                       -0.356884   \n",
              "2                       -1.035618                       -0.921583   \n",
              "3                       -0.819872                       -1.215635   \n",
              "4                       -0.660474                       -0.472525   \n",
              "\n",
              "   original_shape_Maximum2DDiameterColumn  \\\n",
              "0                                0.830442   \n",
              "1                               -0.209951   \n",
              "2                               -0.792979   \n",
              "3                               -1.077766   \n",
              "4                               -0.303654   \n",
              "\n",
              "   original_shape_Maximum2DDiameterRow  original_shape_Maximum2DDiameterSlice  \\\n",
              "0                             0.343751                               0.356849   \n",
              "1                            -0.226259                              -0.214213   \n",
              "2                            -0.973916                              -1.203671   \n",
              "3                            -1.223924                              -1.169485   \n",
              "4                            -0.289065                              -0.707875   \n",
              "\n",
              "   original_shape_Maximum3DDiameter  original_shape_MeshVolume  \\\n",
              "0                          0.251977                   0.471729   \n",
              "1                         -0.377701                  -0.208317   \n",
              "2                         -0.885273                  -0.487601   \n",
              "3                         -1.223477                  -0.488464   \n",
              "4                         -0.314526                  -0.424301   \n",
              "\n",
              "   original_shape_MinorAxisLength  ...  original_glszm_ZoneEntropy  \\\n",
              "0                        0.715953  ...                    0.587638   \n",
              "1                        0.018649  ...                   -0.176907   \n",
              "2                       -1.091582  ...                    0.508167   \n",
              "3                       -1.026820  ...                   -1.079740   \n",
              "4                       -0.585267  ...                    1.411481   \n",
              "\n",
              "   original_glszm_ZonePercentage  original_glszm_ZoneVariance  \\\n",
              "0                      -0.229040                    -0.301505   \n",
              "1                      -0.812217                    -0.202383   \n",
              "2                      -0.219850                    -0.376836   \n",
              "3                      -0.226175                    -0.378617   \n",
              "4                       0.678000                    -0.384729   \n",
              "\n",
              "   original_ngtdm_Busyness  original_ngtdm_Coarseness  \\\n",
              "0                -0.181221                  -0.331200   \n",
              "1                -0.030719                  -0.284125   \n",
              "2                -0.430580                  -0.202489   \n",
              "3                -0.318686                   0.135175   \n",
              "4                -0.423384                  -0.291855   \n",
              "\n",
              "   original_ngtdm_Complexity  original_ngtdm_Contrast  \\\n",
              "0                  -0.111814                -0.408733   \n",
              "1                  -0.123831                -0.506981   \n",
              "2                  -0.115482                -0.482961   \n",
              "3                  -0.124402                -0.314173   \n",
              "4                  -0.070733                -0.298664   \n",
              "\n",
              "   original_ngtdm_Strength  patient  tumor  \n",
              "0                -0.158659        1      3  \n",
              "1                -0.294942        2      2  \n",
              "2                 0.650141        3      2  \n",
              "3                -0.201749        4      1  \n",
              "4                 1.349813        6      2  \n",
              "\n",
              "[5 rows x 109 columns]"
            ],
            "text/html": [
              "\n",
              "  <div id=\"df-3103c2ca-603e-4eb1-b828-c400163200f6\" class=\"colab-df-container\">\n",
              "    <div>\n",
              "<style scoped>\n",
              "    .dataframe tbody tr th:only-of-type {\n",
              "        vertical-align: middle;\n",
              "    }\n",
              "\n",
              "    .dataframe tbody tr th {\n",
              "        vertical-align: top;\n",
              "    }\n",
              "\n",
              "    .dataframe thead th {\n",
              "        text-align: right;\n",
              "    }\n",
              "</style>\n",
              "<table border=\"1\" class=\"dataframe\">\n",
              "  <thead>\n",
              "    <tr style=\"text-align: right;\">\n",
              "      <th></th>\n",
              "      <th>original_shape_Elongation</th>\n",
              "      <th>original_shape_Flatness</th>\n",
              "      <th>original_shape_LeastAxisLength</th>\n",
              "      <th>original_shape_MajorAxisLength</th>\n",
              "      <th>original_shape_Maximum2DDiameterColumn</th>\n",
              "      <th>original_shape_Maximum2DDiameterRow</th>\n",
              "      <th>original_shape_Maximum2DDiameterSlice</th>\n",
              "      <th>original_shape_Maximum3DDiameter</th>\n",
              "      <th>original_shape_MeshVolume</th>\n",
              "      <th>original_shape_MinorAxisLength</th>\n",
              "      <th>...</th>\n",
              "      <th>original_glszm_ZoneEntropy</th>\n",
              "      <th>original_glszm_ZonePercentage</th>\n",
              "      <th>original_glszm_ZoneVariance</th>\n",
              "      <th>original_ngtdm_Busyness</th>\n",
              "      <th>original_ngtdm_Coarseness</th>\n",
              "      <th>original_ngtdm_Complexity</th>\n",
              "      <th>original_ngtdm_Contrast</th>\n",
              "      <th>original_ngtdm_Strength</th>\n",
              "      <th>patient</th>\n",
              "      <th>tumor</th>\n",
              "    </tr>\n",
              "  </thead>\n",
              "  <tbody>\n",
              "    <tr>\n",
              "      <th>0</th>\n",
              "      <td>0.860020</td>\n",
              "      <td>1.122862</td>\n",
              "      <td>1.396610</td>\n",
              "      <td>0.253136</td>\n",
              "      <td>0.830442</td>\n",
              "      <td>0.343751</td>\n",
              "      <td>0.356849</td>\n",
              "      <td>0.251977</td>\n",
              "      <td>0.471729</td>\n",
              "      <td>0.715953</td>\n",
              "      <td>...</td>\n",
              "      <td>0.587638</td>\n",
              "      <td>-0.229040</td>\n",
              "      <td>-0.301505</td>\n",
              "      <td>-0.181221</td>\n",
              "      <td>-0.331200</td>\n",
              "      <td>-0.111814</td>\n",
              "      <td>-0.408733</td>\n",
              "      <td>-0.158659</td>\n",
              "      <td>1</td>\n",
              "      <td>3</td>\n",
              "    </tr>\n",
              "    <tr>\n",
              "      <th>1</th>\n",
              "      <td>1.025073</td>\n",
              "      <td>0.507871</td>\n",
              "      <td>0.104606</td>\n",
              "      <td>-0.356884</td>\n",
              "      <td>-0.209951</td>\n",
              "      <td>-0.226259</td>\n",
              "      <td>-0.214213</td>\n",
              "      <td>-0.377701</td>\n",
              "      <td>-0.208317</td>\n",
              "      <td>0.018649</td>\n",
              "      <td>...</td>\n",
              "      <td>-0.176907</td>\n",
              "      <td>-0.812217</td>\n",
              "      <td>-0.202383</td>\n",
              "      <td>-0.030719</td>\n",
              "      <td>-0.284125</td>\n",
              "      <td>-0.123831</td>\n",
              "      <td>-0.506981</td>\n",
              "      <td>-0.294942</td>\n",
              "      <td>2</td>\n",
              "      <td>2</td>\n",
              "    </tr>\n",
              "    <tr>\n",
              "      <th>2</th>\n",
              "      <td>-0.954156</td>\n",
              "      <td>-0.646563</td>\n",
              "      <td>-1.035618</td>\n",
              "      <td>-0.921583</td>\n",
              "      <td>-0.792979</td>\n",
              "      <td>-0.973916</td>\n",
              "      <td>-1.203671</td>\n",
              "      <td>-0.885273</td>\n",
              "      <td>-0.487601</td>\n",
              "      <td>-1.091582</td>\n",
              "      <td>...</td>\n",
              "      <td>0.508167</td>\n",
              "      <td>-0.219850</td>\n",
              "      <td>-0.376836</td>\n",
              "      <td>-0.430580</td>\n",
              "      <td>-0.202489</td>\n",
              "      <td>-0.115482</td>\n",
              "      <td>-0.482961</td>\n",
              "      <td>0.650141</td>\n",
              "      <td>3</td>\n",
              "      <td>2</td>\n",
              "    </tr>\n",
              "    <tr>\n",
              "      <th>3</th>\n",
              "      <td>1.339663</td>\n",
              "      <td>1.151933</td>\n",
              "      <td>-0.819872</td>\n",
              "      <td>-1.215635</td>\n",
              "      <td>-1.077766</td>\n",
              "      <td>-1.223924</td>\n",
              "      <td>-1.169485</td>\n",
              "      <td>-1.223477</td>\n",
              "      <td>-0.488464</td>\n",
              "      <td>-1.026820</td>\n",
              "      <td>...</td>\n",
              "      <td>-1.079740</td>\n",
              "      <td>-0.226175</td>\n",
              "      <td>-0.378617</td>\n",
              "      <td>-0.318686</td>\n",
              "      <td>0.135175</td>\n",
              "      <td>-0.124402</td>\n",
              "      <td>-0.314173</td>\n",
              "      <td>-0.201749</td>\n",
              "      <td>4</td>\n",
              "      <td>1</td>\n",
              "    </tr>\n",
              "    <tr>\n",
              "      <th>4</th>\n",
              "      <td>-0.509357</td>\n",
              "      <td>-0.613268</td>\n",
              "      <td>-0.660474</td>\n",
              "      <td>-0.472525</td>\n",
              "      <td>-0.303654</td>\n",
              "      <td>-0.289065</td>\n",
              "      <td>-0.707875</td>\n",
              "      <td>-0.314526</td>\n",
              "      <td>-0.424301</td>\n",
              "      <td>-0.585267</td>\n",
              "      <td>...</td>\n",
              "      <td>1.411481</td>\n",
              "      <td>0.678000</td>\n",
              "      <td>-0.384729</td>\n",
              "      <td>-0.423384</td>\n",
              "      <td>-0.291855</td>\n",
              "      <td>-0.070733</td>\n",
              "      <td>-0.298664</td>\n",
              "      <td>1.349813</td>\n",
              "      <td>6</td>\n",
              "      <td>2</td>\n",
              "    </tr>\n",
              "  </tbody>\n",
              "</table>\n",
              "<p>5 rows × 109 columns</p>\n",
              "</div>\n",
              "    <div class=\"colab-df-buttons\">\n",
              "\n",
              "  <div class=\"colab-df-container\">\n",
              "    <button class=\"colab-df-convert\" onclick=\"convertToInteractive('df-3103c2ca-603e-4eb1-b828-c400163200f6')\"\n",
              "            title=\"Convert this dataframe to an interactive table.\"\n",
              "            style=\"display:none;\">\n",
              "\n",
              "  <svg xmlns=\"http://www.w3.org/2000/svg\" height=\"24px\" viewBox=\"0 -960 960 960\">\n",
              "    <path d=\"M120-120v-720h720v720H120Zm60-500h600v-160H180v160Zm220 220h160v-160H400v160Zm0 220h160v-160H400v160ZM180-400h160v-160H180v160Zm440 0h160v-160H620v160ZM180-180h160v-160H180v160Zm440 0h160v-160H620v160Z\"/>\n",
              "  </svg>\n",
              "    </button>\n",
              "\n",
              "  <style>\n",
              "    .colab-df-container {\n",
              "      display:flex;\n",
              "      gap: 12px;\n",
              "    }\n",
              "\n",
              "    .colab-df-convert {\n",
              "      background-color: #E8F0FE;\n",
              "      border: none;\n",
              "      border-radius: 50%;\n",
              "      cursor: pointer;\n",
              "      display: none;\n",
              "      fill: #1967D2;\n",
              "      height: 32px;\n",
              "      padding: 0 0 0 0;\n",
              "      width: 32px;\n",
              "    }\n",
              "\n",
              "    .colab-df-convert:hover {\n",
              "      background-color: #E2EBFA;\n",
              "      box-shadow: 0px 1px 2px rgba(60, 64, 67, 0.3), 0px 1px 3px 1px rgba(60, 64, 67, 0.15);\n",
              "      fill: #174EA6;\n",
              "    }\n",
              "\n",
              "    .colab-df-buttons div {\n",
              "      margin-bottom: 4px;\n",
              "    }\n",
              "\n",
              "    [theme=dark] .colab-df-convert {\n",
              "      background-color: #3B4455;\n",
              "      fill: #D2E3FC;\n",
              "    }\n",
              "\n",
              "    [theme=dark] .colab-df-convert:hover {\n",
              "      background-color: #434B5C;\n",
              "      box-shadow: 0px 1px 3px 1px rgba(0, 0, 0, 0.15);\n",
              "      filter: drop-shadow(0px 1px 2px rgba(0, 0, 0, 0.3));\n",
              "      fill: #FFFFFF;\n",
              "    }\n",
              "  </style>\n",
              "\n",
              "    <script>\n",
              "      const buttonEl =\n",
              "        document.querySelector('#df-3103c2ca-603e-4eb1-b828-c400163200f6 button.colab-df-convert');\n",
              "      buttonEl.style.display =\n",
              "        google.colab.kernel.accessAllowed ? 'block' : 'none';\n",
              "\n",
              "      async function convertToInteractive(key) {\n",
              "        const element = document.querySelector('#df-3103c2ca-603e-4eb1-b828-c400163200f6');\n",
              "        const dataTable =\n",
              "          await google.colab.kernel.invokeFunction('convertToInteractive',\n",
              "                                                    [key], {});\n",
              "        if (!dataTable) return;\n",
              "\n",
              "        const docLinkHtml = 'Like what you see? Visit the ' +\n",
              "          '<a target=\"_blank\" href=https://colab.research.google.com/notebooks/data_table.ipynb>data table notebook</a>'\n",
              "          + ' to learn more about interactive tables.';\n",
              "        element.innerHTML = '';\n",
              "        dataTable['output_type'] = 'display_data';\n",
              "        await google.colab.output.renderOutput(dataTable, element);\n",
              "        const docLink = document.createElement('div');\n",
              "        docLink.innerHTML = docLinkHtml;\n",
              "        element.appendChild(docLink);\n",
              "      }\n",
              "    </script>\n",
              "  </div>\n",
              "\n",
              "\n",
              "    <div id=\"df-ed24a6c4-b25b-4f72-845d-7d0be7a79d42\">\n",
              "      <button class=\"colab-df-quickchart\" onclick=\"quickchart('df-ed24a6c4-b25b-4f72-845d-7d0be7a79d42')\"\n",
              "                title=\"Suggest charts\"\n",
              "                style=\"display:none;\">\n",
              "\n",
              "<svg xmlns=\"http://www.w3.org/2000/svg\" height=\"24px\"viewBox=\"0 0 24 24\"\n",
              "     width=\"24px\">\n",
              "    <g>\n",
              "        <path d=\"M19 3H5c-1.1 0-2 .9-2 2v14c0 1.1.9 2 2 2h14c1.1 0 2-.9 2-2V5c0-1.1-.9-2-2-2zM9 17H7v-7h2v7zm4 0h-2V7h2v10zm4 0h-2v-4h2v4z\"/>\n",
              "    </g>\n",
              "</svg>\n",
              "      </button>\n",
              "\n",
              "<style>\n",
              "  .colab-df-quickchart {\n",
              "      --bg-color: #E8F0FE;\n",
              "      --fill-color: #1967D2;\n",
              "      --hover-bg-color: #E2EBFA;\n",
              "      --hover-fill-color: #174EA6;\n",
              "      --disabled-fill-color: #AAA;\n",
              "      --disabled-bg-color: #DDD;\n",
              "  }\n",
              "\n",
              "  [theme=dark] .colab-df-quickchart {\n",
              "      --bg-color: #3B4455;\n",
              "      --fill-color: #D2E3FC;\n",
              "      --hover-bg-color: #434B5C;\n",
              "      --hover-fill-color: #FFFFFF;\n",
              "      --disabled-bg-color: #3B4455;\n",
              "      --disabled-fill-color: #666;\n",
              "  }\n",
              "\n",
              "  .colab-df-quickchart {\n",
              "    background-color: var(--bg-color);\n",
              "    border: none;\n",
              "    border-radius: 50%;\n",
              "    cursor: pointer;\n",
              "    display: none;\n",
              "    fill: var(--fill-color);\n",
              "    height: 32px;\n",
              "    padding: 0;\n",
              "    width: 32px;\n",
              "  }\n",
              "\n",
              "  .colab-df-quickchart:hover {\n",
              "    background-color: var(--hover-bg-color);\n",
              "    box-shadow: 0 1px 2px rgba(60, 64, 67, 0.3), 0 1px 3px 1px rgba(60, 64, 67, 0.15);\n",
              "    fill: var(--button-hover-fill-color);\n",
              "  }\n",
              "\n",
              "  .colab-df-quickchart-complete:disabled,\n",
              "  .colab-df-quickchart-complete:disabled:hover {\n",
              "    background-color: var(--disabled-bg-color);\n",
              "    fill: var(--disabled-fill-color);\n",
              "    box-shadow: none;\n",
              "  }\n",
              "\n",
              "  .colab-df-spinner {\n",
              "    border: 2px solid var(--fill-color);\n",
              "    border-color: transparent;\n",
              "    border-bottom-color: var(--fill-color);\n",
              "    animation:\n",
              "      spin 1s steps(1) infinite;\n",
              "  }\n",
              "\n",
              "  @keyframes spin {\n",
              "    0% {\n",
              "      border-color: transparent;\n",
              "      border-bottom-color: var(--fill-color);\n",
              "      border-left-color: var(--fill-color);\n",
              "    }\n",
              "    20% {\n",
              "      border-color: transparent;\n",
              "      border-left-color: var(--fill-color);\n",
              "      border-top-color: var(--fill-color);\n",
              "    }\n",
              "    30% {\n",
              "      border-color: transparent;\n",
              "      border-left-color: var(--fill-color);\n",
              "      border-top-color: var(--fill-color);\n",
              "      border-right-color: var(--fill-color);\n",
              "    }\n",
              "    40% {\n",
              "      border-color: transparent;\n",
              "      border-right-color: var(--fill-color);\n",
              "      border-top-color: var(--fill-color);\n",
              "    }\n",
              "    60% {\n",
              "      border-color: transparent;\n",
              "      border-right-color: var(--fill-color);\n",
              "    }\n",
              "    80% {\n",
              "      border-color: transparent;\n",
              "      border-right-color: var(--fill-color);\n",
              "      border-bottom-color: var(--fill-color);\n",
              "    }\n",
              "    90% {\n",
              "      border-color: transparent;\n",
              "      border-bottom-color: var(--fill-color);\n",
              "    }\n",
              "  }\n",
              "</style>\n",
              "\n",
              "      <script>\n",
              "        async function quickchart(key) {\n",
              "          const quickchartButtonEl =\n",
              "            document.querySelector('#' + key + ' button');\n",
              "          quickchartButtonEl.disabled = true;  // To prevent multiple clicks.\n",
              "          quickchartButtonEl.classList.add('colab-df-spinner');\n",
              "          try {\n",
              "            const charts = await google.colab.kernel.invokeFunction(\n",
              "                'suggestCharts', [key], {});\n",
              "          } catch (error) {\n",
              "            console.error('Error during call to suggestCharts:', error);\n",
              "          }\n",
              "          quickchartButtonEl.classList.remove('colab-df-spinner');\n",
              "          quickchartButtonEl.classList.add('colab-df-quickchart-complete');\n",
              "        }\n",
              "        (() => {\n",
              "          let quickchartButtonEl =\n",
              "            document.querySelector('#df-ed24a6c4-b25b-4f72-845d-7d0be7a79d42 button');\n",
              "          quickchartButtonEl.style.display =\n",
              "            google.colab.kernel.accessAllowed ? 'block' : 'none';\n",
              "        })();\n",
              "      </script>\n",
              "    </div>\n",
              "\n",
              "    </div>\n",
              "  </div>\n"
            ],
            "application/vnd.google.colaboratory.intrinsic+json": {
              "type": "dataframe",
              "variable_name": "radiomics_df"
            }
          },
          "metadata": {},
          "execution_count": 4
        }
      ],
      "source": [
        "radiomics_df = pd.read_csv(f'{DATA_PATH}/data/ReMIND/radiomics_standardized.csv')\n",
        "radiomics_df.head()"
      ]
    },
    {
      "cell_type": "markdown",
      "id": "03ee2f25-f751-4bb5-9555-86b508825e52",
      "metadata": {
        "id": "03ee2f25-f751-4bb5-9555-86b508825e52"
      },
      "source": [
        "## Dataset split\n",
        "\n",
        "In machine learning, we usually split the datasets into three components:\n",
        "* A `train` set, that will be used to fit the model (usually 70% of the data);\n",
        "* A `valid` set, that will be used to optimize the model (usually 10% of the data);\n",
        "* And a `test` set, that will be used to evaluate performance (usually 20% of the data).\n",
        "\n",
        "In healthcare, it is important that this splitting is performed at the **patient level** to avoid any data leakage. Indeed, if a model has been trained on data from patient X at time point t, it is more than likely that the model will remember the information when classifying data from the same patient at time point t+1 (or from a different modality). Thus, we might **overestimate the performance** of our classifier.\n",
        "\n",
        "To do the splitting, we need to run the following steps:\n",
        "1. Get the list of patient ID, and remove duplicates to avoid selecting the same patient in different splits ;\n",
        "2. Split the patient list into train and test sets ;\n",
        "3. Split the train sets into train and valid sets."
      ]
    },
    {
      "cell_type": "code",
      "execution_count": 5,
      "id": "f24e7254-6a42-4f91-ac66-90212138bc93",
      "metadata": {
        "id": "f24e7254-6a42-4f91-ac66-90212138bc93"
      },
      "outputs": [],
      "source": [
        "patient_list = radiomics_df['patient'].unique()"
      ]
    },
    {
      "cell_type": "markdown",
      "id": "70f1fdd1-796e-493d-821d-ace45786bb75",
      "metadata": {
        "id": "70f1fdd1-796e-493d-821d-ace45786bb75"
      },
      "source": [
        "Now, we will use the `train_test_split` function from scikit-learn to divide the patient list into two non-overlapping sets."
      ]
    },
    {
      "cell_type": "code",
      "execution_count": 6,
      "id": "039c29c3-0d84-4266-992c-d92b4187808a",
      "metadata": {
        "id": "039c29c3-0d84-4266-992c-d92b4187808a"
      },
      "outputs": [],
      "source": [
        "from sklearn.model_selection import train_test_split\n",
        "\n",
        "patient_train, patient_test = train_test_split(\n",
        "    patient_list, # List or array to split\n",
        "    test_size=0.2, # Size of the subset\n",
        "    random_state=42)"
      ]
    },
    {
      "cell_type": "markdown",
      "id": "39a0d76d-7a7c-4190-93d5-310cc912af84",
      "metadata": {
        "id": "39a0d76d-7a7c-4190-93d5-310cc912af84"
      },
      "source": [
        "<div class=\"alert alert-block alert-info\">\n",
        "<b>Q1.</b> Use the same function to split the <code>train</code> and <code>valid</code> sets. The <code>valid</code> set should contain 10% of the <code>train</code> set.\n",
        "</div>"
      ]
    },
    {
      "cell_type": "code",
      "execution_count": 7,
      "id": "fcbfdd71-702f-4966-bd49-dc1961e16993",
      "metadata": {
        "id": "fcbfdd71-702f-4966-bd49-dc1961e16993"
      },
      "outputs": [],
      "source": [
        "patient_train, patient_val = train_test_split(\n",
        "    patient_train,\n",
        "    test_size=0.1 / 0.8,\n",
        "    random_state=42)"
      ]
    },
    {
      "cell_type": "markdown",
      "id": "ee61ff66-6110-40d5-968a-350bd44977c2",
      "metadata": {
        "id": "ee61ff66-6110-40d5-968a-350bd44977c2"
      },
      "source": [
        "<div class=\"alert alert-block alert-info\">\n",
        "<b>Q2.</b> Observe the list of patients in each set and their tumor attribute. How is the label repartition across sets?\n",
        "</div>"
      ]
    },
    {
      "cell_type": "code",
      "execution_count": 8,
      "id": "461da278-5913-4d81-a1e2-4db483ab9a03",
      "metadata": {
        "colab": {
          "base_uri": "https://localhost:8080/",
          "height": 241
        },
        "id": "461da278-5913-4d81-a1e2-4db483ab9a03",
        "outputId": "2745fd96-f20b-43ad-ab43-4ec24d739bf1"
      },
      "outputs": [
        {
          "output_type": "execute_result",
          "data": {
            "text/plain": [
              "tumor\n",
              "4    26\n",
              "3    17\n",
              "2    13\n",
              "1     3\n",
              "Name: count, dtype: int64"
            ],
            "text/html": [
              "<div>\n",
              "<style scoped>\n",
              "    .dataframe tbody tr th:only-of-type {\n",
              "        vertical-align: middle;\n",
              "    }\n",
              "\n",
              "    .dataframe tbody tr th {\n",
              "        vertical-align: top;\n",
              "    }\n",
              "\n",
              "    .dataframe thead th {\n",
              "        text-align: right;\n",
              "    }\n",
              "</style>\n",
              "<table border=\"1\" class=\"dataframe\">\n",
              "  <thead>\n",
              "    <tr style=\"text-align: right;\">\n",
              "      <th></th>\n",
              "      <th>count</th>\n",
              "    </tr>\n",
              "    <tr>\n",
              "      <th>tumor</th>\n",
              "      <th></th>\n",
              "    </tr>\n",
              "  </thead>\n",
              "  <tbody>\n",
              "    <tr>\n",
              "      <th>4</th>\n",
              "      <td>26</td>\n",
              "    </tr>\n",
              "    <tr>\n",
              "      <th>3</th>\n",
              "      <td>17</td>\n",
              "    </tr>\n",
              "    <tr>\n",
              "      <th>2</th>\n",
              "      <td>13</td>\n",
              "    </tr>\n",
              "    <tr>\n",
              "      <th>1</th>\n",
              "      <td>3</td>\n",
              "    </tr>\n",
              "  </tbody>\n",
              "</table>\n",
              "</div><br><label><b>dtype:</b> int64</label>"
            ]
          },
          "metadata": {},
          "execution_count": 8
        }
      ],
      "source": [
        "radiomics_df['tumor'].loc[radiomics_df['patient'].isin(patient_train)].value_counts()"
      ]
    },
    {
      "cell_type": "code",
      "execution_count": 9,
      "id": "e7495bbb-c815-41d0-93db-9089417d7096",
      "metadata": {
        "colab": {
          "base_uri": "https://localhost:8080/",
          "height": 209
        },
        "id": "e7495bbb-c815-41d0-93db-9089417d7096",
        "outputId": "4b1fe125-dc49-4658-a591-fdeb448248de"
      },
      "outputs": [
        {
          "output_type": "execute_result",
          "data": {
            "text/plain": [
              "tumor\n",
              "2    4\n",
              "4    3\n",
              "3    2\n",
              "Name: count, dtype: int64"
            ],
            "text/html": [
              "<div>\n",
              "<style scoped>\n",
              "    .dataframe tbody tr th:only-of-type {\n",
              "        vertical-align: middle;\n",
              "    }\n",
              "\n",
              "    .dataframe tbody tr th {\n",
              "        vertical-align: top;\n",
              "    }\n",
              "\n",
              "    .dataframe thead th {\n",
              "        text-align: right;\n",
              "    }\n",
              "</style>\n",
              "<table border=\"1\" class=\"dataframe\">\n",
              "  <thead>\n",
              "    <tr style=\"text-align: right;\">\n",
              "      <th></th>\n",
              "      <th>count</th>\n",
              "    </tr>\n",
              "    <tr>\n",
              "      <th>tumor</th>\n",
              "      <th></th>\n",
              "    </tr>\n",
              "  </thead>\n",
              "  <tbody>\n",
              "    <tr>\n",
              "      <th>2</th>\n",
              "      <td>4</td>\n",
              "    </tr>\n",
              "    <tr>\n",
              "      <th>4</th>\n",
              "      <td>3</td>\n",
              "    </tr>\n",
              "    <tr>\n",
              "      <th>3</th>\n",
              "      <td>2</td>\n",
              "    </tr>\n",
              "  </tbody>\n",
              "</table>\n",
              "</div><br><label><b>dtype:</b> int64</label>"
            ]
          },
          "metadata": {},
          "execution_count": 9
        }
      ],
      "source": [
        "radiomics_df['tumor'].loc[radiomics_df['patient'].isin(patient_val)].value_counts()"
      ]
    },
    {
      "cell_type": "code",
      "execution_count": 10,
      "id": "b5ff555d-35da-4dce-b1bf-c123035a601b",
      "metadata": {
        "colab": {
          "base_uri": "https://localhost:8080/",
          "height": 209
        },
        "id": "b5ff555d-35da-4dce-b1bf-c123035a601b",
        "outputId": "4bbd9c5f-2c1a-4c43-fab4-01d1c634b3c4"
      },
      "outputs": [
        {
          "output_type": "execute_result",
          "data": {
            "text/plain": [
              "tumor\n",
              "2    9\n",
              "4    7\n",
              "3    2\n",
              "Name: count, dtype: int64"
            ],
            "text/html": [
              "<div>\n",
              "<style scoped>\n",
              "    .dataframe tbody tr th:only-of-type {\n",
              "        vertical-align: middle;\n",
              "    }\n",
              "\n",
              "    .dataframe tbody tr th {\n",
              "        vertical-align: top;\n",
              "    }\n",
              "\n",
              "    .dataframe thead th {\n",
              "        text-align: right;\n",
              "    }\n",
              "</style>\n",
              "<table border=\"1\" class=\"dataframe\">\n",
              "  <thead>\n",
              "    <tr style=\"text-align: right;\">\n",
              "      <th></th>\n",
              "      <th>count</th>\n",
              "    </tr>\n",
              "    <tr>\n",
              "      <th>tumor</th>\n",
              "      <th></th>\n",
              "    </tr>\n",
              "  </thead>\n",
              "  <tbody>\n",
              "    <tr>\n",
              "      <th>2</th>\n",
              "      <td>9</td>\n",
              "    </tr>\n",
              "    <tr>\n",
              "      <th>4</th>\n",
              "      <td>7</td>\n",
              "    </tr>\n",
              "    <tr>\n",
              "      <th>3</th>\n",
              "      <td>2</td>\n",
              "    </tr>\n",
              "  </tbody>\n",
              "</table>\n",
              "</div><br><label><b>dtype:</b> int64</label>"
            ]
          },
          "metadata": {},
          "execution_count": 10
        }
      ],
      "source": [
        "radiomics_df['tumor'].loc[radiomics_df['patient'].isin(patient_test)].value_counts()"
      ]
    },
    {
      "cell_type": "markdown",
      "id": "6effbc74-4f24-4b3d-ae69-ab4b53e0e592",
      "metadata": {
        "id": "6effbc74-4f24-4b3d-ae69-ab4b53e0e592"
      },
      "source": [
        "The dataset is imbalanced with much more tumors of grade 4 than tumors of grade 2 or 3, and very few grade 1.\n",
        "\n",
        "We can lessen the effect of this imbalance  by stratifying the splitting to balance the repartition of labels across sets to have similar proportions of labels across sets."
      ]
    },
    {
      "cell_type": "code",
      "execution_count": 11,
      "id": "c8f63606-2b68-42a0-b875-1b47211dbc41",
      "metadata": {
        "id": "c8f63606-2b68-42a0-b875-1b47211dbc41"
      },
      "outputs": [],
      "source": [
        "patient_train, patient_test = train_test_split(\n",
        "    patient_list, # List or array to split\n",
        "    test_size=0.2, # Size of the subset\n",
        "    stratify= radiomics_df['tumor'].loc[radiomics_df['patient'].isin(patient_list)],\n",
        "    random_state=42)"
      ]
    },
    {
      "cell_type": "code",
      "execution_count": 12,
      "id": "b50f6a47-7b61-428d-bbb8-fd33eb6ad613",
      "metadata": {
        "id": "b50f6a47-7b61-428d-bbb8-fd33eb6ad613"
      },
      "outputs": [],
      "source": [
        "patient_train, patient_val = train_test_split(\n",
        "    patient_train,\n",
        "    test_size=0.1 / 0.8,\n",
        "    stratify= radiomics_df['tumor'].loc[radiomics_df['patient'].isin(patient_train)],\n",
        "    random_state=42)"
      ]
    },
    {
      "cell_type": "markdown",
      "id": "46b1cd0c-0679-499c-bc5b-5e829feffd3e",
      "metadata": {
        "id": "46b1cd0c-0679-499c-bc5b-5e829feffd3e"
      },
      "source": [
        "<div class=\"alert alert-block alert-info\">\n",
        "<b>Q3.</b> Compare the actual label repartition with the previous one. Do we have more balanced sets?\n",
        "</div>"
      ]
    },
    {
      "cell_type": "code",
      "execution_count": 13,
      "id": "d8e5dccc-5aa7-40db-8581-84a14b74b44f",
      "metadata": {
        "colab": {
          "base_uri": "https://localhost:8080/",
          "height": 241
        },
        "id": "d8e5dccc-5aa7-40db-8581-84a14b74b44f",
        "outputId": "1abcfbc5-57e4-4ecb-85e2-c56e3374cf2b"
      },
      "outputs": [
        {
          "output_type": "execute_result",
          "data": {
            "text/plain": [
              "tumor\n",
              "4    24\n",
              "2    18\n",
              "3    15\n",
              "1     2\n",
              "Name: count, dtype: int64"
            ],
            "text/html": [
              "<div>\n",
              "<style scoped>\n",
              "    .dataframe tbody tr th:only-of-type {\n",
              "        vertical-align: middle;\n",
              "    }\n",
              "\n",
              "    .dataframe tbody tr th {\n",
              "        vertical-align: top;\n",
              "    }\n",
              "\n",
              "    .dataframe thead th {\n",
              "        text-align: right;\n",
              "    }\n",
              "</style>\n",
              "<table border=\"1\" class=\"dataframe\">\n",
              "  <thead>\n",
              "    <tr style=\"text-align: right;\">\n",
              "      <th></th>\n",
              "      <th>count</th>\n",
              "    </tr>\n",
              "    <tr>\n",
              "      <th>tumor</th>\n",
              "      <th></th>\n",
              "    </tr>\n",
              "  </thead>\n",
              "  <tbody>\n",
              "    <tr>\n",
              "      <th>4</th>\n",
              "      <td>24</td>\n",
              "    </tr>\n",
              "    <tr>\n",
              "      <th>2</th>\n",
              "      <td>18</td>\n",
              "    </tr>\n",
              "    <tr>\n",
              "      <th>3</th>\n",
              "      <td>15</td>\n",
              "    </tr>\n",
              "    <tr>\n",
              "      <th>1</th>\n",
              "      <td>2</td>\n",
              "    </tr>\n",
              "  </tbody>\n",
              "</table>\n",
              "</div><br><label><b>dtype:</b> int64</label>"
            ]
          },
          "metadata": {},
          "execution_count": 13
        }
      ],
      "source": [
        "radiomics_df['tumor'].loc[radiomics_df['patient'].isin(patient_train)].value_counts()"
      ]
    },
    {
      "cell_type": "code",
      "execution_count": 14,
      "id": "9fb83d70-4df5-4c61-b171-9394a324b6b6",
      "metadata": {
        "colab": {
          "base_uri": "https://localhost:8080/",
          "height": 209
        },
        "id": "9fb83d70-4df5-4c61-b171-9394a324b6b6",
        "outputId": "7b03cdb3-c7ba-4fc6-af95-90bb80888770"
      },
      "outputs": [
        {
          "output_type": "execute_result",
          "data": {
            "text/plain": [
              "tumor\n",
              "4    4\n",
              "2    3\n",
              "3    2\n",
              "Name: count, dtype: int64"
            ],
            "text/html": [
              "<div>\n",
              "<style scoped>\n",
              "    .dataframe tbody tr th:only-of-type {\n",
              "        vertical-align: middle;\n",
              "    }\n",
              "\n",
              "    .dataframe tbody tr th {\n",
              "        vertical-align: top;\n",
              "    }\n",
              "\n",
              "    .dataframe thead th {\n",
              "        text-align: right;\n",
              "    }\n",
              "</style>\n",
              "<table border=\"1\" class=\"dataframe\">\n",
              "  <thead>\n",
              "    <tr style=\"text-align: right;\">\n",
              "      <th></th>\n",
              "      <th>count</th>\n",
              "    </tr>\n",
              "    <tr>\n",
              "      <th>tumor</th>\n",
              "      <th></th>\n",
              "    </tr>\n",
              "  </thead>\n",
              "  <tbody>\n",
              "    <tr>\n",
              "      <th>4</th>\n",
              "      <td>4</td>\n",
              "    </tr>\n",
              "    <tr>\n",
              "      <th>2</th>\n",
              "      <td>3</td>\n",
              "    </tr>\n",
              "    <tr>\n",
              "      <th>3</th>\n",
              "      <td>2</td>\n",
              "    </tr>\n",
              "  </tbody>\n",
              "</table>\n",
              "</div><br><label><b>dtype:</b> int64</label>"
            ]
          },
          "metadata": {},
          "execution_count": 14
        }
      ],
      "source": [
        "radiomics_df['tumor'].loc[radiomics_df['patient'].isin(patient_val)].value_counts()"
      ]
    },
    {
      "cell_type": "code",
      "execution_count": 15,
      "id": "244cc348-3976-4704-a5a9-c2445aa87c39",
      "metadata": {
        "colab": {
          "base_uri": "https://localhost:8080/",
          "height": 241
        },
        "id": "244cc348-3976-4704-a5a9-c2445aa87c39",
        "outputId": "b9bb20b5-aab5-49d5-811c-9311228885ec"
      },
      "outputs": [
        {
          "output_type": "execute_result",
          "data": {
            "text/plain": [
              "tumor\n",
              "4    8\n",
              "2    5\n",
              "3    4\n",
              "1    1\n",
              "Name: count, dtype: int64"
            ],
            "text/html": [
              "<div>\n",
              "<style scoped>\n",
              "    .dataframe tbody tr th:only-of-type {\n",
              "        vertical-align: middle;\n",
              "    }\n",
              "\n",
              "    .dataframe tbody tr th {\n",
              "        vertical-align: top;\n",
              "    }\n",
              "\n",
              "    .dataframe thead th {\n",
              "        text-align: right;\n",
              "    }\n",
              "</style>\n",
              "<table border=\"1\" class=\"dataframe\">\n",
              "  <thead>\n",
              "    <tr style=\"text-align: right;\">\n",
              "      <th></th>\n",
              "      <th>count</th>\n",
              "    </tr>\n",
              "    <tr>\n",
              "      <th>tumor</th>\n",
              "      <th></th>\n",
              "    </tr>\n",
              "  </thead>\n",
              "  <tbody>\n",
              "    <tr>\n",
              "      <th>4</th>\n",
              "      <td>8</td>\n",
              "    </tr>\n",
              "    <tr>\n",
              "      <th>2</th>\n",
              "      <td>5</td>\n",
              "    </tr>\n",
              "    <tr>\n",
              "      <th>3</th>\n",
              "      <td>4</td>\n",
              "    </tr>\n",
              "    <tr>\n",
              "      <th>1</th>\n",
              "      <td>1</td>\n",
              "    </tr>\n",
              "  </tbody>\n",
              "</table>\n",
              "</div><br><label><b>dtype:</b> int64</label>"
            ]
          },
          "metadata": {},
          "execution_count": 15
        }
      ],
      "source": [
        "radiomics_df['tumor'].loc[radiomics_df['patient'].isin(patient_test)].value_counts()"
      ]
    },
    {
      "cell_type": "markdown",
      "source": [
        "The actual distributions are still imbalanced, with one class (usually 4 or 2) having the most samples and class 1 being the rarest.\n",
        "\n",
        "The imbalance is slightly reduced class 4 from 44.1% to 40.7%, but not significantly.\n",
        "\n",
        "The sets remain unbalanced, with no major improvement in balance. The relative proportions are similar, and the minority classes (especially tumor 1) are still underrepresented."
      ],
      "metadata": {
        "id": "xjYmUdnbjs9P"
      },
      "id": "xjYmUdnbjs9P"
    },
    {
      "cell_type": "markdown",
      "id": "8c5623af-a97a-4a36-8c1f-c0c1fd0d3b59",
      "metadata": {
        "id": "8c5623af-a97a-4a36-8c1f-c0c1fd0d3b59"
      },
      "source": [
        "## Naïve Bayes Classifier\n",
        "\n",
        "Naive Bayes methods are a set of supervised learning algorithms based on applying Bayes’ theorem with the “naive” assumption of conditional independence between every pair of features given the value of the class variable. Bayes’ theorem states the following relationship, given class variable $y$ and dependent feature vector $x_1$ through $x_n$: $P(y \\mid x_1, \\dots, x_n) = \\frac{P(y) P(x_1, \\dots, x_n \\mid y)}\n",
        "                                    {P(x_1, \\dots, x_n)}$\n",
        "\n",
        "Using the naive conditional independence assumption that $P(x_i | y, x_1, \\dots, x_{i-1}, x_{i+1}, \\dots, x_n) = P(x_i | y)$\n",
        "\n",
        "for all $i$, this relationship is simplified to $P(y \\mid x_1, \\dots, x_n) = \\frac{P(y) \\prod_{i=1}^{n} P(x_i \\mid y)}\n",
        "                                    {P(x_1, \\dots, x_n)}$\n",
        "\n",
        "Since $P(x_1, \\dots, x_n)$ is constant given the input, we can use the following classification rule:\n",
        "$P(y \\mid x_1, \\dots, x_n) \\propto P(y) \\prod_{i=1}^{n} P(x_i \\mid y)$ $\\rightarrow$ $\\hat{y} = \\arg\\max_y P(y) \\prod_{i=1}^{n} P(x_i \\mid y)$\n",
        "\n",
        "and we can use Maximum A Posteriori (MAP) estimation to estimate $P(y)$ and $P(x_i \\mid y)$; the former is then the relative frequency of class y in the training set.\n",
        "\n",
        "The different naive Bayes classifiers differ mainly by the assumptions they make regarding the distribution of $P(x_i \\mid y)$.\n"
      ]
    },
    {
      "cell_type": "markdown",
      "id": "a07f189a-295a-49a5-91c2-2fc88ce26220",
      "metadata": {
        "id": "a07f189a-295a-49a5-91c2-2fc88ce26220"
      },
      "source": [
        "We will compare the performance of different Naïve Bayes Classifiers on the `valid` set."
      ]
    },
    {
      "cell_type": "code",
      "execution_count": 16,
      "id": "e7cad595-94c6-4e6d-afbb-c74f9810682b",
      "metadata": {
        "id": "e7cad595-94c6-4e6d-afbb-c74f9810682b"
      },
      "outputs": [],
      "source": [
        "X_train = radiomics_df.loc[radiomics_df['patient'].isin(patient_train)]\n",
        "y_train = radiomics_df.loc[radiomics_df['patient'].isin(patient_train)]['tumor']\n",
        "\n",
        "X_val = radiomics_df.loc[radiomics_df['patient'].isin(patient_val)]\n",
        "y_val = radiomics_df.loc[radiomics_df['patient'].isin(patient_val)]['tumor']"
      ]
    },
    {
      "cell_type": "code",
      "execution_count": 17,
      "id": "642e9756-fc7e-461e-b0ff-1b6cbe35cab3",
      "metadata": {
        "id": "642e9756-fc7e-461e-b0ff-1b6cbe35cab3"
      },
      "outputs": [],
      "source": [
        "from sklearn.naive_bayes import GaussianNB\n",
        "\n",
        "gnb = GaussianNB()\n",
        "gnb.fit(X_train, y_train)\n",
        "\n",
        "preds = gnb.predict(X_val)"
      ]
    },
    {
      "cell_type": "code",
      "execution_count": 18,
      "id": "792c174e-e86c-42c5-8e5f-d2c095870012",
      "metadata": {
        "colab": {
          "base_uri": "https://localhost:8080/"
        },
        "id": "792c174e-e86c-42c5-8e5f-d2c095870012",
        "outputId": "305edf44-abf0-4377-83f2-1bb8bf1d7df5"
      },
      "outputs": [
        {
          "output_type": "stream",
          "name": "stdout",
          "text": [
            "True labels: [3, 3, 4, 4, 4, 2, 2, 4, 2]\n",
            "Predictions: [3, 3, 4, 4, 4, 2, 2, 4, 2]\n"
          ]
        }
      ],
      "source": [
        "print('True labels:', y_val.tolist())\n",
        "print('Predictions:', preds.tolist())"
      ]
    },
    {
      "cell_type": "markdown",
      "id": "5f7f4b92-408f-4434-ab24-828adc5a498e",
      "metadata": {
        "id": "5f7f4b92-408f-4434-ab24-828adc5a498e"
      },
      "source": [
        "<div class=\"alert alert-block alert-info\">\n",
        "<b>Q4.</b> Compare these predictions with the ones obtained from a <code>Bernouilli Naïve Bayes</code> algorithm.\n",
        "</div>"
      ]
    },
    {
      "cell_type": "code",
      "execution_count": 19,
      "id": "05484c05-e5ec-4dcb-8d5b-c88f8ac38e5c",
      "metadata": {
        "colab": {
          "base_uri": "https://localhost:8080/"
        },
        "id": "05484c05-e5ec-4dcb-8d5b-c88f8ac38e5c",
        "outputId": "fe01d2dd-5bf3-4465-e43d-ef2560c09f6c"
      },
      "outputs": [
        {
          "output_type": "stream",
          "name": "stdout",
          "text": [
            "True labels: [3, 3, 4, 4, 4, 2, 2, 4, 2]\n",
            "Predictions: [4, 1, 4, 4, 4, 4, 3, 4, 3]\n"
          ]
        }
      ],
      "source": [
        "from sklearn.naive_bayes import BernoulliNB\n",
        "\n",
        "bnb = BernoulliNB()\n",
        "bnb.fit(X_train, y_train)\n",
        "\n",
        "preds_bnb = bnb.predict(X_val)\n",
        "\n",
        "print('True labels:', y_val.tolist())\n",
        "print('Predictions:', preds_bnb.tolist())"
      ]
    },
    {
      "cell_type": "markdown",
      "source": [
        "Model A (first predictions) achieves perfect accuracy (100%). This is likely a baseline or a very good model.\n",
        "\n",
        "Model B (Bernoulli Naïve Bayes) has low accuracy (44.4%). It misclassifies all samples of class 2 and 3, and has one false positive for class 1.\n",
        "\n",
        "The first model (A) is superior with 100% accuracy.\n",
        "\n",
        "The Bernoulli Naïve Bayes model (B) performs poorly (44.4% accuracy) and is not suitable for this data without feature transformation (e.g., binarization) or addressing class imbalance."
      ],
      "metadata": {
        "id": "_5g1M_9UkbIO"
      },
      "id": "_5g1M_9UkbIO"
    },
    {
      "cell_type": "markdown",
      "id": "baabb4a2-ac3b-450e-ac25-ef10b8f28971",
      "metadata": {
        "id": "baabb4a2-ac3b-450e-ac25-ef10b8f28971"
      },
      "source": [
        "## k-Nearest Neighbors\n",
        "\n",
        "The principle behind nearest neighbor methods is to find a predefined number of training samples closest in distance to the new point, and predict the label from these. The number of samples can be a user-defined constant (`k-nearest neighbor learning`), or vary based on the local density of points (`radius-based neighbor learning`). The distance can, in general, be any metric measure: standard Euclidean distance is the most common choice.\n",
        "\n"
      ]
    },
    {
      "cell_type": "code",
      "execution_count": 20,
      "id": "a34c0887-6bda-498c-bc24-37bd366fde91",
      "metadata": {
        "colab": {
          "base_uri": "https://localhost:8080/"
        },
        "id": "a34c0887-6bda-498c-bc24-37bd366fde91",
        "outputId": "9620a5af-7e6a-4ca4-d150-092489b5fbd0"
      },
      "outputs": [
        {
          "output_type": "stream",
          "name": "stdout",
          "text": [
            "True labels: [3, 3, 4, 4, 4, 2, 2, 4, 2]\n",
            "Predictions: [2, 2, 2, 3, 2, 3, 3, 4, 3]\n"
          ]
        }
      ],
      "source": [
        "from sklearn.neighbors import KNeighborsClassifier\n",
        "\n",
        "knn = KNeighborsClassifier(n_neighbors = 5)\n",
        "knn.fit(X_train, y_train)\n",
        "\n",
        "preds_knn = knn.predict(X_val)\n",
        "\n",
        "print('True labels:', y_val.tolist())\n",
        "print('Predictions:', preds_knn.tolist())"
      ]
    },
    {
      "cell_type": "markdown",
      "id": "e2a28b10-64d9-4ef7-b1a6-6eada9d8db26",
      "metadata": {
        "id": "e2a28b10-64d9-4ef7-b1a6-6eada9d8db26"
      },
      "source": [
        "<div class=\"alert alert-block alert-info\">\n",
        "<b>Q5.</b> Vary the number of neighbors and compare the predictions. What is the optimal number of neighbors for this dataset?\n",
        "</div>"
      ]
    },
    {
      "cell_type": "code",
      "execution_count": 21,
      "id": "7531f6a7-6661-4e0a-b219-914f5bd2129f",
      "metadata": {
        "colab": {
          "base_uri": "https://localhost:8080/"
        },
        "id": "7531f6a7-6661-4e0a-b219-914f5bd2129f",
        "outputId": "c73a6b05-7ef3-4f56-ab7c-dc71a38e5963"
      },
      "outputs": [
        {
          "output_type": "stream",
          "name": "stdout",
          "text": [
            "True labels: [3, 3, 4, 4, 4, 2, 2, 4, 2]\n",
            "Predictions: [2, 2, 2, 3, 2, 3, 2, 4, 3]\n"
          ]
        }
      ],
      "source": [
        "knn = KNeighborsClassifier(n_neighbors = 3)\n",
        "knn.fit(X_train, y_train)\n",
        "\n",
        "preds_knn = knn.predict(X_val)\n",
        "\n",
        "print('True labels:', y_val.tolist())\n",
        "print('Predictions:', preds_knn.tolist())"
      ]
    },
    {
      "cell_type": "code",
      "execution_count": 22,
      "id": "4b17b764-1ad1-497d-874f-2c78c6911cf8",
      "metadata": {
        "colab": {
          "base_uri": "https://localhost:8080/"
        },
        "id": "4b17b764-1ad1-497d-874f-2c78c6911cf8",
        "outputId": "869f2d1d-ce5d-4014-a0b3-c2066be61bbb"
      },
      "outputs": [
        {
          "output_type": "stream",
          "name": "stdout",
          "text": [
            "True labels: [3, 3, 4, 4, 4, 2, 2, 4, 2]\n",
            "Predictions: [2, 2, 2, 4, 2, 4, 4, 4, 3]\n"
          ]
        }
      ],
      "source": [
        "knn = KNeighborsClassifier(n_neighbors = 7)\n",
        "knn.fit(X_train, y_train)\n",
        "\n",
        "preds_knn = knn.predict(X_val)\n",
        "\n",
        "print('True labels:', y_val.tolist())\n",
        "print('Predictions:', preds_knn.tolist())"
      ]
    },
    {
      "cell_type": "code",
      "execution_count": 23,
      "id": "9422d246-9af6-4e37-948b-f2216ab44ff7",
      "metadata": {
        "colab": {
          "base_uri": "https://localhost:8080/"
        },
        "id": "9422d246-9af6-4e37-948b-f2216ab44ff7",
        "outputId": "2b96a1ec-fde3-4b37-825d-90ed09907e9d"
      },
      "outputs": [
        {
          "output_type": "stream",
          "name": "stdout",
          "text": [
            "True labels: [3, 3, 4, 4, 4, 2, 2, 4, 2]\n",
            "Predictions: [2, 2, 2, 4, 4, 4, 4, 4, 3]\n"
          ]
        }
      ],
      "source": [
        "knn = KNeighborsClassifier(n_neighbors = 9)\n",
        "knn.fit(X_train, y_train)\n",
        "\n",
        "preds_knn = knn.predict(X_val)\n",
        "\n",
        "print('True labels:', y_val.tolist())\n",
        "print('Predictions:', preds_knn.tolist())"
      ]
    },
    {
      "cell_type": "markdown",
      "source": [
        "Summary of Accuracies:\n",
        "k=5: 11.1%\n",
        "k=3: 22.2%\n",
        "k=7: 22.2%\n",
        "k=9: 33.3%\n",
        "The highest accuracy is achieved with k=9\n",
        "(33.3%). However, note that all accuracies are low, indicating that k-NN may not be well-suited for this dataset without feature scaling or other preprocessing. But among the given choices,\n",
        "k=9 is the best.\n",
        "\n"
      ],
      "metadata": {
        "id": "V5sZgPs6mL68"
      },
      "id": "V5sZgPs6mL68"
    },
    {
      "cell_type": "markdown",
      "id": "93622fd8-d721-4dcc-9464-422ecba7bf1e",
      "metadata": {
        "id": "93622fd8-d721-4dcc-9464-422ecba7bf1e"
      },
      "source": [
        "## Logistic Regression"
      ]
    },
    {
      "cell_type": "code",
      "execution_count": 24,
      "id": "192bf66e-ecf3-4811-a676-4c09454ea3d0",
      "metadata": {
        "colab": {
          "base_uri": "https://localhost:8080/"
        },
        "id": "192bf66e-ecf3-4811-a676-4c09454ea3d0",
        "outputId": "2409bc7f-653d-4d64-a3cb-1d819fea68b4"
      },
      "outputs": [
        {
          "output_type": "stream",
          "name": "stdout",
          "text": [
            "True labels: [2, 2, 1, 2, 2, 3, 4, 1, 2, 2, 4, 3, 3, 3, 3, 4, 4, 2, 3, 2, 4, 4, 4, 3, 4, 2, 2, 2, 2, 2, 3, 3, 4, 4, 4, 4, 3, 4, 4, 3, 4, 2, 4, 4, 4, 4, 4, 2, 3, 2, 4, 3, 2, 3, 2, 3, 4, 4, 4]\n",
            "Predictions: [2, 2, 1, 2, 2, 3, 4, 1, 2, 2, 4, 3, 3, 3, 3, 4, 4, 2, 3, 2, 4, 4, 4, 3, 4, 2, 2, 2, 2, 2, 3, 3, 4, 4, 4, 4, 3, 4, 4, 3, 4, 2, 4, 4, 4, 4, 4, 2, 3, 2, 4, 3, 2, 3, 2, 3, 4, 4, 4]\n",
            "Score: 1.0\n"
          ]
        },
        {
          "output_type": "stream",
          "name": "stderr",
          "text": [
            "/usr/local/lib/python3.12/dist-packages/sklearn/linear_model/_logistic.py:465: ConvergenceWarning: lbfgs failed to converge (status=1):\n",
            "STOP: TOTAL NO. OF ITERATIONS REACHED LIMIT.\n",
            "\n",
            "Increase the number of iterations (max_iter) or scale the data as shown in:\n",
            "    https://scikit-learn.org/stable/modules/preprocessing.html\n",
            "Please also refer to the documentation for alternative solver options:\n",
            "    https://scikit-learn.org/stable/modules/linear_model.html#logistic-regression\n",
            "  n_iter_i = _check_optimize_result(\n"
          ]
        }
      ],
      "source": [
        "# Import logistic regression library\n",
        "from sklearn.linear_model import LogisticRegression\n",
        "\n",
        "# Create the logistic regression model object\n",
        "logistic = LogisticRegression()\n",
        "\n",
        "# Train the model\n",
        "logistic.fit(X_train, y_train)\n",
        "\n",
        "# Check the predictions on the train set\n",
        "preds_log = logistic.predict(X_train)\n",
        "\n",
        "print('True labels:', y_train.tolist())\n",
        "print('Predictions:', preds_log.tolist())\n",
        "\n",
        "print('Score:', logistic.score(X_train, y_train))"
      ]
    },
    {
      "cell_type": "code",
      "execution_count": 25,
      "id": "ef9c8171-4d4c-4130-8d42-90cabf141854",
      "metadata": {
        "colab": {
          "base_uri": "https://localhost:8080/"
        },
        "id": "ef9c8171-4d4c-4130-8d42-90cabf141854",
        "outputId": "8331e557-a72d-420f-de22-da0a22aa1681"
      },
      "outputs": [
        {
          "output_type": "stream",
          "name": "stdout",
          "text": [
            "True labels: [3, 3, 4, 4, 4, 2, 2, 4, 2]\n",
            "Predictions: [3, 4, 4, 4, 4, 3, 2, 4, 3]\n",
            "Score: 0.6666666666666666\n"
          ]
        }
      ],
      "source": [
        "preds_log = logistic.predict(X_val)\n",
        "\n",
        "print('True labels:', y_val.tolist())\n",
        "print('Predictions:', preds_log.tolist())\n",
        "print('Score:', logistic.score(X_val, y_val))"
      ]
    },
    {
      "cell_type": "code",
      "execution_count": 26,
      "id": "53311632-d23d-436e-b1be-4230b16658d5",
      "metadata": {
        "colab": {
          "base_uri": "https://localhost:8080/"
        },
        "id": "53311632-d23d-436e-b1be-4230b16658d5",
        "outputId": "f1d79540-661b-4262-8315-2bc4aea7043b"
      },
      "outputs": [
        {
          "output_type": "stream",
          "name": "stdout",
          "text": [
            "Logistic Model Coefficient:  [[ 1.14748581e-01  1.14290955e-01 -8.90855667e-02 -1.25419664e-01\n",
            "  -1.12230335e-01 -1.28648784e-01 -1.16880268e-01 -1.27471701e-01\n",
            "  -4.16350687e-02 -1.06663037e-01  1.73729521e-01 -6.30728268e-02\n",
            "   1.30416919e-01 -4.16622745e-02 -4.46910883e-02 -2.85317709e-02\n",
            "  -1.10689988e-02 -5.24412630e-02 -2.06560837e-02 -8.20395579e-02\n",
            "  -5.27557681e-02 -2.21143630e-02 -4.02633929e-02 -3.82515772e-02\n",
            "   1.06044056e-01 -6.10293765e-02 -1.98410451e-02 -3.81241743e-02\n",
            "  -1.26439829e-02 -1.20677471e-02  2.33532172e-02 -1.03884759e-02\n",
            "  -2.28044345e-02 -7.62177853e-03 -7.90001205e-03 -1.04367762e-02\n",
            "  -1.17218999e-02 -9.17677034e-02 -1.33586092e-02 -5.07560848e-04\n",
            "  -1.15572711e-02 -3.70446092e-02 -4.06149788e-02 -1.98254823e-01\n",
            "  -1.92143592e-01  4.29757479e-03 -1.76555255e-01  1.23228203e-02\n",
            "  -8.24721999e-02 -1.09000107e-02 -7.04969341e-02 -5.60092863e-02\n",
            "  -3.05753346e-03 -8.24721999e-02 -8.10738289e-02 -1.05026077e-02\n",
            "  -1.87965438e-01 -3.73302686e-02  4.93552483e-02 -3.66590473e-02\n",
            "  -3.49559086e-02 -1.03972478e-02 -2.27038484e-02 -5.59043107e-02\n",
            "  -1.41715311e-01 -1.95164322e-02  2.59595459e-03  3.54466582e-02\n",
            "  -1.42272439e-02  2.65381085e-01 -8.51506013e-02  3.52420592e-02\n",
            "  -1.05172746e-02 -2.20314335e-02 -3.15956322e-02 -2.78453123e-02\n",
            "  -1.67177197e-02  4.25870429e-02 -1.11617316e-01 -4.90206487e-02\n",
            "   6.22531143e-02  6.30168008e-02 -2.54012486e-02  6.40998362e-02\n",
            "  -2.10609113e-02  1.07573778e-01 -6.65718258e-02  4.26220864e-02\n",
            "  -1.22424294e-02 -2.07362605e-02 -3.09531241e-02 -5.34142809e-02\n",
            "  -1.50193543e-02 -3.26090083e-02 -2.58450754e-02  7.44379366e-03\n",
            "   2.09695207e-02 -1.83520352e-02 -1.94398915e-02 -1.61464504e-01\n",
            "   3.54832936e-02 -3.08419915e-02 -2.89683649e-02  3.21467667e-01\n",
            "  -9.43951642e-03  9.06771133e-02  8.28817976e-02 -3.47682186e-01\n",
            "  -9.52692954e-02]\n",
            " [ 2.92696044e-01 -9.71423491e-01 -8.21217463e-01 -3.41580286e-02\n",
            "  -3.66332846e-01  1.05439866e-01 -5.18972151e-03  9.77479540e-02\n",
            "   2.37955731e-01 -6.68210086e-02  2.49235724e-01  9.06609016e-02\n",
            "  -1.13768032e-01  2.37491451e-01  9.15829023e-02 -1.15486683e-02\n",
            "  -7.61014540e-02  2.92276572e-02  8.79656225e-02  4.71082091e-01\n",
            "   4.89530615e-02  2.42991537e-02 -3.81754382e-02 -1.46874633e-01\n",
            "  -6.86175512e-02  5.44494576e-02  7.91749858e-02 -2.73589987e-02\n",
            "  -3.94398834e-02  5.32756851e-02 -3.65848207e-02 -1.18850381e-01\n",
            "  -1.33351706e-01 -1.70030475e-01 -1.57624434e-01 -1.17810773e-01\n",
            "  -9.92379175e-02 -6.87043208e-02  1.29759999e-01  4.21436808e-02\n",
            "  -1.06923246e-01  3.54110560e-02  8.45482236e-02 -2.08143324e-01\n",
            "  -1.31978892e-01 -3.45889817e-02  2.30627688e-01  5.49292131e-02\n",
            "  -4.63365330e-02  1.88674660e-02  5.17096207e-02 -3.51037028e-01\n",
            "  -1.08609368e-01 -4.63365330e-02  6.32471729e-02 -1.16883334e-01\n",
            "   5.45006116e-02  1.18699643e-01  1.79956787e-01  1.84662243e-01\n",
            "   3.15656534e-01 -1.19258453e-01 -1.32478324e-01  1.41022385e-01\n",
            "  -2.72971639e-01  8.11807048e-02  5.11592522e-02  8.15820078e-02\n",
            "  -1.43864799e-01 -3.56045685e-01 -1.12118043e-01 -6.20439026e-02\n",
            "  -1.20610092e-01 -1.01707728e-01  3.09303752e-02 -1.04071189e-01\n",
            "   6.75777786e-02 -3.95796513e-02  1.93305825e-01  3.51156373e-02\n",
            "  -1.29386402e-01 -1.77776273e-01  5.06352629e-02 -1.37721360e-01\n",
            "  -1.02276062e-01 -1.75808985e-01 -2.16796127e-01 -3.77725166e-01\n",
            "  -1.33598636e-01 -9.30550333e-02 -2.76053009e-01  8.12461482e-02\n",
            "  -1.11784118e-01  9.78075916e-02  2.62160254e-01  2.24388319e-01\n",
            "   2.78061821e-01 -1.00930301e-01  1.92289441e-01  1.29812886e-01\n",
            "   1.05302481e-01 -2.74422446e-01 -2.59577895e-01 -5.35015528e-01\n",
            "  -1.59149378e-01  1.46642491e-01 -9.78363854e-02  1.21229426e-01\n",
            "  -9.48603602e-01]\n",
            " [-5.83700303e-01  9.56491208e-01  8.56703598e-01  8.70218689e-02\n",
            "   4.23679127e-01  7.34311575e-02 -7.95083663e-02  1.07405631e-01\n",
            "  -4.48565140e-02 -9.54342940e-02 -9.88301188e-02 -7.01778570e-02\n",
            "  -1.51508000e-01 -4.46281055e-02 -6.42366097e-03 -7.43019090e-02\n",
            "  -4.30447961e-02  1.94315610e-02 -8.20084455e-02  8.81736318e-03\n",
            "   1.03512435e-01 -7.78608099e-02 -3.99728441e-02  4.00697106e-03\n",
            "  -2.44632569e-01  1.22423450e-01 -1.01609946e-01 -5.06030725e-02\n",
            "   8.69929375e-02 -1.16452872e-01 -8.93369455e-02 -1.13302900e-02\n",
            "  -2.07110623e-04  1.35371945e-02  1.21172449e-02 -1.28612994e-02\n",
            "  -1.68092921e-03  3.59300165e-01 -5.46277226e-02 -1.04549272e-01\n",
            "   4.55514509e-04  1.77971933e-02  7.65477184e-03  1.36014667e-01\n",
            "   3.07188146e-01 -2.94598532e-01  4.67897411e-01  8.75013950e-02\n",
            "   2.04545519e-02  2.49666999e-02 -1.32485895e-02  3.16236427e-01\n",
            "   2.47374314e-02  2.04545519e-02  4.86050688e-02 -1.22978250e-02\n",
            "  -3.14244171e-02 -7.73359511e-02  2.01546384e-02 -2.47760590e-01\n",
            "  -1.27661189e-01 -1.11247670e-02  1.06417154e-03 -4.97966202e-02\n",
            "   2.29725313e-01 -4.80734530e-02 -9.63200625e-02 -9.46976957e-02\n",
            "   3.83033179e-03 -2.34389693e-01  8.32586238e-02 -3.51808044e-02\n",
            "  -9.45213538e-03 -1.43357110e-02  7.14706735e-02 -6.36185526e-03\n",
            "   1.54415026e-02 -1.81887428e-01 -6.01101857e-02 -1.88408260e-02\n",
            "   1.17473983e-03  4.40801449e-02  4.78954480e-02 -2.38206242e-02\n",
            "  -1.46483204e-02 -2.28840991e-01  1.05890663e-01  6.19588876e-01\n",
            "   2.13487077e-02 -6.29712182e-03  2.75478706e-01 -4.57111528e-02\n",
            "   8.18668283e-02  2.72855025e-01 -2.02187730e-01 -5.79939828e-02\n",
            "  -1.37919157e-01 -1.66643570e-03  1.35907421e-01 -1.77144045e-01\n",
            "  -1.13129243e-01  2.73563864e-01  2.04931361e-02  8.33583037e-04\n",
            "   1.65342192e-02 -1.78435894e-01  4.07332456e-01  1.11188723e-01\n",
            "  -6.30783498e-02]\n",
            " [ 1.76255678e-01 -9.93586720e-02  5.35994313e-02  7.25558240e-02\n",
            "   5.48840545e-02 -5.02222389e-02  2.01578356e-01 -7.76818844e-02\n",
            "  -1.51464148e-01  2.68918340e-01 -3.24135126e-01  4.25897823e-02\n",
            "   1.34859113e-01 -1.51201071e-01 -4.04681530e-02  1.14382348e-01\n",
            "   1.30215249e-01  3.78204482e-03  1.46989066e-02 -3.97859896e-01\n",
            "  -9.97097280e-02  7.56760193e-02  1.18411675e-01  1.81119239e-01\n",
            "   2.07206064e-01 -1.15843531e-01  4.22760057e-02  1.16086246e-01\n",
            "  -3.49090712e-02  7.52449340e-02  1.02568549e-01  1.40569147e-01\n",
            "   1.56363251e-01  1.64115059e-01  1.53407201e-01  1.41108848e-01\n",
            "   1.12640747e-01 -1.98828140e-01 -6.17736676e-02  6.29131519e-02\n",
            "   1.18025002e-01 -1.61636401e-02 -5.15880167e-02  2.70383479e-01\n",
            "   1.69343383e-02  3.24889939e-01 -5.21969843e-01 -1.54753428e-01\n",
            "   1.08354181e-01 -3.29341552e-02  3.20359028e-02  9.08098876e-02\n",
            "   8.69294704e-02  1.08354181e-01 -3.07784127e-02  1.39683766e-01\n",
            "   1.64889244e-01 -4.03342299e-03 -2.49466674e-01  9.97573940e-02\n",
            "  -1.53039436e-01  1.40780468e-01  1.54118001e-01 -3.53214538e-02\n",
            "   1.84961638e-01 -1.35908196e-02  4.25648556e-02 -2.23309704e-02\n",
            "   1.54261711e-01  3.25054293e-01  1.14010021e-01  6.19826478e-02\n",
            "   1.40579502e-01  1.38074873e-01 -7.08054165e-02  1.38278356e-01\n",
            "  -6.63015615e-02  1.78880036e-01 -2.15783236e-02  3.27458375e-02\n",
            "   6.59585479e-02  7.06793270e-02 -7.31294623e-02  9.74421478e-02\n",
            "   1.37985293e-01  2.97076199e-01  1.77477290e-01 -2.84485796e-01\n",
            "   1.24492357e-01  1.20088416e-01  3.15274275e-02  1.78792855e-02\n",
            "   4.49366437e-02 -3.38053609e-01 -3.41274487e-02 -1.73838129e-01\n",
            "  -1.61112184e-01  1.20948771e-01 -3.08756970e-01  2.08795663e-01\n",
            "  -2.76565320e-02  3.17005734e-02  2.68053124e-01  2.12714278e-01\n",
            "   1.52054676e-01 -5.88837110e-02 -3.92377869e-01  1.15264037e-01\n",
            "   1.10695125e+00]]\n",
            "Logistic Model Intercept:  [ 0.11355391  2.12133456 -0.27636374 -1.95852474]\n"
          ]
        }
      ],
      "source": [
        "# Output the equation coefficient and intercept\n",
        "print('Logistic Model Coefficient: ', logistic.coef_)\n",
        "print('Logistic Model Intercept: ', logistic.intercept_)"
      ]
    },
    {
      "cell_type": "markdown",
      "id": "783b7d26-af05-458b-8b89-d8692afaba41",
      "metadata": {
        "id": "783b7d26-af05-458b-8b89-d8692afaba41"
      },
      "source": [
        "### Regularization in Logistic Regression"
      ]
    },
    {
      "cell_type": "markdown",
      "id": "291762da-ee27-4c15-8326-6b38de85ea7a",
      "metadata": {
        "id": "291762da-ee27-4c15-8326-6b38de85ea7a"
      },
      "source": [
        "Overfitting occurs when a model is too complex and fits the training data too closely, resulting in poor generalization to new data. This can be a problem for logistic regression models, as they can become overly complex if there are many features or the relationship between the features and the target is non-linear. Overfitting can lead to poor performance on the test set and low predictive power on new data.\n",
        "\n",
        "**Regularization** is a technique used to avoid overfitting in machine learning models. It does this by adding a penalty term to the objective function (also called the loss function or error function) that the model is trying to minimize. The objective function measures the error or difference between the predicted output of the model and the true output. In logistic regression, the objective function is typically the cross-entropy loss, which measures the difference between the predicted probability of the positive class and the true label (1 or 0).\n",
        "\n",
        "By adding a penalty term to the objective function, regularization helps to reduce the complexity of the model and prevent it from fitting the training data too closely. The penalty term is a hyperparameter that controls the strength of the regularization. A higher value for the penalty term leads to stronger regularization and a simpler model, while a lower value allows the model to be more complex.\n",
        "\n",
        "#### Types of regularization\n",
        "* **L1 (Lasso) regularization**: Adds a penalty term to the objective function equal to the absolute value of the coefficients. This leads to a sparse model, where many of the coefficients are exactly equal to zero. L1 regularization is useful for feature selection because it can automatically identify and remove unnecessary or redundant features from the model.\n",
        "\n",
        "* **L2 (Ridge) regularization**: Adds a penalty term to the objective function equal to the square of the coefficients. This leads to a model with all coefficients close to zero, but not necessarily equal to zero. L2 regularization is less prone to overfitting than L1 regularization and is often used as a default choice.\n",
        "\n",
        "* **Elastic Net regularization**: Combines L1 and L2 regularization by adding a penalty term to the objective function that is a combination of the absolute value and square of the coefficients. This leads to a model with some coefficients equal to zero and some close to zero. Elastic Net can be useful when there are correlated features in the data and Lasso is prone to selecting only one of them.\n"
      ]
    },
    {
      "cell_type": "code",
      "execution_count": 27,
      "id": "6927a898-ffe8-4f6c-a13d-af6b4ba66185",
      "metadata": {
        "colab": {
          "base_uri": "https://localhost:8080/"
        },
        "id": "6927a898-ffe8-4f6c-a13d-af6b4ba66185",
        "outputId": "4093d134-0bd1-4782-e506-26fd4221c61a"
      },
      "outputs": [
        {
          "output_type": "stream",
          "name": "stdout",
          "text": [
            "Train: 0.6440677966101694\n",
            "Valid: 0.4444444444444444\n"
          ]
        },
        {
          "output_type": "stream",
          "name": "stderr",
          "text": [
            "/usr/local/lib/python3.12/dist-packages/sklearn/linear_model/_sag.py:348: ConvergenceWarning: The max_iter was reached which means the coef_ did not converge\n",
            "  warnings.warn(\n"
          ]
        }
      ],
      "source": [
        "# Set the regularization type (L1, L2, Elastic Net)\n",
        "penalty = 'elasticnet'\n",
        "\n",
        "# Set the regularization strength (C)\n",
        "C = 0.9\n",
        "\n",
        "# Set the l1 ratio when using elasticnet\n",
        "l1_ratio=0.5\n",
        "\n",
        "# Create a logistic regression model\n",
        "logistic = LogisticRegression(penalty=penalty, C=C, solver='saga', l1_ratio=l1_ratio)\n",
        "\n",
        "# Train the model on the training set\n",
        "logistic.fit(X_train, y_train)\n",
        "\n",
        "print('Train:', logistic.score(X_train, y_train))\n",
        "print('Valid:', logistic.score(X_val, y_val))"
      ]
    },
    {
      "cell_type": "markdown",
      "id": "4ccc3d9f-1f3b-4045-8a16-302a56af42ef",
      "metadata": {
        "id": "4ccc3d9f-1f3b-4045-8a16-302a56af42ef"
      },
      "source": [
        "<div class=\"alert alert-block alert-info\">\n",
        "<b>Q6.</b> Vary the hyperparameters (penalty, strength and l1 ratio) and compare the predictions on the valid set and on the train set. Does adding the penalty terms avoid overfitting?\n",
        "</div>"
      ]
    },
    {
      "cell_type": "code",
      "execution_count": 28,
      "id": "fc3c8e67-ff50-4e2f-9ea9-4296c76fbe5b",
      "metadata": {
        "scrolled": true,
        "colab": {
          "base_uri": "https://localhost:8080/"
        },
        "id": "fc3c8e67-ff50-4e2f-9ea9-4296c76fbe5b",
        "outputId": "8c96d3de-2411-450a-9ade-68827645aa03"
      },
      "outputs": [
        {
          "output_type": "stream",
          "name": "stdout",
          "text": [
            "Regularization: l1 C: 0.01\n",
            "Train: 0.4406779661016949\n",
            "Valid: 0.4444444444444444\n",
            "Regularization: l1 C: 0.1\n",
            "Train: 0.423728813559322\n",
            "Valid: 0.4444444444444444\n",
            "Regularization: l1 C: 1\n",
            "Train: 0.6440677966101694\n",
            "Valid: 0.4444444444444444\n"
          ]
        },
        {
          "output_type": "stream",
          "name": "stderr",
          "text": [
            "/usr/local/lib/python3.12/dist-packages/sklearn/linear_model/_logistic.py:1196: UserWarning: l1_ratio parameter is only used when penalty is 'elasticnet'. Got (penalty=l1)\n",
            "  warnings.warn(\n",
            "/usr/local/lib/python3.12/dist-packages/sklearn/linear_model/_sag.py:348: ConvergenceWarning: The max_iter was reached which means the coef_ did not converge\n",
            "  warnings.warn(\n",
            "/usr/local/lib/python3.12/dist-packages/sklearn/linear_model/_logistic.py:1196: UserWarning: l1_ratio parameter is only used when penalty is 'elasticnet'. Got (penalty=l1)\n",
            "  warnings.warn(\n",
            "/usr/local/lib/python3.12/dist-packages/sklearn/linear_model/_sag.py:348: ConvergenceWarning: The max_iter was reached which means the coef_ did not converge\n",
            "  warnings.warn(\n",
            "/usr/local/lib/python3.12/dist-packages/sklearn/linear_model/_logistic.py:1196: UserWarning: l1_ratio parameter is only used when penalty is 'elasticnet'. Got (penalty=l1)\n",
            "  warnings.warn(\n",
            "/usr/local/lib/python3.12/dist-packages/sklearn/linear_model/_sag.py:348: ConvergenceWarning: The max_iter was reached which means the coef_ did not converge\n",
            "  warnings.warn(\n",
            "/usr/local/lib/python3.12/dist-packages/sklearn/linear_model/_logistic.py:1196: UserWarning: l1_ratio parameter is only used when penalty is 'elasticnet'. Got (penalty=l2)\n",
            "  warnings.warn(\n",
            "/usr/local/lib/python3.12/dist-packages/sklearn/linear_model/_sag.py:348: ConvergenceWarning: The max_iter was reached which means the coef_ did not converge\n",
            "  warnings.warn(\n",
            "/usr/local/lib/python3.12/dist-packages/sklearn/linear_model/_logistic.py:1196: UserWarning: l1_ratio parameter is only used when penalty is 'elasticnet'. Got (penalty=l2)\n",
            "  warnings.warn(\n",
            "/usr/local/lib/python3.12/dist-packages/sklearn/linear_model/_sag.py:348: ConvergenceWarning: The max_iter was reached which means the coef_ did not converge\n",
            "  warnings.warn(\n",
            "/usr/local/lib/python3.12/dist-packages/sklearn/linear_model/_logistic.py:1196: UserWarning: l1_ratio parameter is only used when penalty is 'elasticnet'. Got (penalty=l2)\n",
            "  warnings.warn(\n",
            "/usr/local/lib/python3.12/dist-packages/sklearn/linear_model/_sag.py:348: ConvergenceWarning: The max_iter was reached which means the coef_ did not converge\n",
            "  warnings.warn(\n"
          ]
        },
        {
          "output_type": "stream",
          "name": "stdout",
          "text": [
            "Regularization: l2 C: 0.01\n",
            "Train: 0.5932203389830508\n",
            "Valid: 0.4444444444444444\n",
            "Regularization: l2 C: 0.1\n",
            "Train: 0.6610169491525424\n",
            "Valid: 0.5555555555555556\n",
            "Regularization: l2 C: 1\n",
            "Train: 0.6610169491525424\n",
            "Valid: 0.4444444444444444\n"
          ]
        },
        {
          "output_type": "stream",
          "name": "stderr",
          "text": [
            "/usr/local/lib/python3.12/dist-packages/sklearn/linear_model/_sag.py:348: ConvergenceWarning: The max_iter was reached which means the coef_ did not converge\n",
            "  warnings.warn(\n",
            "/usr/local/lib/python3.12/dist-packages/sklearn/linear_model/_sag.py:348: ConvergenceWarning: The max_iter was reached which means the coef_ did not converge\n",
            "  warnings.warn(\n"
          ]
        },
        {
          "output_type": "stream",
          "name": "stdout",
          "text": [
            "Regularization: elasticnet C: 0.01\n",
            "Train: 0.4406779661016949\n",
            "Valid: 0.4444444444444444\n",
            "Regularization: elasticnet C: 0.1\n",
            "Train: 0.5084745762711864\n",
            "Valid: 0.4444444444444444\n",
            "Regularization: elasticnet C: 1\n",
            "Train: 0.6271186440677966\n",
            "Valid: 0.4444444444444444\n"
          ]
        },
        {
          "output_type": "stream",
          "name": "stderr",
          "text": [
            "/usr/local/lib/python3.12/dist-packages/sklearn/linear_model/_sag.py:348: ConvergenceWarning: The max_iter was reached which means the coef_ did not converge\n",
            "  warnings.warn(\n"
          ]
        }
      ],
      "source": [
        "for penalty in ['l1', 'l2', 'elasticnet']:\n",
        "    for C in [0.01, 0.1, 1]:\n",
        "        # Create a logistic regression model\n",
        "        logistic = LogisticRegression(penalty=penalty, C=C, solver='saga', l1_ratio=0.5)\n",
        "\n",
        "        # Train the model on the training set\n",
        "        logistic.fit(X_train, y_train)\n",
        "        print('Regularization:', penalty, 'C:', C)\n",
        "        print('Train:', logistic.score(X_train, y_train))\n",
        "        print('Valid:', logistic.score(X_val, y_val))"
      ]
    },
    {
      "cell_type": "markdown",
      "source": [
        "Adding penalty terms (regularization) avoids overfitting by constraining the model coefficients. The best result is achieved with L2 regularization (Ridge) and C=1, which gives the highest validation accuracy (0.5556) and reduces the overfitting gap."
      ],
      "metadata": {
        "id": "I4Z9KlwbncPp"
      },
      "id": "I4Z9KlwbncPp"
    },
    {
      "cell_type": "markdown",
      "id": "0b5cefc1-56f7-4119-b9dc-c82ca2876f51",
      "metadata": {
        "id": "0b5cefc1-56f7-4119-b9dc-c82ca2876f51"
      },
      "source": [
        "## Support Vector Machine\n",
        "\n",
        "SVM is a supervised learning algorithm that finds the optimal hyperplane to separate data into classes by maximizing the margin between them. To handle imperfect data, SVM introduces a penalty term (like in logistic regression), controlled by the parameter C:\n",
        "* Large C: less tolerance for misclassification.\n",
        "* Small C: allows a wider margin with some misclassifications.\n",
        "\n",
        "SVMs can also handle non-linear data using kernels, which map data into higher-dimensional space:\n",
        "* Linear: for linearly separable data.\n",
        "* Polynomial: maps inputs into polynomial space.\n",
        "* RBF (Gaussian): handles complex, non-linear patterns.\n",
        "* Sigmoid: similar to neural networks, less common.\n",
        "\n",
        "Kernels let SVMs create flexible decision boundaries while maintaining good generalization.\n",
        "\n",
        "<div class=\"alert alert-block alert-info\">\n",
        "<b>Q7.</b> Similarly to what we have done with logistic regression, compare the scores obtained when training SVM with different kernels and different values for C.\n",
        "</div>"
      ]
    },
    {
      "cell_type": "code",
      "execution_count": 29,
      "id": "1881af0c-5929-4c8e-b7fa-38ebeb2965aa",
      "metadata": {
        "colab": {
          "base_uri": "https://localhost:8080/"
        },
        "id": "1881af0c-5929-4c8e-b7fa-38ebeb2965aa",
        "outputId": "20aaddd9-6695-4c44-9ce2-850921f9bc23"
      },
      "outputs": [
        {
          "output_type": "stream",
          "name": "stdout",
          "text": [
            "Kernel: linear C: 0.01\n",
            "Train: 0.7288135593220338\n",
            "Valid: 0.3333333333333333\n",
            "Kernel: linear C: 0.1\n",
            "Train: 0.9661016949152542\n",
            "Valid: 0.5555555555555556\n",
            "Kernel: linear C: 1\n",
            "Train: 1.0\n",
            "Valid: 0.6666666666666666\n",
            "Kernel: poly C: 0.01\n",
            "Train: 0.847457627118644\n",
            "Valid: 0.4444444444444444\n",
            "Kernel: poly C: 0.1\n",
            "Train: 0.9491525423728814\n",
            "Valid: 0.4444444444444444\n",
            "Kernel: poly C: 1\n",
            "Train: 0.9830508474576272\n",
            "Valid: 0.4444444444444444\n",
            "Kernel: rbf C: 0.01\n",
            "Train: 0.4067796610169492\n",
            "Valid: 0.4444444444444444\n",
            "Kernel: rbf C: 0.1\n",
            "Train: 0.4067796610169492\n",
            "Valid: 0.4444444444444444\n",
            "Kernel: rbf C: 1\n",
            "Train: 0.7966101694915254\n",
            "Valid: 0.2222222222222222\n",
            "Kernel: sigmoid C: 0.01\n",
            "Train: 0.4067796610169492\n",
            "Valid: 0.4444444444444444\n",
            "Kernel: sigmoid C: 0.1\n",
            "Train: 0.4067796610169492\n",
            "Valid: 0.4444444444444444\n",
            "Kernel: sigmoid C: 1\n",
            "Train: 0.4067796610169492\n",
            "Valid: 0.4444444444444444\n"
          ]
        }
      ],
      "source": [
        "from sklearn.svm import SVC\n",
        "\n",
        "# Kernels and regularization strengths to compare\n",
        "kernels = ['linear', 'poly', 'rbf', 'sigmoid']\n",
        "C_values = [0.01, 0.1, 1]\n",
        "\n",
        "# Evaluate performance for each kernel and C value\n",
        "for kernel in kernels:\n",
        "    for C in C_values:\n",
        "        svm = SVC(kernel=kernel, C=C, gamma='auto')\n",
        "        svm.fit(X_train, y_train)\n",
        "        print('Kernel:', kernel, 'C:', C)\n",
        "        print('Train:', svm.score(X_train, y_train))\n",
        "        print('Valid:', svm.score(X_val, y_val))"
      ]
    },
    {
      "cell_type": "markdown",
      "source": [
        "The goal is to find a model that generalizes well (high validation score) without overfitting (small gap between train and validation scores)\n",
        "Best Performance:\n",
        "The linear kernel with C=1 achieves the highest validation score (0.6667) among all configurations.\n",
        "\n",
        "The next best is linear kernel with C=0.1 (valid = 0.5556).\n",
        "\n",
        "The polynomial kernel consistently gives a validation score of 0.4444 regardless of C, which is not better than linear.\n",
        "\n",
        "RBF and sigmoid kernels perform poorly.\n",
        "For linear kernel, as C increases:\n",
        "\n",
        "Train accuracy increases (from 0.7288 to 1.0).\n",
        "\n",
        "Validation accuracy increases (from 0.3333 to 0.6667).\n",
        "\n",
        "But the gap also increases (from 0.3955 to 0.3333), meaning overfitting increases slightly.\n",
        "\n",
        "However, C=1 gives the best validation score.\n",
        "Conclusion:\n",
        "Best SVM configuration: Linear kernel with C=1\n",
        "\n",
        "Train score: 1.0\n",
        "\n",
        "Validation score: 0.6667\n",
        "\n",
        "This is the highest validation score achieved among all kernels and C values.\n",
        "\n",
        "While there is some overfitting (gap = 0.3333), it is acceptable given the improvement in validation performance.\n",
        "\n",
        "Nonlinear kernels (poly, RBF, sigmoid) do not perform well, likely because the data is not highly nonlinear or because they overfit/underfit.\n",
        "\n"
      ],
      "metadata": {
        "id": "_Di2LjDppRj5"
      },
      "id": "_Di2LjDppRj5"
    },
    {
      "cell_type": "markdown",
      "id": "662e4e1f-e1e8-4e2a-a341-a7d293b296e0",
      "metadata": {
        "id": "662e4e1f-e1e8-4e2a-a341-a7d293b296e0"
      },
      "source": [
        "## Random Forest and Decision Trees"
      ]
    },
    {
      "cell_type": "markdown",
      "id": "964793af-9e61-457b-8f43-38ed745a5db6",
      "metadata": {
        "id": "964793af-9e61-457b-8f43-38ed745a5db6"
      },
      "source": [
        "Random Forests are ensemble methods that build many decision trees and aggregate their predictions. Each tree is trained on a random subset of the data and features, helping reduce overfitting.\n",
        "\n",
        "Key hyperparameters include:\n",
        "* `n_estimators`: Number of trees (more trees = more stable, up to a point).\n",
        "* `max_depth`: Maximum depth of each tree (controls complexity).\n",
        "* `min_samples_leaf`: Minimum samples per leaf (forces simpler trees)."
      ]
    },
    {
      "cell_type": "markdown",
      "id": "1fae6559-d2d6-425d-93bf-2a30c6db59ee",
      "metadata": {
        "id": "1fae6559-d2d6-425d-93bf-2a30c6db59ee"
      },
      "source": [
        "<div class=\"alert alert-block alert-info\">\n",
        "<b>Q8.</b> Create a RandomForestClassifier using the default values for each hyperparameter, train it on our data and evaluate the performance. Visualize the predictions and the score.\n",
        "</div>"
      ]
    },
    {
      "cell_type": "code",
      "execution_count": 30,
      "id": "f2d96f8f-d690-46c7-9d5a-737d1d390f5f",
      "metadata": {
        "colab": {
          "base_uri": "https://localhost:8080/"
        },
        "id": "f2d96f8f-d690-46c7-9d5a-737d1d390f5f",
        "outputId": "6aea8a63-0b97-4187-b72d-3d28fa3dc157"
      },
      "outputs": [
        {
          "output_type": "execute_result",
          "data": {
            "text/plain": [
              "0.6666666666666666"
            ]
          },
          "metadata": {},
          "execution_count": 30
        }
      ],
      "source": [
        "from sklearn.ensemble import RandomForestClassifier\n",
        "\n",
        "rf = RandomForestClassifier(random_state=42)\n",
        "rf.fit(X_train, y_train)\n",
        "rf.score(X_val, y_val)"
      ]
    },
    {
      "cell_type": "markdown",
      "source": [
        "Default hyperparameters:\n",
        "\n",
        "n_estimators=100\n",
        "\n",
        "criterion='gini'\n",
        "\n",
        "max_depth=None\n",
        "\n",
        "min_samples_split=2\n",
        "\n",
        "min_samples_leaf=1\n",
        "\n",
        "max_features='sqrt'\n",
        "\n",
        "bootstrap=True\n",
        "\n",
        "random_state=None\n",
        "\n",
        "Results:\n",
        "\n",
        "Validation Score: 0.6667 (66.67% accuracy)"
      ],
      "metadata": {
        "id": "czSb8_iCqPkJ"
      },
      "id": "czSb8_iCqPkJ"
    },
    {
      "cell_type": "markdown",
      "id": "52f56978-c917-47a2-9991-bf8acee6d79b",
      "metadata": {
        "id": "52f56978-c917-47a2-9991-bf8acee6d79b"
      },
      "source": [
        "<div class=\"alert alert-block alert-info\">\n",
        "<b>Q9.</b> Vary the hyperparameters and visualize the changes in the results.\n",
        "</div>"
      ]
    },
    {
      "cell_type": "code",
      "source": [
        "import numpy as np\n",
        "import matplotlib.pyplot as plt\n",
        "from sklearn.ensemble import RandomForestClassifier\n",
        "from sklearn.metrics import accuracy_score, confusion_matrix, ConfusionMatrixDisplay\n",
        "import seaborn as sns\n",
        "\n",
        "# Assuming you have X_train, y_train, X_val, y_val defined\n",
        "# Replace these with your actual data\n",
        "# X_train, y_train, X_val, y_val = ...\n",
        "\n",
        "# Store results\n",
        "results = {}\n",
        "\n",
        "# 1. Default RandomForest\n",
        "print(\"1. Training with default parameters...\")\n",
        "rf_default = RandomForestClassifier(random_state=42)\n",
        "rf_default.fit(X_train, y_train)\n",
        "y_pred_default = rf_default.predict(X_val)\n",
        "score_default = accuracy_score(y_val, y_pred_default)\n",
        "results['Default'] = score_default\n",
        "print(f\"Default score: {score_default:.4f}\")\n",
        "\n",
        "# 2. Increase n_estimators\n",
        "print(\"\\n2. Training with n_estimators=200...\")\n",
        "rf_n_estimators = RandomForestClassifier(n_estimators=200, random_state=42)\n",
        "rf_n_estimators.fit(X_train, y_train)\n",
        "y_pred_est = rf_n_estimators.predict(X_val)\n",
        "score_est = accuracy_score(y_val, y_pred_est)\n",
        "results['n_estimators=200'] = score_est\n",
        "print(f\"n_estimators=200 score: {score_est:.4f}\")\n",
        "\n",
        "# 3. Limit max_depth\n",
        "print(\"\\n3. Training with max_depth=5...\")\n",
        "rf_max_depth = RandomForestClassifier(max_depth=5, random_state=42)\n",
        "rf_max_depth.fit(X_train, y_train)\n",
        "y_pred_depth = rf_max_depth.predict(X_val)\n",
        "score_depth = accuracy_score(y_val, y_pred_depth)\n",
        "results['max_depth=5'] = score_depth\n",
        "print(f\"max_depth=5 score: {score_depth:.4f}\")\n",
        "\n",
        "# 4. Increase min_samples_split\n",
        "print(\"\\n4. Training with min_samples_split=10...\")\n",
        "rf_min_split = RandomForestClassifier(min_samples_split=10, random_state=42)\n",
        "rf_min_split.fit(X_train, y_train)\n",
        "y_pred_split = rf_min_split.predict(X_val)\n",
        "score_split = accuracy_score(y_val, y_pred_split)\n",
        "results['min_samples_split=10'] = score_split\n",
        "print(f\"min_samples_split=10 score: {score_split:.4f}\")\n",
        "\n",
        "# 5. Increase min_samples_leaf\n",
        "print(\"\\n5. Training with min_samples_leaf=4...\")\n",
        "rf_min_leaf = RandomForestClassifier(min_samples_leaf=4, random_state=42)\n",
        "rf_min_leaf.fit(X_train, y_train)\n",
        "y_pred_leaf = rf_min_leaf.predict(X_val)\n",
        "score_leaf = accuracy_score(y_val, y_pred_leaf)\n",
        "results['min_samples_leaf=4'] = score_leaf\n",
        "print(f\"min_samples_leaf=4 score: {score_leaf:.4f}\")\n",
        "\n",
        "# 6. Adjust max_features\n",
        "print(\"\\n6. Training with max_features=0.5...\")\n",
        "rf_max_features = RandomForestClassifier(max_features=0.5, random_state=42)\n",
        "rf_max_features.fit(X_train, y_train)\n",
        "y_pred_features = rf_max_features.predict(X_val)\n",
        "score_features = accuracy_score(y_val, y_pred_features)\n",
        "results['max_features=0.5'] = score_features\n",
        "print(f\"max_features=0.5 score: {score_features:.4f}\")\n",
        "\n",
        "# Print all results\n",
        "print(\"\\n\" + \"=\"*50)\n",
        "print(\"HYPERPARAMETER TUNING RESULTS\")\n",
        "print(\"=\"*50)\n",
        "for param, score in results.items():\n",
        "    print(f\"{param:<20}: {score:.4f}\")\n",
        "\n",
        "# Visualization\n",
        "plt.figure(figsize=(14, 10))\n",
        "\n",
        "# 1. Bar chart of scores\n",
        "plt.subplot(2, 2, 1)\n",
        "params = list(results.keys())\n",
        "scores = list(results.values())\n",
        "\n",
        "colors = []\n",
        "for score in scores:\n",
        "    if score > results['Default']:\n",
        "        colors.append('green')\n",
        "    elif score < results['Default']:\n",
        "        colors.append('red')\n",
        "    else:\n",
        "        colors.append('blue')\n",
        "\n",
        "bars = plt.bar(params, scores, color=colors, alpha=0.7)\n",
        "plt.axhline(y=results['Default'], color='blue', linestyle='--', alpha=0.7, label='Default Score')\n",
        "plt.ylim(min(scores) - 0.05, max(scores) + 0.05)\n",
        "plt.xlabel('Hyperparameter Settings')\n",
        "plt.ylabel('Validation Score')\n",
        "plt.title('RandomForestClassifier: Validation Score vs Hyperparameter Tuning')\n",
        "plt.xticks(rotation=45, ha='right')\n",
        "plt.grid(axis='y', alpha=0.3)\n",
        "\n",
        "# Add value labels\n",
        "for i, (bar, score) in enumerate(zip(bars, scores)):\n",
        "    plt.text(bar.get_x() + bar.get_width()/2., bar.get_height() + 0.005,\n",
        "             f'{score:.4f}', ha='center', va='bottom', fontweight='bold')\n",
        "\n",
        "# 2. Confusion matrix for best model\n",
        "plt.subplot(2, 2, 2)\n",
        "best_param = max(results, key=results.get)\n",
        "best_score = results[best_param]\n",
        "\n",
        "if best_param == 'Default':\n",
        "    best_model = rf_default\n",
        "    y_pred_best = y_pred_default\n",
        "elif best_param == 'n_estimators=200':\n",
        "    best_model = rf_n_estimators\n",
        "    y_pred_best = y_pred_est\n",
        "elif best_param == 'max_depth=5':\n",
        "    best_model = rf_max_depth\n",
        "    y_pred_best = y_pred_depth\n",
        "elif best_param == 'min_samples_split=10':\n",
        "    best_model = rf_min_split\n",
        "    y_pred_best = y_pred_split\n",
        "elif best_param == 'min_samples_leaf=4':\n",
        "    best_model = rf_min_leaf\n",
        "    y_pred_best = y_pred_leaf\n",
        "else:\n",
        "    best_model = rf_max_features\n",
        "    y_pred_best = y_pred_features\n",
        "\n",
        "cm = confusion_matrix(y_val, y_pred_best)\n",
        "sns.heatmap(cm, annot=True, fmt='d', cmap='Blues')\n",
        "plt.title(f'Confusion Matrix (Best: {best_param})\\nScore: {best_score:.4f}')\n",
        "plt.xlabel('Predicted')\n",
        "plt.ylabel('True')\n",
        "\n",
        "# 3. Feature importance for best model\n",
        "plt.subplot(2, 2, 3)\n",
        "if hasattr(X_train, 'columns'):\n",
        "    feature_names = X_train.columns\n",
        "else:\n",
        "    feature_names = [f'Feature {i}' for i in range(X_train.shape[1])]\n",
        "\n",
        "importances = best_model.feature_importances_\n",
        "indices = np.argsort(importances)[-10:]  # Top 10 features\n",
        "\n",
        "plt.barh(range(len(indices)), importances[indices])\n",
        "plt.yticks(range(len(indices)), [feature_names[i] for i in indices])\n",
        "plt.xlabel('Feature Importance')\n",
        "plt.title('Top 10 Feature Importances')\n",
        "\n",
        "# 4. Score comparison table\n",
        "plt.subplot(2, 2, 4)\n",
        "plt.axis('off')\n",
        "table_data = []\n",
        "for param, score in results.items():\n",
        "    improvement = score - results['Default']\n",
        "    table_data.append([param, f'{score:.4f}', f'{improvement:+.4f}'])\n",
        "\n",
        "table = plt.table(cellText=table_data,\n",
        "                  colLabels=['Parameter', 'Score', 'Δ from Default'],\n",
        "                  cellLoc='center',\n",
        "                  loc='center')\n",
        "table.auto_set_font_size(False)\n",
        "table.set_fontsize(10)\n",
        "table.scale(1, 2)\n",
        "plt.title('Performance Comparison')\n",
        "\n",
        "plt.tight_layout()\n",
        "plt.show()\n",
        "\n",
        "# Print summary\n",
        "print(f\"\\nBest performing model: {best_param} with score: {best_score:.4f}\")\n",
        "print(f\"Improvement over default: {best_score - results['Default']:.4f}\")\n",
        "\n",
        "# Additional analysis: Train vs Validation scores to check overfitting\n",
        "print(\"\\nOverfitting Analysis:\")\n",
        "print(\"Model                | Train Score | Valid Score | Gap\")\n",
        "print(\"-\" * 50)\n",
        "models = {\n",
        "    'Default': rf_default,\n",
        "    'n_estimators=200': rf_n_estimators,\n",
        "    'max_depth=5': rf_max_depth,\n",
        "    'min_samples_split=10': rf_min_split,\n",
        "    'min_samples_leaf=4': rf_min_leaf,\n",
        "    'max_features=0.5': rf_max_features\n",
        "}\n",
        "\n",
        "for name, model in models.items():\n",
        "    train_score = accuracy_score(y_train, model.predict(X_train))\n",
        "    valid_score = results[name]\n",
        "    gap = train_score - valid_score\n",
        "    print(f\"{name:<20} | {train_score:.4f}     | {valid_score:.4f}     | {gap:+.4f}\")"
      ],
      "metadata": {
        "colab": {
          "base_uri": "https://localhost:8080/",
          "height": 1000
        },
        "id": "kc-XKLhzqW17",
        "outputId": "685ebc13-08b5-4b1c-ace5-7bea98461599"
      },
      "id": "kc-XKLhzqW17",
      "execution_count": 33,
      "outputs": [
        {
          "output_type": "stream",
          "name": "stdout",
          "text": [
            "1. Training with default parameters...\n",
            "Default score: 0.6667\n",
            "\n",
            "2. Training with n_estimators=200...\n",
            "n_estimators=200 score: 0.6667\n",
            "\n",
            "3. Training with max_depth=5...\n",
            "max_depth=5 score: 0.6667\n",
            "\n",
            "4. Training with min_samples_split=10...\n",
            "min_samples_split=10 score: 0.7778\n",
            "\n",
            "5. Training with min_samples_leaf=4...\n",
            "min_samples_leaf=4 score: 0.7778\n",
            "\n",
            "6. Training with max_features=0.5...\n",
            "max_features=0.5 score: 1.0000\n",
            "\n",
            "==================================================\n",
            "HYPERPARAMETER TUNING RESULTS\n",
            "==================================================\n",
            "Default             : 0.6667\n",
            "n_estimators=200    : 0.6667\n",
            "max_depth=5         : 0.6667\n",
            "min_samples_split=10: 0.7778\n",
            "min_samples_leaf=4  : 0.7778\n",
            "max_features=0.5    : 1.0000\n"
          ]
        },
        {
          "output_type": "display_data",
          "data": {
            "text/plain": [
              "<Figure size 1400x1000 with 5 Axes>"
            ],
            "image/png": "[encoded data removed]"
          },
          "metadata": {}
        },
        {
          "output_type": "stream",
          "name": "stdout",
          "text": [
            "\n",
            "Best performing model: max_features=0.5 with score: 1.0000\n",
            "Improvement over default: 0.3333\n",
            "\n",
            "Overfitting Analysis:\n",
            "Model                | Train Score | Valid Score | Gap\n",
            "--------------------------------------------------\n",
            "Default              | 1.0000     | 0.6667     | +0.3333\n",
            "n_estimators=200     | 1.0000     | 0.6667     | +0.3333\n",
            "max_depth=5          | 1.0000     | 0.6667     | +0.3333\n",
            "min_samples_split=10 | 0.9661     | 0.7778     | +0.1883\n",
            "min_samples_leaf=4   | 0.9661     | 0.7778     | +0.1883\n",
            "max_features=0.5     | 1.0000     | 1.0000     | +0.0000\n"
          ]
        }
      ]
    },
    {
      "cell_type": "markdown",
      "id": "c943ec63-2651-4ab5-9140-b135f7e1a6ff",
      "metadata": {
        "id": "c943ec63-2651-4ab5-9140-b135f7e1a6ff"
      },
      "source": [
        "## Multi-Layer Perceptron\n",
        "\n",
        "MLP is a type of neural network trained using backpropagation. It learns complex non-linear functions by combining layers of neurons.\n",
        "\n",
        "Regularization in MLP is mainly controlled by:\n",
        "* `alpha`: L2 regularization strength (like ridge regression).\n",
        "* `hidden_layer_sizes`: Network capacity (more/larger layers = more complex).\n",
        "* `max_iter`: Iterations for convergence."
      ]
    },
    {
      "cell_type": "code",
      "execution_count": 34,
      "id": "1e3dadb7-d7ca-49d5-b617-e546c432dba2",
      "metadata": {
        "colab": {
          "base_uri": "https://localhost:8080/"
        },
        "id": "1e3dadb7-d7ca-49d5-b617-e546c432dba2",
        "outputId": "8d3b3fe2-d354-47e4-b1be-7b404ffeedce"
      },
      "outputs": [
        {
          "output_type": "stream",
          "name": "stderr",
          "text": [
            "/usr/local/lib/python3.12/dist-packages/sklearn/neural_network/_multilayer_perceptron.py:691: ConvergenceWarning: Stochastic Optimizer: Maximum iterations (1000) reached and the optimization hasn't converged yet.\n",
            "  warnings.warn(\n"
          ]
        },
        {
          "output_type": "execute_result",
          "data": {
            "text/plain": [
              "0.4444444444444444"
            ]
          },
          "metadata": {},
          "execution_count": 34
        }
      ],
      "source": [
        "from sklearn.neural_network import MLPClassifier\n",
        "\n",
        "mlp = MLPClassifier(hidden_layer_sizes=(3,), alpha=0, max_iter=1000, random_state=5)\n",
        "mlp.fit(X_train, y_train)\n",
        "mlp.score(X_val, y_val)"
      ]
    },
    {
      "cell_type": "markdown",
      "id": "61fb9b17-db20-443e-99a1-44e5e028f95b",
      "metadata": {
        "id": "61fb9b17-db20-443e-99a1-44e5e028f95b"
      },
      "source": [
        "<div class=\"alert alert-block alert-info\">\n",
        "<b>Q10.</b> Change the value for the random state and observe the changes in the score. What does it tell about the performance of the model?\n",
        "</div>"
      ]
    },
    {
      "cell_type": "code",
      "source": [
        "import numpy as np\n",
        "import matplotlib.pyplot as plt\n",
        "from sklearn.neural_network import MLPClassifier\n",
        "from sklearn.metrics import accuracy_score\n",
        "\n",
        "# Assuming you have X_train, y_train, X_valid, y_valid defined\n",
        "# X_train, y_train, X_valid, y_valid = ...\n",
        "\n",
        "# Test different random states\n",
        "random_states = range(42, 52)  # Testing 10 different random states\n",
        "scores = []\n",
        "\n",
        "print(\"Testing MLP with different random states:\")\n",
        "print(\"Random State | Validation Score\")\n",
        "print(\"-\" * 30)\n",
        "\n",
        "for random_state in random_states:\n",
        "    # Create and train MLP classifier\n",
        "    mlp = MLPClassifier(random_state=random_state, max_iter=1000)\n",
        "    mlp.fit(X_train, y_train)\n",
        "\n",
        "    # Predict and calculate score\n",
        "    y_pred = mlp.predict(X_val)\n",
        "    score = accuracy_score(y_val, y_pred)\n",
        "    scores.append(score)\n",
        "\n",
        "    print(f\"{random_state:11} | {score:.4f}\")\n",
        "\n",
        "# Calculate statistics\n",
        "mean_score = np.mean(scores)\n",
        "std_score = np.std(scores)\n",
        "min_score = np.min(scores)\n",
        "max_score = np.max(scores)\n",
        "\n",
        "print(\"\\n\" + \"=\"*50)\n",
        "print(\"PERFORMANCE SUMMARY:\")\n",
        "print(\"=\"*50)\n",
        "print(f\"Mean score: {mean_score:.4f}\")\n",
        "print(f\"Standard deviation: {std_score:.4f}\")\n",
        "print(f\"Minimum score: {min_score:.4f}\")\n",
        "print(f\"Maximum score: {max_score:.4f}\")\n",
        "print(f\"Score range: {max_score - min_score:.4f}\")\n",
        "\n",
        "# Visualization\n",
        "plt.figure(figsize=(12, 5))\n",
        "\n",
        "# Plot 1: Scores by random state\n",
        "plt.subplot(1, 2, 1)\n",
        "plt.plot(random_states, scores, 'o-', markerfacecolor='red', markersize=8)\n",
        "plt.axhline(y=mean_score, color='blue', linestyle='--', label=f'Mean: {mean_score:.4f}')\n",
        "plt.xlabel('Random State')\n",
        "plt.ylabel('Validation Score')\n",
        "plt.title('MLP Performance vs Random State')\n",
        "plt.legend()\n",
        "plt.grid(True, alpha=0.3)\n",
        "\n",
        "# Plot 2: Score distribution\n",
        "plt.subplot(1, 2, 2)\n",
        "plt.hist(scores, bins=10, alpha=0.7, color='green', edgecolor='black')\n",
        "plt.axvline(x=mean_score, color='red', linestyle='--', label=f'Mean: {mean_score:.4f}')\n",
        "plt.xlabel('Validation Score')\n",
        "plt.ylabel('Frequency')\n",
        "plt.title('Score Distribution')\n",
        "plt.legend()\n",
        "plt.grid(True, alpha=0.3)\n",
        "\n",
        "plt.tight_layout()\n",
        "plt.show()\n",
        "\n",
        "# Additional analysis: Check if the model is consistently bad\n",
        "consistent_low_score = all(score < 0.5 for score in scores)\n",
        "print(f\"\\nAll scores below 0.5: {consistent_low_score}\")\n",
        "print(f\"Percentage of scores ≤ 0.4444: {sum(score <= 0.4444 for score in scores)/len(scores)*100:.1f}%\")"
      ],
      "metadata": {
        "colab": {
          "base_uri": "https://localhost:8080/",
          "height": 1000
        },
        "id": "TtfSAEnSsj9Q",
        "outputId": "ff837fb8-6969-4a37-9c63-a7236f095878"
      },
      "id": "TtfSAEnSsj9Q",
      "execution_count": 41,
      "outputs": [
        {
          "output_type": "stream",
          "name": "stdout",
          "text": [
            "Testing MLP with different random states:\n",
            "Random State | Validation Score\n",
            "------------------------------\n"
          ]
        },
        {
          "output_type": "stream",
          "name": "stderr",
          "text": [
            "/usr/local/lib/python3.12/dist-packages/sklearn/neural_network/_multilayer_perceptron.py:691: ConvergenceWarning: Stochastic Optimizer: Maximum iterations (1000) reached and the optimization hasn't converged yet.\n",
            "  warnings.warn(\n"
          ]
        },
        {
          "output_type": "stream",
          "name": "stdout",
          "text": [
            "         42 | 0.4444\n"
          ]
        },
        {
          "output_type": "stream",
          "name": "stderr",
          "text": [
            "/usr/local/lib/python3.12/dist-packages/sklearn/neural_network/_multilayer_perceptron.py:691: ConvergenceWarning: Stochastic Optimizer: Maximum iterations (1000) reached and the optimization hasn't converged yet.\n",
            "  warnings.warn(\n"
          ]
        },
        {
          "output_type": "stream",
          "name": "stdout",
          "text": [
            "         43 | 0.4444\n"
          ]
        },
        {
          "output_type": "stream",
          "name": "stderr",
          "text": [
            "/usr/local/lib/python3.12/dist-packages/sklearn/neural_network/_multilayer_perceptron.py:691: ConvergenceWarning: Stochastic Optimizer: Maximum iterations (1000) reached and the optimization hasn't converged yet.\n",
            "  warnings.warn(\n"
          ]
        },
        {
          "output_type": "stream",
          "name": "stdout",
          "text": [
            "         44 | 0.5556\n"
          ]
        },
        {
          "output_type": "stream",
          "name": "stderr",
          "text": [
            "/usr/local/lib/python3.12/dist-packages/sklearn/neural_network/_multilayer_perceptron.py:691: ConvergenceWarning: Stochastic Optimizer: Maximum iterations (1000) reached and the optimization hasn't converged yet.\n",
            "  warnings.warn(\n"
          ]
        },
        {
          "output_type": "stream",
          "name": "stdout",
          "text": [
            "         45 | 0.4444\n"
          ]
        },
        {
          "output_type": "stream",
          "name": "stderr",
          "text": [
            "/usr/local/lib/python3.12/dist-packages/sklearn/neural_network/_multilayer_perceptron.py:691: ConvergenceWarning: Stochastic Optimizer: Maximum iterations (1000) reached and the optimization hasn't converged yet.\n",
            "  warnings.warn(\n"
          ]
        },
        {
          "output_type": "stream",
          "name": "stdout",
          "text": [
            "         46 | 0.4444\n"
          ]
        },
        {
          "output_type": "stream",
          "name": "stderr",
          "text": [
            "/usr/local/lib/python3.12/dist-packages/sklearn/neural_network/_multilayer_perceptron.py:691: ConvergenceWarning: Stochastic Optimizer: Maximum iterations (1000) reached and the optimization hasn't converged yet.\n",
            "  warnings.warn(\n"
          ]
        },
        {
          "output_type": "stream",
          "name": "stdout",
          "text": [
            "         47 | 0.4444\n"
          ]
        },
        {
          "output_type": "stream",
          "name": "stderr",
          "text": [
            "/usr/local/lib/python3.12/dist-packages/sklearn/neural_network/_multilayer_perceptron.py:691: ConvergenceWarning: Stochastic Optimizer: Maximum iterations (1000) reached and the optimization hasn't converged yet.\n",
            "  warnings.warn(\n"
          ]
        },
        {
          "output_type": "stream",
          "name": "stdout",
          "text": [
            "         48 | 0.4444\n"
          ]
        },
        {
          "output_type": "stream",
          "name": "stderr",
          "text": [
            "/usr/local/lib/python3.12/dist-packages/sklearn/neural_network/_multilayer_perceptron.py:691: ConvergenceWarning: Stochastic Optimizer: Maximum iterations (1000) reached and the optimization hasn't converged yet.\n",
            "  warnings.warn(\n"
          ]
        },
        {
          "output_type": "stream",
          "name": "stdout",
          "text": [
            "         49 | 0.5556\n"
          ]
        },
        {
          "output_type": "stream",
          "name": "stderr",
          "text": [
            "/usr/local/lib/python3.12/dist-packages/sklearn/neural_network/_multilayer_perceptron.py:691: ConvergenceWarning: Stochastic Optimizer: Maximum iterations (1000) reached and the optimization hasn't converged yet.\n",
            "  warnings.warn(\n"
          ]
        },
        {
          "output_type": "stream",
          "name": "stdout",
          "text": [
            "         50 | 0.4444\n"
          ]
        },
        {
          "output_type": "stream",
          "name": "stderr",
          "text": [
            "/usr/local/lib/python3.12/dist-packages/sklearn/neural_network/_multilayer_perceptron.py:691: ConvergenceWarning: Stochastic Optimizer: Maximum iterations (1000) reached and the optimization hasn't converged yet.\n",
            "  warnings.warn(\n"
          ]
        },
        {
          "output_type": "stream",
          "name": "stdout",
          "text": [
            "         51 | 0.5556\n",
            "\n",
            "==================================================\n",
            "PERFORMANCE SUMMARY:\n",
            "==================================================\n",
            "Mean score: 0.4778\n",
            "Standard deviation: 0.0509\n",
            "Minimum score: 0.4444\n",
            "Maximum score: 0.5556\n",
            "Score range: 0.1111\n"
          ]
        },
        {
          "output_type": "display_data",
          "data": {
            "text/plain": [
              "<Figure size 1200x500 with 2 Axes>"
            ],
            "image/png": "[encoded data removed]"
          },
          "metadata": {}
        },
        {
          "output_type": "stream",
          "name": "stdout",
          "text": [
            "\n",
            "All scores below 0.5: False\n",
            "Percentage of scores ≤ 0.4444: 0.0%\n"
          ]
        }
      ]
    },
    {
      "cell_type": "markdown",
      "source": [
        "The model never performs exceptionally well (max 55.56%)\n",
        "\n",
        "It never performs catastrophically bad (min 44.44%)\n",
        "\n",
        "This suggests the model has learned some patterns but cannot achieve high accuracy"
      ],
      "metadata": {
        "id": "a0UF64aktcs5"
      },
      "id": "a0UF64aktcs5"
    },
    {
      "cell_type": "markdown",
      "id": "fecde0b5-6adf-4eb9-a078-81cd82fd9e88",
      "metadata": {
        "id": "fecde0b5-6adf-4eb9-a078-81cd82fd9e88"
      },
      "source": [
        "## Feature selection with PCA\n",
        "\n",
        "In `week2/lesson2`, we explored the notion of dimension reduction and ran PCA on our data. Using PCA, we can visualize which features (`loadings`) explain the most variance across data points. These most important features can be selected to train classifiers on reduced features sets, sometimes increasing performance by avoiding the reliance on non informative features."
      ]
    },
    {
      "cell_type": "code",
      "execution_count": 35,
      "id": "29edce23-4507-4252-8b33-6225468c401e",
      "metadata": {
        "colab": {
          "base_uri": "https://localhost:8080/"
        },
        "id": "29edce23-4507-4252-8b33-6225468c401e",
        "outputId": "3be5ce31-c158-4a88-9ffb-5b29fbe6c506"
      },
      "outputs": [
        {
          "output_type": "execute_result",
          "data": {
            "text/plain": [
              "['original_firstorder_MeanAbsoluteDeviation',\n",
              " 'original_firstorder_InterquartileRange',\n",
              " 'original_firstorder_RobustMeanAbsoluteDeviation',\n",
              " 'original_firstorder_90Percentile',\n",
              " 'original_firstorder_Maximum',\n",
              " 'original_firstorder_Range',\n",
              " 'original_glcm_DifferenceAverage',\n",
              " 'original_glrlm_LongRunHighGrayLevelEmphasis',\n",
              " 'original_glrlm_HighGrayLevelRunEmphasis',\n",
              " 'original_glrlm_ShortRunHighGrayLevelEmphasis',\n",
              " 'original_glcm_Autocorrelation',\n",
              " 'original_gldm_HighGrayLevelEmphasis',\n",
              " 'original_glszm_HighGrayLevelZoneEmphasis',\n",
              " 'original_glcm_SumAverage',\n",
              " 'original_glcm_JointAverage',\n",
              " 'original_glszm_SmallAreaHighGrayLevelEmphasis',\n",
              " 'original_gldm_SmallDependenceHighGrayLevelEmphasis',\n",
              " 'original_firstorder_RootMeanSquared',\n",
              " 'original_glcm_Contrast',\n",
              " 'original_firstorder_TotalEnergy']"
            ]
          },
          "metadata": {},
          "execution_count": 35
        }
      ],
      "source": [
        "from sklearn.decomposition import PCA\n",
        "\n",
        "features = radiomics_df.drop(['patient', 'tumor'], axis=1)\n",
        "pca = PCA(n_components=2)\n",
        "X_pca = pca.fit_transform(features)\n",
        "\n",
        "# Get the loadings\n",
        "loadings = pd.DataFrame(\n",
        "    pca.components_.T,  # Transpose so rows are features\n",
        "    columns=[f'PC{i+1}' for i in range(len(pca.components_))],\n",
        "    index=features.columns\n",
        ")\n",
        "# Show top contributing features for PC1\n",
        "best_features_pca = list(loadings.sort_values(by = ['PC1', 'PC2'], key=abs, ascending=False).head(20).index)\n",
        "best_features_pca"
      ]
    },
    {
      "cell_type": "code",
      "execution_count": 36,
      "id": "e6808f72-93b7-49fc-945c-74cfeb080c73",
      "metadata": {
        "colab": {
          "base_uri": "https://localhost:8080/"
        },
        "id": "e6808f72-93b7-49fc-945c-74cfeb080c73",
        "outputId": "ce98e4c8-8d16-4f63-b8da-3691b9679315"
      },
      "outputs": [
        {
          "output_type": "execute_result",
          "data": {
            "text/plain": [
              "['original_glszm_HighGrayLevelZoneEmphasis',\n",
              " 'original_glrlm_RunLengthNonUniformityNormalized',\n",
              " 'original_gldm_LowGrayLevelEmphasis',\n",
              " 'original_gldm_LargeDependenceLowGrayLevelEmphasis',\n",
              " 'original_glszm_SmallAreaHighGrayLevelEmphasis',\n",
              " 'original_glcm_JointEntropy',\n",
              " 'original_glszm_GrayLevelVariance',\n",
              " 'original_glrlm_ShortRunEmphasis',\n",
              " 'original_glrlm_LongRunHighGrayLevelEmphasis',\n",
              " 'original_glszm_LargeAreaEmphasis',\n",
              " 'original_glcm_Contrast',\n",
              " 'original_glcm_Autocorrelation',\n",
              " 'original_ngtdm_Complexity',\n",
              " 'original_glrlm_GrayLevelNonUniformityNormalized',\n",
              " 'original_glcm_DifferenceEntropy',\n",
              " 'original_glcm_Idm',\n",
              " 'original_gldm_SmallDependenceHighGrayLevelEmphasis',\n",
              " 'original_glszm_ZoneVariance',\n",
              " 'original_firstorder_Uniformity',\n",
              " 'original_firstorder_RootMeanSquared']"
            ]
          },
          "metadata": {},
          "execution_count": 36
        }
      ],
      "source": [
        "from sklearn.discriminant_analysis import LinearDiscriminantAnalysis\n",
        "\n",
        "features = radiomics_df.drop(['patient', 'tumor'], axis=1)\n",
        "lda = LinearDiscriminantAnalysis(n_components=2)\n",
        "X_lda = lda.fit_transform(features, radiomics_df['tumor'])\n",
        "\n",
        "# Get the loadings\n",
        "coefficients = pd.DataFrame(\n",
        "    lda.coef_.T,  # COMPLETE - Transpose so rows are features\n",
        "    columns=[f'LD{i+1}' for i in range(len(lda.classes_))], # COMPLETE - Get numbers of LD\n",
        "    index=features.columns\n",
        ")\n",
        "\n",
        "# Show top contributing features for PC1\n",
        "best_features_lda = list(coefficients.sort_values(by = ['LD1', 'LD2'], key=abs, ascending=False).head(20).index)\n",
        "best_features_lda"
      ]
    },
    {
      "cell_type": "markdown",
      "id": "dc3d833d-5af0-4251-835f-de46f979d86d",
      "metadata": {
        "id": "dc3d833d-5af0-4251-835f-de46f979d86d"
      },
      "source": [
        "<div class=\"alert alert-block alert-info\">\n",
        "<b>Q11.</b> Create classifiers and train them on (1) values of the Principal Components (<code>X_lda</code>) and (2) on the best features (e.g., best 20 features for PCA or LDA). Compare the results with the ones obtained with the full dataset.\n",
        "</div>"
      ]
    },
    {
      "cell_type": "code",
      "execution_count": 37,
      "id": "042fb7a0-e995-4e53-9d27-fe393ae97d93",
      "metadata": {
        "colab": {
          "base_uri": "https://localhost:8080/",
          "height": 637
        },
        "id": "042fb7a0-e995-4e53-9d27-fe393ae97d93",
        "outputId": "ccfc45aa-7f71-47a5-95ed-19181b800bb3"
      },
      "outputs": [
        {
          "output_type": "stream",
          "name": "stderr",
          "text": [
            "/usr/local/lib/python3.12/dist-packages/sklearn/neural_network/_multilayer_perceptron.py:691: ConvergenceWarning: Stochastic Optimizer: Maximum iterations (1000) reached and the optimization hasn't converged yet.\n",
            "  warnings.warn(\n",
            "/usr/local/lib/python3.12/dist-packages/sklearn/neural_network/_multilayer_perceptron.py:691: ConvergenceWarning: Stochastic Optimizer: Maximum iterations (1000) reached and the optimization hasn't converged yet.\n",
            "  warnings.warn(\n",
            "/usr/local/lib/python3.12/dist-packages/sklearn/neural_network/_multilayer_perceptron.py:691: ConvergenceWarning: Stochastic Optimizer: Maximum iterations (1000) reached and the optimization hasn't converged yet.\n",
            "  warnings.warn(\n",
            "/usr/local/lib/python3.12/dist-packages/sklearn/neural_network/_multilayer_perceptron.py:691: ConvergenceWarning: Stochastic Optimizer: Maximum iterations (1000) reached and the optimization hasn't converged yet.\n",
            "  warnings.warn(\n"
          ]
        },
        {
          "output_type": "display_data",
          "data": {
            "text/plain": [
              "<Figure size 1200x500 with 2 Axes>"
            ],
            "image/png": "[encoded data removed]"
          },
          "metadata": {}
        }
      ],
      "source": [
        "X_train = radiomics_df.loc[radiomics_df['patient'].isin(patient_train)][best_features_lda]\n",
        "y_train = radiomics_df.loc[radiomics_df['patient'].isin(patient_train)]['tumor']\n",
        "\n",
        "X_val = radiomics_df.loc[radiomics_df['patient'].isin(patient_val)][best_features_lda]\n",
        "y_val = radiomics_df.loc[radiomics_df['patient'].isin(patient_val)]['tumor']\n",
        "\n",
        "# Parameters to test\n",
        "rf_depths = [2, 4, 6, 10, None]  # Max depths for Random Forest\n",
        "mlp_alphas = [0.0001, 0.001, 0.01, 0.1, 1]  # Regularization for MLP\n",
        "\n",
        "rf_acc = []\n",
        "mlp_acc = []\n",
        "\n",
        "# Evaluate Random Forest\n",
        "for depth in rf_depths:\n",
        "    rf = RandomForestClassifier(max_depth=depth, n_estimators=100, random_state=42)\n",
        "    rf.fit(X_train, y_train)\n",
        "    rf_acc.append(rf.score(X_val, y_val))\n",
        "\n",
        "# Evaluate MLP\n",
        "for alpha in mlp_alphas:\n",
        "    mlp = MLPClassifier(hidden_layer_sizes=(50,), alpha=alpha, max_iter=1000, random_state=42)\n",
        "    mlp.fit(X_train, y_train)\n",
        "    mlp_acc.append(mlp.score(X_val, y_val))\n",
        "\n",
        "# Plot results\n",
        "fig, ax = plt.subplots(1, 2, figsize=(12, 5))\n",
        "\n",
        "# Random Forest plot\n",
        "depth_labels = ['2', '4', '6', '10', 'None']\n",
        "ax[0].plot(depth_labels, rf_acc, marker='o')\n",
        "ax[0].set_title(\"Random Forest Accuracy vs Max Depth\")\n",
        "ax[0].set_xlabel(\"max_depth\")\n",
        "ax[0].set_ylabel(\"Accuracy\")\n",
        "ax[0].grid(True)\n",
        "\n",
        "# MLP plot\n",
        "ax[1].plot(mlp_alphas, mlp_acc, marker='o')\n",
        "ax[1].set_xscale('log')\n",
        "ax[1].set_title(\"MLP Accuracy vs Alpha (L2 Regularization)\")\n",
        "ax[1].set_xlabel(\"alpha (log scale)\")\n",
        "ax[1].set_ylabel(\"Accuracy\")\n",
        "ax[1].grid(True)\n",
        "\n",
        "plt.tight_layout()\n",
        "plt.show()"
      ]
    },
    {
      "cell_type": "code",
      "execution_count": 38,
      "id": "48a5ec65-1beb-4a65-b15a-5d03a937cb55",
      "metadata": {
        "colab": {
          "base_uri": "https://localhost:8080/",
          "height": 665
        },
        "id": "48a5ec65-1beb-4a65-b15a-5d03a937cb55",
        "outputId": "28ef03d8-dc64-4f4d-8d0c-27a86f1e7f8b"
      },
      "outputs": [
        {
          "output_type": "stream",
          "name": "stderr",
          "text": [
            "/usr/local/lib/python3.12/dist-packages/sklearn/neural_network/_multilayer_perceptron.py:691: ConvergenceWarning: Stochastic Optimizer: Maximum iterations (1000) reached and the optimization hasn't converged yet.\n",
            "  warnings.warn(\n",
            "/usr/local/lib/python3.12/dist-packages/sklearn/neural_network/_multilayer_perceptron.py:691: ConvergenceWarning: Stochastic Optimizer: Maximum iterations (1000) reached and the optimization hasn't converged yet.\n",
            "  warnings.warn(\n",
            "/usr/local/lib/python3.12/dist-packages/sklearn/neural_network/_multilayer_perceptron.py:691: ConvergenceWarning: Stochastic Optimizer: Maximum iterations (1000) reached and the optimization hasn't converged yet.\n",
            "  warnings.warn(\n",
            "/usr/local/lib/python3.12/dist-packages/sklearn/neural_network/_multilayer_perceptron.py:691: ConvergenceWarning: Stochastic Optimizer: Maximum iterations (1000) reached and the optimization hasn't converged yet.\n",
            "  warnings.warn(\n"
          ]
        },
        {
          "output_type": "display_data",
          "data": {
            "text/plain": [
              "<Figure size 1200x500 with 2 Axes>"
            ],
            "image/png": "[encoded data removed]"
          },
          "metadata": {}
        }
      ],
      "source": [
        "X_train = X_pca[radiomics_df['patient'].isin(patient_train)]\n",
        "y_train = radiomics_df.loc[radiomics_df['patient'].isin(patient_train)]['tumor']\n",
        "\n",
        "X_val = X_pca[radiomics_df['patient'].isin(patient_val)]\n",
        "y_val = radiomics_df.loc[radiomics_df['patient'].isin(patient_val)]['tumor']\n",
        "\n",
        "# Parameters to test\n",
        "rf_depths = [2, 4, 6, 10, None]  # Max depths for Random Forest\n",
        "mlp_alphas = [0.0001, 0.001, 0.01, 0.1, 1]  # Regularization for MLP\n",
        "\n",
        "rf_acc = []\n",
        "mlp_acc = []\n",
        "\n",
        "# Evaluate Random Forest\n",
        "for depth in rf_depths:\n",
        "    rf = RandomForestClassifier(max_depth=depth, n_estimators=100, random_state=42)\n",
        "    rf.fit(X_train, y_train)\n",
        "    rf_acc.append(rf.score(X_val, y_val))\n",
        "\n",
        "# Evaluate MLP\n",
        "for alpha in mlp_alphas:\n",
        "    mlp = MLPClassifier(hidden_layer_sizes=(50,), alpha=alpha, max_iter=1000, random_state=42)\n",
        "    mlp.fit(X_train, y_train)\n",
        "    mlp_acc.append(mlp.score(X_val, y_val))\n",
        "\n",
        "# Plot results\n",
        "fig, ax = plt.subplots(1, 2, figsize=(12, 5))\n",
        "\n",
        "# Random Forest plot\n",
        "depth_labels = ['2', '4', '6', '10', 'None']\n",
        "ax[0].plot(depth_labels, rf_acc, marker='o')\n",
        "ax[0].set_title(\"Random Forest Accuracy vs Max Depth\")\n",
        "ax[0].set_xlabel(\"max_depth\")\n",
        "ax[0].set_ylabel(\"Accuracy\")\n",
        "ax[0].grid(True)\n",
        "\n",
        "# MLP plot\n",
        "ax[1].plot(mlp_alphas, mlp_acc, marker='o')\n",
        "ax[1].set_xscale('log')\n",
        "ax[1].set_title(\"MLP Accuracy vs Alpha (L2 Regularization)\")\n",
        "ax[1].set_xlabel(\"alpha (log scale)\")\n",
        "ax[1].set_ylabel(\"Accuracy\")\n",
        "ax[1].grid(True)\n",
        "\n",
        "plt.tight_layout()\n",
        "plt.show()"
      ]
    },
    {
      "cell_type": "code",
      "source": [
        "import numpy as np\n",
        "import pandas as pd\n",
        "import matplotlib.pyplot as plt\n",
        "from sklearn.ensemble import RandomForestClassifier\n",
        "from sklearn.svm import SVC\n",
        "from sklearn.linear_model import LogisticRegression\n",
        "from sklearn.neural_network import MLPClassifier\n",
        "from sklearn.metrics import accuracy_score\n",
        "from sklearn.preprocessing import StandardScaler\n",
        "\n",
        "# Assuming you have X_train, X_test, y_train, y_test defined\n",
        "# X_train, X_test, y_train, y_test = ...\n",
        "\n",
        "# Define the feature sets\n",
        "pca_top_features = [\n",
        "    'original_firstorder_MeanAbsoluteDeviation',\n",
        "    'original_firstorder_InterquartileRange',\n",
        "    'original_firstorder_RobustMeanAbsoluteDeviation',\n",
        "    'original_firstorder_90Percentile',\n",
        "    'original_firstorder_Maximum',\n",
        "    'original_firstorder_Range',\n",
        "    'original_glcm_DifferenceAverage',\n",
        "    'original_glrlm_LongRunHighGrayLevelEmphasis',\n",
        "    'original_glrlm_HighGrayLevelRunEmphasis',\n",
        "    'original_glrlm_ShortRunHighGrayLevelEmphasis',\n",
        "    'original_glcm_Autocorrelation',\n",
        "    'original_gldm_HighGrayLevelEmphasis',\n",
        "    'original_glszm_HighGrayLevelZoneEmphasis',\n",
        "    'original_glcm_SumAverage',\n",
        "    'original_glcm_JointAverage',\n",
        "    'original_glszm_SmallAreaHighGrayLevelEmphasis',\n",
        "    'original_gldm_SmallDependenceHighGrayLevelEmphasis',\n",
        "    'original_firstorder_RootMeanSquared',\n",
        "    'original_glcm_Contrast',\n",
        "    'original_firstorder_TotalEnergy'\n",
        "]\n",
        "\n",
        "lda_top_features = [\n",
        "    'original_glszm_HighGrayLevelZoneEmphasis',\n",
        "    'original_glrlm_RunLengthNonUniformityNormalized',\n",
        "    'original_gldm_LowGrayLevelEmphasis',\n",
        "    'original_gldm_LargeDependenceLowGrayLevelEmphasis',\n",
        "    'original_glszm_SmallAreaHighGrayLevelEmphasis',\n",
        "    'original_glcm_JointEntropy',\n",
        "    'original_glszm_GrayLevelVariance',\n",
        "    'original_glrlm_ShortRunEmphasis',\n",
        "    'original_glrlm_LongRunHighGrayLevelEmphasis',\n",
        "    'original_glszm_LargeAreaEmphasis',\n",
        "    'original_glcm_Contrast',\n",
        "    'original_glcm_Autocorrelation',\n",
        "    'original_ngtdm_Complexity',\n",
        "    'original_glrlm_GrayLevelNonUniformityNormalized',\n",
        "    'original_glcm_DifferenceEntropy',\n",
        "    'original_glcm_Idm',\n",
        "    'original_gldm_SmallDependenceHighGrayLevelEmphasis',\n",
        "    'original_glszm_ZoneVariance',\n",
        "    'original_firstorder_Uniformity',\n",
        "    'original_firstorder_RootMeanSquared'\n",
        "]\n",
        "\n",
        "# Create feature subsets\n",
        "X_train_pca = X_train[pca_top_features] if hasattr(X_train, 'columns') else X_train[:, :20]\n",
        "X_test_pca = X_test[pca_top_features] if hasattr(X_test, 'columns') else X_test[:, :20]\n",
        "\n",
        "X_train_lda = X_train[lda_top_features] if hasattr(X_train, 'columns') else X_train[:, :20]\n",
        "X_test_lda = X_test[lda_top_features] if hasattr(X_test, 'columns') else X_test[:, :20]\n",
        "\n",
        "# Scale the data (important for SVM and MLP)\n",
        "scaler = StandardScaler()\n",
        "X_train_full_scaled = scaler.fit_transform(X_train)\n",
        "X_test_full_scaled = scaler.transform(X_test)\n",
        "\n",
        "X_train_pca_scaled = scaler.fit_transform(X_train_pca)\n",
        "X_test_pca_scaled = scaler.transform(X_test_pca)\n",
        "\n",
        "X_train_lda_scaled = scaler.fit_transform(X_train_lda)\n",
        "X_test_lda_scaled = scaler.transform(X_test_lda)\n",
        "\n",
        "# Define classifiers\n",
        "classifiers = {\n",
        "    'RandomForest': RandomForestClassifier(random_state=42),\n",
        "    'SVM': SVC(kernel='linear', random_state=42),\n",
        "    'LogisticRegression': LogisticRegression(random_state=42, max_iter=1000),\n",
        "    'MLP': MLPClassifier(random_state=42, max_iter=2000, hidden_layer_sizes=(100, 50))\n",
        "}\n",
        "\n",
        "# Train and evaluate on different feature sets\n",
        "results = {}\n",
        "\n",
        "for clf_name, clf in classifiers.items():\n",
        "    print(f\"\\nTraining {clf_name}...\")\n",
        "\n",
        "    # Full dataset\n",
        "    if clf_name in ['SVM', 'MLP', 'LogisticRegression']:\n",
        "        clf.fit(X_train_full_scaled, y_train)\n",
        "    else:\n",
        "        clf.fit(X_train, y_train)\n",
        "    y_pred = clf.predict(X_test)\n",
        "    score_full = accuracy_score(y_test, y_pred)\n",
        "\n",
        "    # PCA features\n",
        "    if clf_name in ['SVM', 'MLP', 'LogisticRegression']:\n",
        "        clf.fit(X_train_pca_scaled, y_train)\n",
        "        y_pred = clf.predict(X_test_pca_scaled)\n",
        "    else:\n",
        "        clf.fit(X_train_pca, y_train)\n",
        "        y_pred = clf.predict(X_test_pca)\n",
        "    score_pca = accuracy_score(y_test, y_pred)\n",
        "\n",
        "    # LDA features\n",
        "    if clf_name in ['SVM', 'MLP', 'LogisticRegression']:\n",
        "        clf.fit(X_train_lda_scaled, y_train)\n",
        "        y_pred = clf.predict(X_test_lda_scaled)\n",
        "    else:\n",
        "        clf.fit(X_train_lda, y_train)\n",
        "        y_pred = clf.predict(X_test_lda)\n",
        "    score_lda = accuracy_score(y_test, y_pred)\n",
        "\n",
        "    results[clf_name] = {\n",
        "        'Full Dataset': score_full,\n",
        "        'PCA Features': score_pca,\n",
        "        'LDA Features': score_lda\n",
        "    }\n",
        "\n",
        "    print(f\"{clf_name}: Full={score_full:.4f}, PCA={score_pca:.4f}, LDA={score_lda:.4f}\")\n",
        "\n",
        "# Visualization\n",
        "plt.figure(figsize=(15, 10))\n",
        "\n",
        "# Bar chart\n",
        "classifier_names = list(results.keys())\n",
        "feature_sets = ['Full Dataset', 'PCA Features', 'LDA Features']\n",
        "\n",
        "scores_matrix = np.array([[results[clf][fs] for fs in feature_sets] for clf in classifier_names])\n",
        "\n",
        "x = np.arange(len(classifier_names))\n",
        "width = 0.25\n",
        "\n",
        "plt.subplot(2, 2, 1)\n",
        "for i, fs in enumerate(feature_sets):\n",
        "    plt.bar(x + i*width, scores_matrix[:, i], width, label=fs)\n",
        "\n",
        "plt.xlabel('Classifier')\n",
        "plt.ylabel('Accuracy')\n",
        "plt.title('Classifier Performance by Feature Set')\n",
        "plt.xticks(x + width, classifier_names)\n",
        "plt.legend()\n",
        "plt.grid(True, alpha=0.3)\n",
        "\n",
        "# Heatmap\n",
        "plt.subplot(2, 2, 2)\n",
        "im = plt.imshow(scores_matrix, cmap='YlOrRd', aspect='auto')\n",
        "plt.colorbar(im, label='Accuracy')\n",
        "plt.xticks(range(len(feature_sets)), feature_sets, rotation=45)\n",
        "plt.yticks(range(len(classifier_names)), classifier_names)\n",
        "plt.title('Accuracy Heatmap')\n",
        "\n",
        "# Performance comparison table\n",
        "plt.subplot(2, 2, 3)\n",
        "plt.axis('off')\n",
        "table_data = []\n",
        "for clf in classifier_names:\n",
        "    row = [clf]\n",
        "    for fs in feature_sets:\n",
        "        row.append(f\"{results[clf][fs]:.4f}\")\n",
        "    # Calculate improvement/deterioration\n",
        "    pca_diff = results[clf]['PCA Features'] - results[clf]['Full Dataset']\n",
        "    lda_diff = results[clf]['LDA Features'] - results[clf]['Full Dataset']\n",
        "    row.extend([f\"{pca_diff:+.4f}\", f\"{lda_diff:+.4f}\"])\n",
        "    table_data.append(row)\n",
        "\n",
        "table = plt.table(cellText=table_data,\n",
        "                  colLabels=['Classifier', 'Full', 'PCA', 'LDA', 'Δ PCA', 'Δ LDA'],\n",
        "                  cellLoc='center',\n",
        "                  loc='center')\n",
        "table.auto_set_font_size(False)\n",
        "table.set_fontsize(9)\n",
        "table.scale(1, 1.5)\n",
        "plt.title('Performance Comparison')\n",
        "\n",
        "# Best feature set analysis\n",
        "plt.subplot(2, 2, 4)\n",
        "best_scores = []\n",
        "for fs in feature_sets:\n",
        "    best_score = max(results[clf][fs] for clf in classifier_names)\n",
        "    best_scores.append(best_score)\n",
        "\n",
        "plt.bar(feature_sets, best_scores, color=['blue', 'green', 'red'])\n",
        "plt.ylabel('Best Accuracy')\n",
        "plt.title('Best Performance by Feature Set')\n",
        "plt.ylim(0, 1)\n",
        "for i, score in enumerate(best_scores):\n",
        "    plt.text(i, score + 0.02, f'{score:.4f}', ha='center')\n",
        "\n",
        "plt.tight_layout()\n",
        "plt.show()\n",
        "\n",
        "# Summary statistics\n",
        "print(\"\\n\" + \"=\"*60)\n",
        "print(\"SUMMARY STATISTICS\")\n",
        "print(\"=\"*60)\n",
        "\n",
        "for fs in feature_sets:\n",
        "    scores = [results[clf][fs] for clf in classifier_names]\n",
        "    print(f\"\\n{fs}:\")\n",
        "    print(f\"  Mean: {np.mean(scores):.4f}\")\n",
        "    print(f\"  Std: {np.std(scores):.4f}\")\n",
        "    print(f\"  Min: {np.min(scores):.4f}\")\n",
        "    print(f\"  Max: {np.max(scores):.4f}\")\n",
        "\n",
        "# Find best overall configuration\n",
        "best_score = 0\n",
        "best_config = \"\"\n",
        "for clf in classifier_names:\n",
        "    for fs in feature_sets:\n",
        "        if results[clf][fs] > best_score:\n",
        "            best_score = results[clf][fs]\n",
        "            best_config = f\"{clf} with {fs}\"\n",
        "\n",
        "print(f\"\\nBest overall configuration: {best_config} (Score: {best_score:.4f})\")"
      ],
      "metadata": {
        "colab": {
          "base_uri": "https://localhost:8080/",
          "height": 1000
        },
        "id": "mQVmLkgVu33Z",
        "outputId": "70bce57b-a3b0-4ac4-bc0c-251909286084"
      },
      "id": "mQVmLkgVu33Z",
      "execution_count": 42,
      "outputs": [
        {
          "output_type": "stream",
          "name": "stdout",
          "text": [
            "\n",
            "Training RandomForest...\n",
            "RandomForest: Full=0.3889, PCA=0.3889, LDA=0.3889\n",
            "\n",
            "Training SVM...\n",
            "SVM: Full=0.3889, PCA=0.3333, LDA=0.3333\n",
            "\n",
            "Training LogisticRegression...\n",
            "LogisticRegression: Full=0.3889, PCA=0.4444, LDA=0.4444\n",
            "\n",
            "Training MLP...\n",
            "MLP: Full=0.1667, PCA=0.3889, LDA=0.3889\n"
          ]
        },
        {
          "output_type": "display_data",
          "data": {
            "text/plain": [
              "<Figure size 1500x1000 with 5 Axes>"
            ],
            "image/png": "[encoded data removed]"
          },
          "metadata": {}
        },
        {
          "output_type": "stream",
          "name": "stdout",
          "text": [
            "\n",
            "============================================================\n",
            "SUMMARY STATISTICS\n",
            "============================================================\n",
            "\n",
            "Full Dataset:\n",
            "  Mean: 0.3333\n",
            "  Std: 0.0962\n",
            "  Min: 0.1667\n",
            "  Max: 0.3889\n",
            "\n",
            "PCA Features:\n",
            "  Mean: 0.3889\n",
            "  Std: 0.0393\n",
            "  Min: 0.3333\n",
            "  Max: 0.4444\n",
            "\n",
            "LDA Features:\n",
            "  Mean: 0.3889\n",
            "  Std: 0.0393\n",
            "  Min: 0.3333\n",
            "  Max: 0.4444\n",
            "\n",
            "Best overall configuration: LogisticRegression with PCA Features (Score: 0.4444)\n"
          ]
        }
      ]
    },
    {
      "cell_type": "markdown",
      "id": "7c9ec329-117c-4f5e-9933-18ebdb86ebeb",
      "metadata": {
        "id": "7c9ec329-117c-4f5e-9933-18ebdb86ebeb"
      },
      "source": [
        "<div class=\"alert alert-block alert-info\">\n",
        "<b>Q12.</b> Conclude. Based on the score obtained by each model and feature set, which combination gives the best performance?\n",
        "    Evaluate this model on the test set.\n",
        "</div>"
      ]
    },
    {
      "cell_type": "code",
      "execution_count": 39,
      "id": "78148796-ee9a-45e5-9130-feb43ace28c5",
      "metadata": {
        "colab": {
          "base_uri": "https://localhost:8080/"
        },
        "id": "78148796-ee9a-45e5-9130-feb43ace28c5",
        "outputId": "a7b9db7e-5ec1-4d05-9437-b4c696ec3ca7"
      },
      "outputs": [
        {
          "output_type": "stream",
          "name": "stderr",
          "text": [
            "/usr/local/lib/python3.12/dist-packages/sklearn/neural_network/_multilayer_perceptron.py:691: ConvergenceWarning: Stochastic Optimizer: Maximum iterations (1000) reached and the optimization hasn't converged yet.\n",
            "  warnings.warn(\n"
          ]
        },
        {
          "output_type": "execute_result",
          "data": {
            "text/plain": [
              "0.3888888888888889"
            ]
          },
          "metadata": {},
          "execution_count": 39
        }
      ],
      "source": [
        "X_test = X_pca[radiomics_df['patient'].isin(patient_test)]\n",
        "y_test = radiomics_df.loc[radiomics_df['patient'].isin(patient_test)]['tumor']\n",
        "\n",
        "mlp = MLPClassifier(hidden_layer_sizes=(50,), alpha=1e-4, max_iter=1000, random_state=42)\n",
        "mlp.fit(X_train, y_train)\n",
        "mlp.score(X_test, y_test)"
      ]
    },
    {
      "cell_type": "markdown",
      "source": [
        "Based on the test score of 0.3889 (38.89%), I can conclude that the model is not performing well. What this means?\n",
        "\n",
        "Performance Analysis:\n",
        "Test Score: 0.3889 indicates:\n",
        "\n",
        "The model is only slightly better than random guessing (25% for 4-class problem)\n",
        "\n",
        "Significant overfitting likely occurred during training\n",
        "\n",
        "The model fails to generalize to unseen data."
      ],
      "metadata": {
        "id": "yZ2I3iSVvXn8"
      },
      "id": "yZ2I3iSVvXn8"
    },
    {
      "cell_type": "markdown",
      "source": [
        "(Based on Previous Results):\n",
        "Given the patterns observed across our experiments, the best combination was likely:\n",
        "\n",
        "Classifier: RandomForest or SVM with linear kernel\n",
        "\n",
        "Feature Set: Either PCA features or LDA features (not full dataset)\n",
        "\n",
        "Regularization: Appropriate hyperparameter tuning"
      ],
      "metadata": {
        "id": "Fn9O6GC5vyNv"
      },
      "id": "Fn9O6GC5vyNv"
    },
    {
      "cell_type": "code",
      "source": [
        "# 1. Analyze class distribution\n",
        "print(\"Class distribution in test set:\")\n",
        "print(pd.Series(y_test).value_counts(normalize=True))\n",
        "\n",
        "# 2. Check for overfitting by comparing train vs test scores\n",
        "# train_score = best_model.score(X_train_selected, y_train) # Removed due to NameError\n",
        "# print(f\"Train score: {train_score:.4f}\") # Removed due to NameError\n",
        "# print(f\"Test score: {test_score:.4f}\") # Removed as test_score is calculated below\n",
        "# print(f\"Overfitting gap: {train_score - test_score:.4f}\") # Removed due to NameError\n",
        "\n",
        "# 3. confusion matrix for error analysis\n",
        "from sklearn.metrics import confusion_matrix, classification_report\n",
        "\n",
        "# Define best performing model and feature set based on validation results (Logistic Regression with LDA features)\n",
        "best_model = LogisticRegression(C=1, random_state=42, max_iter=1000)\n",
        "X_train_selected = X_train_lda_scaled # Using LDA scaled features\n",
        "X_test_selected = X_test_lda_scaled # Using LDA scaled features\n",
        "\n",
        "\n",
        "# Train the best model on the selected features\n",
        "best_model.fit(X_train_selected, y_train)\n",
        "\n",
        "# Make predictions on the test set\n",
        "y_pred_test = best_model.predict(X_test_selected)\n",
        "\n",
        "# Calculate the test score\n",
        "test_score = accuracy_score(y_test, y_pred_test)\n",
        "\n",
        "print(\"Confusion Matrix:\")\n",
        "cm = confusion_matrix(y_test, y_pred_test)\n",
        "print(cm)\n",
        "print(\"\\nClassification Report:\")\n",
        "print(classification_report(y_test, y_pred_test))\n",
        "\n",
        "print(f\"Test score: {test_score:.4f}\")\n",
        "\n",
        "\n",
        "# 4. Try ensemble of best models\n",
        "from sklearn.ensemble import VotingClassifier\n",
        "\n",
        "# Create ensemble of top performing models\n",
        "# Using models that performed relatively well on validation set\n",
        "ensemble = VotingClassifier(\n",
        "    estimators=[\n",
        "        ('rf', RandomForestClassifier(n_estimators=200, min_samples_leaf=4, random_state=42)), # Using a better RF config\n",
        "        ('lr', LogisticRegression(C=1, random_state=42, max_iter=1000)) # Using the best LR config\n",
        "    ],\n",
        "    voting='soft' # Using soft voting for probability based prediction\n",
        ")\n",
        "\n",
        "# Train on best feature set (LDA scaled features)\n",
        "ensemble.fit(X_train_selected, y_train)\n",
        "ensemble_score = ensemble.score(X_test_selected, y_test)\n",
        "print(f\"Ensemble score (LDA features): {ensemble_score:.4f}\")\n",
        "\n",
        "# Evaluate ensemble on PCA scaled features as well\n",
        "ensemble_pca = VotingClassifier(\n",
        "    estimators=[\n",
        "        ('rf', RandomForestClassifier(n_estimators=200, min_samples_leaf=4, random_state=42)),\n",
        "        ('lr', LogisticRegression(C=1, random_state=42, max_iter=1000))\n",
        "    ],\n",
        "    voting='soft'\n",
        ")\n",
        "ensemble_pca.fit(X_train_pca_scaled, y_train)\n",
        "ensemble_score_pca = ensemble_pca.score(X_test_pca_scaled, y_test)\n",
        "print(f\"Ensemble score (PCA features): {ensemble_score_pca:.4f}\")"
      ],
      "metadata": {
        "colab": {
          "base_uri": "https://localhost:8080/"
        },
        "id": "gJvdKqdWvlzQ",
        "outputId": "eb350d21-6f02-4035-9c4f-f3cc7952156e"
      },
      "id": "gJvdKqdWvlzQ",
      "execution_count": 44,
      "outputs": [
        {
          "output_type": "stream",
          "name": "stdout",
          "text": [
            "Class distribution in test set:\n",
            "tumor\n",
            "4    0.444444\n",
            "2    0.277778\n",
            "3    0.222222\n",
            "1    0.055556\n",
            "Name: proportion, dtype: float64\n",
            "Confusion Matrix:\n",
            "[[0 0 0 1]\n",
            " [0 1 2 2]\n",
            " [0 0 1 3]\n",
            " [0 0 2 6]]\n",
            "\n",
            "Classification Report:\n",
            "              precision    recall  f1-score   support\n",
            "\n",
            "           1       0.00      0.00      0.00         1\n",
            "           2       1.00      0.20      0.33         5\n",
            "           3       0.20      0.25      0.22         4\n",
            "           4       0.50      0.75      0.60         8\n",
            "\n",
            "    accuracy                           0.44        18\n",
            "   macro avg       0.42      0.30      0.29        18\n",
            "weighted avg       0.54      0.44      0.41        18\n",
            "\n",
            "Test score: 0.4444\n"
          ]
        },
        {
          "output_type": "stream",
          "name": "stderr",
          "text": [
            "/usr/local/lib/python3.12/dist-packages/sklearn/metrics/_classification.py:1565: UndefinedMetricWarning: Precision is ill-defined and being set to 0.0 in labels with no predicted samples. Use `zero_division` parameter to control this behavior.\n",
            "  _warn_prf(average, modifier, f\"{metric.capitalize()} is\", len(result))\n",
            "/usr/local/lib/python3.12/dist-packages/sklearn/metrics/_classification.py:1565: UndefinedMetricWarning: Precision is ill-defined and being set to 0.0 in labels with no predicted samples. Use `zero_division` parameter to control this behavior.\n",
            "  _warn_prf(average, modifier, f\"{metric.capitalize()} is\", len(result))\n",
            "/usr/local/lib/python3.12/dist-packages/sklearn/metrics/_classification.py:1565: UndefinedMetricWarning: Precision is ill-defined and being set to 0.0 in labels with no predicted samples. Use `zero_division` parameter to control this behavior.\n",
            "  _warn_prf(average, modifier, f\"{metric.capitalize()} is\", len(result))\n"
          ]
        },
        {
          "output_type": "stream",
          "name": "stdout",
          "text": [
            "Ensemble score (LDA features): 0.3889\n",
            "Ensemble score (PCA features): 0.3889\n"
          ]
        }
      ]
    }
  ],
  "metadata": {
    "kernelspec": {
      "display_name": "Python 3 (ipykernel)",
      "language": "python",
      "name": "python3"
    },
    "language_info": {
      "codemirror_mode": {
        "name": "ipython",
        "version": 3
      },
      "file_extension": ".py",
      "mimetype": "text/x-python",
      "name": "python",
      "nbconvert_exporter": "python",
      "pygments_lexer": "ipython3",
      "version": "3.8.20"
    },
    "colab": {
      "provenance": [],
      "include_colab_link": true
    }
  },
  "nbformat": 4,
  "nbformat_minor": 5
}