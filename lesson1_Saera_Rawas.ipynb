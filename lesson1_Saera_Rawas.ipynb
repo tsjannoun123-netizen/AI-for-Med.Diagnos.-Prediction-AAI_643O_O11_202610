{
  "cells": [
    {
      "cell_type": "markdown",
      "id": "1599b657-3471-492d-81e6-c2550ac1694b",
      "metadata": {
        "id": "1599b657-3471-492d-81e6-c2550ac1694b"
      },
      "source": [
        "# Notebook for practical exercises | Week #2 Lesson #1\n",
        "\n",
        "## Introduction\n",
        "\n",
        "This notebook contains practical hands-on exercises for the lesson about *Data Collection and Cleaning Techniques*.\n",
        "\n",
        "After this session, you will know how to prepare a medical imaging dataset for training:\n",
        "* Import and read medical images using Python ;\n",
        "* Extract relevant radiomic features ;\n",
        "* Clean data: handle missing values, normalize features."
      ]
    },
    {
      "cell_type": "markdown",
      "id": "9f3b54f3-242c-4a24-abef-a02219530295",
      "metadata": {
        "id": "9f3b54f3-242c-4a24-abef-a02219530295"
      },
      "source": [
        "## Dataset\n",
        "\n",
        "In the following, we will use the [The Brain Resection Multimodal Imaging Database](https://www.cancerimagingarchive.net/collection/remind/) [1]. The Brain Resection Multimodal Imaging Database (ReMIND) contains pre- and intra-operative brain MRI collected on 114 consecutive patients who were surgically treated with image-guided tumor resection between 2018 and 2022.\n",
        "\n",
        "[1] Juvekar, P., Dorent, R., Kögl, F., Torio, E., Barr, C., Rigolo, L., Galvin, C., Jowkar, N., Kazi, A., Haouchine, N., Cheema, H., Navab, N., Pieper, S., Wells, W. M., Bi, W. L., Golby, A., Frisken, S., & Kapur, T. (2023). The Brain Resection Multimodal Imaging Database (ReMIND) (Version 1) [dataset]. The Cancer Imaging Archive. [https://doi.org/10.7937/3RAG-D070](https://doi.org/10.7937/3RAG-D070)"
      ]
    },
    {
      "cell_type": "code",
      "source": [
        "!git clone https://github.com/albarqounilab/AIM.git"
      ],
      "metadata": {
        "colab": {
          "base_uri": "https://localhost:8080/"
        },
        "id": "AJmXqjSI9fUN",
        "outputId": "60df1e81-7aed-425e-99b8-c53f9248cf60"
      },
      "id": "AJmXqjSI9fUN",
      "execution_count": 1,
      "outputs": [
        {
          "output_type": "stream",
          "name": "stdout",
          "text": [
            "Cloning into 'AIM'...\n",
            "remote: Enumerating objects: 860, done.\u001b[K\n",
            "remote: Counting objects: 100% (102/102), done.\u001b[K\n",
            "remote: Compressing objects: 100% (76/76), done.\u001b[K\n",
            "remote: Total 860 (delta 53), reused 72 (delta 26), pack-reused 758 (from 2)\u001b[K\n",
            "Receiving objects: 100% (860/860), 217.64 MiB | 24.86 MiB/s, done.\n",
            "Resolving deltas: 100% (214/214), done.\n",
            "Updating files: 100% (89/89), done.\n"
          ]
        }
      ]
    },
    {
      "cell_type": "code",
      "source": [
        "# install dependencies\n",
        "!pip install pydicom pynrrd SimpleITK pyradiomics -q"
      ],
      "metadata": {
        "id": "TWeNXrL_N2O9",
        "colab": {
          "base_uri": "https://localhost:8080/"
        },
        "outputId": "a4df452f-15c3-46b1-eb31-99f36acc8914"
      },
      "id": "TWeNXrL_N2O9",
      "execution_count": 2,
      "outputs": [
        {
          "output_type": "stream",
          "name": "stdout",
          "text": [
            "\u001b[2K     \u001b[90m━━━━━━━━━━━━━━━━━━━━━━━━━━━━━━━━━━━━━━━━\u001b[0m \u001b[32m34.5/34.5 MB\u001b[0m \u001b[31m24.5 MB/s\u001b[0m eta \u001b[36m0:00:00\u001b[0m\n",
            "\u001b[?25h  Installing build dependencies ... \u001b[?25l\u001b[?25hdone\n",
            "  Getting requirements to build wheel ... \u001b[?25l\u001b[?25hdone\n",
            "  Preparing metadata (pyproject.toml) ... \u001b[?25l\u001b[?25hdone\n",
            "\u001b[2K     \u001b[90m━━━━━━━━━━━━━━━━━━━━━━━━━━━━━━━━━━━━━━━━\u001b[0m \u001b[32m34.5/34.5 MB\u001b[0m \u001b[31m22.1 MB/s\u001b[0m eta \u001b[36m0:00:00\u001b[0m\n",
            "\u001b[?25h  Preparing metadata (setup.py) ... \u001b[?25l\u001b[?25hdone\n",
            "  Preparing metadata (setup.py) ... \u001b[?25l\u001b[?25hdone\n",
            "\u001b[2K   \u001b[90m━━━━━━━━━━━━━━━━━━━━━━━━━━━━━━━━━━━━━━━━\u001b[0m \u001b[32m2.4/2.4 MB\u001b[0m \u001b[31m91.8 MB/s\u001b[0m eta \u001b[36m0:00:00\u001b[0m\n",
            "\u001b[2K   \u001b[90m━━━━━━━━━━━━━━━━━━━━━━━━━━━━━━━━━━━━━━━━\u001b[0m \u001b[32m52.6/52.6 MB\u001b[0m \u001b[31m18.9 MB/s\u001b[0m eta \u001b[36m0:00:00\u001b[0m\n",
            "\u001b[2K   \u001b[90m━━━━━━━━━━━━━━━━━━━━━━━━━━━━━━━━━━━━━━━━\u001b[0m \u001b[32m119.7/119.7 kB\u001b[0m \u001b[31m13.1 MB/s\u001b[0m eta \u001b[36m0:00:00\u001b[0m\n",
            "\u001b[2K   \u001b[90m━━━━━━━━━━━━━━━━━━━━━━━━━━━━━━━━━━━━━━━━\u001b[0m \u001b[32m739.1/739.1 kB\u001b[0m \u001b[31m47.5 MB/s\u001b[0m eta \u001b[36m0:00:00\u001b[0m\n",
            "\u001b[?25h  Building wheel for pyradiomics (setup.py) ... \u001b[?25l\u001b[?25hdone\n",
            "  Building wheel for docopt (setup.py) ... \u001b[?25l\u001b[?25hdone\n"
          ]
        }
      ]
    },
    {
      "cell_type": "code",
      "execution_count": 5,
      "id": "89081eae-da53-477d-9041-78dcefa7af83",
      "metadata": {
        "id": "89081eae-da53-477d-9041-78dcefa7af83"
      },
      "outputs": [],
      "source": [
        "import pydicom\n",
        "import nrrd\n",
        "\n",
        "import SimpleITK as sitk\n",
        "import numpy as np\n",
        "import pandas as pd\n",
        "import matplotlib.pyplot as plt\n",
        "\n",
        "from sklearn import model_selection\n",
        "from glob import glob\n",
        "from radiomics import featureextractor\n",
        "\n",
        "import sys\n",
        "# Correct the path to the utils module based on the cloned AIM directory\n",
        "sys.path.append('/content/AIM')\n",
        "from utils.sitk_utils import load_dicom_series_to_3d_image, convert_np_to_sitk, reconstruct_mask_in_image_space"
      ]
    },
    {
      "cell_type": "markdown",
      "id": "7ea467b5-cc12-40fa-ba9a-318639516a2a",
      "metadata": {
        "id": "7ea467b5-cc12-40fa-ba9a-318639516a2a"
      },
      "source": [
        "### Download\n",
        "\n",
        "Run the following cells to download and unzip the dataset.\n",
        "\n",
        "<div class=\"alert alert-block alert-danger\">\n",
        "<b>Replace the <code>DATA_PATH</code> with the path where you want to store the data folder. By default, it will be stored at the root of this repository.</b> <br>\n",
        "<b>If you have already downloaded the dataset, comment the following cell by adding a <code>#</code> before the <code>!</code></b>\n",
        "</div>"
      ]
    },
    {
      "cell_type": "code",
      "execution_count": 8,
      "id": "5f79f694-1074-4253-bf0a-9a1e445467de",
      "metadata": {
        "id": "5f79f694-1074-4253-bf0a-9a1e445467de",
        "colab": {
          "base_uri": "https://localhost:8080/"
        },
        "outputId": "bdd678b4-7665-420e-b6d2-c2a85020a18e"
      },
      "outputs": [
        {
          "output_type": "stream",
          "name": "stdout",
          "text": [
            "  % Total    % Received % Xferd  Average Speed   Time    Time     Time  Current\n",
            "                                 Dload  Upload   Total   Spent    Left  Speed\n",
            "100 1730M  100 1730M    0     0  28.6M      0  0:01:00  0:01:00 --:--:-- 23.0M\n",
            "Archive:  /content/data.zip\n",
            "replace data/ReportsDATASET.csv? [y]es, [n]o, [A]ll, [N]one, [r]ename: N\n"
          ]
        }
      ],
      "source": [
        "DATA_PATH = '/content'\n",
        "!curl https://uni-bonn.sciebo.de/s/s1t8QUZ02MF1Qoh/download --output {DATA_PATH}/data.zip # to download the data\n",
        "!unzip {DATA_PATH}/data.zip # To unzip the folder"
      ]
    },
    {
      "cell_type": "markdown",
      "id": "762f0e08-4143-4fb9-a362-064d65fb6ab4",
      "metadata": {
        "id": "762f0e08-4143-4fb9-a362-064d65fb6ab4"
      },
      "source": [
        "### Metadata"
      ]
    },
    {
      "cell_type": "code",
      "execution_count": 9,
      "id": "5ca3710b-75ff-4cc1-a97a-6945c36120cc",
      "metadata": {
        "id": "5ca3710b-75ff-4cc1-a97a-6945c36120cc",
        "outputId": "762fbb09-f0fd-4d2e-9885-d7f3c6290e7d",
        "colab": {
          "base_uri": "https://localhost:8080/",
          "height": 310
        }
      },
      "outputs": [
        {
          "output_type": "execute_result",
          "data": {
            "text/plain": [
              "   Case Number  Age     Sex   Race     Ethnicity Laterality  \\\n",
              "0            1   41    Male  White  Not Hispanic      Right   \n",
              "1            2   22  Female  White  Not Hispanic      Right   \n",
              "2            3   30    Male  Asian  Not Hispanic       Left   \n",
              "3            4   23    Male  White      Hispanic       Left   \n",
              "4            5   27    Male  White  Not Hispanic      Right   \n",
              "\n",
              "  Previous Craniotomy     WHO Grade  \\\n",
              "0                  No             3   \n",
              "1                  No             2   \n",
              "2                  No             2   \n",
              "3                  No             1   \n",
              "4                  No  Not assigned   \n",
              "\n",
              "                                      Histopathology  \n",
              "0                                        Astrocytoma  \n",
              "1                                        Astrocytoma  \n",
              "2                                  Oligodendroglioma  \n",
              "3             Dysembryoplastic neuroepithelial tumor  \n",
              "4  Non-tumor epileptogenic brain parenchyma and g...  "
            ],
            "text/html": [
              "\n",
              "  <div id=\"df-5587befb-2770-436f-923d-21c31ee1eb80\" class=\"colab-df-container\">\n",
              "    <div>\n",
              "<style scoped>\n",
              "    .dataframe tbody tr th:only-of-type {\n",
              "        vertical-align: middle;\n",
              "    }\n",
              "\n",
              "    .dataframe tbody tr th {\n",
              "        vertical-align: top;\n",
              "    }\n",
              "\n",
              "    .dataframe thead th {\n",
              "        text-align: right;\n",
              "    }\n",
              "</style>\n",
              "<table border=\"1\" class=\"dataframe\">\n",
              "  <thead>\n",
              "    <tr style=\"text-align: right;\">\n",
              "      <th></th>\n",
              "      <th>Case Number</th>\n",
              "      <th>Age</th>\n",
              "      <th>Sex</th>\n",
              "      <th>Race</th>\n",
              "      <th>Ethnicity</th>\n",
              "      <th>Laterality</th>\n",
              "      <th>Previous Craniotomy</th>\n",
              "      <th>WHO Grade</th>\n",
              "      <th>Histopathology</th>\n",
              "    </tr>\n",
              "  </thead>\n",
              "  <tbody>\n",
              "    <tr>\n",
              "      <th>0</th>\n",
              "      <td>1</td>\n",
              "      <td>41</td>\n",
              "      <td>Male</td>\n",
              "      <td>White</td>\n",
              "      <td>Not Hispanic</td>\n",
              "      <td>Right</td>\n",
              "      <td>No</td>\n",
              "      <td>3</td>\n",
              "      <td>Astrocytoma</td>\n",
              "    </tr>\n",
              "    <tr>\n",
              "      <th>1</th>\n",
              "      <td>2</td>\n",
              "      <td>22</td>\n",
              "      <td>Female</td>\n",
              "      <td>White</td>\n",
              "      <td>Not Hispanic</td>\n",
              "      <td>Right</td>\n",
              "      <td>No</td>\n",
              "      <td>2</td>\n",
              "      <td>Astrocytoma</td>\n",
              "    </tr>\n",
              "    <tr>\n",
              "      <th>2</th>\n",
              "      <td>3</td>\n",
              "      <td>30</td>\n",
              "      <td>Male</td>\n",
              "      <td>Asian</td>\n",
              "      <td>Not Hispanic</td>\n",
              "      <td>Left</td>\n",
              "      <td>No</td>\n",
              "      <td>2</td>\n",
              "      <td>Oligodendroglioma</td>\n",
              "    </tr>\n",
              "    <tr>\n",
              "      <th>3</th>\n",
              "      <td>4</td>\n",
              "      <td>23</td>\n",
              "      <td>Male</td>\n",
              "      <td>White</td>\n",
              "      <td>Hispanic</td>\n",
              "      <td>Left</td>\n",
              "      <td>No</td>\n",
              "      <td>1</td>\n",
              "      <td>Dysembryoplastic neuroepithelial tumor</td>\n",
              "    </tr>\n",
              "    <tr>\n",
              "      <th>4</th>\n",
              "      <td>5</td>\n",
              "      <td>27</td>\n",
              "      <td>Male</td>\n",
              "      <td>White</td>\n",
              "      <td>Not Hispanic</td>\n",
              "      <td>Right</td>\n",
              "      <td>No</td>\n",
              "      <td>Not assigned</td>\n",
              "      <td>Non-tumor epileptogenic brain parenchyma and g...</td>\n",
              "    </tr>\n",
              "  </tbody>\n",
              "</table>\n",
              "</div>\n",
              "    <div class=\"colab-df-buttons\">\n",
              "\n",
              "  <div class=\"colab-df-container\">\n",
              "    <button class=\"colab-df-convert\" onclick=\"convertToInteractive('df-5587befb-2770-436f-923d-21c31ee1eb80')\"\n",
              "            title=\"Convert this dataframe to an interactive table.\"\n",
              "            style=\"display:none;\">\n",
              "\n",
              "  <svg xmlns=\"http://www.w3.org/2000/svg\" height=\"24px\" viewBox=\"0 -960 960 960\">\n",
              "    <path d=\"M120-120v-720h720v720H120Zm60-500h600v-160H180v160Zm220 220h160v-160H400v160Zm0 220h160v-160H400v160ZM180-400h160v-160H180v160Zm440 0h160v-160H620v160ZM180-180h160v-160H180v160Zm440 0h160v-160H620v160Z\"/>\n",
              "  </svg>\n",
              "    </button>\n",
              "\n",
              "  <style>\n",
              "    .colab-df-container {\n",
              "      display:flex;\n",
              "      gap: 12px;\n",
              "    }\n",
              "\n",
              "    .colab-df-convert {\n",
              "      background-color: #E8F0FE;\n",
              "      border: none;\n",
              "      border-radius: 50%;\n",
              "      cursor: pointer;\n",
              "      display: none;\n",
              "      fill: #1967D2;\n",
              "      height: 32px;\n",
              "      padding: 0 0 0 0;\n",
              "      width: 32px;\n",
              "    }\n",
              "\n",
              "    .colab-df-convert:hover {\n",
              "      background-color: #E2EBFA;\n",
              "      box-shadow: 0px 1px 2px rgba(60, 64, 67, 0.3), 0px 1px 3px 1px rgba(60, 64, 67, 0.15);\n",
              "      fill: #174EA6;\n",
              "    }\n",
              "\n",
              "    .colab-df-buttons div {\n",
              "      margin-bottom: 4px;\n",
              "    }\n",
              "\n",
              "    [theme=dark] .colab-df-convert {\n",
              "      background-color: #3B4455;\n",
              "      fill: #D2E3FC;\n",
              "    }\n",
              "\n",
              "    [theme=dark] .colab-df-convert:hover {\n",
              "      background-color: #434B5C;\n",
              "      box-shadow: 0px 1px 3px 1px rgba(0, 0, 0, 0.15);\n",
              "      filter: drop-shadow(0px 1px 2px rgba(0, 0, 0, 0.3));\n",
              "      fill: #FFFFFF;\n",
              "    }\n",
              "  </style>\n",
              "\n",
              "    <script>\n",
              "      const buttonEl =\n",
              "        document.querySelector('#df-5587befb-2770-436f-923d-21c31ee1eb80 button.colab-df-convert');\n",
              "      buttonEl.style.display =\n",
              "        google.colab.kernel.accessAllowed ? 'block' : 'none';\n",
              "\n",
              "      async function convertToInteractive(key) {\n",
              "        const element = document.querySelector('#df-5587befb-2770-436f-923d-21c31ee1eb80');\n",
              "        const dataTable =\n",
              "          await google.colab.kernel.invokeFunction('convertToInteractive',\n",
              "                                                    [key], {});\n",
              "        if (!dataTable) return;\n",
              "\n",
              "        const docLinkHtml = 'Like what you see? Visit the ' +\n",
              "          '<a target=\"_blank\" href=https://colab.research.google.com/notebooks/data_table.ipynb>data table notebook</a>'\n",
              "          + ' to learn more about interactive tables.';\n",
              "        element.innerHTML = '';\n",
              "        dataTable['output_type'] = 'display_data';\n",
              "        await google.colab.output.renderOutput(dataTable, element);\n",
              "        const docLink = document.createElement('div');\n",
              "        docLink.innerHTML = docLinkHtml;\n",
              "        element.appendChild(docLink);\n",
              "      }\n",
              "    </script>\n",
              "  </div>\n",
              "\n",
              "\n",
              "    <div id=\"df-ea59aa5b-8bf0-4e5c-b7b0-5c8ead8a15c3\">\n",
              "      <button class=\"colab-df-quickchart\" onclick=\"quickchart('df-ea59aa5b-8bf0-4e5c-b7b0-5c8ead8a15c3')\"\n",
              "                title=\"Suggest charts\"\n",
              "                style=\"display:none;\">\n",
              "\n",
              "<svg xmlns=\"http://www.w3.org/2000/svg\" height=\"24px\"viewBox=\"0 0 24 24\"\n",
              "     width=\"24px\">\n",
              "    <g>\n",
              "        <path d=\"M19 3H5c-1.1 0-2 .9-2 2v14c0 1.1.9 2 2 2h14c1.1 0 2-.9 2-2V5c0-1.1-.9-2-2-2zM9 17H7v-7h2v7zm4 0h-2V7h2v10zm4 0h-2v-4h2v4z\"/>\n",
              "    </g>\n",
              "</svg>\n",
              "      </button>\n",
              "\n",
              "<style>\n",
              "  .colab-df-quickchart {\n",
              "      --bg-color: #E8F0FE;\n",
              "      --fill-color: #1967D2;\n",
              "      --hover-bg-color: #E2EBFA;\n",
              "      --hover-fill-color: #174EA6;\n",
              "      --disabled-fill-color: #AAA;\n",
              "      --disabled-bg-color: #DDD;\n",
              "  }\n",
              "\n",
              "  [theme=dark] .colab-df-quickchart {\n",
              "      --bg-color: #3B4455;\n",
              "      --fill-color: #D2E3FC;\n",
              "      --hover-bg-color: #434B5C;\n",
              "      --hover-fill-color: #FFFFFF;\n",
              "      --disabled-bg-color: #3B4455;\n",
              "      --disabled-fill-color: #666;\n",
              "  }\n",
              "\n",
              "  .colab-df-quickchart {\n",
              "    background-color: var(--bg-color);\n",
              "    border: none;\n",
              "    border-radius: 50%;\n",
              "    cursor: pointer;\n",
              "    display: none;\n",
              "    fill: var(--fill-color);\n",
              "    height: 32px;\n",
              "    padding: 0;\n",
              "    width: 32px;\n",
              "  }\n",
              "\n",
              "  .colab-df-quickchart:hover {\n",
              "    background-color: var(--hover-bg-color);\n",
              "    box-shadow: 0 1px 2px rgba(60, 64, 67, 0.3), 0 1px 3px 1px rgba(60, 64, 67, 0.15);\n",
              "    fill: var(--button-hover-fill-color);\n",
              "  }\n",
              "\n",
              "  .colab-df-quickchart-complete:disabled,\n",
              "  .colab-df-quickchart-complete:disabled:hover {\n",
              "    background-color: var(--disabled-bg-color);\n",
              "    fill: var(--disabled-fill-color);\n",
              "    box-shadow: none;\n",
              "  }\n",
              "\n",
              "  .colab-df-spinner {\n",
              "    border: 2px solid var(--fill-color);\n",
              "    border-color: transparent;\n",
              "    border-bottom-color: var(--fill-color);\n",
              "    animation:\n",
              "      spin 1s steps(1) infinite;\n",
              "  }\n",
              "\n",
              "  @keyframes spin {\n",
              "    0% {\n",
              "      border-color: transparent;\n",
              "      border-bottom-color: var(--fill-color);\n",
              "      border-left-color: var(--fill-color);\n",
              "    }\n",
              "    20% {\n",
              "      border-color: transparent;\n",
              "      border-left-color: var(--fill-color);\n",
              "      border-top-color: var(--fill-color);\n",
              "    }\n",
              "    30% {\n",
              "      border-color: transparent;\n",
              "      border-left-color: var(--fill-color);\n",
              "      border-top-color: var(--fill-color);\n",
              "      border-right-color: var(--fill-color);\n",
              "    }\n",
              "    40% {\n",
              "      border-color: transparent;\n",
              "      border-right-color: var(--fill-color);\n",
              "      border-top-color: var(--fill-color);\n",
              "    }\n",
              "    60% {\n",
              "      border-color: transparent;\n",
              "      border-right-color: var(--fill-color);\n",
              "    }\n",
              "    80% {\n",
              "      border-color: transparent;\n",
              "      border-right-color: var(--fill-color);\n",
              "      border-bottom-color: var(--fill-color);\n",
              "    }\n",
              "    90% {\n",
              "      border-color: transparent;\n",
              "      border-bottom-color: var(--fill-color);\n",
              "    }\n",
              "  }\n",
              "</style>\n",
              "\n",
              "      <script>\n",
              "        async function quickchart(key) {\n",
              "          const quickchartButtonEl =\n",
              "            document.querySelector('#' + key + ' button');\n",
              "          quickchartButtonEl.disabled = true;  // To prevent multiple clicks.\n",
              "          quickchartButtonEl.classList.add('colab-df-spinner');\n",
              "          try {\n",
              "            const charts = await google.colab.kernel.invokeFunction(\n",
              "                'suggestCharts', [key], {});\n",
              "          } catch (error) {\n",
              "            console.error('Error during call to suggestCharts:', error);\n",
              "          }\n",
              "          quickchartButtonEl.classList.remove('colab-df-spinner');\n",
              "          quickchartButtonEl.classList.add('colab-df-quickchart-complete');\n",
              "        }\n",
              "        (() => {\n",
              "          let quickchartButtonEl =\n",
              "            document.querySelector('#df-ea59aa5b-8bf0-4e5c-b7b0-5c8ead8a15c3 button');\n",
              "          quickchartButtonEl.style.display =\n",
              "            google.colab.kernel.accessAllowed ? 'block' : 'none';\n",
              "        })();\n",
              "      </script>\n",
              "    </div>\n",
              "\n",
              "    </div>\n",
              "  </div>\n"
            ],
            "application/vnd.google.colaboratory.intrinsic+json": {
              "type": "dataframe",
              "variable_name": "clinical_df",
              "summary": "{\n  \"name\": \"clinical_df\",\n  \"rows\": 114,\n  \"fields\": [\n    {\n      \"column\": \"Case Number\",\n      \"properties\": {\n        \"dtype\": \"number\",\n        \"std\": 33,\n        \"min\": 1,\n        \"max\": 114,\n        \"num_unique_values\": 114,\n        \"samples\": [\n          81,\n          5,\n          41\n        ],\n        \"semantic_type\": \"\",\n        \"description\": \"\"\n      }\n    },\n    {\n      \"column\": \"Age\",\n      \"properties\": {\n        \"dtype\": \"number\",\n        \"std\": 14,\n        \"min\": 20,\n        \"max\": 76,\n        \"num_unique_values\": 48,\n        \"samples\": [\n          65,\n          72,\n          40\n        ],\n        \"semantic_type\": \"\",\n        \"description\": \"\"\n      }\n    },\n    {\n      \"column\": \"Sex\",\n      \"properties\": {\n        \"dtype\": \"category\",\n        \"num_unique_values\": 2,\n        \"samples\": [\n          \"Female\",\n          \"Male\"\n        ],\n        \"semantic_type\": \"\",\n        \"description\": \"\"\n      }\n    },\n    {\n      \"column\": \"Race\",\n      \"properties\": {\n        \"dtype\": \"category\",\n        \"num_unique_values\": 4,\n        \"samples\": [\n          \"Asian\",\n          \"Other\"\n        ],\n        \"semantic_type\": \"\",\n        \"description\": \"\"\n      }\n    },\n    {\n      \"column\": \"Ethnicity\",\n      \"properties\": {\n        \"dtype\": \"category\",\n        \"num_unique_values\": 3,\n        \"samples\": [\n          \"Not Hispanic\",\n          \"Hispanic\"\n        ],\n        \"semantic_type\": \"\",\n        \"description\": \"\"\n      }\n    },\n    {\n      \"column\": \"Laterality\",\n      \"properties\": {\n        \"dtype\": \"category\",\n        \"num_unique_values\": 2,\n        \"samples\": [\n          \"Left\",\n          \"Right\"\n        ],\n        \"semantic_type\": \"\",\n        \"description\": \"\"\n      }\n    },\n    {\n      \"column\": \"Previous Craniotomy\",\n      \"properties\": {\n        \"dtype\": \"category\",\n        \"num_unique_values\": 2,\n        \"samples\": [\n          \"Yes\",\n          \"No\"\n        ],\n        \"semantic_type\": \"\",\n        \"description\": \"\"\n      }\n    },\n    {\n      \"column\": \"WHO Grade\",\n      \"properties\": {\n        \"dtype\": \"category\",\n        \"num_unique_values\": 5,\n        \"samples\": [\n          \"2\",\n          \"4\"\n        ],\n        \"semantic_type\": \"\",\n        \"description\": \"\"\n      }\n    },\n    {\n      \"column\": \"Histopathology\",\n      \"properties\": {\n        \"dtype\": \"category\",\n        \"num_unique_values\": 27,\n        \"samples\": [\n          \"Atypical meningioma\",\n          \"Glial fibroma\"\n        ],\n        \"semantic_type\": \"\",\n        \"description\": \"\"\n      }\n    }\n  ]\n}"
            }
          },
          "metadata": {},
          "execution_count": 9
        }
      ],
      "source": [
        "# Load and observe available data\n",
        "clinical_df = pd.read_csv(f'{DATA_PATH}/data/ReMIND/ReMIND_metadata.csv')\n",
        "clinical_df.head() # Print the 5 fist rows of the dataframe"
      ]
    },
    {
      "cell_type": "code",
      "execution_count": 10,
      "id": "e09e9ba0-de68-4035-bd6d-891ea65ac819",
      "metadata": {
        "id": "e09e9ba0-de68-4035-bd6d-891ea65ac819",
        "outputId": "51952b9a-7a33-4c91-dd77-20bfa97ce18d",
        "colab": {
          "base_uri": "https://localhost:8080/"
        }
      },
      "outputs": [
        {
          "output_type": "execute_result",
          "data": {
            "text/plain": [
              "Index(['Case Number', 'Age', 'Sex', 'Race', 'Ethnicity', 'Laterality',\n",
              "       'Previous Craniotomy', 'WHO Grade', 'Histopathology'],\n",
              "      dtype='object')"
            ]
          },
          "metadata": {},
          "execution_count": 10
        }
      ],
      "source": [
        "# Observe variables\n",
        "clinical_df.columns"
      ]
    },
    {
      "cell_type": "markdown",
      "id": "208505ac-da5d-418f-b02a-7cb1286230de",
      "metadata": {
        "id": "208505ac-da5d-418f-b02a-7cb1286230de"
      },
      "source": [
        "We aim to train a model using pre-operative brain MRI scans to classify tumor grade (column **WHO Grade**). To do so, we need to make sure that the features we will be using are correct."
      ]
    },
    {
      "cell_type": "markdown",
      "id": "7d07c3d1-6079-41ab-ac81-bd4d94375336",
      "metadata": {
        "id": "7d07c3d1-6079-41ab-ac81-bd4d94375336"
      },
      "source": [
        "<div class=\"alert alert-block alert-info\">\n",
        "<b>Q1.</b> Observe the unique values in column <b>WHO Grade</b>, and identify issues that should be corrected.\n",
        "</div>\n"
      ]
    },
    {
      "cell_type": "code",
      "execution_count": 11,
      "id": "e6f3f62d-4be0-4bc4-a4c6-c0ef6398d408",
      "metadata": {
        "id": "e6f3f62d-4be0-4bc4-a4c6-c0ef6398d408",
        "outputId": "81ab877d-d164-4433-d833-8a9514fb06f7",
        "colab": {
          "base_uri": "https://localhost:8080/"
        }
      },
      "outputs": [
        {
          "output_type": "execute_result",
          "data": {
            "text/plain": [
              "array(['3', '2', '1', 'Not assigned', '4'], dtype=object)"
            ]
          },
          "metadata": {},
          "execution_count": 11
        }
      ],
      "source": [
        "clinical_df['WHO Grade'].unique() # To observe the different labels in this column"
      ]
    },
    {
      "cell_type": "markdown",
      "source": [
        "The column WHO Grade contains \"Not Assigned\", ane we need to remove it."
      ],
      "metadata": {
        "id": "gNLThsKwANwR"
      },
      "id": "gNLThsKwANwR"
    },
    {
      "cell_type": "markdown",
      "id": "ee065a5e-5e35-413d-a3ba-c174c591d59e",
      "metadata": {
        "id": "ee065a5e-5e35-413d-a3ba-c174c591d59e"
      },
      "source": [
        "The column contains `Not assigned` values. We need to drop the corresponding samples."
      ]
    },
    {
      "cell_type": "code",
      "execution_count": 13,
      "id": "e8c9a527-429e-452f-b111-e806835c08d9",
      "metadata": {
        "id": "e8c9a527-429e-452f-b111-e806835c08d9"
      },
      "outputs": [],
      "source": [
        "clinical_df = clinical_df.loc[clinical_df['WHO Grade']!='Not assigned'] # COMPLETE with the label to remove"
      ]
    },
    {
      "cell_type": "code",
      "execution_count": 14,
      "id": "edf8faa4-0f10-45a1-bd4b-977e0f6b966c",
      "metadata": {
        "id": "edf8faa4-0f10-45a1-bd4b-977e0f6b966c",
        "outputId": "893e1075-8377-48cb-ed1e-cf03b3b9566a",
        "colab": {
          "base_uri": "https://localhost:8080/"
        }
      },
      "outputs": [
        {
          "output_type": "execute_result",
          "data": {
            "text/plain": [
              "array(['3', '2', '1', '4'], dtype=object)"
            ]
          },
          "metadata": {},
          "execution_count": 14
        }
      ],
      "source": [
        "clinical_df['WHO Grade'].unique() # No more missing values"
      ]
    },
    {
      "cell_type": "markdown",
      "id": "365c7c21-83e9-475a-978d-2f2b12a31859",
      "metadata": {
        "id": "365c7c21-83e9-475a-978d-2f2b12a31859"
      },
      "source": [
        "### Images"
      ]
    },
    {
      "cell_type": "markdown",
      "id": "cb7c231b-d4ee-4145-9769-7592354e4a95",
      "metadata": {
        "id": "cb7c231b-d4ee-4145-9769-7592354e4a95"
      },
      "source": [
        "Now that we have a dataframe containing only samples that can be used for the classification, we need to find the corresponding image.\n",
        "The column **Case Number** (sometimes also called **ID** in standard dataframes) provides a unique identifier for each patient. Now, our goal will be to link the images to their corresponding rows in the dataframes."
      ]
    },
    {
      "cell_type": "code",
      "execution_count": 15,
      "id": "67465ad8-d7d9-4455-ad66-d5670bd017a8",
      "metadata": {
        "id": "67465ad8-d7d9-4455-ad66-d5670bd017a8",
        "outputId": "9264ad40-67bd-486c-9b4c-ee804a708472",
        "colab": {
          "base_uri": "https://localhost:8080/"
        }
      },
      "outputs": [
        {
          "output_type": "execute_result",
          "data": {
            "text/plain": [
              "['/content/data/ReMIND/LICENSE',\n",
              " '/content/data/ReMIND/ReMIND_metadata.csv',\n",
              " '/content/data/ReMIND/sub-001',\n",
              " '/content/data/ReMIND/sub-002',\n",
              " '/content/data/ReMIND/sub-003']"
            ]
          },
          "metadata": {},
          "execution_count": 15
        }
      ],
      "source": [
        "sorted(glob(f'{DATA_PATH}/data/ReMIND/*'))[0:5] # This command looks for folders within the dataset and displays the 5 first"
      ]
    },
    {
      "cell_type": "markdown",
      "id": "cb806b20-96e4-414d-a2a5-d4f2982ff162",
      "metadata": {
        "id": "cb806b20-96e4-414d-a2a5-d4f2982ff162"
      },
      "source": [
        "In the dataset, each folder is named **ReMIND-XXX**, which **XXX** representing the corresponding patient ID. Now, we will explore the content of a patient folder.\n",
        "\n",
        "Folders are organized in the following way:\n",
        "```bash\n",
        "sub-001/                     # Subject-level folder          \n",
        "└── anat/                    # Structural MRI\n",
        "    └── T1w/                 # T1w sequence\n",
        "        ├── 1-001.dcm        # Images in DICOM format\n",
        "        ├── 1-002.dcm\n",
        "        ├── 1-003.dcm\n",
        "        └── ...\n",
        "└── seg/\n",
        "```"
      ]
    },
    {
      "cell_type": "markdown",
      "id": "c5380b0e-9222-48fa-97fd-ddeb6b2e0520",
      "metadata": {
        "id": "c5380b0e-9222-48fa-97fd-ddeb6b2e0520"
      },
      "source": [
        "In the following, we will focus on pre-operative T1 gadolinium enhanced MRI, which can be used to identify and locate tumors.\n",
        "The images are located in a folder containing the label **3DAXT1postcontrast** for each patient.\n",
        "\n",
        "Now, let's verify if we have an image for each patient in our dataframe."
      ]
    },
    {
      "cell_type": "code",
      "execution_count": 16,
      "id": "2c5756f0-4992-431a-9380-384f857decdc",
      "metadata": {
        "id": "2c5756f0-4992-431a-9380-384f857decdc",
        "outputId": "e1a57e9f-eb62-42ed-c5ae-5e6df70ca504",
        "colab": {
          "base_uri": "https://localhost:8080/"
        }
      },
      "outputs": [
        {
          "output_type": "stream",
          "name": "stdout",
          "text": [
            "No T1w image for patient n. 012\n",
            "No T1w image for patient n. 032\n",
            "No T1w image for patient n. 033\n",
            "No T1w image for patient n. 040\n",
            "No T1w image for patient n. 065\n",
            "No T1w image for patient n. 087\n",
            "No T1w image for patient n. 091\n",
            "No T1w image for patient n. 096\n"
          ]
        }
      ],
      "source": [
        "for patient in clinical_df['Case Number']:\n",
        "    idx = str(patient).zfill(3)\n",
        "\n",
        "    if len(glob(f'{DATA_PATH}/data/ReMIND/sub-{idx}/anat/T1w')) == 0:\n",
        "        print('No T1w image for patient n.', idx)"
      ]
    },
    {
      "cell_type": "markdown",
      "id": "74b68aac-6a95-498b-8d6e-e98f564efcee",
      "metadata": {
        "id": "74b68aac-6a95-498b-8d6e-e98f564efcee"
      },
      "source": [
        "Eight patients do not have pre-operative T1w images. We will thus have to remove them from the list when computing the features.\n",
        "\n",
        "Now, we will explore the structure of a DICOM file, and how we can read it with Python."
      ]
    },
    {
      "cell_type": "code",
      "execution_count": 17,
      "id": "f2267896-395d-432e-b2c4-62a87518d357",
      "metadata": {
        "id": "f2267896-395d-432e-b2c4-62a87518d357"
      },
      "outputs": [],
      "source": [
        "t1w_file = glob(f'{DATA_PATH}/data/ReMIND/sub-001/anat/T1w/1-080.dcm')[0]\n",
        "image = pydicom.dcmread(t1w_file)"
      ]
    },
    {
      "cell_type": "markdown",
      "id": "92656dae-99bf-4bae-968e-ba6432a82380",
      "metadata": {
        "id": "92656dae-99bf-4bae-968e-ba6432a82380"
      },
      "source": [
        "The dcmread function from the pydicom library allows to read DICOM files and store their content in a Python object. Let's explore its different attributes."
      ]
    },
    {
      "cell_type": "code",
      "execution_count": 18,
      "id": "77bbdfd8-928d-45d1-b259-e716e2592551",
      "metadata": {
        "scrolled": true,
        "id": "77bbdfd8-928d-45d1-b259-e716e2592551",
        "outputId": "83b8063c-67dd-4572-e96a-296d053c4994",
        "colab": {
          "base_uri": "https://localhost:8080/"
        }
      },
      "outputs": [
        {
          "output_type": "execute_result",
          "data": {
            "text/plain": [
              "Dataset.file_meta -------------------------------\n",
              "(0002,0000) File Meta Information Group Length  UL: 204\n",
              "(0002,0001) File Meta Information Version       OB: b'\\x00\\x01'\n",
              "(0002,0002) Media Storage SOP Class UID         UI: MR Image Storage\n",
              "(0002,0003) Media Storage SOP Instance UID      UI: 1.3.6.1.4.1.14519.5.2.1.241234373646560912433565108058941598584\n",
              "(0002,0010) Transfer Syntax UID                 UI: Implicit VR Little Endian\n",
              "(0002,0012) Implementation Class UID            UI: 1.3.6.1.4.1.22213.1.143\n",
              "(0002,0013) Implementation Version Name         SH: '0.5'\n",
              "(0002,0016) Source Application Entity Title     AE: 'POSDA'\n",
              "-------------------------------------------------\n",
              "(0008,0005) Specific Character Set              CS: 'ISO_IR 100'\n",
              "(0008,0008) Image Type                          CS: ['ORIGINAL', 'PRIMARY', 'MPR']\n",
              "(0008,0016) SOP Class UID                       UI: MR Image Storage\n",
              "(0008,0018) SOP Instance UID                    UI: 1.3.6.1.4.1.14519.5.2.1.241234373646560912433565108058941598584\n",
              "(0008,0020) Study Date                          DA: '19821225'\n",
              "(0008,0021) Series Date                         DA: '20070308'\n",
              "(0008,0023) Content Date                        DA: '20070308'\n",
              "(0008,0030) Study Time                          TM: '171026'\n",
              "(0008,0031) Series Time                         TM: '171026'\n",
              "(0008,0033) Content Time                        TM: '171026'\n",
              "(0008,0050) Accession Number                    SH: ''\n",
              "(0008,0060) Modality                            CS: 'MR'\n",
              "(0008,0070) Manufacturer                        LO: 'Unknown manufacturer'\n",
              "(0008,0090) Referring Physician's Name          PN: ''\n",
              "(0008,1030) Study Description                   LO: 'Preop'\n",
              "(0008,103E) Series Description                  LO: '3D_AX_T1_postcontrast'\n",
              "(0008,1090) Manufacturer's Model Name           LO: 'Unknown model'\n",
              "(0010,0010) Patient's Name                      PN: 'ReMIND-001'\n",
              "(0010,0020) Patient ID                          LO: 'ReMIND-001'\n",
              "(0010,0030) Patient's Birth Date                DA: ''\n",
              "(0010,0040) Patient's Sex                       CS: ''\n",
              "(0012,0062) Patient Identity Removed            CS: 'YES'\n",
              "(0012,0063) De-identification Method            LO: ['PyDeface-NiftyReg', 'Per DICOM PS 3.15 AnnexE. Details in 0012,0064']\n",
              "(0012,0064)  De-identification Method Code Sequence  8 item(s) ---- \n",
              "   (0008,0100) Code Value                          SH: '113100'\n",
              "   (0008,0102) Coding Scheme Designator            SH: 'DCM'\n",
              "   (0008,0104) Code Meaning                        LO: 'Basic Application Confidentiality Profile'\n",
              "   ---------\n",
              "   (0008,0100) Code Value                          SH: '113101'\n",
              "   (0008,0102) Coding Scheme Designator            SH: 'DCM'\n",
              "   (0008,0104) Code Meaning                        LO: 'Clean Pixel Data Option'\n",
              "   ---------\n",
              "   (0008,0100) Code Value                          SH: '113104'\n",
              "   (0008,0102) Coding Scheme Designator            SH: 'DCM'\n",
              "   (0008,0104) Code Meaning                        LO: 'Clean Structured Content Option'\n",
              "   ---------\n",
              "   (0008,0100) Code Value                          SH: '113105'\n",
              "   (0008,0102) Coding Scheme Designator            SH: 'DCM'\n",
              "   (0008,0104) Code Meaning                        LO: 'Clean Descriptors Option'\n",
              "   ---------\n",
              "   (0008,0100) Code Value                          SH: '113107'\n",
              "   (0008,0102) Coding Scheme Designator            SH: 'DCM'\n",
              "   (0008,0104) Code Meaning                        LO: 'Retain Longitudinal Temporal Information Modified Dates Option'\n",
              "   ---------\n",
              "   (0008,0100) Code Value                          SH: '113108'\n",
              "   (0008,0102) Coding Scheme Designator            SH: 'DCM'\n",
              "   (0008,0104) Code Meaning                        LO: 'Retain Patient Characteristics Option'\n",
              "   ---------\n",
              "   (0008,0100) Code Value                          SH: '113109'\n",
              "   (0008,0102) Coding Scheme Designator            SH: 'DCM'\n",
              "   (0008,0104) Code Meaning                        LO: 'Retain Device Identity Option'\n",
              "   ---------\n",
              "   (0008,0100) Code Value                          SH: '113111'\n",
              "   (0008,0102) Coding Scheme Designator            SH: 'DCM'\n",
              "   (0008,0104) Code Meaning                        LO: 'Retain Safe Private Option'\n",
              "   ---------\n",
              "(0013,0010) Private Creator                     LO: 'CTP'\n",
              "(0013,1010) Private tag data                    UN: b'ReMIND'\n",
              "(0013,1013) Private tag data                    UN: b'36715678'\n",
              "(0018,0020) Scanning Sequence                   CS: 'RM'\n",
              "(0018,0021) Sequence Variant                    CS: 'NONE'\n",
              "(0018,0022) Scan Options                        CS: ''\n",
              "(0018,0023) MR Acquisition Type                 CS: ''\n",
              "(0018,0050) Slice Thickness                     DS: '1'\n",
              "(0018,0080) Repetition Time                     DS: None\n",
              "(0018,0081) Echo Time                           DS: None\n",
              "(0018,0088) Spacing Between Slices              DS: '1'\n",
              "(0018,0091) Echo Train Length                   IS: None\n",
              "(0018,5100) Patient Position                    CS: 'HFS'\n",
              "(0020,000D) Study Instance UID                  UI: 1.3.6.1.4.1.14519.5.2.1.260497661906193334514226770342365856579\n",
              "(0020,000E) Series Instance UID                 UI: 1.3.6.1.4.1.14519.5.2.1.203358765267234045641494108066491494802\n",
              "(0020,0010) Study ID                            SH: ''\n",
              "(0020,0011) Series Number                       IS: '2'\n",
              "(0020,0013) Instance Number                     IS: '80'\n",
              "(0020,0032) Image Position (Patient)            DS: [141.196, -124.004, -10.1512]\n",
              "(0020,0037) Image Orientation (Patient)         DS: [-.752195, -.652188, .0940932, -.648901, .757975, .0663376]\n",
              "(0020,0052) Frame of Reference UID              UI: 1.3.6.1.4.1.14519.5.2.1.15406225903043740751527022288377871160\n",
              "(0020,0060) Laterality                          CS: ''\n",
              "(0020,1040) Position Reference Indicator        LO: ''\n",
              "(0028,0002) Samples per Pixel                   US: 1\n",
              "(0028,0004) Photometric Interpretation          CS: 'MONOCHROME2'\n",
              "(0028,0010) Rows                                US: 256\n",
              "(0028,0011) Columns                             US: 216\n",
              "(0028,0030) Pixel Spacing                       DS: [.976562578063547, .976562594935198]\n",
              "(0028,0100) Bits Allocated                      US: 16\n",
              "(0028,0101) Bits Stored                         US: 16\n",
              "(0028,0102) High Bit                            US: 15\n",
              "(0028,0103) Pixel Representation                US: 1\n",
              "(0028,0303) Longitudinal Temporal Information M CS: 'MODIFIED'\n",
              "(0028,1050) Window Center                       DS: '683.0'\n",
              "(0028,1051) Window Width                        DS: '1366.0'\n",
              "(0028,1054) Rescale Type                        LO: ''\n",
              "(7FE0,0010) Pixel Data                          OW: Array of 110592 elements"
            ]
          },
          "metadata": {},
          "execution_count": 18
        }
      ],
      "source": [
        "image"
      ]
    },
    {
      "cell_type": "markdown",
      "id": "2c31f99e-628a-45c1-a9c3-ac99120409db",
      "metadata": {
        "id": "2c31f99e-628a-45c1-a9c3-ac99120409db"
      },
      "source": [
        "We can access DICOM headers' information using their name. For instance, to obtain the image type, run `image.ImageType`"
      ]
    },
    {
      "cell_type": "markdown",
      "id": "69c54981-aa57-4ca7-8106-55c715951288",
      "metadata": {
        "id": "69c54981-aa57-4ca7-8106-55c715951288"
      },
      "source": [
        "<div class=\"alert alert-block alert-info\">\n",
        "<b>Q2.</b> Explore other informations contained in DICOM headers using similar commands.\n",
        "</div>"
      ]
    },
    {
      "cell_type": "code",
      "execution_count": 19,
      "id": "2a17bcef-2632-4fae-82b9-337756284231",
      "metadata": {
        "id": "2a17bcef-2632-4fae-82b9-337756284231",
        "outputId": "bc996480-b0f6-4a09-9c76-115239af9f59",
        "colab": {
          "base_uri": "https://localhost:8080/"
        }
      },
      "outputs": [
        {
          "output_type": "execute_result",
          "data": {
            "text/plain": [
              "['ORIGINAL', 'PRIMARY', 'MPR']"
            ]
          },
          "metadata": {},
          "execution_count": 19
        }
      ],
      "source": [
        "image.ImageType # COMPLETE with the attribute you want to observe"
      ]
    },
    {
      "cell_type": "markdown",
      "id": "88c9c061-6ef6-4af2-81c4-cb3c4efa03bc",
      "metadata": {
        "id": "88c9c061-6ef6-4af2-81c4-cb3c4efa03bc"
      },
      "source": [
        "Now, we will try to better understand how the images are stored. We can see in the header that we have images of dimension 256 x 216 (see attributes `Rows` and `Columns`). In Python, this means that the image corresponds to an **array** with 256 rows and 216 columns, with each **cell** corresponding to the pixel intensity value. This array is stored in the attribute `pixel_array` of the image, and the `matplotlib` library allows to plot images stored as pixel intensity arrays."
      ]
    },
    {
      "cell_type": "code",
      "execution_count": 20,
      "id": "758a3c08-299b-4c2a-8ad3-72bd279eef23",
      "metadata": {
        "id": "758a3c08-299b-4c2a-8ad3-72bd279eef23",
        "outputId": "791f404c-00e0-4c07-c6bf-8cbccf1b0347",
        "colab": {
          "base_uri": "https://localhost:8080/",
          "height": 435
        }
      },
      "outputs": [
        {
          "output_type": "display_data",
          "data": {
            "text/plain": [
              "<Figure size 640x480 with 1 Axes>"
            ],
            "image/png": "[encoded data removed]"
          },
          "metadata": {}
        }
      ],
      "source": [
        "plt.imshow(image.pixel_array, cmap=plt.cm.bone)\n",
        "plt.show()"
      ]
    },
    {
      "cell_type": "markdown",
      "id": "a48c0c7a-ef00-404e-adb3-c287dd0f2aa4",
      "metadata": {
        "id": "a48c0c7a-ef00-404e-adb3-c287dd0f2aa4"
      },
      "source": [
        "Note that the images are 3D volumes, but DICOM files only contain slices. To load the full volume in a single array, we would have to loop over the slices and stack them to create a full volume. In practice, we will prefer to use `NIfTI` files (see practical session of Lesson 3 for more details)."
      ]
    },
    {
      "cell_type": "code",
      "execution_count": 21,
      "id": "8a296d8f-59d0-4a53-acfc-05930a52d545",
      "metadata": {
        "id": "8a296d8f-59d0-4a53-acfc-05930a52d545",
        "outputId": "b97f3829-864b-4cea-9fb6-8da0d4ad1f7e",
        "colab": {
          "base_uri": "https://localhost:8080/"
        }
      },
      "outputs": [
        {
          "output_type": "stream",
          "name": "stdout",
          "text": [
            "[INFO] Loaded DICOM series with size: (216, 256, 192)\n"
          ]
        }
      ],
      "source": [
        "# First use pre-defined function to load dicom series to 3D images, load mask and resample the mask to the image space\n",
        "image_sitk = load_dicom_series_to_3d_image(\n",
        "    glob(f'{DATA_PATH}/data/ReMIND/sub-001/anat/T1w')[0]) # !!! We use the path of the FOLDER, not the list of images"
      ]
    },
    {
      "cell_type": "markdown",
      "id": "57880e41-3251-42fd-98db-ea3ca9ec3a2f",
      "metadata": {
        "id": "57880e41-3251-42fd-98db-ea3ca9ec3a2f"
      },
      "source": [
        "### Derivatives\n",
        "\n",
        "The dataset we are using contains segmentation masks stored in **NRRD** format. These segmentation masked have been drawn manually by two neurosurgeons, and represent the boundaries of the tumor identified using the pre-operative MRI. In Lesson 3, we will see how you could generate these annotations by yourself."
      ]
    },
    {
      "cell_type": "markdown",
      "id": "4c0a3427-4442-43a1-a31d-b0227dfd9707",
      "metadata": {
        "id": "4c0a3427-4442-43a1-a31d-b0227dfd9707"
      },
      "source": [
        "Similarly to T1w images, we will verify that all patients have a pre-operative segmentation of the tumor region."
      ]
    },
    {
      "cell_type": "code",
      "execution_count": 22,
      "id": "03c9b471-45aa-49db-8780-5b72c931db82",
      "metadata": {
        "id": "03c9b471-45aa-49db-8780-5b72c931db82",
        "outputId": "31765471-44ab-4dc1-e618-d2a0ab1dd576",
        "colab": {
          "base_uri": "https://localhost:8080/"
        }
      },
      "outputs": [
        {
          "output_type": "stream",
          "name": "stdout",
          "text": [
            "No pre-operative tumor segmentation for patient n. 012\n",
            "No pre-operative tumor segmentation for patient n. 032\n",
            "No pre-operative tumor segmentation for patient n. 033\n",
            "No pre-operative tumor segmentation for patient n. 040\n",
            "No pre-operative tumor segmentation for patient n. 065\n",
            "No pre-operative tumor segmentation for patient n. 087\n",
            "No pre-operative tumor segmentation for patient n. 091\n",
            "No pre-operative tumor segmentation for patient n. 096\n"
          ]
        }
      ],
      "source": [
        "for patient in clinical_df['Case Number']:\n",
        "    idx = str(patient).zfill(3)\n",
        "\n",
        "    if len(glob(f'{DATA_PATH}/data/ReMIND/sub-{idx}/seg/ReMIND-{idx}-preop-SEG-tumor*.nrrd')) == 0:\n",
        "        print('No pre-operative tumor segmentation for patient n.', idx)"
      ]
    },
    {
      "cell_type": "markdown",
      "id": "5810e3a6-bc6e-42e9-ad95-225143b47952",
      "metadata": {
        "id": "5810e3a6-bc6e-42e9-ad95-225143b47952"
      },
      "source": [
        "To load NRRD files, we will use the `SimpleITK` package."
      ]
    },
    {
      "cell_type": "code",
      "execution_count": 23,
      "id": "57724382-5875-4e8a-922b-ca75fed68551",
      "metadata": {
        "id": "57724382-5875-4e8a-922b-ca75fed68551"
      },
      "outputs": [],
      "source": [
        "seg_file = glob(f'{DATA_PATH}/data/ReMIND/sub-001/seg/ReMIND-001-preop-SEG-tumor*.nrrd')[0]\n",
        "\n",
        "reader = sitk.ImageFileReader() # Create a file reader\n",
        "reader.SetImageIO(\"NrrdImageIO\") # Set the input type\n",
        "reader.SetFileName(seg_file) # Set the file name\n",
        "mask_sitk = reader.Execute() # Load"
      ]
    },
    {
      "cell_type": "markdown",
      "id": "5fd4bcd0-85c8-4a9c-b154-a49d98b35da0",
      "metadata": {
        "id": "5fd4bcd0-85c8-4a9c-b154-a49d98b35da0"
      },
      "source": [
        "<div class=\"alert alert-block alert-info\">\n",
        "<b>Q3.</b> Visualize the dimensions of the mask using the <code>GetSize()</code> function. What do you notice? How is this different from the DICOM image?\n",
        "</div>"
      ]
    },
    {
      "cell_type": "code",
      "execution_count": 24,
      "id": "f907fd39-c6a0-4905-9c06-5cfb8e0755e5",
      "metadata": {
        "id": "f907fd39-c6a0-4905-9c06-5cfb8e0755e5",
        "colab": {
          "base_uri": "https://localhost:8080/"
        },
        "outputId": "ddae0874-b0f2-46dd-f470-43abda966856"
      },
      "outputs": [
        {
          "output_type": "stream",
          "name": "stdout",
          "text": [
            "Mask shape: (61, 63, 59)\n",
            "Image shape (216, 256, 192)\n"
          ]
        }
      ],
      "source": [
        "print('Mask shape:', mask_sitk.GetSize())\n",
        "print('Image shape', image_sitk.GetSize())"
      ]
    },
    {
      "cell_type": "markdown",
      "source": [
        "Mask and Image have different shapes. the Mask is coming from a CROP images causing this differnence.With SITK, the origin in physical space, the spacing and space directions allow us to recnstruct the mask in image space."
      ],
      "metadata": {
        "id": "vNzNXCmaBUQj"
      },
      "id": "vNzNXCmaBUQj"
    },
    {
      "cell_type": "markdown",
      "id": "26aef26f-6523-46bf-89f1-25f7a7e2fe83",
      "metadata": {
        "id": "26aef26f-6523-46bf-89f1-25f7a7e2fe83"
      },
      "source": [
        "Now, we will reconstruct the mask in image space and visualize the results."
      ]
    },
    {
      "cell_type": "code",
      "execution_count": 27,
      "id": "ddf735ff-9c51-4929-9093-f97d0f28d287",
      "metadata": {
        "id": "ddf735ff-9c51-4929-9093-f97d0f28d287",
        "outputId": "89ccd1fd-d471-443b-d6f0-3569a7f0e3f4",
        "colab": {
          "base_uri": "https://localhost:8080/"
        }
      },
      "outputs": [
        {
          "output_type": "stream",
          "name": "stdout",
          "text": [
            "[INFO] Loaded mask with size: (61, 63, 59)\n"
          ]
        }
      ],
      "source": [
        "mask_sitk_rec = reconstruct_mask_in_image_space(mask_sitk, image_sitk)"
      ]
    },
    {
      "cell_type": "code",
      "execution_count": 28,
      "id": "03bf4589-1799-4ac4-b606-68a64d456017",
      "metadata": {
        "id": "03bf4589-1799-4ac4-b606-68a64d456017",
        "outputId": "8b4eca9a-5a2a-411a-c032-38fbee870889",
        "colab": {
          "base_uri": "https://localhost:8080/"
        }
      },
      "outputs": [
        {
          "output_type": "stream",
          "name": "stdout",
          "text": [
            "Mask shape: (216, 256, 192)\n",
            "Image shape (216, 256, 192)\n"
          ]
        }
      ],
      "source": [
        "# Verify that the shape has been corrected\n",
        "print('Mask shape:', mask_sitk_rec.GetSize())\n",
        "print('Image shape', image_sitk.GetSize())"
      ]
    },
    {
      "cell_type": "markdown",
      "id": "7a77ffbb-4e18-4a99-a092-58f727b75557",
      "metadata": {
        "id": "7a77ffbb-4e18-4a99-a092-58f727b75557"
      },
      "source": [
        "<div class=\"alert alert-block alert-info\">\n",
        "<b>Q4.</b> Use the same function as below to plot the image and the mask slices and visualize their content.\n",
        "</div>"
      ]
    },
    {
      "cell_type": "code",
      "execution_count": 29,
      "id": "7a44d3d3-841d-44a2-b7c0-76e1a0f4f7df",
      "metadata": {
        "id": "7a44d3d3-841d-44a2-b7c0-76e1a0f4f7df"
      },
      "outputs": [],
      "source": [
        "image_slice = sitk.GetArrayFromImage(image_sitk)[110] # COMPLETE with the slice you want to visualize\n",
        "mask_slice = sitk.GetArrayFromImage(mask_sitk_rec)[110]"
      ]
    },
    {
      "cell_type": "code",
      "execution_count": 30,
      "id": "22de6c74-0a0f-4931-8d33-aa9f0cb0f480",
      "metadata": {
        "id": "22de6c74-0a0f-4931-8d33-aa9f0cb0f480",
        "colab": {
          "base_uri": "https://localhost:8080/",
          "height": 332
        },
        "outputId": "2fe6e828-b594-4fc4-d87d-ae2a956498cb"
      },
      "outputs": [
        {
          "output_type": "display_data",
          "data": {
            "text/plain": [
              "<Figure size 640x480 with 2 Axes>"
            ],
            "image/png": "[encoded data removed]"
          },
          "metadata": {}
        }
      ],
      "source": [
        "... # COMPLETE with plotting functions\n",
        "f, ax = plt.subplots(1,2)\n",
        "ax[0].imshow(image_slice)\n",
        "ax[1].imshow(mask_slice)\n",
        "plt.show()"
      ]
    },
    {
      "cell_type": "markdown",
      "id": "e7e89631-c464-4194-afa0-7b418a39c333",
      "metadata": {
        "id": "e7e89631-c464-4194-afa0-7b418a39c333"
      },
      "source": [
        "As you might have noticed, the function to read the file contains several attributes. The header contains information about the image:\n",
        "* size ;\n",
        "* space directions ;\n",
        "* origin ;\n",
        "* ..."
      ]
    },
    {
      "cell_type": "code",
      "execution_count": 31,
      "id": "e05a5880-f54e-4e99-bf51-b47106ae0691",
      "metadata": {
        "id": "e05a5880-f54e-4e99-bf51-b47106ae0691",
        "outputId": "a16c848f-c0ff-46c4-8307-8e896d6d1e70",
        "colab": {
          "base_uri": "https://localhost:8080/"
        }
      },
      "outputs": [
        {
          "output_type": "stream",
          "name": "stdout",
          "text": [
            "Origin: (150.248, -123.123, 68.3235)\n",
            "Dimensions: (216, 256, 192)\n",
            "Directions: (-0.7521951128278977, -0.6489012317876394, -0.1145849188257806, -0.6521878409159783, 0.7579752707489061, -0.011158364328042996, 0.09409321122791484, 0.06633762369581139, -0.9933507876290288)\n"
          ]
        }
      ],
      "source": [
        "print('Origin:', image_sitk.GetOrigin()) # Origin in physical space\n",
        "print('Dimensions:', image_sitk.GetSize()) # Shape\n",
        "print('Directions:', image_sitk.GetDirection()) # Affine matrix"
      ]
    },
    {
      "cell_type": "markdown",
      "id": "600ccd0b-174b-44c5-877f-e09e5910d706",
      "metadata": {
        "id": "600ccd0b-174b-44c5-877f-e09e5910d706"
      },
      "source": [
        "## Feature extraction\n",
        "\n",
        "Now that we observed the different data, we will extract radiomic features and visualize these features.\n",
        "To do so, we will use `SimpleITK` to load images, and `pyradiomics` to extract features. The idea is that, given an image and a corresponding mask, the code will extract relevant metrics.\n",
        "\n",
        "A detailed description of each metrics is available at [https://pyradiomics.readthedocs.io/en/latest/features.html](https://pyradiomics.readthedocs.io/en/latest/features.html)."
      ]
    },
    {
      "cell_type": "markdown",
      "id": "7fd59a03-fb7a-456c-afcb-132eb99b024a",
      "metadata": {
        "id": "7fd59a03-fb7a-456c-afcb-132eb99b024a"
      },
      "source": [
        "We will now create the feature extractor and apply it to **the previously reconstructed image-mask pair**.\n",
        "We can define specific parameters for the feature extraction. In our case, we will add a **standard normalization space**, aiming mitigate pixel intensity differences across MRI machines."
      ]
    },
    {
      "cell_type": "code",
      "execution_count": 32,
      "id": "5377f527-c390-4bd3-886b-918e76327d51",
      "metadata": {
        "id": "5377f527-c390-4bd3-886b-918e76327d51",
        "colab": {
          "base_uri": "https://localhost:8080/"
        },
        "outputId": "e1be7a5d-99e6-4292-db25-f5d903d67f60"
      },
      "outputs": [
        {
          "output_type": "stream",
          "name": "stderr",
          "text": [
            "INFO:radiomics.featureextractor:No valid config parameter, using defaults: {'minimumROIDimensions': 2, 'minimumROISize': None, 'normalize': False, 'normalizeScale': 1, 'removeOutliers': None, 'resampledPixelSpacing': None, 'interpolator': 'sitkBSpline', 'preCrop': False, 'padDistance': 5, 'distances': [1], 'force2D': False, 'force2Ddimension': 0, 'resegmentRange': None, 'label': 1, 'additionalInfo': True}\n",
            "INFO:radiomics.featureextractor:Enabled image types: {'Original': {}}\n",
            "INFO:radiomics.featureextractor:Enabled features: {'firstorder': [], 'glcm': [], 'gldm': [], 'glrlm': [], 'glszm': [], 'ngtdm': [], 'shape': []}\n",
            "INFO:radiomics.featureextractor:Applying custom setting overrides: {'normalize': True}\n"
          ]
        }
      ],
      "source": [
        "settings = {}\n",
        "\n",
        "# Normalizes the image by centering it at the mean with standard deviation.\n",
        "# Normalization is based on all gray values in the image, not just those inside the segmentation.\n",
        "settings['normalize'] = True\n",
        "\n",
        "# Create the featureextractor\n",
        "extractor = featureextractor.RadiomicsFeatureExtractor(**settings)"
      ]
    },
    {
      "cell_type": "code",
      "execution_count": 33,
      "id": "c25933b1-7bee-45d9-a769-7cc99481b679",
      "metadata": {
        "id": "c25933b1-7bee-45d9-a769-7cc99481b679",
        "outputId": "90aabae6-1c69-4544-a77b-1d805dac944c",
        "colab": {
          "base_uri": "https://localhost:8080/"
        }
      },
      "outputs": [
        {
          "output_type": "stream",
          "name": "stderr",
          "text": [
            "INFO:radiomics.featureextractor:Calculating features with label: 1\n",
            "INFO:radiomics.featureextractor:Loading image and mask\n",
            "INFO:radiomics.featureextractor:Computing shape\n",
            "INFO:radiomics.featureextractor:Adding image type \"Original\" with custom settings: {}\n",
            "INFO:radiomics.featureextractor:Calculating features for original image\n",
            "INFO:radiomics.featureextractor:Computing firstorder\n",
            "INFO:radiomics.featureextractor:Computing glcm\n",
            "GLCM is symmetrical, therefore Sum Average = 2 * Joint Average, only 1 needs to be calculated\n",
            "WARNING:radiomics.glcm:GLCM is symmetrical, therefore Sum Average = 2 * Joint Average, only 1 needs to be calculated\n",
            "INFO:radiomics.featureextractor:Computing gldm\n",
            "INFO:radiomics.featureextractor:Computing glrlm\n",
            "INFO:radiomics.featureextractor:Computing glszm\n",
            "INFO:radiomics.featureextractor:Computing ngtdm\n"
          ]
        }
      ],
      "source": [
        "# Extract features\n",
        "result = extractor.execute(image_sitk, mask_sitk_rec)"
      ]
    },
    {
      "cell_type": "code",
      "execution_count": 34,
      "id": "3d224395-da5a-4ea0-8ad7-12331911643d",
      "metadata": {
        "scrolled": true,
        "id": "3d224395-da5a-4ea0-8ad7-12331911643d",
        "outputId": "1ac208e6-7326-4574-b63b-6d52d3a8af86",
        "colab": {
          "base_uri": "https://localhost:8080/"
        }
      },
      "outputs": [
        {
          "output_type": "execute_result",
          "data": {
            "text/plain": [
              "OrderedDict([('diagnostics_Versions_PyRadiomics', 'v3.0.1'),\n",
              "             ('diagnostics_Versions_Numpy', '2.0.2'),\n",
              "             ('diagnostics_Versions_SimpleITK', '2.5.2'),\n",
              "             ('diagnostics_Versions_PyWavelet', '1.8.0'),\n",
              "             ('diagnostics_Versions_Python', '3.11.13'),\n",
              "             ('diagnostics_Configuration_Settings',\n",
              "              {'minimumROIDimensions': 2,\n",
              "               'minimumROISize': None,\n",
              "               'normalize': True,\n",
              "               'normalizeScale': 1,\n",
              "               'removeOutliers': None,\n",
              "               'resampledPixelSpacing': None,\n",
              "               'interpolator': 'sitkBSpline',\n",
              "               'preCrop': False,\n",
              "               'padDistance': 5,\n",
              "               'distances': [1],\n",
              "               'force2D': False,\n",
              "               'force2Ddimension': 0,\n",
              "               'resegmentRange': None,\n",
              "               'label': 1,\n",
              "               'additionalInfo': True}),\n",
              "             ('diagnostics_Configuration_EnabledImageTypes', {'Original': {}}),\n",
              "             ('diagnostics_Image-original_Hash',\n",
              "              '48f04b9e46a9370ab926bb04683fe25d292b9614'),\n",
              "             ('diagnostics_Image-original_Dimensionality', '3D'),\n",
              "             ('diagnostics_Image-original_Spacing',\n",
              "              (0.976562594935198, 0.976562578063547, 1.0000021520254523)),\n",
              "             ('diagnostics_Image-original_Size', (216, 256, 192)),\n",
              "             ('diagnostics_Image-original_Mean', np.float64(145.057100272473)),\n",
              "             ('diagnostics_Image-original_Minimum', np.float64(0.0)),\n",
              "             ('diagnostics_Image-original_Maximum', np.float64(2293.0)),\n",
              "             ('diagnostics_Mask-original_Hash',\n",
              "              '3569bd0e20bd0b4b94c76f60604ecb7fa9a4a584'),\n",
              "             ('diagnostics_Mask-original_Spacing',\n",
              "              (0.976562594935198, 0.976562578063547, 1.0000021520254523)),\n",
              "             ('diagnostics_Mask-original_Size', (216, 256, 192)),\n",
              "             ('diagnostics_Mask-original_BoundingBox',\n",
              "              (126, 99, 87, 61, 63, 59)),\n",
              "             ('diagnostics_Mask-original_VoxelNum', 79529),\n",
              "             ('diagnostics_Mask-original_VolumeNum', 1),\n",
              "             ('diagnostics_Mask-original_CenterOfMassIndex',\n",
              "              (np.float64(154.04046322725043),\n",
              "               np.float64(131.86563391970225),\n",
              "               np.float64(119.38217505564008))),\n",
              "             ('diagnostics_Mask-original_CenterOfMass',\n",
              "              (-60.146537606748154, -124.9555319376022, -27.568046152005408)),\n",
              "             ('original_shape_Elongation', np.float64(0.8370680864625959)),\n",
              "             ('original_shape_Flatness', np.float64(0.7291017561416088)),\n",
              "             ('original_shape_LeastAxisLength', np.float64(41.55538292430001)),\n",
              "             ('original_shape_MajorAxisLength', np.float64(56.99531317029084)),\n",
              "             ('original_shape_Maximum2DDiameterColumn', array(65.75327923)),\n",
              "             ('original_shape_Maximum2DDiameterRow', array(62.94624981)),\n",
              "             ('original_shape_Maximum2DDiameterSlice', array(64.20109876)),\n",
              "             ('original_shape_Maximum3DDiameter', array(67.46173875)),\n",
              "             ('original_shape_MeshVolume', array(75786.25052173)),\n",
              "             ('original_shape_MinorAxisLength',\n",
              "              np.float64(47.708957732791745)),\n",
              "             ('original_shape_Sphericity', array(0.76425716)),\n",
              "             ('original_shape_SurfaceArea', array(11331.95624538)),\n",
              "             ('original_shape_SurfaceVolumeRatio', array(0.14952523)),\n",
              "             ('original_shape_VoxelVolume', np.float64(75844.94136532053)),\n",
              "             ('original_firstorder_10Percentile', array(-0.12411512)),\n",
              "             ('original_firstorder_90Percentile', array(1.55651458)),\n",
              "             ('original_firstorder_Energy', array(86683.68399223)),\n",
              "             ('original_firstorder_Entropy', array(0.51006501)),\n",
              "             ('original_firstorder_InterquartileRange', array(0.68959499)),\n",
              "             ('original_firstorder_Kurtosis', array(8.68553692)),\n",
              "             ('original_firstorder_Maximum', array(7.51098149)),\n",
              "             ('original_firstorder_MeanAbsoluteDeviation', array(0.50152175)),\n",
              "             ('original_firstorder_Mean', array(0.75275342)),\n",
              "             ('original_firstorder_Median', array(0.69761783)),\n",
              "             ('original_firstorder_Minimum', array(-0.59898593)),\n",
              "             ('original_firstorder_Range', array(8.10996742)),\n",
              "             ('original_firstorder_RobustMeanAbsoluteDeviation',\n",
              "              array(0.28951365)),\n",
              "             ('original_firstorder_RootMeanSquared', array(1.04401303)),\n",
              "             ('original_firstorder_Skewness', array(1.44169711)),\n",
              "             ('original_firstorder_TotalEnergy', array(82668.19562324)),\n",
              "             ('original_firstorder_Uniformity', array(0.79893057)),\n",
              "             ('original_firstorder_Variance', array(0.5233255)),\n",
              "             ('original_glcm_Autocorrelation', array(3.63323712)),\n",
              "             ('original_glcm_ClusterProminence', array(0.84905904)),\n",
              "             ('original_glcm_ClusterShade', array(-0.48269876)),\n",
              "             ('original_glcm_ClusterTendency', array(0.34072337)),\n",
              "             ('original_glcm_Contrast', array(0.05860439)),\n",
              "             ('original_glcm_Correlation', array(0.70645421)),\n",
              "             ('original_glcm_DifferenceAverage', array(0.05860439)),\n",
              "             ('original_glcm_DifferenceEntropy', array(0.32009873)),\n",
              "             ('original_glcm_DifferenceVariance', array(0.05503383)),\n",
              "             ('original_glcm_Id', array(0.97069781)),\n",
              "             ('original_glcm_Idm', array(0.97069781)),\n",
              "             ('original_glcm_Idmn', array(0.98827912)),\n",
              "             ('original_glcm_Idn', array(0.9804652)),\n",
              "             ('original_glcm_Imc1', array(-0.45433414)),\n",
              "             ('original_glcm_Imc2', array(0.60505879)),\n",
              "             ('original_glcm_InverseVariance', array(0.05860439)),\n",
              "             ('original_glcm_JointAverage', array(1.8875131)),\n",
              "             ('original_glcm_JointEnergy', array(0.7453023)),\n",
              "             ('original_glcm_JointEntropy', array(0.78419256)),\n",
              "             ('original_glcm_MCC', array(0.70645421)),\n",
              "             ('original_glcm_MaximumProbability', array(0.85821091)),\n",
              "             ('original_glcm_SumAverage', array(3.77502621)),\n",
              "             ('original_glcm_SumEntropy', array(0.72558817)),\n",
              "             ('original_glcm_SumSquares', array(0.09983194)),\n",
              "             ('original_gldm_DependenceEntropy', array(2.83337654)),\n",
              "             ('original_gldm_DependenceNonUniformity', array(33053.03389958)),\n",
              "             ('original_gldm_DependenceNonUniformityNormalized',\n",
              "              array(0.41560983)),\n",
              "             ('original_gldm_DependenceVariance', array(21.77546596)),\n",
              "             ('original_gldm_GrayLevelNonUniformity', array(63538.14891423)),\n",
              "             ('original_gldm_GrayLevelVariance', array(0.10053472)),\n",
              "             ('original_gldm_HighGrayLevelEmphasis', array(3.6598222)),\n",
              "             ('original_gldm_LargeDependenceEmphasis', array(612.58224044)),\n",
              "             ('original_gldm_LargeDependenceHighGrayLevelEmphasis',\n",
              "              array(2312.39542808)),\n",
              "             ('original_gldm_LargeDependenceLowGrayLevelEmphasis',\n",
              "              array(187.62894353)),\n",
              "             ('original_gldm_LowGrayLevelEmphasis', array(0.33504445)),\n",
              "             ('original_gldm_SmallDependenceEmphasis', array(0.00261954)),\n",
              "             ('original_gldm_SmallDependenceHighGrayLevelEmphasis',\n",
              "              array(0.00803302)),\n",
              "             ('original_gldm_SmallDependenceLowGrayLevelEmphasis',\n",
              "              array(0.00126617)),\n",
              "             ('original_glrlm_GrayLevelNonUniformity', array(4601.37015339)),\n",
              "             ('original_glrlm_GrayLevelNonUniformityNormalized',\n",
              "              array(0.55837381)),\n",
              "             ('original_glrlm_GrayLevelVariance', array(0.2208131)),\n",
              "             ('original_glrlm_HighGrayLevelRunEmphasis', array(3.01051422)),\n",
              "             ('original_glrlm_LongRunEmphasis', array(214.0609389)),\n",
              "             ('original_glrlm_LongRunHighGrayLevelEmphasis',\n",
              "              array(833.18297856)),\n",
              "             ('original_glrlm_LongRunLowGrayLevelEmphasis',\n",
              "              array(59.28042898)),\n",
              "             ('original_glrlm_LowGrayLevelRunEmphasis', array(0.49737145)),\n",
              "             ('original_glrlm_RunEntropy', array(5.14963425)),\n",
              "             ('original_glrlm_RunLengthNonUniformity', array(629.23368099)),\n",
              "             ('original_glrlm_RunLengthNonUniformityNormalized',\n",
              "              array(0.07389038)),\n",
              "             ('original_glrlm_RunPercentage', array(0.1035955)),\n",
              "             ('original_glrlm_RunVariance', array(109.84660159)),\n",
              "             ('original_glrlm_ShortRunEmphasis', array(0.2337711)),\n",
              "             ('original_glrlm_ShortRunHighGrayLevelEmphasis',\n",
              "              array(0.52075244)),\n",
              "             ('original_glrlm_ShortRunLowGrayLevelEmphasis',\n",
              "              array(0.16202576)),\n",
              "             ('original_glszm_GrayLevelNonUniformity', array(24.90243902)),\n",
              "             ('original_glszm_GrayLevelNonUniformityNormalized',\n",
              "              array(0.60737656)),\n",
              "             ('original_glszm_GrayLevelVariance', array(0.19631172)),\n",
              "             ('original_glszm_HighGrayLevelZoneEmphasis', array(1.80487805)),\n",
              "             ('original_glszm_LargeAreaEmphasis', array(1.23111305e+08)),\n",
              "             ('original_glszm_LargeAreaHighGrayLevelEmphasis',\n",
              "              array(4.86612777e+08)),\n",
              "             ('original_glszm_LargeAreaLowGrayLevelEmphasis',\n",
              "              array(32235937.43292683)),\n",
              "             ('original_glszm_LowGrayLevelZoneEmphasis', array(0.79878049)),\n",
              "             ('original_glszm_SizeZoneNonUniformity', array(14.07317073)),\n",
              "             ('original_glszm_SizeZoneNonUniformityNormalized',\n",
              "              array(0.34324807)),\n",
              "             ('original_glszm_SmallAreaEmphasis', array(0.59603422)),\n",
              "             ('original_glszm_SmallAreaHighGrayLevelEmphasis',\n",
              "              array(1.00670495)),\n",
              "             ('original_glszm_SmallAreaLowGrayLevelEmphasis',\n",
              "              array(0.49336653)),\n",
              "             ('original_glszm_ZoneEntropy', array(2.85150339)),\n",
              "             ('original_glszm_ZonePercentage', array(0.00051554)),\n",
              "             ('original_glszm_ZoneVariance', array(1.19348746e+08)),\n",
              "             ('original_ngtdm_Busyness', array(707.1872253)),\n",
              "             ('original_ngtdm_Coarseness', array(0.00042597)),\n",
              "             ('original_ngtdm_Complexity', array(0.05903784)),\n",
              "             ('original_ngtdm_Contrast', array(0.00592333)),\n",
              "             ('original_ngtdm_Strength', array(0.00042683))])"
            ]
          },
          "metadata": {},
          "execution_count": 34
        }
      ],
      "source": [
        "result"
      ]
    },
    {
      "cell_type": "markdown",
      "id": "56cfdd18-487f-470a-b7cd-5ec1ffea7ae5",
      "metadata": {
        "id": "56cfdd18-487f-470a-b7cd-5ec1ffea7ae5"
      },
      "source": [
        "<div class=\"alert alert-block alert-info\">\n",
        "<b>Q5.</b> Analyse the extracted features. Identify potential attributes that could be useful to classify the tumor grade.\n",
        "</div>"
      ]
    },
    {
      "cell_type": "code",
      "execution_count": 35,
      "id": "7baa9596-b85d-4709-8b08-f5011cae2f89",
      "metadata": {
        "id": "7baa9596-b85d-4709-8b08-f5011cae2f89",
        "colab": {
          "base_uri": "https://localhost:8080/"
        },
        "outputId": "7858f718-dea1-4c66-c8b6-2c895df16d03"
      },
      "outputs": [
        {
          "output_type": "execute_result",
          "data": {
            "text/plain": [
              "np.float64(75844.94136532053)"
            ]
          },
          "metadata": {},
          "execution_count": 35
        }
      ],
      "source": [
        "result['original_shape_VoxelVolume'] # example: tumor voxel volume, uniformity, etc."
      ]
    },
    {
      "cell_type": "code",
      "source": [
        "result['original_glcm_JointEntropy']"
      ],
      "metadata": {
        "colab": {
          "base_uri": "https://localhost:8080/"
        },
        "id": "FupB9JrgC7zS",
        "outputId": "307ca345-3c19-4bc0-b8ea-3b7d995ff478"
      },
      "id": "FupB9JrgC7zS",
      "execution_count": 36,
      "outputs": [
        {
          "output_type": "execute_result",
          "data": {
            "text/plain": [
              "array(0.78419256)"
            ]
          },
          "metadata": {},
          "execution_count": 36
        }
      ]
    },
    {
      "cell_type": "markdown",
      "id": "9de8a9f2-df12-4a10-bdad-cce2d959fc90",
      "metadata": {
        "id": "9de8a9f2-df12-4a10-bdad-cce2d959fc90"
      },
      "source": [
        "<div class=\"alert alert-block alert-info\">\n",
        "<b>Q6.</b> Implement and run the feature extraction without normalization and compare the results.\n",
        "</div>"
      ]
    },
    {
      "cell_type": "code",
      "execution_count": 38,
      "id": "29bf228e-c8b2-44d4-8eae-f9b4b90369a2",
      "metadata": {
        "scrolled": true,
        "id": "29bf228e-c8b2-44d4-8eae-f9b4b90369a2",
        "colab": {
          "base_uri": "https://localhost:8080/"
        },
        "outputId": "e6d7b99f-7afe-40e6-bdf3-da63d860fc81"
      },
      "outputs": [
        {
          "output_type": "stream",
          "name": "stderr",
          "text": [
            "INFO:radiomics.featureextractor:No valid config parameter, using defaults: {'minimumROIDimensions': 2, 'minimumROISize': None, 'normalize': False, 'normalizeScale': 1, 'removeOutliers': None, 'resampledPixelSpacing': None, 'interpolator': 'sitkBSpline', 'preCrop': False, 'padDistance': 5, 'distances': [1], 'force2D': False, 'force2Ddimension': 0, 'resegmentRange': None, 'label': 1, 'additionalInfo': True}\n",
            "INFO:radiomics.featureextractor:Enabled image types: {'Original': {}}\n",
            "INFO:radiomics.featureextractor:Enabled features: {'firstorder': [], 'glcm': [], 'gldm': [], 'glrlm': [], 'glszm': [], 'ngtdm': [], 'shape': []}\n",
            "INFO:radiomics.featureextractor:Applying custom setting overrides: {'normalize': False}\n",
            "INFO:radiomics.featureextractor:Calculating features with label: 1\n",
            "INFO:radiomics.featureextractor:Loading image and mask\n",
            "INFO:radiomics.featureextractor:Computing shape\n",
            "INFO:radiomics.featureextractor:Adding image type \"Original\" with custom settings: {}\n",
            "INFO:radiomics.featureextractor:Calculating features for original image\n",
            "INFO:radiomics.featureextractor:Computing firstorder\n",
            "INFO:radiomics.featureextractor:Computing glcm\n",
            "GLCM is symmetrical, therefore Sum Average = 2 * Joint Average, only 1 needs to be calculated\n",
            "WARNING:radiomics.glcm:GLCM is symmetrical, therefore Sum Average = 2 * Joint Average, only 1 needs to be calculated\n",
            "INFO:radiomics.featureextractor:Computing gldm\n",
            "INFO:radiomics.featureextractor:Computing glrlm\n",
            "INFO:radiomics.featureextractor:Computing glszm\n",
            "INFO:radiomics.featureextractor:Computing ngtdm\n"
          ]
        },
        {
          "output_type": "execute_result",
          "data": {
            "text/plain": [
              "OrderedDict([('diagnostics_Versions_PyRadiomics', 'v3.0.1'),\n",
              "             ('diagnostics_Versions_Numpy', '2.0.2'),\n",
              "             ('diagnostics_Versions_SimpleITK', '2.5.2'),\n",
              "             ('diagnostics_Versions_PyWavelet', '1.8.0'),\n",
              "             ('diagnostics_Versions_Python', '3.11.13'),\n",
              "             ('diagnostics_Configuration_Settings',\n",
              "              {'minimumROIDimensions': 2,\n",
              "               'minimumROISize': None,\n",
              "               'normalize': False,\n",
              "               'normalizeScale': 1,\n",
              "               'removeOutliers': None,\n",
              "               'resampledPixelSpacing': None,\n",
              "               'interpolator': 'sitkBSpline',\n",
              "               'preCrop': False,\n",
              "               'padDistance': 5,\n",
              "               'distances': [1],\n",
              "               'force2D': False,\n",
              "               'force2Ddimension': 0,\n",
              "               'resegmentRange': None,\n",
              "               'label': 1,\n",
              "               'additionalInfo': True}),\n",
              "             ('diagnostics_Configuration_EnabledImageTypes', {'Original': {}}),\n",
              "             ('diagnostics_Image-original_Hash',\n",
              "              '48f04b9e46a9370ab926bb04683fe25d292b9614'),\n",
              "             ('diagnostics_Image-original_Dimensionality', '3D'),\n",
              "             ('diagnostics_Image-original_Spacing',\n",
              "              (0.976562594935198, 0.976562578063547, 1.0000021520254523)),\n",
              "             ('diagnostics_Image-original_Size', (216, 256, 192)),\n",
              "             ('diagnostics_Image-original_Mean', np.float64(145.057100272473)),\n",
              "             ('diagnostics_Image-original_Minimum', np.float64(0.0)),\n",
              "             ('diagnostics_Image-original_Maximum', np.float64(2293.0)),\n",
              "             ('diagnostics_Mask-original_Hash',\n",
              "              '3569bd0e20bd0b4b94c76f60604ecb7fa9a4a584'),\n",
              "             ('diagnostics_Mask-original_Spacing',\n",
              "              (0.976562594935198, 0.976562578063547, 1.0000021520254523)),\n",
              "             ('diagnostics_Mask-original_Size', (216, 256, 192)),\n",
              "             ('diagnostics_Mask-original_BoundingBox',\n",
              "              (126, 99, 87, 61, 63, 59)),\n",
              "             ('diagnostics_Mask-original_VoxelNum', 79529),\n",
              "             ('diagnostics_Mask-original_VolumeNum', 1),\n",
              "             ('diagnostics_Mask-original_CenterOfMassIndex',\n",
              "              (np.float64(154.04046322725043),\n",
              "               np.float64(131.86563391970225),\n",
              "               np.float64(119.38217505564008))),\n",
              "             ('diagnostics_Mask-original_CenterOfMass',\n",
              "              (-60.146537606748154, -124.9555319376022, -27.568046152005408)),\n",
              "             ('original_shape_Elongation', np.float64(0.8370680864625959)),\n",
              "             ('original_shape_Flatness', np.float64(0.7291017561416088)),\n",
              "             ('original_shape_LeastAxisLength', np.float64(41.55538292430001)),\n",
              "             ('original_shape_MajorAxisLength', np.float64(56.99531317029084)),\n",
              "             ('original_shape_Maximum2DDiameterColumn', array(65.75327923)),\n",
              "             ('original_shape_Maximum2DDiameterRow', array(62.94624981)),\n",
              "             ('original_shape_Maximum2DDiameterSlice', array(64.20109876)),\n",
              "             ('original_shape_Maximum3DDiameter', array(67.46173875)),\n",
              "             ('original_shape_MeshVolume', array(75786.25052173)),\n",
              "             ('original_shape_MinorAxisLength',\n",
              "              np.float64(47.708957732791745)),\n",
              "             ('original_shape_Sphericity', array(0.76425716)),\n",
              "             ('original_shape_SurfaceArea', array(11331.95624538)),\n",
              "             ('original_shape_SurfaceVolumeRatio', array(0.14952523)),\n",
              "             ('original_shape_VoxelVolume', np.float64(75844.94136532053)),\n",
              "             ('original_firstorder_10Percentile', array(115.)),\n",
              "             ('original_firstorder_90Percentile', array(522.)),\n",
              "             ('original_firstorder_Energy', array(1.09631435e+10)),\n",
              "             ('original_firstorder_Entropy', array(4.57191104)),\n",
              "             ('original_firstorder_InterquartileRange', array(167.)),\n",
              "             ('original_firstorder_Kurtosis', array(8.68553692)),\n",
              "             ('original_firstorder_Maximum', array(1964.)),\n",
              "             ('original_firstorder_MeanAbsoluteDeviation',\n",
              "              array(121.45409079)),\n",
              "             ('original_firstorder_Mean', array(327.35224887)),\n",
              "             ('original_firstorder_Median', array(314.)),\n",
              "             ('original_firstorder_Minimum', array(0.)),\n",
              "             ('original_firstorder_Range', array(1964.)),\n",
              "             ('original_firstorder_RobustMeanAbsoluteDeviation',\n",
              "              array(70.1118479)),\n",
              "             ('original_firstorder_RootMeanSquared', array(371.28276409)),\n",
              "             ('original_firstorder_Skewness', array(1.44169711)),\n",
              "             ('original_firstorder_TotalEnergy', array(1.04552927e+10)),\n",
              "             ('original_firstorder_Uniformity', array(0.05504321)),\n",
              "             ('original_firstorder_Variance', array(30691.39607062)),\n",
              "             ('original_glcm_Autocorrelation', array(220.47918336)),\n",
              "             ('original_glcm_ClusterProminence', array(239264.86219839)),\n",
              "             ('original_glcm_ClusterShade', array(2988.85746656)),\n",
              "             ('original_glcm_ClusterTendency', array(169.59860615)),\n",
              "             ('original_glcm_Contrast', array(21.23545825)),\n",
              "             ('original_glcm_Correlation', array(0.77712469)),\n",
              "             ('original_glcm_DifferenceAverage', array(2.58147034)),\n",
              "             ('original_glcm_DifferenceEntropy', array(2.9340349)),\n",
              "             ('original_glcm_DifferenceVariance', array(14.42171199)),\n",
              "             ('original_glcm_Id', array(0.49162557)),\n",
              "             ('original_glcm_Idm', array(0.43680112)),\n",
              "             ('original_glcm_Idmn', array(0.99674343)),\n",
              "             ('original_glcm_Idn', array(0.97021525)),\n",
              "             ('original_glcm_Imc1', array(-0.24652465)),\n",
              "             ('original_glcm_Imc2', array(0.94243924)),\n",
              "             ('original_glcm_InverseVariance', array(0.38410724)),\n",
              "             ('original_glcm_JointAverage', array(13.542061)),\n",
              "             ('original_glcm_JointEnergy', array(0.00896999)),\n",
              "             ('original_glcm_JointEntropy', array(7.98181477)),\n",
              "             ('original_glcm_MCC', array(0.80093723)),\n",
              "             ('original_glcm_MaximumProbability', array(0.02695772)),\n",
              "             ('original_glcm_SumAverage', array(27.084122)),\n",
              "             ('original_glcm_SumEntropy', array(5.47536585)),\n",
              "             ('original_glcm_SumSquares', array(47.7085161)),\n",
              "             ('original_gldm_DependenceEntropy', array(8.22798501)),\n",
              "             ('original_gldm_DependenceNonUniformity', array(5841.42643564)),\n",
              "             ('original_gldm_DependenceNonUniformityNormalized',\n",
              "              array(0.07345027)),\n",
              "             ('original_gldm_DependenceVariance', array(19.10829583)),\n",
              "             ('original_gldm_GrayLevelNonUniformity', array(4377.53162997)),\n",
              "             ('original_gldm_GrayLevelVariance', array(49.21860874)),\n",
              "             ('original_gldm_HighGrayLevelEmphasis', array(234.5384451)),\n",
              "             ('original_gldm_LargeDependenceEmphasis', array(62.76853726)),\n",
              "             ('original_gldm_LargeDependenceHighGrayLevelEmphasis',\n",
              "              array(10586.62948107)),\n",
              "             ('original_gldm_LargeDependenceLowGrayLevelEmphasis',\n",
              "              array(3.47138277)),\n",
              "             ('original_gldm_LowGrayLevelEmphasis', array(0.03868465)),\n",
              "             ('original_gldm_SmallDependenceEmphasis', array(0.14568023)),\n",
              "             ('original_gldm_SmallDependenceHighGrayLevelEmphasis',\n",
              "              array(58.55231413)),\n",
              "             ('original_gldm_SmallDependenceLowGrayLevelEmphasis',\n",
              "              array(0.00349941)),\n",
              "             ('original_glrlm_GrayLevelNonUniformity', array(3216.01777567)),\n",
              "             ('original_glrlm_GrayLevelNonUniformityNormalized',\n",
              "              array(0.05154658)),\n",
              "             ('original_glrlm_GrayLevelVariance', array(54.85595057)),\n",
              "             ('original_glrlm_HighGrayLevelRunEmphasis', array(250.49434587)),\n",
              "             ('original_glrlm_LongRunEmphasis', array(2.08966663)),\n",
              "             ('original_glrlm_LongRunHighGrayLevelEmphasis',\n",
              "              array(440.26545499)),\n",
              "             ('original_glrlm_LongRunLowGrayLevelEmphasis', array(0.09210807)),\n",
              "             ('original_glrlm_LowGrayLevelRunEmphasis', array(0.03590782)),\n",
              "             ('original_glrlm_RunEntropy', array(5.57750011)),\n",
              "             ('original_glrlm_RunLengthNonUniformity', array(42035.28000994)),\n",
              "             ('original_glrlm_RunLengthNonUniformityNormalized',\n",
              "              array(0.67297718)),\n",
              "             ('original_glrlm_RunPercentage', array(0.78432347)),\n",
              "             ('original_glrlm_RunVariance', array(0.45901857)),\n",
              "             ('original_glrlm_ShortRunEmphasis', array(0.84688666)),\n",
              "             ('original_glrlm_ShortRunHighGrayLevelEmphasis',\n",
              "              array(222.79583099)),\n",
              "             ('original_glrlm_ShortRunLowGrayLevelEmphasis',\n",
              "              array(0.02886449)),\n",
              "             ('original_glszm_GrayLevelNonUniformity', array(356.81453851)),\n",
              "             ('original_glszm_GrayLevelNonUniformityNormalized',\n",
              "              array(0.03095199)),\n",
              "             ('original_glszm_GrayLevelVariance', array(108.32288855)),\n",
              "             ('original_glszm_HighGrayLevelZoneEmphasis', array(435.20853574)),\n",
              "             ('original_glszm_LargeAreaEmphasis', array(18497.39963567)),\n",
              "             ('original_glszm_LargeAreaHighGrayLevelEmphasis',\n",
              "              array(2985619.63809854)),\n",
              "             ('original_glszm_LargeAreaLowGrayLevelEmphasis',\n",
              "              array(379.58882685)),\n",
              "             ('original_glszm_LowGrayLevelZoneEmphasis', array(0.02155461)),\n",
              "             ('original_glszm_SizeZoneNonUniformity', array(4979.96877169)),\n",
              "             ('original_glszm_SizeZoneNonUniformityNormalized',\n",
              "              array(0.43198896)),\n",
              "             ('original_glszm_SmallAreaEmphasis', array(0.68349968)),\n",
              "             ('original_glszm_SmallAreaHighGrayLevelEmphasis',\n",
              "              array(316.05708914)),\n",
              "             ('original_glszm_SmallAreaLowGrayLevelEmphasis',\n",
              "              array(0.01350197)),\n",
              "             ('original_glszm_ZoneEntropy', array(7.13977807)),\n",
              "             ('original_glszm_ZonePercentage', array(0.14495341)),\n",
              "             ('original_glszm_ZoneVariance', array(18449.80663276)),\n",
              "             ('original_ngtdm_Busyness', array(3.44234166)),\n",
              "             ('original_ngtdm_Coarseness', array(0.00019116)),\n",
              "             ('original_ngtdm_Complexity', array(6250.09685742)),\n",
              "             ('original_ngtdm_Contrast', array(0.02938835)),\n",
              "             ('original_ngtdm_Strength', array(1.29705451))])"
            ]
          },
          "metadata": {},
          "execution_count": 38
        }
      ],
      "source": [
        "# Without normalization\n",
        "settings = {}\n",
        "\n",
        "# Normalizes the image by centering it at the mean with standard deviation.\n",
        "# Normalization is based on all gray values in the image, not just those inside the segmentation.\n",
        "settings['normalize'] = False\n",
        "\n",
        "# Create the featureextractor\n",
        "extractor = featureextractor.RadiomicsFeatureExtractor(**settings)\n",
        "result_nn = extractor.execute(image_sitk, mask_sitk_rec)\n",
        "result_nn"
      ]
    },
    {
      "cell_type": "markdown",
      "id": "7ab1294b-8f94-4ffe-aeaa-08a8193aebc0",
      "metadata": {
        "id": "7ab1294b-8f94-4ffe-aeaa-08a8193aebc0"
      },
      "source": [
        "Now that we better understand how to extract radiomic features from DICOM files associated with tumor masks, we will apply this to the whole dataset and transform the results to a csv file."
      ]
    },
    {
      "cell_type": "code",
      "execution_count": 39,
      "id": "cb7f57d6-0bcd-489e-9898-6eda3260c804",
      "metadata": {
        "scrolled": true,
        "id": "cb7f57d6-0bcd-489e-9898-6eda3260c804",
        "outputId": "eeb565b4-368e-4a2a-f265-fecc8002f72a",
        "colab": {
          "base_uri": "https://localhost:8080/"
        }
      },
      "outputs": [
        {
          "output_type": "stream",
          "name": "stdout",
          "text": [
            "001\n",
            "[INFO] Loaded DICOM series with size: (216, 256, 192)\n",
            "[INFO] Loaded mask with size: (61, 63, 59)\n"
          ]
        },
        {
          "output_type": "stream",
          "name": "stderr",
          "text": [
            "INFO:radiomics.featureextractor:Calculating features with label: 1\n",
            "INFO:radiomics.featureextractor:Loading image and mask\n",
            "INFO:radiomics.featureextractor:Computing shape\n",
            "INFO:radiomics.featureextractor:Adding image type \"Original\" with custom settings: {}\n",
            "INFO:radiomics.featureextractor:Calculating features for original image\n",
            "INFO:radiomics.featureextractor:Computing firstorder\n",
            "INFO:radiomics.featureextractor:Computing glcm\n",
            "GLCM is symmetrical, therefore Sum Average = 2 * Joint Average, only 1 needs to be calculated\n",
            "WARNING:radiomics.glcm:GLCM is symmetrical, therefore Sum Average = 2 * Joint Average, only 1 needs to be calculated\n",
            "INFO:radiomics.featureextractor:Computing gldm\n",
            "INFO:radiomics.featureextractor:Computing glrlm\n",
            "INFO:radiomics.featureextractor:Computing glszm\n",
            "INFO:radiomics.featureextractor:Computing ngtdm\n"
          ]
        },
        {
          "output_type": "stream",
          "name": "stdout",
          "text": [
            "002\n"
          ]
        },
        {
          "output_type": "stream",
          "name": "stderr",
          "text": [
            "INFO:radiomics.featureextractor:Calculating features with label: 1\n",
            "INFO:radiomics.featureextractor:Loading image and mask\n"
          ]
        },
        {
          "output_type": "stream",
          "name": "stdout",
          "text": [
            "[INFO] Loaded DICOM series with size: (216, 256, 192)\n",
            "[INFO] Loaded mask with size: (32, 49, 36)\n"
          ]
        },
        {
          "output_type": "stream",
          "name": "stderr",
          "text": [
            "INFO:radiomics.featureextractor:Computing shape\n",
            "INFO:radiomics.featureextractor:Adding image type \"Original\" with custom settings: {}\n",
            "INFO:radiomics.featureextractor:Calculating features for original image\n",
            "INFO:radiomics.featureextractor:Computing firstorder\n",
            "INFO:radiomics.featureextractor:Computing glcm\n",
            "GLCM is symmetrical, therefore Sum Average = 2 * Joint Average, only 1 needs to be calculated\n",
            "WARNING:radiomics.glcm:GLCM is symmetrical, therefore Sum Average = 2 * Joint Average, only 1 needs to be calculated\n",
            "INFO:radiomics.featureextractor:Computing gldm\n",
            "INFO:radiomics.featureextractor:Computing glrlm\n",
            "INFO:radiomics.featureextractor:Computing glszm\n",
            "INFO:radiomics.featureextractor:Computing ngtdm\n"
          ]
        },
        {
          "output_type": "stream",
          "name": "stdout",
          "text": [
            "003\n",
            "[INFO] Loaded DICOM series with size: (512, 512, 168)\n",
            "[INFO] Loaded mask with size: (34, 27, 29)\n"
          ]
        },
        {
          "output_type": "stream",
          "name": "stderr",
          "text": [
            "INFO:radiomics.featureextractor:Calculating features with label: 1\n",
            "INFO:radiomics.featureextractor:Loading image and mask\n",
            "INFO:radiomics.featureextractor:Computing shape\n",
            "INFO:radiomics.featureextractor:Adding image type \"Original\" with custom settings: {}\n",
            "INFO:radiomics.featureextractor:Calculating features for original image\n",
            "INFO:radiomics.featureextractor:Computing firstorder\n",
            "INFO:radiomics.featureextractor:Computing glcm\n",
            "GLCM is symmetrical, therefore Sum Average = 2 * Joint Average, only 1 needs to be calculated\n",
            "WARNING:radiomics.glcm:GLCM is symmetrical, therefore Sum Average = 2 * Joint Average, only 1 needs to be calculated\n",
            "INFO:radiomics.featureextractor:Computing gldm\n",
            "INFO:radiomics.featureextractor:Computing glrlm\n",
            "INFO:radiomics.featureextractor:Computing glszm\n",
            "INFO:radiomics.featureextractor:Computing ngtdm\n"
          ]
        },
        {
          "output_type": "stream",
          "name": "stdout",
          "text": [
            "004\n"
          ]
        },
        {
          "output_type": "stream",
          "name": "stderr",
          "text": [
            "INFO:radiomics.featureextractor:Calculating features with label: 1\n",
            "INFO:radiomics.featureextractor:Loading image and mask\n"
          ]
        },
        {
          "output_type": "stream",
          "name": "stdout",
          "text": [
            "[INFO] Loaded DICOM series with size: (256, 256, 192)\n",
            "[INFO] Loaded mask with size: (10, 7, 5)\n"
          ]
        },
        {
          "output_type": "stream",
          "name": "stderr",
          "text": [
            "INFO:radiomics.featureextractor:Computing shape\n",
            "INFO:radiomics.featureextractor:Adding image type \"Original\" with custom settings: {}\n",
            "INFO:radiomics.featureextractor:Calculating features for original image\n",
            "INFO:radiomics.featureextractor:Computing firstorder\n",
            "INFO:radiomics.featureextractor:Computing glcm\n",
            "GLCM is symmetrical, therefore Sum Average = 2 * Joint Average, only 1 needs to be calculated\n",
            "WARNING:radiomics.glcm:GLCM is symmetrical, therefore Sum Average = 2 * Joint Average, only 1 needs to be calculated\n",
            "INFO:radiomics.featureextractor:Computing gldm\n",
            "INFO:radiomics.featureextractor:Computing glrlm\n",
            "INFO:radiomics.featureextractor:Computing glszm\n",
            "INFO:radiomics.featureextractor:Computing ngtdm\n"
          ]
        },
        {
          "output_type": "stream",
          "name": "stdout",
          "text": [
            "006\n",
            "[INFO] Loaded DICOM series with size: (512, 512, 201)\n",
            "[INFO] Loaded mask with size: (40, 71, 39)\n"
          ]
        },
        {
          "output_type": "stream",
          "name": "stderr",
          "text": [
            "INFO:radiomics.featureextractor:Calculating features with label: 1\n",
            "INFO:radiomics.featureextractor:Loading image and mask\n",
            "INFO:radiomics.featureextractor:Computing shape\n",
            "INFO:radiomics.featureextractor:Adding image type \"Original\" with custom settings: {}\n",
            "INFO:radiomics.featureextractor:Calculating features for original image\n",
            "INFO:radiomics.featureextractor:Computing firstorder\n",
            "INFO:radiomics.featureextractor:Computing glcm\n",
            "GLCM is symmetrical, therefore Sum Average = 2 * Joint Average, only 1 needs to be calculated\n",
            "WARNING:radiomics.glcm:GLCM is symmetrical, therefore Sum Average = 2 * Joint Average, only 1 needs to be calculated\n",
            "INFO:radiomics.featureextractor:Computing gldm\n",
            "INFO:radiomics.featureextractor:Computing glrlm\n",
            "INFO:radiomics.featureextractor:Computing glszm\n",
            "INFO:radiomics.featureextractor:Computing ngtdm\n"
          ]
        },
        {
          "output_type": "stream",
          "name": "stdout",
          "text": [
            "008\n",
            "[INFO] Loaded DICOM series with size: (512, 512, 364)\n",
            "[INFO] Loaded mask with size: (71, 57, 56)\n"
          ]
        },
        {
          "output_type": "stream",
          "name": "stderr",
          "text": [
            "INFO:radiomics.featureextractor:Calculating features with label: 1\n",
            "INFO:radiomics.featureextractor:Loading image and mask\n",
            "INFO:radiomics.featureextractor:Computing shape\n",
            "INFO:radiomics.featureextractor:Adding image type \"Original\" with custom settings: {}\n",
            "INFO:radiomics.featureextractor:Calculating features for original image\n",
            "INFO:radiomics.featureextractor:Computing firstorder\n",
            "INFO:radiomics.featureextractor:Computing glcm\n",
            "GLCM is symmetrical, therefore Sum Average = 2 * Joint Average, only 1 needs to be calculated\n",
            "WARNING:radiomics.glcm:GLCM is symmetrical, therefore Sum Average = 2 * Joint Average, only 1 needs to be calculated\n",
            "INFO:radiomics.featureextractor:Computing gldm\n",
            "INFO:radiomics.featureextractor:Computing glrlm\n",
            "INFO:radiomics.featureextractor:Computing glszm\n",
            "INFO:radiomics.featureextractor:Computing ngtdm\n"
          ]
        },
        {
          "output_type": "stream",
          "name": "stdout",
          "text": [
            "009\n",
            "[INFO] Loaded DICOM series with size: (208, 256, 176)\n",
            "[INFO] Loaded mask with size: (48, 73, 57)\n"
          ]
        },
        {
          "output_type": "stream",
          "name": "stderr",
          "text": [
            "INFO:radiomics.featureextractor:Calculating features with label: 1\n",
            "INFO:radiomics.featureextractor:Loading image and mask\n",
            "INFO:radiomics.featureextractor:Computing shape\n",
            "INFO:radiomics.featureextractor:Adding image type \"Original\" with custom settings: {}\n",
            "INFO:radiomics.featureextractor:Calculating features for original image\n",
            "INFO:radiomics.featureextractor:Computing firstorder\n",
            "INFO:radiomics.featureextractor:Computing glcm\n",
            "GLCM is symmetrical, therefore Sum Average = 2 * Joint Average, only 1 needs to be calculated\n",
            "WARNING:radiomics.glcm:GLCM is symmetrical, therefore Sum Average = 2 * Joint Average, only 1 needs to be calculated\n",
            "INFO:radiomics.featureextractor:Computing gldm\n",
            "INFO:radiomics.featureextractor:Computing glrlm\n",
            "INFO:radiomics.featureextractor:Computing glszm\n",
            "INFO:radiomics.featureextractor:Computing ngtdm\n"
          ]
        },
        {
          "output_type": "stream",
          "name": "stdout",
          "text": [
            "010\n",
            "[INFO] Loaded DICOM series with size: (512, 512, 172)\n",
            "[INFO] Loaded mask with size: (52, 50, 21)\n"
          ]
        },
        {
          "output_type": "stream",
          "name": "stderr",
          "text": [
            "INFO:radiomics.featureextractor:Calculating features with label: 1\n",
            "INFO:radiomics.featureextractor:Loading image and mask\n",
            "INFO:radiomics.featureextractor:Computing shape\n",
            "INFO:radiomics.featureextractor:Adding image type \"Original\" with custom settings: {}\n",
            "INFO:radiomics.featureextractor:Calculating features for original image\n",
            "INFO:radiomics.featureextractor:Computing firstorder\n",
            "INFO:radiomics.featureextractor:Computing glcm\n",
            "GLCM is symmetrical, therefore Sum Average = 2 * Joint Average, only 1 needs to be calculated\n",
            "WARNING:radiomics.glcm:GLCM is symmetrical, therefore Sum Average = 2 * Joint Average, only 1 needs to be calculated\n",
            "INFO:radiomics.featureextractor:Computing gldm\n",
            "INFO:radiomics.featureextractor:Computing glrlm\n",
            "INFO:radiomics.featureextractor:Computing glszm\n",
            "INFO:radiomics.featureextractor:Computing ngtdm\n"
          ]
        },
        {
          "output_type": "stream",
          "name": "stdout",
          "text": [
            "011\n"
          ]
        },
        {
          "output_type": "stream",
          "name": "stderr",
          "text": [
            "INFO:radiomics.featureextractor:Calculating features with label: 1\n",
            "INFO:radiomics.featureextractor:Loading image and mask\n"
          ]
        },
        {
          "output_type": "stream",
          "name": "stdout",
          "text": [
            "[INFO] Loaded DICOM series with size: (224, 256, 192)\n",
            "[INFO] Loaded mask with size: (53, 74, 25)\n"
          ]
        },
        {
          "output_type": "stream",
          "name": "stderr",
          "text": [
            "INFO:radiomics.featureextractor:Computing shape\n",
            "INFO:radiomics.featureextractor:Adding image type \"Original\" with custom settings: {}\n",
            "INFO:radiomics.featureextractor:Calculating features for original image\n",
            "INFO:radiomics.featureextractor:Computing firstorder\n",
            "INFO:radiomics.featureextractor:Computing glcm\n",
            "GLCM is symmetrical, therefore Sum Average = 2 * Joint Average, only 1 needs to be calculated\n",
            "WARNING:radiomics.glcm:GLCM is symmetrical, therefore Sum Average = 2 * Joint Average, only 1 needs to be calculated\n",
            "INFO:radiomics.featureextractor:Computing gldm\n",
            "INFO:radiomics.featureextractor:Computing glrlm\n",
            "INFO:radiomics.featureextractor:Computing glszm\n",
            "INFO:radiomics.featureextractor:Computing ngtdm\n"
          ]
        },
        {
          "output_type": "stream",
          "name": "stdout",
          "text": [
            "012\n",
            "013\n"
          ]
        },
        {
          "output_type": "stream",
          "name": "stderr",
          "text": [
            "INFO:radiomics.featureextractor:Calculating features with label: 1\n",
            "INFO:radiomics.featureextractor:Loading image and mask\n"
          ]
        },
        {
          "output_type": "stream",
          "name": "stdout",
          "text": [
            "[INFO] Loaded DICOM series with size: (256, 256, 192)\n",
            "[INFO] Loaded mask with size: (39, 78, 39)\n"
          ]
        },
        {
          "output_type": "stream",
          "name": "stderr",
          "text": [
            "INFO:radiomics.featureextractor:Computing shape\n",
            "INFO:radiomics.featureextractor:Adding image type \"Original\" with custom settings: {}\n",
            "INFO:radiomics.featureextractor:Calculating features for original image\n",
            "INFO:radiomics.featureextractor:Computing firstorder\n",
            "INFO:radiomics.featureextractor:Computing glcm\n",
            "GLCM is symmetrical, therefore Sum Average = 2 * Joint Average, only 1 needs to be calculated\n",
            "WARNING:radiomics.glcm:GLCM is symmetrical, therefore Sum Average = 2 * Joint Average, only 1 needs to be calculated\n",
            "INFO:radiomics.featureextractor:Computing gldm\n",
            "INFO:radiomics.featureextractor:Computing glrlm\n",
            "INFO:radiomics.featureextractor:Computing glszm\n",
            "INFO:radiomics.featureextractor:Computing ngtdm\n"
          ]
        },
        {
          "output_type": "stream",
          "name": "stdout",
          "text": [
            "015\n",
            "[INFO] Loaded DICOM series with size: (216, 256, 192)\n",
            "[INFO] Loaded mask with size: (26, 31, 26)\n"
          ]
        },
        {
          "output_type": "stream",
          "name": "stderr",
          "text": [
            "INFO:radiomics.featureextractor:Calculating features with label: 1\n",
            "INFO:radiomics.featureextractor:Loading image and mask\n",
            "INFO:radiomics.featureextractor:Computing shape\n",
            "INFO:radiomics.featureextractor:Adding image type \"Original\" with custom settings: {}\n",
            "INFO:radiomics.featureextractor:Calculating features for original image\n",
            "INFO:radiomics.featureextractor:Computing firstorder\n",
            "INFO:radiomics.featureextractor:Computing glcm\n",
            "GLCM is symmetrical, therefore Sum Average = 2 * Joint Average, only 1 needs to be calculated\n",
            "WARNING:radiomics.glcm:GLCM is symmetrical, therefore Sum Average = 2 * Joint Average, only 1 needs to be calculated\n",
            "INFO:radiomics.featureextractor:Computing gldm\n",
            "INFO:radiomics.featureextractor:Computing glrlm\n",
            "INFO:radiomics.featureextractor:Computing glszm\n",
            "INFO:radiomics.featureextractor:Computing ngtdm\n"
          ]
        },
        {
          "output_type": "stream",
          "name": "stdout",
          "text": [
            "016\n"
          ]
        },
        {
          "output_type": "stream",
          "name": "stderr",
          "text": [
            "INFO:radiomics.featureextractor:Calculating features with label: 1\n",
            "INFO:radiomics.featureextractor:Loading image and mask\n"
          ]
        },
        {
          "output_type": "stream",
          "name": "stdout",
          "text": [
            "[INFO] Loaded DICOM series with size: (216, 256, 192)\n",
            "[INFO] Loaded mask with size: (6, 6, 9)\n"
          ]
        },
        {
          "output_type": "stream",
          "name": "stderr",
          "text": [
            "INFO:radiomics.featureextractor:Computing shape\n",
            "INFO:radiomics.featureextractor:Adding image type \"Original\" with custom settings: {}\n",
            "INFO:radiomics.featureextractor:Calculating features for original image\n",
            "INFO:radiomics.featureextractor:Computing firstorder\n",
            "INFO:radiomics.featureextractor:Computing glcm\n",
            "GLCM is symmetrical, therefore Sum Average = 2 * Joint Average, only 1 needs to be calculated\n",
            "WARNING:radiomics.glcm:GLCM is symmetrical, therefore Sum Average = 2 * Joint Average, only 1 needs to be calculated\n",
            "INFO:radiomics.featureextractor:Computing gldm\n",
            "INFO:radiomics.featureextractor:Computing glrlm\n",
            "INFO:radiomics.featureextractor:Computing glszm\n",
            "INFO:radiomics.featureextractor:Computing ngtdm\n"
          ]
        },
        {
          "output_type": "stream",
          "name": "stdout",
          "text": [
            "017\n"
          ]
        },
        {
          "output_type": "stream",
          "name": "stderr",
          "text": [
            "INFO:radiomics.featureextractor:Calculating features with label: 1\n",
            "INFO:radiomics.featureextractor:Loading image and mask\n"
          ]
        },
        {
          "output_type": "stream",
          "name": "stdout",
          "text": [
            "[INFO] Loaded DICOM series with size: (224, 256, 176)\n",
            "[INFO] Loaded mask with size: (9, 9, 10)\n"
          ]
        },
        {
          "output_type": "stream",
          "name": "stderr",
          "text": [
            "INFO:radiomics.featureextractor:Computing shape\n",
            "INFO:radiomics.featureextractor:Adding image type \"Original\" with custom settings: {}\n",
            "INFO:radiomics.featureextractor:Calculating features for original image\n",
            "INFO:radiomics.featureextractor:Computing firstorder\n",
            "INFO:radiomics.featureextractor:Computing glcm\n",
            "GLCM is symmetrical, therefore Sum Average = 2 * Joint Average, only 1 needs to be calculated\n",
            "WARNING:radiomics.glcm:GLCM is symmetrical, therefore Sum Average = 2 * Joint Average, only 1 needs to be calculated\n",
            "INFO:radiomics.featureextractor:Computing gldm\n",
            "INFO:radiomics.featureextractor:Computing glrlm\n",
            "INFO:radiomics.featureextractor:Computing glszm\n",
            "INFO:radiomics.featureextractor:Computing ngtdm\n"
          ]
        },
        {
          "output_type": "stream",
          "name": "stdout",
          "text": [
            "018\n"
          ]
        },
        {
          "output_type": "stream",
          "name": "stderr",
          "text": [
            "INFO:radiomics.featureextractor:Calculating features with label: 1\n",
            "INFO:radiomics.featureextractor:Loading image and mask\n"
          ]
        },
        {
          "output_type": "stream",
          "name": "stdout",
          "text": [
            "[INFO] Loaded DICOM series with size: (216, 256, 192)\n",
            "[INFO] Loaded mask with size: (18, 40, 11)\n"
          ]
        },
        {
          "output_type": "stream",
          "name": "stderr",
          "text": [
            "INFO:radiomics.featureextractor:Computing shape\n",
            "INFO:radiomics.featureextractor:Adding image type \"Original\" with custom settings: {}\n",
            "INFO:radiomics.featureextractor:Calculating features for original image\n",
            "INFO:radiomics.featureextractor:Computing firstorder\n",
            "INFO:radiomics.featureextractor:Computing glcm\n",
            "GLCM is symmetrical, therefore Sum Average = 2 * Joint Average, only 1 needs to be calculated\n",
            "WARNING:radiomics.glcm:GLCM is symmetrical, therefore Sum Average = 2 * Joint Average, only 1 needs to be calculated\n",
            "INFO:radiomics.featureextractor:Computing gldm\n",
            "INFO:radiomics.featureextractor:Computing glrlm\n",
            "INFO:radiomics.featureextractor:Computing glszm\n",
            "INFO:radiomics.featureextractor:Computing ngtdm\n"
          ]
        },
        {
          "output_type": "stream",
          "name": "stdout",
          "text": [
            "019\n"
          ]
        },
        {
          "output_type": "stream",
          "name": "stderr",
          "text": [
            "INFO:radiomics.featureextractor:Calculating features with label: 1\n",
            "INFO:radiomics.featureextractor:Loading image and mask\n"
          ]
        },
        {
          "output_type": "stream",
          "name": "stdout",
          "text": [
            "[INFO] Loaded DICOM series with size: (208, 256, 192)\n",
            "[INFO] Loaded mask with size: (65, 89, 10)\n"
          ]
        },
        {
          "output_type": "stream",
          "name": "stderr",
          "text": [
            "INFO:radiomics.featureextractor:Computing shape\n",
            "INFO:radiomics.featureextractor:Adding image type \"Original\" with custom settings: {}\n",
            "INFO:radiomics.featureextractor:Calculating features for original image\n",
            "INFO:radiomics.featureextractor:Computing firstorder\n",
            "INFO:radiomics.featureextractor:Computing glcm\n",
            "GLCM is symmetrical, therefore Sum Average = 2 * Joint Average, only 1 needs to be calculated\n",
            "WARNING:radiomics.glcm:GLCM is symmetrical, therefore Sum Average = 2 * Joint Average, only 1 needs to be calculated\n",
            "INFO:radiomics.featureextractor:Computing gldm\n",
            "INFO:radiomics.featureextractor:Computing glrlm\n",
            "INFO:radiomics.featureextractor:Computing glszm\n",
            "INFO:radiomics.featureextractor:Computing ngtdm\n"
          ]
        },
        {
          "output_type": "stream",
          "name": "stdout",
          "text": [
            "020\n"
          ]
        },
        {
          "output_type": "stream",
          "name": "stderr",
          "text": [
            "INFO:radiomics.featureextractor:Calculating features with label: 1\n",
            "INFO:radiomics.featureextractor:Loading image and mask\n"
          ]
        },
        {
          "output_type": "stream",
          "name": "stdout",
          "text": [
            "[INFO] Loaded DICOM series with size: (224, 256, 192)\n",
            "[INFO] Loaded mask with size: (45, 70, 41)\n"
          ]
        },
        {
          "output_type": "stream",
          "name": "stderr",
          "text": [
            "INFO:radiomics.featureextractor:Computing shape\n",
            "INFO:radiomics.featureextractor:Adding image type \"Original\" with custom settings: {}\n",
            "INFO:radiomics.featureextractor:Calculating features for original image\n",
            "INFO:radiomics.featureextractor:Computing firstorder\n",
            "INFO:radiomics.featureextractor:Computing glcm\n",
            "GLCM is symmetrical, therefore Sum Average = 2 * Joint Average, only 1 needs to be calculated\n",
            "WARNING:radiomics.glcm:GLCM is symmetrical, therefore Sum Average = 2 * Joint Average, only 1 needs to be calculated\n",
            "INFO:radiomics.featureextractor:Computing gldm\n",
            "INFO:radiomics.featureextractor:Computing glrlm\n",
            "INFO:radiomics.featureextractor:Computing glszm\n",
            "INFO:radiomics.featureextractor:Computing ngtdm\n"
          ]
        },
        {
          "output_type": "stream",
          "name": "stdout",
          "text": [
            "021\n"
          ]
        },
        {
          "output_type": "stream",
          "name": "stderr",
          "text": [
            "INFO:radiomics.featureextractor:Calculating features with label: 1\n",
            "INFO:radiomics.featureextractor:Loading image and mask\n"
          ]
        },
        {
          "output_type": "stream",
          "name": "stdout",
          "text": [
            "[INFO] Loaded DICOM series with size: (208, 256, 208)\n",
            "[INFO] Loaded mask with size: (37, 53, 60)\n"
          ]
        },
        {
          "output_type": "stream",
          "name": "stderr",
          "text": [
            "INFO:radiomics.featureextractor:Computing shape\n",
            "INFO:radiomics.featureextractor:Adding image type \"Original\" with custom settings: {}\n",
            "INFO:radiomics.featureextractor:Calculating features for original image\n",
            "INFO:radiomics.featureextractor:Computing firstorder\n",
            "INFO:radiomics.featureextractor:Computing glcm\n",
            "GLCM is symmetrical, therefore Sum Average = 2 * Joint Average, only 1 needs to be calculated\n",
            "WARNING:radiomics.glcm:GLCM is symmetrical, therefore Sum Average = 2 * Joint Average, only 1 needs to be calculated\n",
            "INFO:radiomics.featureextractor:Computing gldm\n",
            "INFO:radiomics.featureextractor:Computing glrlm\n",
            "INFO:radiomics.featureextractor:Computing glszm\n",
            "INFO:radiomics.featureextractor:Computing ngtdm\n"
          ]
        },
        {
          "output_type": "stream",
          "name": "stdout",
          "text": [
            "022\n"
          ]
        },
        {
          "output_type": "stream",
          "name": "stderr",
          "text": [
            "INFO:radiomics.featureextractor:Calculating features with label: 1\n",
            "INFO:radiomics.featureextractor:Loading image and mask\n"
          ]
        },
        {
          "output_type": "stream",
          "name": "stdout",
          "text": [
            "[INFO] Loaded DICOM series with size: (248, 256, 176)\n",
            "[INFO] Loaded mask with size: (13, 16, 12)\n"
          ]
        },
        {
          "output_type": "stream",
          "name": "stderr",
          "text": [
            "INFO:radiomics.featureextractor:Computing shape\n",
            "INFO:radiomics.featureextractor:Adding image type \"Original\" with custom settings: {}\n",
            "INFO:radiomics.featureextractor:Calculating features for original image\n",
            "INFO:radiomics.featureextractor:Computing firstorder\n",
            "INFO:radiomics.featureextractor:Computing glcm\n",
            "GLCM is symmetrical, therefore Sum Average = 2 * Joint Average, only 1 needs to be calculated\n",
            "WARNING:radiomics.glcm:GLCM is symmetrical, therefore Sum Average = 2 * Joint Average, only 1 needs to be calculated\n",
            "INFO:radiomics.featureextractor:Computing gldm\n",
            "INFO:radiomics.featureextractor:Computing glrlm\n",
            "INFO:radiomics.featureextractor:Computing glszm\n",
            "INFO:radiomics.featureextractor:Computing ngtdm\n"
          ]
        },
        {
          "output_type": "stream",
          "name": "stdout",
          "text": [
            "023\n",
            "[INFO] Loaded DICOM series with size: (216, 256, 192)\n",
            "[INFO] Loaded mask with size: (24, 21, 29)\n"
          ]
        },
        {
          "output_type": "stream",
          "name": "stderr",
          "text": [
            "INFO:radiomics.featureextractor:Calculating features with label: 1\n",
            "INFO:radiomics.featureextractor:Loading image and mask\n",
            "INFO:radiomics.featureextractor:Computing shape\n",
            "INFO:radiomics.featureextractor:Adding image type \"Original\" with custom settings: {}\n",
            "INFO:radiomics.featureextractor:Calculating features for original image\n",
            "INFO:radiomics.featureextractor:Computing firstorder\n",
            "INFO:radiomics.featureextractor:Computing glcm\n",
            "GLCM is symmetrical, therefore Sum Average = 2 * Joint Average, only 1 needs to be calculated\n",
            "WARNING:radiomics.glcm:GLCM is symmetrical, therefore Sum Average = 2 * Joint Average, only 1 needs to be calculated\n",
            "INFO:radiomics.featureextractor:Computing gldm\n",
            "INFO:radiomics.featureextractor:Computing glrlm\n",
            "INFO:radiomics.featureextractor:Computing glszm\n",
            "INFO:radiomics.featureextractor:Computing ngtdm\n"
          ]
        },
        {
          "output_type": "stream",
          "name": "stdout",
          "text": [
            "024\n",
            "[INFO] Loaded DICOM series with size: (512, 512, 348)\n",
            "[INFO] Loaded mask with size: (62, 89, 75)\n"
          ]
        },
        {
          "output_type": "stream",
          "name": "stderr",
          "text": [
            "INFO:radiomics.featureextractor:Calculating features with label: 1\n",
            "INFO:radiomics.featureextractor:Loading image and mask\n",
            "INFO:radiomics.featureextractor:Computing shape\n",
            "INFO:radiomics.featureextractor:Adding image type \"Original\" with custom settings: {}\n",
            "INFO:radiomics.featureextractor:Calculating features for original image\n",
            "INFO:radiomics.featureextractor:Computing firstorder\n",
            "INFO:radiomics.featureextractor:Computing glcm\n",
            "GLCM is symmetrical, therefore Sum Average = 2 * Joint Average, only 1 needs to be calculated\n",
            "WARNING:radiomics.glcm:GLCM is symmetrical, therefore Sum Average = 2 * Joint Average, only 1 needs to be calculated\n",
            "INFO:radiomics.featureextractor:Computing gldm\n",
            "INFO:radiomics.featureextractor:Computing glrlm\n",
            "INFO:radiomics.featureextractor:Computing glszm\n",
            "INFO:radiomics.featureextractor:Computing ngtdm\n"
          ]
        },
        {
          "output_type": "stream",
          "name": "stdout",
          "text": [
            "025\n"
          ]
        },
        {
          "output_type": "stream",
          "name": "stderr",
          "text": [
            "INFO:radiomics.featureextractor:Calculating features with label: 1\n",
            "INFO:radiomics.featureextractor:Loading image and mask\n"
          ]
        },
        {
          "output_type": "stream",
          "name": "stdout",
          "text": [
            "[INFO] Loaded DICOM series with size: (216, 256, 192)\n",
            "[INFO] Loaded mask with size: (58, 74, 57)\n"
          ]
        },
        {
          "output_type": "stream",
          "name": "stderr",
          "text": [
            "INFO:radiomics.featureextractor:Computing shape\n",
            "INFO:radiomics.featureextractor:Adding image type \"Original\" with custom settings: {}\n",
            "INFO:radiomics.featureextractor:Calculating features for original image\n",
            "INFO:radiomics.featureextractor:Computing firstorder\n",
            "INFO:radiomics.featureextractor:Computing glcm\n",
            "GLCM is symmetrical, therefore Sum Average = 2 * Joint Average, only 1 needs to be calculated\n",
            "WARNING:radiomics.glcm:GLCM is symmetrical, therefore Sum Average = 2 * Joint Average, only 1 needs to be calculated\n",
            "INFO:radiomics.featureextractor:Computing gldm\n",
            "INFO:radiomics.featureextractor:Computing glrlm\n",
            "INFO:radiomics.featureextractor:Computing glszm\n",
            "INFO:radiomics.featureextractor:Computing ngtdm\n"
          ]
        },
        {
          "output_type": "stream",
          "name": "stdout",
          "text": [
            "026\n",
            "[INFO] Loaded DICOM series with size: (256, 256, 176)\n",
            "[INFO] Loaded mask with size: (156, 139, 48)\n"
          ]
        },
        {
          "output_type": "stream",
          "name": "stderr",
          "text": [
            "INFO:radiomics.featureextractor:Calculating features with label: 1\n",
            "INFO:radiomics.featureextractor:Loading image and mask\n",
            "INFO:radiomics.featureextractor:Computing shape\n",
            "INFO:radiomics.featureextractor:Adding image type \"Original\" with custom settings: {}\n",
            "INFO:radiomics.featureextractor:Calculating features for original image\n",
            "INFO:radiomics.featureextractor:Computing firstorder\n",
            "INFO:radiomics.featureextractor:Computing glcm\n",
            "GLCM is symmetrical, therefore Sum Average = 2 * Joint Average, only 1 needs to be calculated\n",
            "WARNING:radiomics.glcm:GLCM is symmetrical, therefore Sum Average = 2 * Joint Average, only 1 needs to be calculated\n",
            "INFO:radiomics.featureextractor:Computing gldm\n",
            "INFO:radiomics.featureextractor:Computing glrlm\n",
            "INFO:radiomics.featureextractor:Computing glszm\n",
            "INFO:radiomics.featureextractor:Computing ngtdm\n"
          ]
        },
        {
          "output_type": "stream",
          "name": "stdout",
          "text": [
            "027\n"
          ]
        },
        {
          "output_type": "stream",
          "name": "stderr",
          "text": [
            "INFO:radiomics.featureextractor:Calculating features with label: 1\n",
            "INFO:radiomics.featureextractor:Loading image and mask\n"
          ]
        },
        {
          "output_type": "stream",
          "name": "stdout",
          "text": [
            "[INFO] Loaded DICOM series with size: (216, 256, 176)\n",
            "[INFO] Loaded mask with size: (30, 38, 30)\n"
          ]
        },
        {
          "output_type": "stream",
          "name": "stderr",
          "text": [
            "INFO:radiomics.featureextractor:Computing shape\n",
            "INFO:radiomics.featureextractor:Adding image type \"Original\" with custom settings: {}\n",
            "INFO:radiomics.featureextractor:Calculating features for original image\n",
            "INFO:radiomics.featureextractor:Computing firstorder\n",
            "INFO:radiomics.featureextractor:Computing glcm\n",
            "GLCM is symmetrical, therefore Sum Average = 2 * Joint Average, only 1 needs to be calculated\n",
            "WARNING:radiomics.glcm:GLCM is symmetrical, therefore Sum Average = 2 * Joint Average, only 1 needs to be calculated\n",
            "INFO:radiomics.featureextractor:Computing gldm\n",
            "INFO:radiomics.featureextractor:Computing glrlm\n",
            "INFO:radiomics.featureextractor:Computing glszm\n",
            "INFO:radiomics.featureextractor:Computing ngtdm\n"
          ]
        },
        {
          "output_type": "stream",
          "name": "stdout",
          "text": [
            "028\n"
          ]
        },
        {
          "output_type": "stream",
          "name": "stderr",
          "text": [
            "INFO:radiomics.featureextractor:Calculating features with label: 1\n",
            "INFO:radiomics.featureextractor:Loading image and mask\n"
          ]
        },
        {
          "output_type": "stream",
          "name": "stdout",
          "text": [
            "[INFO] Loaded DICOM series with size: (256, 256, 202)\n",
            "[INFO] Loaded mask with size: (54, 63, 62)\n"
          ]
        },
        {
          "output_type": "stream",
          "name": "stderr",
          "text": [
            "INFO:radiomics.featureextractor:Computing shape\n",
            "INFO:radiomics.featureextractor:Adding image type \"Original\" with custom settings: {}\n",
            "INFO:radiomics.featureextractor:Calculating features for original image\n",
            "INFO:radiomics.featureextractor:Computing firstorder\n",
            "INFO:radiomics.featureextractor:Computing glcm\n",
            "GLCM is symmetrical, therefore Sum Average = 2 * Joint Average, only 1 needs to be calculated\n",
            "WARNING:radiomics.glcm:GLCM is symmetrical, therefore Sum Average = 2 * Joint Average, only 1 needs to be calculated\n",
            "INFO:radiomics.featureextractor:Computing gldm\n",
            "INFO:radiomics.featureextractor:Computing glrlm\n",
            "INFO:radiomics.featureextractor:Computing glszm\n",
            "INFO:radiomics.featureextractor:Computing ngtdm\n"
          ]
        },
        {
          "output_type": "stream",
          "name": "stdout",
          "text": [
            "031\n",
            "[INFO] Loaded DICOM series with size: (200, 256, 192)\n",
            "[INFO] Loaded mask with size: (31, 31, 26)\n"
          ]
        },
        {
          "output_type": "stream",
          "name": "stderr",
          "text": [
            "INFO:radiomics.featureextractor:Calculating features with label: 1\n",
            "INFO:radiomics.featureextractor:Loading image and mask\n",
            "INFO:radiomics.featureextractor:Computing shape\n",
            "INFO:radiomics.featureextractor:Adding image type \"Original\" with custom settings: {}\n",
            "INFO:radiomics.featureextractor:Calculating features for original image\n",
            "INFO:radiomics.featureextractor:Computing firstorder\n",
            "INFO:radiomics.featureextractor:Computing glcm\n",
            "GLCM is symmetrical, therefore Sum Average = 2 * Joint Average, only 1 needs to be calculated\n",
            "WARNING:radiomics.glcm:GLCM is symmetrical, therefore Sum Average = 2 * Joint Average, only 1 needs to be calculated\n",
            "INFO:radiomics.featureextractor:Computing gldm\n",
            "INFO:radiomics.featureextractor:Computing glrlm\n",
            "INFO:radiomics.featureextractor:Computing glszm\n",
            "INFO:radiomics.featureextractor:Computing ngtdm\n"
          ]
        },
        {
          "output_type": "stream",
          "name": "stdout",
          "text": [
            "032\n",
            "033\n",
            "034\n"
          ]
        },
        {
          "output_type": "stream",
          "name": "stderr",
          "text": [
            "INFO:radiomics.featureextractor:Calculating features with label: 1\n",
            "INFO:radiomics.featureextractor:Loading image and mask\n"
          ]
        },
        {
          "output_type": "stream",
          "name": "stdout",
          "text": [
            "[INFO] Loaded DICOM series with size: (216, 256, 208)\n",
            "[INFO] Loaded mask with size: (53, 68, 47)\n"
          ]
        },
        {
          "output_type": "stream",
          "name": "stderr",
          "text": [
            "INFO:radiomics.featureextractor:Computing shape\n",
            "INFO:radiomics.featureextractor:Adding image type \"Original\" with custom settings: {}\n",
            "INFO:radiomics.featureextractor:Calculating features for original image\n",
            "INFO:radiomics.featureextractor:Computing firstorder\n",
            "INFO:radiomics.featureextractor:Computing glcm\n",
            "GLCM is symmetrical, therefore Sum Average = 2 * Joint Average, only 1 needs to be calculated\n",
            "WARNING:radiomics.glcm:GLCM is symmetrical, therefore Sum Average = 2 * Joint Average, only 1 needs to be calculated\n",
            "INFO:radiomics.featureextractor:Computing gldm\n",
            "INFO:radiomics.featureextractor:Computing glrlm\n",
            "INFO:radiomics.featureextractor:Computing glszm\n",
            "INFO:radiomics.featureextractor:Computing ngtdm\n"
          ]
        },
        {
          "output_type": "stream",
          "name": "stdout",
          "text": [
            "037\n",
            "[INFO] Loaded DICOM series with size: (216, 256, 176)\n",
            "[INFO] Loaded mask with size: (38, 47, 43)\n"
          ]
        },
        {
          "output_type": "stream",
          "name": "stderr",
          "text": [
            "INFO:radiomics.featureextractor:Calculating features with label: 1\n",
            "INFO:radiomics.featureextractor:Loading image and mask\n",
            "INFO:radiomics.featureextractor:Computing shape\n",
            "INFO:radiomics.featureextractor:Adding image type \"Original\" with custom settings: {}\n",
            "INFO:radiomics.featureextractor:Calculating features for original image\n",
            "INFO:radiomics.featureextractor:Computing firstorder\n",
            "INFO:radiomics.featureextractor:Computing glcm\n",
            "GLCM is symmetrical, therefore Sum Average = 2 * Joint Average, only 1 needs to be calculated\n",
            "WARNING:radiomics.glcm:GLCM is symmetrical, therefore Sum Average = 2 * Joint Average, only 1 needs to be calculated\n",
            "INFO:radiomics.featureextractor:Computing gldm\n",
            "INFO:radiomics.featureextractor:Computing glrlm\n",
            "INFO:radiomics.featureextractor:Computing glszm\n",
            "INFO:radiomics.featureextractor:Computing ngtdm\n"
          ]
        },
        {
          "output_type": "stream",
          "name": "stdout",
          "text": [
            "039\n",
            "[INFO] Loaded DICOM series with size: (216, 256, 192)\n",
            "[INFO] Loaded mask with size: (41, 50, 40)\n"
          ]
        },
        {
          "output_type": "stream",
          "name": "stderr",
          "text": [
            "INFO:radiomics.featureextractor:Calculating features with label: 1\n",
            "INFO:radiomics.featureextractor:Loading image and mask\n",
            "INFO:radiomics.featureextractor:Computing shape\n",
            "INFO:radiomics.featureextractor:Adding image type \"Original\" with custom settings: {}\n",
            "INFO:radiomics.featureextractor:Calculating features for original image\n",
            "INFO:radiomics.featureextractor:Computing firstorder\n",
            "INFO:radiomics.featureextractor:Computing glcm\n",
            "GLCM is symmetrical, therefore Sum Average = 2 * Joint Average, only 1 needs to be calculated\n",
            "WARNING:radiomics.glcm:GLCM is symmetrical, therefore Sum Average = 2 * Joint Average, only 1 needs to be calculated\n",
            "INFO:radiomics.featureextractor:Computing gldm\n",
            "INFO:radiomics.featureextractor:Computing glrlm\n",
            "INFO:radiomics.featureextractor:Computing glszm\n",
            "INFO:radiomics.featureextractor:Computing ngtdm\n"
          ]
        },
        {
          "output_type": "stream",
          "name": "stdout",
          "text": [
            "040\n",
            "041\n"
          ]
        },
        {
          "output_type": "stream",
          "name": "stderr",
          "text": [
            "INFO:radiomics.featureextractor:Calculating features with label: 1\n",
            "INFO:radiomics.featureextractor:Loading image and mask\n"
          ]
        },
        {
          "output_type": "stream",
          "name": "stdout",
          "text": [
            "[INFO] Loaded DICOM series with size: (200, 256, 192)\n",
            "[INFO] Loaded mask with size: (17, 24, 19)\n"
          ]
        },
        {
          "output_type": "stream",
          "name": "stderr",
          "text": [
            "INFO:radiomics.featureextractor:Computing shape\n",
            "INFO:radiomics.featureextractor:Adding image type \"Original\" with custom settings: {}\n",
            "INFO:radiomics.featureextractor:Calculating features for original image\n",
            "INFO:radiomics.featureextractor:Computing firstorder\n",
            "INFO:radiomics.featureextractor:Computing glcm\n",
            "GLCM is symmetrical, therefore Sum Average = 2 * Joint Average, only 1 needs to be calculated\n",
            "WARNING:radiomics.glcm:GLCM is symmetrical, therefore Sum Average = 2 * Joint Average, only 1 needs to be calculated\n",
            "INFO:radiomics.featureextractor:Computing gldm\n",
            "INFO:radiomics.featureextractor:Computing glrlm\n",
            "INFO:radiomics.featureextractor:Computing glszm\n",
            "INFO:radiomics.featureextractor:Computing ngtdm\n"
          ]
        },
        {
          "output_type": "stream",
          "name": "stdout",
          "text": [
            "044\n"
          ]
        },
        {
          "output_type": "stream",
          "name": "stderr",
          "text": [
            "INFO:radiomics.featureextractor:Calculating features with label: 1\n",
            "INFO:radiomics.featureextractor:Loading image and mask\n"
          ]
        },
        {
          "output_type": "stream",
          "name": "stdout",
          "text": [
            "[INFO] Loaded DICOM series with size: (256, 256, 192)\n",
            "[INFO] Loaded mask with size: (19, 37, 22)\n"
          ]
        },
        {
          "output_type": "stream",
          "name": "stderr",
          "text": [
            "INFO:radiomics.featureextractor:Computing shape\n",
            "INFO:radiomics.featureextractor:Adding image type \"Original\" with custom settings: {}\n",
            "INFO:radiomics.featureextractor:Calculating features for original image\n",
            "INFO:radiomics.featureextractor:Computing firstorder\n",
            "INFO:radiomics.featureextractor:Computing glcm\n",
            "GLCM is symmetrical, therefore Sum Average = 2 * Joint Average, only 1 needs to be calculated\n",
            "WARNING:radiomics.glcm:GLCM is symmetrical, therefore Sum Average = 2 * Joint Average, only 1 needs to be calculated\n",
            "INFO:radiomics.featureextractor:Computing gldm\n",
            "INFO:radiomics.featureextractor:Computing glrlm\n",
            "INFO:radiomics.featureextractor:Computing glszm\n",
            "INFO:radiomics.featureextractor:Computing ngtdm\n"
          ]
        },
        {
          "output_type": "stream",
          "name": "stdout",
          "text": [
            "045\n"
          ]
        },
        {
          "output_type": "stream",
          "name": "stderr",
          "text": [
            "INFO:radiomics.featureextractor:Calculating features with label: 1\n",
            "INFO:radiomics.featureextractor:Loading image and mask\n"
          ]
        },
        {
          "output_type": "stream",
          "name": "stdout",
          "text": [
            "[INFO] Loaded DICOM series with size: (216, 256, 176)\n",
            "[INFO] Loaded mask with size: (43, 59, 38)\n"
          ]
        },
        {
          "output_type": "stream",
          "name": "stderr",
          "text": [
            "INFO:radiomics.featureextractor:Computing shape\n",
            "INFO:radiomics.featureextractor:Adding image type \"Original\" with custom settings: {}\n",
            "INFO:radiomics.featureextractor:Calculating features for original image\n",
            "INFO:radiomics.featureextractor:Computing firstorder\n",
            "INFO:radiomics.featureextractor:Computing glcm\n",
            "GLCM is symmetrical, therefore Sum Average = 2 * Joint Average, only 1 needs to be calculated\n",
            "WARNING:radiomics.glcm:GLCM is symmetrical, therefore Sum Average = 2 * Joint Average, only 1 needs to be calculated\n",
            "INFO:radiomics.featureextractor:Computing gldm\n",
            "INFO:radiomics.featureextractor:Computing glrlm\n",
            "INFO:radiomics.featureextractor:Computing glszm\n",
            "INFO:radiomics.featureextractor:Computing ngtdm\n"
          ]
        },
        {
          "output_type": "stream",
          "name": "stdout",
          "text": [
            "046\n",
            "[INFO] Loaded DICOM series with size: (216, 256, 192)\n",
            "[INFO] Loaded mask with size: (38, 71, 46)\n"
          ]
        },
        {
          "output_type": "stream",
          "name": "stderr",
          "text": [
            "INFO:radiomics.featureextractor:Calculating features with label: 1\n",
            "INFO:radiomics.featureextractor:Loading image and mask\n",
            "INFO:radiomics.featureextractor:Computing shape\n",
            "INFO:radiomics.featureextractor:Adding image type \"Original\" with custom settings: {}\n",
            "INFO:radiomics.featureextractor:Calculating features for original image\n",
            "INFO:radiomics.featureextractor:Computing firstorder\n",
            "INFO:radiomics.featureextractor:Computing glcm\n",
            "GLCM is symmetrical, therefore Sum Average = 2 * Joint Average, only 1 needs to be calculated\n",
            "WARNING:radiomics.glcm:GLCM is symmetrical, therefore Sum Average = 2 * Joint Average, only 1 needs to be calculated\n",
            "INFO:radiomics.featureextractor:Computing gldm\n",
            "INFO:radiomics.featureextractor:Computing glrlm\n",
            "INFO:radiomics.featureextractor:Computing glszm\n",
            "INFO:radiomics.featureextractor:Computing ngtdm\n"
          ]
        },
        {
          "output_type": "stream",
          "name": "stdout",
          "text": [
            "047\n"
          ]
        },
        {
          "output_type": "stream",
          "name": "stderr",
          "text": [
            "INFO:radiomics.featureextractor:Calculating features with label: 1\n",
            "INFO:radiomics.featureextractor:Loading image and mask\n"
          ]
        },
        {
          "output_type": "stream",
          "name": "stdout",
          "text": [
            "[INFO] Loaded DICOM series with size: (256, 256, 176)\n",
            "[INFO] Loaded mask with size: (10, 8, 8)\n"
          ]
        },
        {
          "output_type": "stream",
          "name": "stderr",
          "text": [
            "INFO:radiomics.featureextractor:Computing shape\n",
            "INFO:radiomics.featureextractor:Adding image type \"Original\" with custom settings: {}\n",
            "INFO:radiomics.featureextractor:Calculating features for original image\n",
            "INFO:radiomics.featureextractor:Computing firstorder\n",
            "INFO:radiomics.featureextractor:Computing glcm\n",
            "GLCM is symmetrical, therefore Sum Average = 2 * Joint Average, only 1 needs to be calculated\n",
            "WARNING:radiomics.glcm:GLCM is symmetrical, therefore Sum Average = 2 * Joint Average, only 1 needs to be calculated\n",
            "INFO:radiomics.featureextractor:Computing gldm\n",
            "INFO:radiomics.featureextractor:Computing glrlm\n",
            "INFO:radiomics.featureextractor:Computing glszm\n",
            "INFO:radiomics.featureextractor:Computing ngtdm\n"
          ]
        },
        {
          "output_type": "stream",
          "name": "stdout",
          "text": [
            "048\n",
            "[INFO] Loaded DICOM series with size: (560, 560, 174)\n",
            "[INFO] Loaded mask with size: (86, 97, 12)\n"
          ]
        },
        {
          "output_type": "stream",
          "name": "stderr",
          "text": [
            "INFO:radiomics.featureextractor:Calculating features with label: 1\n",
            "INFO:radiomics.featureextractor:Loading image and mask\n",
            "INFO:radiomics.featureextractor:Computing shape\n",
            "INFO:radiomics.featureextractor:Adding image type \"Original\" with custom settings: {}\n",
            "INFO:radiomics.featureextractor:Calculating features for original image\n",
            "INFO:radiomics.featureextractor:Computing firstorder\n",
            "INFO:radiomics.featureextractor:Computing glcm\n",
            "GLCM is symmetrical, therefore Sum Average = 2 * Joint Average, only 1 needs to be calculated\n",
            "WARNING:radiomics.glcm:GLCM is symmetrical, therefore Sum Average = 2 * Joint Average, only 1 needs to be calculated\n",
            "INFO:radiomics.featureextractor:Computing gldm\n",
            "INFO:radiomics.featureextractor:Computing glrlm\n",
            "INFO:radiomics.featureextractor:Computing glszm\n",
            "INFO:radiomics.featureextractor:Computing ngtdm\n"
          ]
        },
        {
          "output_type": "stream",
          "name": "stdout",
          "text": [
            "049\n"
          ]
        },
        {
          "output_type": "stream",
          "name": "stderr",
          "text": [
            "INFO:radiomics.featureextractor:Calculating features with label: 1\n",
            "INFO:radiomics.featureextractor:Loading image and mask\n"
          ]
        },
        {
          "output_type": "stream",
          "name": "stdout",
          "text": [
            "[INFO] Loaded DICOM series with size: (224, 256, 192)\n",
            "[INFO] Loaded mask with size: (29, 36, 41)\n"
          ]
        },
        {
          "output_type": "stream",
          "name": "stderr",
          "text": [
            "INFO:radiomics.featureextractor:Computing shape\n",
            "INFO:radiomics.featureextractor:Adding image type \"Original\" with custom settings: {}\n",
            "INFO:radiomics.featureextractor:Calculating features for original image\n",
            "INFO:radiomics.featureextractor:Computing firstorder\n",
            "INFO:radiomics.featureextractor:Computing glcm\n",
            "GLCM is symmetrical, therefore Sum Average = 2 * Joint Average, only 1 needs to be calculated\n",
            "WARNING:radiomics.glcm:GLCM is symmetrical, therefore Sum Average = 2 * Joint Average, only 1 needs to be calculated\n",
            "INFO:radiomics.featureextractor:Computing gldm\n",
            "INFO:radiomics.featureextractor:Computing glrlm\n",
            "INFO:radiomics.featureextractor:Computing glszm\n",
            "INFO:radiomics.featureextractor:Computing ngtdm\n"
          ]
        },
        {
          "output_type": "stream",
          "name": "stdout",
          "text": [
            "050\n"
          ]
        },
        {
          "output_type": "stream",
          "name": "stderr",
          "text": [
            "INFO:radiomics.featureextractor:Calculating features with label: 1\n",
            "INFO:radiomics.featureextractor:Loading image and mask\n"
          ]
        },
        {
          "output_type": "stream",
          "name": "stdout",
          "text": [
            "[INFO] Loaded DICOM series with size: (216, 256, 192)\n",
            "[INFO] Loaded mask with size: (49, 73, 35)\n"
          ]
        },
        {
          "output_type": "stream",
          "name": "stderr",
          "text": [
            "INFO:radiomics.featureextractor:Computing shape\n",
            "INFO:radiomics.featureextractor:Adding image type \"Original\" with custom settings: {}\n",
            "INFO:radiomics.featureextractor:Calculating features for original image\n",
            "INFO:radiomics.featureextractor:Computing firstorder\n",
            "INFO:radiomics.featureextractor:Computing glcm\n",
            "GLCM is symmetrical, therefore Sum Average = 2 * Joint Average, only 1 needs to be calculated\n",
            "WARNING:radiomics.glcm:GLCM is symmetrical, therefore Sum Average = 2 * Joint Average, only 1 needs to be calculated\n",
            "INFO:radiomics.featureextractor:Computing gldm\n",
            "INFO:radiomics.featureextractor:Computing glrlm\n",
            "INFO:radiomics.featureextractor:Computing glszm\n",
            "INFO:radiomics.featureextractor:Computing ngtdm\n"
          ]
        },
        {
          "output_type": "stream",
          "name": "stdout",
          "text": [
            "051\n"
          ]
        },
        {
          "output_type": "stream",
          "name": "stderr",
          "text": [
            "INFO:radiomics.featureextractor:Calculating features with label: 1\n",
            "INFO:radiomics.featureextractor:Loading image and mask\n"
          ]
        },
        {
          "output_type": "stream",
          "name": "stdout",
          "text": [
            "[INFO] Loaded DICOM series with size: (216, 256, 151)\n",
            "[INFO] Loaded mask with size: (16, 27, 29)\n"
          ]
        },
        {
          "output_type": "stream",
          "name": "stderr",
          "text": [
            "INFO:radiomics.featureextractor:Computing shape\n",
            "INFO:radiomics.featureextractor:Adding image type \"Original\" with custom settings: {}\n",
            "INFO:radiomics.featureextractor:Calculating features for original image\n",
            "INFO:radiomics.featureextractor:Computing firstorder\n",
            "INFO:radiomics.featureextractor:Computing glcm\n",
            "GLCM is symmetrical, therefore Sum Average = 2 * Joint Average, only 1 needs to be calculated\n",
            "WARNING:radiomics.glcm:GLCM is symmetrical, therefore Sum Average = 2 * Joint Average, only 1 needs to be calculated\n",
            "INFO:radiomics.featureextractor:Computing gldm\n",
            "INFO:radiomics.featureextractor:Computing glrlm\n",
            "INFO:radiomics.featureextractor:Computing glszm\n",
            "INFO:radiomics.featureextractor:Computing ngtdm\n"
          ]
        },
        {
          "output_type": "stream",
          "name": "stdout",
          "text": [
            "052\n",
            "[INFO] Loaded DICOM series with size: (512, 512, 192)\n",
            "[INFO] Loaded mask with size: (63, 119, 41)\n"
          ]
        },
        {
          "output_type": "stream",
          "name": "stderr",
          "text": [
            "INFO:radiomics.featureextractor:Calculating features with label: 1\n",
            "INFO:radiomics.featureextractor:Loading image and mask\n",
            "INFO:radiomics.featureextractor:Computing shape\n",
            "INFO:radiomics.featureextractor:Adding image type \"Original\" with custom settings: {}\n",
            "INFO:radiomics.featureextractor:Calculating features for original image\n",
            "INFO:radiomics.featureextractor:Computing firstorder\n",
            "INFO:radiomics.featureextractor:Computing glcm\n",
            "GLCM is symmetrical, therefore Sum Average = 2 * Joint Average, only 1 needs to be calculated\n",
            "WARNING:radiomics.glcm:GLCM is symmetrical, therefore Sum Average = 2 * Joint Average, only 1 needs to be calculated\n",
            "INFO:radiomics.featureextractor:Computing gldm\n",
            "INFO:radiomics.featureextractor:Computing glrlm\n",
            "INFO:radiomics.featureextractor:Computing glszm\n",
            "INFO:radiomics.featureextractor:Computing ngtdm\n"
          ]
        },
        {
          "output_type": "stream",
          "name": "stdout",
          "text": [
            "053\n",
            "[INFO] Loaded DICOM series with size: (216, 256, 176)\n",
            "[INFO] Loaded mask with size: (41, 51, 11)\n"
          ]
        },
        {
          "output_type": "stream",
          "name": "stderr",
          "text": [
            "INFO:radiomics.featureextractor:Calculating features with label: 1\n",
            "INFO:radiomics.featureextractor:Loading image and mask\n",
            "INFO:radiomics.featureextractor:Computing shape\n",
            "INFO:radiomics.featureextractor:Adding image type \"Original\" with custom settings: {}\n",
            "INFO:radiomics.featureextractor:Calculating features for original image\n",
            "INFO:radiomics.featureextractor:Computing firstorder\n",
            "INFO:radiomics.featureextractor:Computing glcm\n",
            "GLCM is symmetrical, therefore Sum Average = 2 * Joint Average, only 1 needs to be calculated\n",
            "WARNING:radiomics.glcm:GLCM is symmetrical, therefore Sum Average = 2 * Joint Average, only 1 needs to be calculated\n",
            "INFO:radiomics.featureextractor:Computing gldm\n",
            "INFO:radiomics.featureextractor:Computing glrlm\n",
            "INFO:radiomics.featureextractor:Computing glszm\n",
            "INFO:radiomics.featureextractor:Computing ngtdm\n"
          ]
        },
        {
          "output_type": "stream",
          "name": "stdout",
          "text": [
            "054\n",
            "[INFO] Loaded DICOM series with size: (256, 256, 192)\n",
            "[INFO] Loaded mask with size: (73, 83, 58)\n"
          ]
        },
        {
          "output_type": "stream",
          "name": "stderr",
          "text": [
            "INFO:radiomics.featureextractor:Calculating features with label: 1\n",
            "INFO:radiomics.featureextractor:Loading image and mask\n",
            "INFO:radiomics.featureextractor:Computing shape\n",
            "INFO:radiomics.featureextractor:Adding image type \"Original\" with custom settings: {}\n",
            "INFO:radiomics.featureextractor:Calculating features for original image\n",
            "INFO:radiomics.featureextractor:Computing firstorder\n",
            "INFO:radiomics.featureextractor:Computing glcm\n",
            "GLCM is symmetrical, therefore Sum Average = 2 * Joint Average, only 1 needs to be calculated\n",
            "WARNING:radiomics.glcm:GLCM is symmetrical, therefore Sum Average = 2 * Joint Average, only 1 needs to be calculated\n",
            "INFO:radiomics.featureextractor:Computing gldm\n",
            "INFO:radiomics.featureextractor:Computing glrlm\n",
            "INFO:radiomics.featureextractor:Computing glszm\n",
            "INFO:radiomics.featureextractor:Computing ngtdm\n"
          ]
        },
        {
          "output_type": "stream",
          "name": "stdout",
          "text": [
            "055\n",
            "[INFO] Loaded DICOM series with size: (256, 256, 192)\n",
            "[INFO] Loaded mask with size: (34, 30, 20)\n"
          ]
        },
        {
          "output_type": "stream",
          "name": "stderr",
          "text": [
            "INFO:radiomics.featureextractor:Calculating features with label: 1\n",
            "INFO:radiomics.featureextractor:Loading image and mask\n",
            "INFO:radiomics.featureextractor:Computing shape\n",
            "INFO:radiomics.featureextractor:Adding image type \"Original\" with custom settings: {}\n",
            "INFO:radiomics.featureextractor:Calculating features for original image\n",
            "INFO:radiomics.featureextractor:Computing firstorder\n",
            "INFO:radiomics.featureextractor:Computing glcm\n",
            "GLCM is symmetrical, therefore Sum Average = 2 * Joint Average, only 1 needs to be calculated\n",
            "WARNING:radiomics.glcm:GLCM is symmetrical, therefore Sum Average = 2 * Joint Average, only 1 needs to be calculated\n",
            "INFO:radiomics.featureextractor:Computing gldm\n",
            "INFO:radiomics.featureextractor:Computing glrlm\n",
            "INFO:radiomics.featureextractor:Computing glszm\n",
            "INFO:radiomics.featureextractor:Computing ngtdm\n"
          ]
        },
        {
          "output_type": "stream",
          "name": "stdout",
          "text": [
            "056\n",
            "[INFO] Loaded DICOM series with size: (512, 512, 192)\n",
            "[INFO] Loaded mask with size: (55, 76, 42)\n"
          ]
        },
        {
          "output_type": "stream",
          "name": "stderr",
          "text": [
            "INFO:radiomics.featureextractor:Calculating features with label: 1\n",
            "INFO:radiomics.featureextractor:Loading image and mask\n",
            "INFO:radiomics.featureextractor:Computing shape\n",
            "INFO:radiomics.featureextractor:Adding image type \"Original\" with custom settings: {}\n",
            "INFO:radiomics.featureextractor:Calculating features for original image\n",
            "INFO:radiomics.featureextractor:Computing firstorder\n",
            "INFO:radiomics.featureextractor:Computing glcm\n",
            "GLCM is symmetrical, therefore Sum Average = 2 * Joint Average, only 1 needs to be calculated\n",
            "WARNING:radiomics.glcm:GLCM is symmetrical, therefore Sum Average = 2 * Joint Average, only 1 needs to be calculated\n",
            "INFO:radiomics.featureextractor:Computing gldm\n",
            "INFO:radiomics.featureextractor:Computing glrlm\n",
            "INFO:radiomics.featureextractor:Computing glszm\n",
            "INFO:radiomics.featureextractor:Computing ngtdm\n"
          ]
        },
        {
          "output_type": "stream",
          "name": "stdout",
          "text": [
            "057\n"
          ]
        },
        {
          "output_type": "stream",
          "name": "stderr",
          "text": [
            "INFO:radiomics.featureextractor:Calculating features with label: 1\n",
            "INFO:radiomics.featureextractor:Loading image and mask\n"
          ]
        },
        {
          "output_type": "stream",
          "name": "stdout",
          "text": [
            "[INFO] Loaded DICOM series with size: (216, 256, 192)\n",
            "[INFO] Loaded mask with size: (38, 67, 40)\n"
          ]
        },
        {
          "output_type": "stream",
          "name": "stderr",
          "text": [
            "INFO:radiomics.featureextractor:Computing shape\n",
            "INFO:radiomics.featureextractor:Adding image type \"Original\" with custom settings: {}\n",
            "INFO:radiomics.featureextractor:Calculating features for original image\n",
            "INFO:radiomics.featureextractor:Computing firstorder\n",
            "INFO:radiomics.featureextractor:Computing glcm\n",
            "GLCM is symmetrical, therefore Sum Average = 2 * Joint Average, only 1 needs to be calculated\n",
            "WARNING:radiomics.glcm:GLCM is symmetrical, therefore Sum Average = 2 * Joint Average, only 1 needs to be calculated\n",
            "INFO:radiomics.featureextractor:Computing gldm\n",
            "INFO:radiomics.featureextractor:Computing glrlm\n",
            "INFO:radiomics.featureextractor:Computing glszm\n",
            "INFO:radiomics.featureextractor:Computing ngtdm\n"
          ]
        },
        {
          "output_type": "stream",
          "name": "stdout",
          "text": [
            "058\n"
          ]
        },
        {
          "output_type": "stream",
          "name": "stderr",
          "text": [
            "INFO:radiomics.featureextractor:Calculating features with label: 1\n",
            "INFO:radiomics.featureextractor:Loading image and mask\n"
          ]
        },
        {
          "output_type": "stream",
          "name": "stdout",
          "text": [
            "[INFO] Loaded DICOM series with size: (256, 256, 166)\n",
            "[INFO] Loaded mask with size: (251, 140, 120)\n"
          ]
        },
        {
          "output_type": "stream",
          "name": "stderr",
          "text": [
            "INFO:radiomics.featureextractor:Computing shape\n",
            "INFO:radiomics.featureextractor:Adding image type \"Original\" with custom settings: {}\n",
            "INFO:radiomics.featureextractor:Calculating features for original image\n",
            "INFO:radiomics.featureextractor:Computing firstorder\n",
            "INFO:radiomics.featureextractor:Computing glcm\n",
            "GLCM is symmetrical, therefore Sum Average = 2 * Joint Average, only 1 needs to be calculated\n",
            "WARNING:radiomics.glcm:GLCM is symmetrical, therefore Sum Average = 2 * Joint Average, only 1 needs to be calculated\n",
            "INFO:radiomics.featureextractor:Computing gldm\n",
            "INFO:radiomics.featureextractor:Computing glrlm\n",
            "INFO:radiomics.featureextractor:Computing glszm\n",
            "INFO:radiomics.featureextractor:Computing ngtdm\n"
          ]
        },
        {
          "output_type": "stream",
          "name": "stdout",
          "text": [
            "059\n"
          ]
        },
        {
          "output_type": "stream",
          "name": "stderr",
          "text": [
            "INFO:radiomics.featureextractor:Calculating features with label: 1\n",
            "INFO:radiomics.featureextractor:Loading image and mask\n"
          ]
        },
        {
          "output_type": "stream",
          "name": "stdout",
          "text": [
            "[INFO] Loaded DICOM series with size: (208, 256, 176)\n",
            "[INFO] Loaded mask with size: (92, 76, 76)\n"
          ]
        },
        {
          "output_type": "stream",
          "name": "stderr",
          "text": [
            "INFO:radiomics.featureextractor:Computing shape\n",
            "INFO:radiomics.featureextractor:Adding image type \"Original\" with custom settings: {}\n",
            "INFO:radiomics.featureextractor:Calculating features for original image\n",
            "INFO:radiomics.featureextractor:Computing firstorder\n",
            "INFO:radiomics.featureextractor:Computing glcm\n",
            "GLCM is symmetrical, therefore Sum Average = 2 * Joint Average, only 1 needs to be calculated\n",
            "WARNING:radiomics.glcm:GLCM is symmetrical, therefore Sum Average = 2 * Joint Average, only 1 needs to be calculated\n",
            "INFO:radiomics.featureextractor:Computing gldm\n",
            "INFO:radiomics.featureextractor:Computing glrlm\n",
            "INFO:radiomics.featureextractor:Computing glszm\n",
            "INFO:radiomics.featureextractor:Computing ngtdm\n"
          ]
        },
        {
          "output_type": "stream",
          "name": "stdout",
          "text": [
            "060\n"
          ]
        },
        {
          "output_type": "stream",
          "name": "stderr",
          "text": [
            "INFO:radiomics.featureextractor:Calculating features with label: 1\n",
            "INFO:radiomics.featureextractor:Loading image and mask\n"
          ]
        },
        {
          "output_type": "stream",
          "name": "stdout",
          "text": [
            "[INFO] Loaded DICOM series with size: (224, 256, 192)\n",
            "[INFO] Loaded mask with size: (19, 75, 54)\n"
          ]
        },
        {
          "output_type": "stream",
          "name": "stderr",
          "text": [
            "INFO:radiomics.featureextractor:Computing shape\n",
            "INFO:radiomics.featureextractor:Adding image type \"Original\" with custom settings: {}\n",
            "INFO:radiomics.featureextractor:Calculating features for original image\n",
            "INFO:radiomics.featureextractor:Computing firstorder\n",
            "INFO:radiomics.featureextractor:Computing glcm\n",
            "GLCM is symmetrical, therefore Sum Average = 2 * Joint Average, only 1 needs to be calculated\n",
            "WARNING:radiomics.glcm:GLCM is symmetrical, therefore Sum Average = 2 * Joint Average, only 1 needs to be calculated\n",
            "INFO:radiomics.featureextractor:Computing gldm\n",
            "INFO:radiomics.featureextractor:Computing glrlm\n",
            "INFO:radiomics.featureextractor:Computing glszm\n",
            "INFO:radiomics.featureextractor:Computing ngtdm\n"
          ]
        },
        {
          "output_type": "stream",
          "name": "stdout",
          "text": [
            "062\n",
            "[INFO] Loaded DICOM series with size: (216, 256, 192)\n",
            "[INFO] Loaded mask with size: (42, 56, 40)\n"
          ]
        },
        {
          "output_type": "stream",
          "name": "stderr",
          "text": [
            "INFO:radiomics.featureextractor:Calculating features with label: 1\n",
            "INFO:radiomics.featureextractor:Loading image and mask\n",
            "INFO:radiomics.featureextractor:Computing shape\n",
            "INFO:radiomics.featureextractor:Adding image type \"Original\" with custom settings: {}\n",
            "INFO:radiomics.featureextractor:Calculating features for original image\n",
            "INFO:radiomics.featureextractor:Computing firstorder\n",
            "INFO:radiomics.featureextractor:Computing glcm\n",
            "GLCM is symmetrical, therefore Sum Average = 2 * Joint Average, only 1 needs to be calculated\n",
            "WARNING:radiomics.glcm:GLCM is symmetrical, therefore Sum Average = 2 * Joint Average, only 1 needs to be calculated\n",
            "INFO:radiomics.featureextractor:Computing gldm\n",
            "INFO:radiomics.featureextractor:Computing glrlm\n",
            "INFO:radiomics.featureextractor:Computing glszm\n",
            "INFO:radiomics.featureextractor:Computing ngtdm\n"
          ]
        },
        {
          "output_type": "stream",
          "name": "stdout",
          "text": [
            "063\n",
            "[INFO] Loaded DICOM series with size: (216, 256, 192)\n",
            "[INFO] Loaded mask with size: (44, 51, 51)\n"
          ]
        },
        {
          "output_type": "stream",
          "name": "stderr",
          "text": [
            "INFO:radiomics.featureextractor:Calculating features with label: 1\n",
            "INFO:radiomics.featureextractor:Loading image and mask\n",
            "INFO:radiomics.featureextractor:Computing shape\n",
            "INFO:radiomics.featureextractor:Adding image type \"Original\" with custom settings: {}\n",
            "INFO:radiomics.featureextractor:Calculating features for original image\n",
            "INFO:radiomics.featureextractor:Computing firstorder\n",
            "INFO:radiomics.featureextractor:Computing glcm\n",
            "GLCM is symmetrical, therefore Sum Average = 2 * Joint Average, only 1 needs to be calculated\n",
            "WARNING:radiomics.glcm:GLCM is symmetrical, therefore Sum Average = 2 * Joint Average, only 1 needs to be calculated\n",
            "INFO:radiomics.featureextractor:Computing gldm\n",
            "INFO:radiomics.featureextractor:Computing glrlm\n",
            "INFO:radiomics.featureextractor:Computing glszm\n",
            "INFO:radiomics.featureextractor:Computing ngtdm\n"
          ]
        },
        {
          "output_type": "stream",
          "name": "stdout",
          "text": [
            "065\n",
            "066\n"
          ]
        },
        {
          "output_type": "stream",
          "name": "stderr",
          "text": [
            "INFO:radiomics.featureextractor:Calculating features with label: 1\n",
            "INFO:radiomics.featureextractor:Loading image and mask\n"
          ]
        },
        {
          "output_type": "stream",
          "name": "stdout",
          "text": [
            "[INFO] Loaded DICOM series with size: (216, 256, 208)\n",
            "[INFO] Loaded mask with size: (49, 57, 59)\n"
          ]
        },
        {
          "output_type": "stream",
          "name": "stderr",
          "text": [
            "INFO:radiomics.featureextractor:Computing shape\n",
            "INFO:radiomics.featureextractor:Adding image type \"Original\" with custom settings: {}\n",
            "INFO:radiomics.featureextractor:Calculating features for original image\n",
            "INFO:radiomics.featureextractor:Computing firstorder\n",
            "INFO:radiomics.featureextractor:Computing glcm\n",
            "GLCM is symmetrical, therefore Sum Average = 2 * Joint Average, only 1 needs to be calculated\n",
            "WARNING:radiomics.glcm:GLCM is symmetrical, therefore Sum Average = 2 * Joint Average, only 1 needs to be calculated\n",
            "INFO:radiomics.featureextractor:Computing gldm\n",
            "INFO:radiomics.featureextractor:Computing glrlm\n",
            "INFO:radiomics.featureextractor:Computing glszm\n",
            "INFO:radiomics.featureextractor:Computing ngtdm\n"
          ]
        },
        {
          "output_type": "stream",
          "name": "stdout",
          "text": [
            "067\n"
          ]
        },
        {
          "output_type": "stream",
          "name": "stderr",
          "text": [
            "INFO:radiomics.featureextractor:Calculating features with label: 1\n",
            "INFO:radiomics.featureextractor:Loading image and mask\n"
          ]
        },
        {
          "output_type": "stream",
          "name": "stdout",
          "text": [
            "[INFO] Loaded DICOM series with size: (216, 256, 208)\n",
            "[INFO] Loaded mask with size: (43, 68, 44)\n"
          ]
        },
        {
          "output_type": "stream",
          "name": "stderr",
          "text": [
            "INFO:radiomics.featureextractor:Computing shape\n",
            "INFO:radiomics.featureextractor:Adding image type \"Original\" with custom settings: {}\n",
            "INFO:radiomics.featureextractor:Calculating features for original image\n",
            "INFO:radiomics.featureextractor:Computing firstorder\n",
            "INFO:radiomics.featureextractor:Computing glcm\n",
            "GLCM is symmetrical, therefore Sum Average = 2 * Joint Average, only 1 needs to be calculated\n",
            "WARNING:radiomics.glcm:GLCM is symmetrical, therefore Sum Average = 2 * Joint Average, only 1 needs to be calculated\n",
            "INFO:radiomics.featureextractor:Computing gldm\n",
            "INFO:radiomics.featureextractor:Computing glrlm\n",
            "INFO:radiomics.featureextractor:Computing glszm\n",
            "INFO:radiomics.featureextractor:Computing ngtdm\n"
          ]
        },
        {
          "output_type": "stream",
          "name": "stdout",
          "text": [
            "068\n"
          ]
        },
        {
          "output_type": "stream",
          "name": "stderr",
          "text": [
            "INFO:radiomics.featureextractor:Calculating features with label: 1\n",
            "INFO:radiomics.featureextractor:Loading image and mask\n"
          ]
        },
        {
          "output_type": "stream",
          "name": "stdout",
          "text": [
            "[INFO] Loaded DICOM series with size: (256, 256, 176)\n",
            "[INFO] Loaded mask with size: (40, 29, 32)\n"
          ]
        },
        {
          "output_type": "stream",
          "name": "stderr",
          "text": [
            "INFO:radiomics.featureextractor:Computing shape\n",
            "INFO:radiomics.featureextractor:Adding image type \"Original\" with custom settings: {}\n",
            "INFO:radiomics.featureextractor:Calculating features for original image\n",
            "INFO:radiomics.featureextractor:Computing firstorder\n",
            "INFO:radiomics.featureextractor:Computing glcm\n",
            "GLCM is symmetrical, therefore Sum Average = 2 * Joint Average, only 1 needs to be calculated\n",
            "WARNING:radiomics.glcm:GLCM is symmetrical, therefore Sum Average = 2 * Joint Average, only 1 needs to be calculated\n",
            "INFO:radiomics.featureextractor:Computing gldm\n",
            "INFO:radiomics.featureextractor:Computing glrlm\n",
            "INFO:radiomics.featureextractor:Computing glszm\n",
            "INFO:radiomics.featureextractor:Computing ngtdm\n"
          ]
        },
        {
          "output_type": "stream",
          "name": "stdout",
          "text": [
            "069\n"
          ]
        },
        {
          "output_type": "stream",
          "name": "stderr",
          "text": [
            "INFO:radiomics.featureextractor:Calculating features with label: 1\n",
            "INFO:radiomics.featureextractor:Loading image and mask\n"
          ]
        },
        {
          "output_type": "stream",
          "name": "stdout",
          "text": [
            "[INFO] Loaded DICOM series with size: (216, 256, 176)\n",
            "[INFO] Loaded mask with size: (33, 20, 21)\n"
          ]
        },
        {
          "output_type": "stream",
          "name": "stderr",
          "text": [
            "INFO:radiomics.featureextractor:Computing shape\n",
            "INFO:radiomics.featureextractor:Adding image type \"Original\" with custom settings: {}\n",
            "INFO:radiomics.featureextractor:Calculating features for original image\n",
            "INFO:radiomics.featureextractor:Computing firstorder\n",
            "INFO:radiomics.featureextractor:Computing glcm\n",
            "GLCM is symmetrical, therefore Sum Average = 2 * Joint Average, only 1 needs to be calculated\n",
            "WARNING:radiomics.glcm:GLCM is symmetrical, therefore Sum Average = 2 * Joint Average, only 1 needs to be calculated\n",
            "INFO:radiomics.featureextractor:Computing gldm\n",
            "INFO:radiomics.featureextractor:Computing glrlm\n",
            "INFO:radiomics.featureextractor:Computing glszm\n",
            "INFO:radiomics.featureextractor:Computing ngtdm\n"
          ]
        },
        {
          "output_type": "stream",
          "name": "stdout",
          "text": [
            "070\n"
          ]
        },
        {
          "output_type": "stream",
          "name": "stderr",
          "text": [
            "INFO:radiomics.featureextractor:Calculating features with label: 1\n",
            "INFO:radiomics.featureextractor:Loading image and mask\n"
          ]
        },
        {
          "output_type": "stream",
          "name": "stdout",
          "text": [
            "[INFO] Loaded DICOM series with size: (216, 256, 192)\n",
            "[INFO] Loaded mask with size: (71, 85, 71)\n"
          ]
        },
        {
          "output_type": "stream",
          "name": "stderr",
          "text": [
            "INFO:radiomics.featureextractor:Computing shape\n",
            "INFO:radiomics.featureextractor:Adding image type \"Original\" with custom settings: {}\n",
            "INFO:radiomics.featureextractor:Calculating features for original image\n",
            "INFO:radiomics.featureextractor:Computing firstorder\n",
            "INFO:radiomics.featureextractor:Computing glcm\n",
            "GLCM is symmetrical, therefore Sum Average = 2 * Joint Average, only 1 needs to be calculated\n",
            "WARNING:radiomics.glcm:GLCM is symmetrical, therefore Sum Average = 2 * Joint Average, only 1 needs to be calculated\n",
            "INFO:radiomics.featureextractor:Computing gldm\n",
            "INFO:radiomics.featureextractor:Computing glrlm\n",
            "INFO:radiomics.featureextractor:Computing glszm\n",
            "INFO:radiomics.featureextractor:Computing ngtdm\n"
          ]
        },
        {
          "output_type": "stream",
          "name": "stdout",
          "text": [
            "071\n",
            "[INFO] Loaded DICOM series with size: (432, 512, 176)\n",
            "[INFO] Loaded mask with size: (99, 126, 55)\n"
          ]
        },
        {
          "output_type": "stream",
          "name": "stderr",
          "text": [
            "INFO:radiomics.featureextractor:Calculating features with label: 1\n",
            "INFO:radiomics.featureextractor:Loading image and mask\n",
            "INFO:radiomics.featureextractor:Computing shape\n",
            "INFO:radiomics.featureextractor:Adding image type \"Original\" with custom settings: {}\n",
            "INFO:radiomics.featureextractor:Calculating features for original image\n",
            "INFO:radiomics.featureextractor:Computing firstorder\n",
            "INFO:radiomics.featureextractor:Computing glcm\n",
            "GLCM is symmetrical, therefore Sum Average = 2 * Joint Average, only 1 needs to be calculated\n",
            "WARNING:radiomics.glcm:GLCM is symmetrical, therefore Sum Average = 2 * Joint Average, only 1 needs to be calculated\n",
            "INFO:radiomics.featureextractor:Computing gldm\n",
            "INFO:radiomics.featureextractor:Computing glrlm\n",
            "INFO:radiomics.featureextractor:Computing glszm\n",
            "INFO:radiomics.featureextractor:Computing ngtdm\n"
          ]
        },
        {
          "output_type": "stream",
          "name": "stdout",
          "text": [
            "074\n"
          ]
        },
        {
          "output_type": "stream",
          "name": "stderr",
          "text": [
            "INFO:radiomics.featureextractor:Calculating features with label: 1\n",
            "INFO:radiomics.featureextractor:Loading image and mask\n"
          ]
        },
        {
          "output_type": "stream",
          "name": "stdout",
          "text": [
            "[INFO] Loaded DICOM series with size: (216, 256, 176)\n",
            "[INFO] Loaded mask with size: (52, 80, 50)\n"
          ]
        },
        {
          "output_type": "stream",
          "name": "stderr",
          "text": [
            "INFO:radiomics.featureextractor:Computing shape\n",
            "INFO:radiomics.featureextractor:Adding image type \"Original\" with custom settings: {}\n",
            "INFO:radiomics.featureextractor:Calculating features for original image\n",
            "INFO:radiomics.featureextractor:Computing firstorder\n",
            "INFO:radiomics.featureextractor:Computing glcm\n",
            "GLCM is symmetrical, therefore Sum Average = 2 * Joint Average, only 1 needs to be calculated\n",
            "WARNING:radiomics.glcm:GLCM is symmetrical, therefore Sum Average = 2 * Joint Average, only 1 needs to be calculated\n",
            "INFO:radiomics.featureextractor:Computing gldm\n",
            "INFO:radiomics.featureextractor:Computing glrlm\n",
            "INFO:radiomics.featureextractor:Computing glszm\n",
            "INFO:radiomics.featureextractor:Computing ngtdm\n"
          ]
        },
        {
          "output_type": "stream",
          "name": "stdout",
          "text": [
            "075\n"
          ]
        },
        {
          "output_type": "stream",
          "name": "stderr",
          "text": [
            "INFO:radiomics.featureextractor:Calculating features with label: 1\n",
            "INFO:radiomics.featureextractor:Loading image and mask\n"
          ]
        },
        {
          "output_type": "stream",
          "name": "stdout",
          "text": [
            "[INFO] Loaded DICOM series with size: (232, 256, 192)\n",
            "[INFO] Loaded mask with size: (24, 28, 24)\n"
          ]
        },
        {
          "output_type": "stream",
          "name": "stderr",
          "text": [
            "INFO:radiomics.featureextractor:Computing shape\n",
            "INFO:radiomics.featureextractor:Adding image type \"Original\" with custom settings: {}\n",
            "INFO:radiomics.featureextractor:Calculating features for original image\n",
            "INFO:radiomics.featureextractor:Computing firstorder\n",
            "INFO:radiomics.featureextractor:Computing glcm\n",
            "GLCM is symmetrical, therefore Sum Average = 2 * Joint Average, only 1 needs to be calculated\n",
            "WARNING:radiomics.glcm:GLCM is symmetrical, therefore Sum Average = 2 * Joint Average, only 1 needs to be calculated\n",
            "INFO:radiomics.featureextractor:Computing gldm\n",
            "INFO:radiomics.featureextractor:Computing glrlm\n",
            "INFO:radiomics.featureextractor:Computing glszm\n",
            "INFO:radiomics.featureextractor:Computing ngtdm\n"
          ]
        },
        {
          "output_type": "stream",
          "name": "stdout",
          "text": [
            "076\n",
            "[INFO] Loaded DICOM series with size: (256, 256, 192)\n",
            "[INFO] Loaded mask with size: (60, 73, 51)\n"
          ]
        },
        {
          "output_type": "stream",
          "name": "stderr",
          "text": [
            "INFO:radiomics.featureextractor:Calculating features with label: 1\n",
            "INFO:radiomics.featureextractor:Loading image and mask\n",
            "INFO:radiomics.featureextractor:Computing shape\n",
            "INFO:radiomics.featureextractor:Adding image type \"Original\" with custom settings: {}\n",
            "INFO:radiomics.featureextractor:Calculating features for original image\n",
            "INFO:radiomics.featureextractor:Computing firstorder\n",
            "INFO:radiomics.featureextractor:Computing glcm\n",
            "GLCM is symmetrical, therefore Sum Average = 2 * Joint Average, only 1 needs to be calculated\n",
            "WARNING:radiomics.glcm:GLCM is symmetrical, therefore Sum Average = 2 * Joint Average, only 1 needs to be calculated\n",
            "INFO:radiomics.featureextractor:Computing gldm\n",
            "INFO:radiomics.featureextractor:Computing glrlm\n",
            "INFO:radiomics.featureextractor:Computing glszm\n",
            "INFO:radiomics.featureextractor:Computing ngtdm\n"
          ]
        },
        {
          "output_type": "stream",
          "name": "stdout",
          "text": [
            "077\n"
          ]
        },
        {
          "output_type": "stream",
          "name": "stderr",
          "text": [
            "INFO:radiomics.featureextractor:Calculating features with label: 1\n",
            "INFO:radiomics.featureextractor:Loading image and mask\n"
          ]
        },
        {
          "output_type": "stream",
          "name": "stdout",
          "text": [
            "[INFO] Loaded DICOM series with size: (216, 256, 192)\n",
            "[INFO] Loaded mask with size: (12, 16, 7)\n"
          ]
        },
        {
          "output_type": "stream",
          "name": "stderr",
          "text": [
            "INFO:radiomics.featureextractor:Computing shape\n",
            "INFO:radiomics.featureextractor:Adding image type \"Original\" with custom settings: {}\n",
            "INFO:radiomics.featureextractor:Calculating features for original image\n",
            "INFO:radiomics.featureextractor:Computing firstorder\n",
            "INFO:radiomics.featureextractor:Computing glcm\n",
            "GLCM is symmetrical, therefore Sum Average = 2 * Joint Average, only 1 needs to be calculated\n",
            "WARNING:radiomics.glcm:GLCM is symmetrical, therefore Sum Average = 2 * Joint Average, only 1 needs to be calculated\n",
            "INFO:radiomics.featureextractor:Computing gldm\n",
            "INFO:radiomics.featureextractor:Computing glrlm\n",
            "INFO:radiomics.featureextractor:Computing glszm\n",
            "INFO:radiomics.featureextractor:Computing ngtdm\n"
          ]
        },
        {
          "output_type": "stream",
          "name": "stdout",
          "text": [
            "078\n"
          ]
        },
        {
          "output_type": "stream",
          "name": "stderr",
          "text": [
            "INFO:radiomics.featureextractor:Calculating features with label: 1\n",
            "INFO:radiomics.featureextractor:Loading image and mask\n"
          ]
        },
        {
          "output_type": "stream",
          "name": "stdout",
          "text": [
            "[INFO] Loaded DICOM series with size: (224, 256, 168)\n",
            "[INFO] Loaded mask with size: (19, 35, 5)\n"
          ]
        },
        {
          "output_type": "stream",
          "name": "stderr",
          "text": [
            "INFO:radiomics.featureextractor:Computing shape\n",
            "INFO:radiomics.featureextractor:Adding image type \"Original\" with custom settings: {}\n",
            "INFO:radiomics.featureextractor:Calculating features for original image\n",
            "INFO:radiomics.featureextractor:Computing firstorder\n",
            "INFO:radiomics.featureextractor:Computing glcm\n",
            "GLCM is symmetrical, therefore Sum Average = 2 * Joint Average, only 1 needs to be calculated\n",
            "WARNING:radiomics.glcm:GLCM is symmetrical, therefore Sum Average = 2 * Joint Average, only 1 needs to be calculated\n",
            "INFO:radiomics.featureextractor:Computing gldm\n",
            "INFO:radiomics.featureextractor:Computing glrlm\n",
            "INFO:radiomics.featureextractor:Computing glszm\n",
            "INFO:radiomics.featureextractor:Computing ngtdm\n"
          ]
        },
        {
          "output_type": "stream",
          "name": "stdout",
          "text": [
            "079\n",
            "[INFO] Loaded DICOM series with size: (216, 256, 192)\n",
            "[INFO] Loaded mask with size: (18, 20, 19)\n"
          ]
        },
        {
          "output_type": "stream",
          "name": "stderr",
          "text": [
            "INFO:radiomics.featureextractor:Calculating features with label: 1\n",
            "INFO:radiomics.featureextractor:Loading image and mask\n",
            "INFO:radiomics.featureextractor:Computing shape\n",
            "INFO:radiomics.featureextractor:Adding image type \"Original\" with custom settings: {}\n",
            "INFO:radiomics.featureextractor:Calculating features for original image\n",
            "INFO:radiomics.featureextractor:Computing firstorder\n",
            "INFO:radiomics.featureextractor:Computing glcm\n",
            "GLCM is symmetrical, therefore Sum Average = 2 * Joint Average, only 1 needs to be calculated\n",
            "WARNING:radiomics.glcm:GLCM is symmetrical, therefore Sum Average = 2 * Joint Average, only 1 needs to be calculated\n",
            "INFO:radiomics.featureextractor:Computing gldm\n",
            "INFO:radiomics.featureextractor:Computing glrlm\n",
            "INFO:radiomics.featureextractor:Computing glszm\n",
            "INFO:radiomics.featureextractor:Computing ngtdm\n"
          ]
        },
        {
          "output_type": "stream",
          "name": "stdout",
          "text": [
            "080\n"
          ]
        },
        {
          "output_type": "stream",
          "name": "stderr",
          "text": [
            "INFO:radiomics.featureextractor:Calculating features with label: 1\n",
            "INFO:radiomics.featureextractor:Loading image and mask\n"
          ]
        },
        {
          "output_type": "stream",
          "name": "stdout",
          "text": [
            "[INFO] Loaded DICOM series with size: (216, 256, 176)\n",
            "[INFO] Loaded mask with size: (62, 75, 65)\n"
          ]
        },
        {
          "output_type": "stream",
          "name": "stderr",
          "text": [
            "INFO:radiomics.featureextractor:Computing shape\n",
            "INFO:radiomics.featureextractor:Adding image type \"Original\" with custom settings: {}\n",
            "INFO:radiomics.featureextractor:Calculating features for original image\n",
            "INFO:radiomics.featureextractor:Computing firstorder\n",
            "INFO:radiomics.featureextractor:Computing glcm\n",
            "GLCM is symmetrical, therefore Sum Average = 2 * Joint Average, only 1 needs to be calculated\n",
            "WARNING:radiomics.glcm:GLCM is symmetrical, therefore Sum Average = 2 * Joint Average, only 1 needs to be calculated\n",
            "INFO:radiomics.featureextractor:Computing gldm\n",
            "INFO:radiomics.featureextractor:Computing glrlm\n",
            "INFO:radiomics.featureextractor:Computing glszm\n",
            "INFO:radiomics.featureextractor:Computing ngtdm\n"
          ]
        },
        {
          "output_type": "stream",
          "name": "stdout",
          "text": [
            "081\n"
          ]
        },
        {
          "output_type": "stream",
          "name": "stderr",
          "text": [
            "INFO:radiomics.featureextractor:Calculating features with label: 1\n",
            "INFO:radiomics.featureextractor:Loading image and mask\n"
          ]
        },
        {
          "output_type": "stream",
          "name": "stdout",
          "text": [
            "[INFO] Loaded DICOM series with size: (216, 256, 192)\n",
            "[INFO] Loaded mask with size: (27, 43, 39)\n"
          ]
        },
        {
          "output_type": "stream",
          "name": "stderr",
          "text": [
            "INFO:radiomics.featureextractor:Computing shape\n",
            "INFO:radiomics.featureextractor:Adding image type \"Original\" with custom settings: {}\n",
            "INFO:radiomics.featureextractor:Calculating features for original image\n",
            "INFO:radiomics.featureextractor:Computing firstorder\n",
            "INFO:radiomics.featureextractor:Computing glcm\n",
            "GLCM is symmetrical, therefore Sum Average = 2 * Joint Average, only 1 needs to be calculated\n",
            "WARNING:radiomics.glcm:GLCM is symmetrical, therefore Sum Average = 2 * Joint Average, only 1 needs to be calculated\n",
            "INFO:radiomics.featureextractor:Computing gldm\n",
            "INFO:radiomics.featureextractor:Computing glrlm\n",
            "INFO:radiomics.featureextractor:Computing glszm\n",
            "INFO:radiomics.featureextractor:Computing ngtdm\n"
          ]
        },
        {
          "output_type": "stream",
          "name": "stdout",
          "text": [
            "082\n"
          ]
        },
        {
          "output_type": "stream",
          "name": "stderr",
          "text": [
            "INFO:radiomics.featureextractor:Calculating features with label: 1\n",
            "INFO:radiomics.featureextractor:Loading image and mask\n"
          ]
        },
        {
          "output_type": "stream",
          "name": "stdout",
          "text": [
            "[INFO] Loaded DICOM series with size: (256, 256, 176)\n",
            "[INFO] Loaded mask with size: (28, 67, 58)\n"
          ]
        },
        {
          "output_type": "stream",
          "name": "stderr",
          "text": [
            "INFO:radiomics.featureextractor:Computing shape\n",
            "INFO:radiomics.featureextractor:Adding image type \"Original\" with custom settings: {}\n",
            "INFO:radiomics.featureextractor:Calculating features for original image\n",
            "INFO:radiomics.featureextractor:Computing firstorder\n",
            "INFO:radiomics.featureextractor:Computing glcm\n",
            "GLCM is symmetrical, therefore Sum Average = 2 * Joint Average, only 1 needs to be calculated\n",
            "WARNING:radiomics.glcm:GLCM is symmetrical, therefore Sum Average = 2 * Joint Average, only 1 needs to be calculated\n",
            "INFO:radiomics.featureextractor:Computing gldm\n",
            "INFO:radiomics.featureextractor:Computing glrlm\n",
            "INFO:radiomics.featureextractor:Computing glszm\n",
            "INFO:radiomics.featureextractor:Computing ngtdm\n"
          ]
        },
        {
          "output_type": "stream",
          "name": "stdout",
          "text": [
            "083\n"
          ]
        },
        {
          "output_type": "stream",
          "name": "stderr",
          "text": [
            "INFO:radiomics.featureextractor:Calculating features with label: 1\n",
            "INFO:radiomics.featureextractor:Loading image and mask\n"
          ]
        },
        {
          "output_type": "stream",
          "name": "stdout",
          "text": [
            "[INFO] Loaded DICOM series with size: (216, 256, 208)\n",
            "[INFO] Loaded mask with size: (35, 45, 40)\n"
          ]
        },
        {
          "output_type": "stream",
          "name": "stderr",
          "text": [
            "INFO:radiomics.featureextractor:Computing shape\n",
            "INFO:radiomics.featureextractor:Adding image type \"Original\" with custom settings: {}\n",
            "INFO:radiomics.featureextractor:Calculating features for original image\n",
            "INFO:radiomics.featureextractor:Computing firstorder\n",
            "INFO:radiomics.featureextractor:Computing glcm\n",
            "GLCM is symmetrical, therefore Sum Average = 2 * Joint Average, only 1 needs to be calculated\n",
            "WARNING:radiomics.glcm:GLCM is symmetrical, therefore Sum Average = 2 * Joint Average, only 1 needs to be calculated\n",
            "INFO:radiomics.featureextractor:Computing gldm\n",
            "INFO:radiomics.featureextractor:Computing glrlm\n",
            "INFO:radiomics.featureextractor:Computing glszm\n",
            "INFO:radiomics.featureextractor:Computing ngtdm\n"
          ]
        },
        {
          "output_type": "stream",
          "name": "stdout",
          "text": [
            "085\n"
          ]
        },
        {
          "output_type": "stream",
          "name": "stderr",
          "text": [
            "INFO:radiomics.featureextractor:Calculating features with label: 1\n",
            "INFO:radiomics.featureextractor:Loading image and mask\n"
          ]
        },
        {
          "output_type": "stream",
          "name": "stdout",
          "text": [
            "[INFO] Loaded DICOM series with size: (232, 256, 176)\n",
            "[INFO] Loaded mask with size: (42, 61, 41)\n"
          ]
        },
        {
          "output_type": "stream",
          "name": "stderr",
          "text": [
            "INFO:radiomics.featureextractor:Computing shape\n",
            "INFO:radiomics.featureextractor:Adding image type \"Original\" with custom settings: {}\n",
            "INFO:radiomics.featureextractor:Calculating features for original image\n",
            "INFO:radiomics.featureextractor:Computing firstorder\n",
            "INFO:radiomics.featureextractor:Computing glcm\n",
            "GLCM is symmetrical, therefore Sum Average = 2 * Joint Average, only 1 needs to be calculated\n",
            "WARNING:radiomics.glcm:GLCM is symmetrical, therefore Sum Average = 2 * Joint Average, only 1 needs to be calculated\n",
            "INFO:radiomics.featureextractor:Computing gldm\n",
            "INFO:radiomics.featureextractor:Computing glrlm\n",
            "INFO:radiomics.featureextractor:Computing glszm\n",
            "INFO:radiomics.featureextractor:Computing ngtdm\n"
          ]
        },
        {
          "output_type": "stream",
          "name": "stdout",
          "text": [
            "086\n"
          ]
        },
        {
          "output_type": "stream",
          "name": "stderr",
          "text": [
            "INFO:radiomics.featureextractor:Calculating features with label: 1\n",
            "INFO:radiomics.featureextractor:Loading image and mask\n"
          ]
        },
        {
          "output_type": "stream",
          "name": "stdout",
          "text": [
            "[INFO] Loaded DICOM series with size: (216, 256, 192)\n",
            "[INFO] Loaded mask with size: (41, 32, 32)\n"
          ]
        },
        {
          "output_type": "stream",
          "name": "stderr",
          "text": [
            "INFO:radiomics.featureextractor:Computing shape\n",
            "INFO:radiomics.featureextractor:Adding image type \"Original\" with custom settings: {}\n",
            "INFO:radiomics.featureextractor:Calculating features for original image\n",
            "INFO:radiomics.featureextractor:Computing firstorder\n",
            "INFO:radiomics.featureextractor:Computing glcm\n",
            "GLCM is symmetrical, therefore Sum Average = 2 * Joint Average, only 1 needs to be calculated\n",
            "WARNING:radiomics.glcm:GLCM is symmetrical, therefore Sum Average = 2 * Joint Average, only 1 needs to be calculated\n",
            "INFO:radiomics.featureextractor:Computing gldm\n",
            "INFO:radiomics.featureextractor:Computing glrlm\n",
            "INFO:radiomics.featureextractor:Computing glszm\n",
            "INFO:radiomics.featureextractor:Computing ngtdm\n"
          ]
        },
        {
          "output_type": "stream",
          "name": "stdout",
          "text": [
            "087\n",
            "088\n",
            "[INFO] Loaded DICOM series with size: (256, 256, 408)\n",
            "[INFO] Loaded mask with size: (103, 186, 83)\n"
          ]
        },
        {
          "output_type": "stream",
          "name": "stderr",
          "text": [
            "INFO:radiomics.featureextractor:Calculating features with label: 1\n",
            "INFO:radiomics.featureextractor:Loading image and mask\n",
            "INFO:radiomics.featureextractor:Computing shape\n",
            "INFO:radiomics.featureextractor:Adding image type \"Original\" with custom settings: {}\n",
            "INFO:radiomics.featureextractor:Calculating features for original image\n",
            "INFO:radiomics.featureextractor:Computing firstorder\n",
            "INFO:radiomics.featureextractor:Computing glcm\n",
            "GLCM is symmetrical, therefore Sum Average = 2 * Joint Average, only 1 needs to be calculated\n",
            "WARNING:radiomics.glcm:GLCM is symmetrical, therefore Sum Average = 2 * Joint Average, only 1 needs to be calculated\n",
            "INFO:radiomics.featureextractor:Computing gldm\n",
            "INFO:radiomics.featureextractor:Computing glrlm\n",
            "INFO:radiomics.featureextractor:Computing glszm\n",
            "INFO:radiomics.featureextractor:Computing ngtdm\n"
          ]
        },
        {
          "output_type": "stream",
          "name": "stdout",
          "text": [
            "089\n",
            "[INFO] Loaded DICOM series with size: (256, 256, 192)\n",
            "[INFO] Loaded mask with size: (9, 7, 10)\n"
          ]
        },
        {
          "output_type": "stream",
          "name": "stderr",
          "text": [
            "INFO:radiomics.featureextractor:Calculating features with label: 1\n",
            "INFO:radiomics.featureextractor:Loading image and mask\n",
            "INFO:radiomics.featureextractor:Computing shape\n",
            "INFO:radiomics.featureextractor:Adding image type \"Original\" with custom settings: {}\n",
            "INFO:radiomics.featureextractor:Calculating features for original image\n",
            "INFO:radiomics.featureextractor:Computing firstorder\n",
            "INFO:radiomics.featureextractor:Computing glcm\n",
            "GLCM is symmetrical, therefore Sum Average = 2 * Joint Average, only 1 needs to be calculated\n",
            "WARNING:radiomics.glcm:GLCM is symmetrical, therefore Sum Average = 2 * Joint Average, only 1 needs to be calculated\n",
            "INFO:radiomics.featureextractor:Computing gldm\n",
            "INFO:radiomics.featureextractor:Computing glrlm\n",
            "INFO:radiomics.featureextractor:Computing glszm\n",
            "INFO:radiomics.featureextractor:Computing ngtdm\n"
          ]
        },
        {
          "output_type": "stream",
          "name": "stdout",
          "text": [
            "091\n",
            "092\n",
            "[INFO] Loaded DICOM series with size: (512, 512, 276)\n",
            "[INFO] Loaded mask with size: (75, 132, 8)\n"
          ]
        },
        {
          "output_type": "stream",
          "name": "stderr",
          "text": [
            "INFO:radiomics.featureextractor:Calculating features with label: 1\n",
            "INFO:radiomics.featureextractor:Loading image and mask\n",
            "INFO:radiomics.featureextractor:Computing shape\n",
            "INFO:radiomics.featureextractor:Adding image type \"Original\" with custom settings: {}\n",
            "INFO:radiomics.featureextractor:Calculating features for original image\n",
            "INFO:radiomics.featureextractor:Computing firstorder\n",
            "INFO:radiomics.featureextractor:Computing glcm\n",
            "GLCM is symmetrical, therefore Sum Average = 2 * Joint Average, only 1 needs to be calculated\n",
            "WARNING:radiomics.glcm:GLCM is symmetrical, therefore Sum Average = 2 * Joint Average, only 1 needs to be calculated\n",
            "INFO:radiomics.featureextractor:Computing gldm\n",
            "INFO:radiomics.featureextractor:Computing glrlm\n",
            "INFO:radiomics.featureextractor:Computing glszm\n",
            "INFO:radiomics.featureextractor:Computing ngtdm\n"
          ]
        },
        {
          "output_type": "stream",
          "name": "stdout",
          "text": [
            "093\n",
            "[INFO] Loaded DICOM series with size: (480, 640, 192)\n",
            "[INFO] Loaded mask with size: (89, 140, 23)\n"
          ]
        },
        {
          "output_type": "stream",
          "name": "stderr",
          "text": [
            "INFO:radiomics.featureextractor:Calculating features with label: 1\n",
            "INFO:radiomics.featureextractor:Loading image and mask\n",
            "INFO:radiomics.featureextractor:Computing shape\n",
            "INFO:radiomics.featureextractor:Adding image type \"Original\" with custom settings: {}\n",
            "INFO:radiomics.featureextractor:Calculating features for original image\n",
            "INFO:radiomics.featureextractor:Computing firstorder\n",
            "INFO:radiomics.featureextractor:Computing glcm\n",
            "GLCM is symmetrical, therefore Sum Average = 2 * Joint Average, only 1 needs to be calculated\n",
            "WARNING:radiomics.glcm:GLCM is symmetrical, therefore Sum Average = 2 * Joint Average, only 1 needs to be calculated\n",
            "INFO:radiomics.featureextractor:Computing gldm\n",
            "INFO:radiomics.featureextractor:Computing glrlm\n",
            "INFO:radiomics.featureextractor:Computing glszm\n",
            "INFO:radiomics.featureextractor:Computing ngtdm\n"
          ]
        },
        {
          "output_type": "stream",
          "name": "stdout",
          "text": [
            "094\n"
          ]
        },
        {
          "output_type": "stream",
          "name": "stderr",
          "text": [
            "INFO:radiomics.featureextractor:Calculating features with label: 1\n",
            "INFO:radiomics.featureextractor:Loading image and mask\n"
          ]
        },
        {
          "output_type": "stream",
          "name": "stdout",
          "text": [
            "[INFO] Loaded DICOM series with size: (216, 256, 176)\n",
            "[INFO] Loaded mask with size: (106, 115, 54)\n"
          ]
        },
        {
          "output_type": "stream",
          "name": "stderr",
          "text": [
            "INFO:radiomics.featureextractor:Computing shape\n",
            "INFO:radiomics.featureextractor:Adding image type \"Original\" with custom settings: {}\n",
            "INFO:radiomics.featureextractor:Calculating features for original image\n",
            "INFO:radiomics.featureextractor:Computing firstorder\n",
            "INFO:radiomics.featureextractor:Computing glcm\n",
            "GLCM is symmetrical, therefore Sum Average = 2 * Joint Average, only 1 needs to be calculated\n",
            "WARNING:radiomics.glcm:GLCM is symmetrical, therefore Sum Average = 2 * Joint Average, only 1 needs to be calculated\n",
            "INFO:radiomics.featureextractor:Computing gldm\n",
            "INFO:radiomics.featureextractor:Computing glrlm\n",
            "INFO:radiomics.featureextractor:Computing glszm\n",
            "INFO:radiomics.featureextractor:Computing ngtdm\n"
          ]
        },
        {
          "output_type": "stream",
          "name": "stdout",
          "text": [
            "095\n"
          ]
        },
        {
          "output_type": "stream",
          "name": "stderr",
          "text": [
            "INFO:radiomics.featureextractor:Calculating features with label: 1\n",
            "INFO:radiomics.featureextractor:Loading image and mask\n"
          ]
        },
        {
          "output_type": "stream",
          "name": "stdout",
          "text": [
            "[INFO] Loaded DICOM series with size: (256, 256, 210)\n",
            "[INFO] Loaded mask with size: (31, 37, 30)\n"
          ]
        },
        {
          "output_type": "stream",
          "name": "stderr",
          "text": [
            "INFO:radiomics.featureextractor:Computing shape\n",
            "INFO:radiomics.featureextractor:Adding image type \"Original\" with custom settings: {}\n",
            "INFO:radiomics.featureextractor:Calculating features for original image\n",
            "INFO:radiomics.featureextractor:Computing firstorder\n",
            "INFO:radiomics.featureextractor:Computing glcm\n",
            "GLCM is symmetrical, therefore Sum Average = 2 * Joint Average, only 1 needs to be calculated\n",
            "WARNING:radiomics.glcm:GLCM is symmetrical, therefore Sum Average = 2 * Joint Average, only 1 needs to be calculated\n",
            "INFO:radiomics.featureextractor:Computing gldm\n",
            "INFO:radiomics.featureextractor:Computing glrlm\n",
            "INFO:radiomics.featureextractor:Computing glszm\n",
            "INFO:radiomics.featureextractor:Computing ngtdm\n"
          ]
        },
        {
          "output_type": "stream",
          "name": "stdout",
          "text": [
            "096\n",
            "097\n",
            "[INFO] Loaded DICOM series with size: (216, 256, 192)\n",
            "[INFO] Loaded mask with size: (23, 22, 26)\n"
          ]
        },
        {
          "output_type": "stream",
          "name": "stderr",
          "text": [
            "INFO:radiomics.featureextractor:Calculating features with label: 1\n",
            "INFO:radiomics.featureextractor:Loading image and mask\n",
            "INFO:radiomics.featureextractor:Computing shape\n",
            "INFO:radiomics.featureextractor:Adding image type \"Original\" with custom settings: {}\n",
            "INFO:radiomics.featureextractor:Calculating features for original image\n",
            "INFO:radiomics.featureextractor:Computing firstorder\n",
            "INFO:radiomics.featureextractor:Computing glcm\n",
            "GLCM is symmetrical, therefore Sum Average = 2 * Joint Average, only 1 needs to be calculated\n",
            "WARNING:radiomics.glcm:GLCM is symmetrical, therefore Sum Average = 2 * Joint Average, only 1 needs to be calculated\n",
            "INFO:radiomics.featureextractor:Computing gldm\n",
            "INFO:radiomics.featureextractor:Computing glrlm\n",
            "INFO:radiomics.featureextractor:Computing glszm\n",
            "INFO:radiomics.featureextractor:Computing ngtdm\n"
          ]
        },
        {
          "output_type": "stream",
          "name": "stdout",
          "text": [
            "098\n",
            "[INFO] Loaded DICOM series with size: (216, 256, 192)\n",
            "[INFO] Loaded mask with size: (71, 35, 7)\n"
          ]
        },
        {
          "output_type": "stream",
          "name": "stderr",
          "text": [
            "INFO:radiomics.featureextractor:Calculating features with label: 1\n",
            "INFO:radiomics.featureextractor:Loading image and mask\n",
            "INFO:radiomics.featureextractor:Computing shape\n",
            "INFO:radiomics.featureextractor:Adding image type \"Original\" with custom settings: {}\n",
            "INFO:radiomics.featureextractor:Calculating features for original image\n",
            "INFO:radiomics.featureextractor:Computing firstorder\n",
            "INFO:radiomics.featureextractor:Computing glcm\n",
            "GLCM is symmetrical, therefore Sum Average = 2 * Joint Average, only 1 needs to be calculated\n",
            "WARNING:radiomics.glcm:GLCM is symmetrical, therefore Sum Average = 2 * Joint Average, only 1 needs to be calculated\n",
            "INFO:radiomics.featureextractor:Computing gldm\n",
            "INFO:radiomics.featureextractor:Computing glrlm\n",
            "INFO:radiomics.featureextractor:Computing glszm\n",
            "INFO:radiomics.featureextractor:Computing ngtdm\n"
          ]
        },
        {
          "output_type": "stream",
          "name": "stdout",
          "text": [
            "100\n",
            "[INFO] Loaded DICOM series with size: (400, 512, 192)\n",
            "[INFO] Loaded mask with size: (98, 86, 46)\n"
          ]
        },
        {
          "output_type": "stream",
          "name": "stderr",
          "text": [
            "INFO:radiomics.featureextractor:Calculating features with label: 1\n",
            "INFO:radiomics.featureextractor:Loading image and mask\n",
            "INFO:radiomics.featureextractor:Computing shape\n",
            "INFO:radiomics.featureextractor:Adding image type \"Original\" with custom settings: {}\n",
            "INFO:radiomics.featureextractor:Calculating features for original image\n",
            "INFO:radiomics.featureextractor:Computing firstorder\n",
            "INFO:radiomics.featureextractor:Computing glcm\n",
            "GLCM is symmetrical, therefore Sum Average = 2 * Joint Average, only 1 needs to be calculated\n",
            "WARNING:radiomics.glcm:GLCM is symmetrical, therefore Sum Average = 2 * Joint Average, only 1 needs to be calculated\n",
            "INFO:radiomics.featureextractor:Computing gldm\n",
            "INFO:radiomics.featureextractor:Computing glrlm\n",
            "INFO:radiomics.featureextractor:Computing glszm\n",
            "INFO:radiomics.featureextractor:Computing ngtdm\n"
          ]
        },
        {
          "output_type": "stream",
          "name": "stdout",
          "text": [
            "101\n"
          ]
        },
        {
          "output_type": "stream",
          "name": "stderr",
          "text": [
            "INFO:radiomics.featureextractor:Calculating features with label: 1\n",
            "INFO:radiomics.featureextractor:Loading image and mask\n"
          ]
        },
        {
          "output_type": "stream",
          "name": "stdout",
          "text": [
            "[INFO] Loaded DICOM series with size: (216, 256, 192)\n",
            "[INFO] Loaded mask with size: (200, 252, 10)\n"
          ]
        },
        {
          "output_type": "stream",
          "name": "stderr",
          "text": [
            "INFO:radiomics.featureextractor:Computing shape\n",
            "INFO:radiomics.featureextractor:Adding image type \"Original\" with custom settings: {}\n",
            "INFO:radiomics.featureextractor:Calculating features for original image\n",
            "INFO:radiomics.featureextractor:Computing firstorder\n",
            "INFO:radiomics.featureextractor:Computing glcm\n",
            "GLCM is symmetrical, therefore Sum Average = 2 * Joint Average, only 1 needs to be calculated\n",
            "WARNING:radiomics.glcm:GLCM is symmetrical, therefore Sum Average = 2 * Joint Average, only 1 needs to be calculated\n",
            "INFO:radiomics.featureextractor:Computing gldm\n",
            "INFO:radiomics.featureextractor:Computing glrlm\n",
            "INFO:radiomics.featureextractor:Computing glszm\n",
            "INFO:radiomics.featureextractor:Computing ngtdm\n"
          ]
        },
        {
          "output_type": "stream",
          "name": "stdout",
          "text": [
            "105\n",
            "[INFO] Loaded DICOM series with size: (216, 256, 192)\n",
            "[INFO] Loaded mask with size: (31, 40, 45)\n"
          ]
        },
        {
          "output_type": "stream",
          "name": "stderr",
          "text": [
            "INFO:radiomics.featureextractor:Calculating features with label: 1\n",
            "INFO:radiomics.featureextractor:Loading image and mask\n",
            "INFO:radiomics.featureextractor:Computing shape\n",
            "INFO:radiomics.featureextractor:Adding image type \"Original\" with custom settings: {}\n",
            "INFO:radiomics.featureextractor:Calculating features for original image\n",
            "INFO:radiomics.featureextractor:Computing firstorder\n",
            "INFO:radiomics.featureextractor:Computing glcm\n",
            "GLCM is symmetrical, therefore Sum Average = 2 * Joint Average, only 1 needs to be calculated\n",
            "WARNING:radiomics.glcm:GLCM is symmetrical, therefore Sum Average = 2 * Joint Average, only 1 needs to be calculated\n",
            "INFO:radiomics.featureextractor:Computing gldm\n",
            "INFO:radiomics.featureextractor:Computing glrlm\n",
            "INFO:radiomics.featureextractor:Computing glszm\n",
            "INFO:radiomics.featureextractor:Computing ngtdm\n"
          ]
        },
        {
          "output_type": "stream",
          "name": "stdout",
          "text": [
            "106\n"
          ]
        },
        {
          "output_type": "stream",
          "name": "stderr",
          "text": [
            "INFO:radiomics.featureextractor:Calculating features with label: 1\n",
            "INFO:radiomics.featureextractor:Loading image and mask\n"
          ]
        },
        {
          "output_type": "stream",
          "name": "stdout",
          "text": [
            "[INFO] Loaded DICOM series with size: (208, 256, 192)\n",
            "[INFO] Loaded mask with size: (44, 43, 45)\n"
          ]
        },
        {
          "output_type": "stream",
          "name": "stderr",
          "text": [
            "INFO:radiomics.featureextractor:Computing shape\n",
            "INFO:radiomics.featureextractor:Adding image type \"Original\" with custom settings: {}\n",
            "INFO:radiomics.featureextractor:Calculating features for original image\n",
            "INFO:radiomics.featureextractor:Computing firstorder\n",
            "INFO:radiomics.featureextractor:Computing glcm\n",
            "GLCM is symmetrical, therefore Sum Average = 2 * Joint Average, only 1 needs to be calculated\n",
            "WARNING:radiomics.glcm:GLCM is symmetrical, therefore Sum Average = 2 * Joint Average, only 1 needs to be calculated\n",
            "INFO:radiomics.featureextractor:Computing gldm\n",
            "INFO:radiomics.featureextractor:Computing glrlm\n",
            "INFO:radiomics.featureextractor:Computing glszm\n",
            "INFO:radiomics.featureextractor:Computing ngtdm\n"
          ]
        },
        {
          "output_type": "stream",
          "name": "stdout",
          "text": [
            "107\n"
          ]
        },
        {
          "output_type": "stream",
          "name": "stderr",
          "text": [
            "INFO:radiomics.featureextractor:Calculating features with label: 1\n",
            "INFO:radiomics.featureextractor:Loading image and mask\n"
          ]
        },
        {
          "output_type": "stream",
          "name": "stdout",
          "text": [
            "[INFO] Loaded DICOM series with size: (216, 256, 192)\n",
            "[INFO] Loaded mask with size: (25, 22, 23)\n"
          ]
        },
        {
          "output_type": "stream",
          "name": "stderr",
          "text": [
            "INFO:radiomics.featureextractor:Computing shape\n",
            "INFO:radiomics.featureextractor:Adding image type \"Original\" with custom settings: {}\n",
            "INFO:radiomics.featureextractor:Calculating features for original image\n",
            "INFO:radiomics.featureextractor:Computing firstorder\n",
            "INFO:radiomics.featureextractor:Computing glcm\n",
            "GLCM is symmetrical, therefore Sum Average = 2 * Joint Average, only 1 needs to be calculated\n",
            "WARNING:radiomics.glcm:GLCM is symmetrical, therefore Sum Average = 2 * Joint Average, only 1 needs to be calculated\n",
            "INFO:radiomics.featureextractor:Computing gldm\n",
            "INFO:radiomics.featureextractor:Computing glrlm\n",
            "INFO:radiomics.featureextractor:Computing glszm\n",
            "INFO:radiomics.featureextractor:Computing ngtdm\n"
          ]
        },
        {
          "output_type": "stream",
          "name": "stdout",
          "text": [
            "108\n"
          ]
        },
        {
          "output_type": "stream",
          "name": "stderr",
          "text": [
            "INFO:radiomics.featureextractor:Calculating features with label: 1\n",
            "INFO:radiomics.featureextractor:Loading image and mask\n"
          ]
        },
        {
          "output_type": "stream",
          "name": "stdout",
          "text": [
            "[INFO] Loaded DICOM series with size: (240, 240, 180)\n",
            "[INFO] Loaded mask with size: (47, 81, 9)\n"
          ]
        },
        {
          "output_type": "stream",
          "name": "stderr",
          "text": [
            "INFO:radiomics.featureextractor:Computing shape\n",
            "INFO:radiomics.featureextractor:Adding image type \"Original\" with custom settings: {}\n",
            "INFO:radiomics.featureextractor:Calculating features for original image\n",
            "INFO:radiomics.featureextractor:Computing firstorder\n",
            "INFO:radiomics.featureextractor:Computing glcm\n",
            "GLCM is symmetrical, therefore Sum Average = 2 * Joint Average, only 1 needs to be calculated\n",
            "WARNING:radiomics.glcm:GLCM is symmetrical, therefore Sum Average = 2 * Joint Average, only 1 needs to be calculated\n",
            "INFO:radiomics.featureextractor:Computing gldm\n",
            "INFO:radiomics.featureextractor:Computing glrlm\n",
            "INFO:radiomics.featureextractor:Computing glszm\n",
            "INFO:radiomics.featureextractor:Computing ngtdm\n"
          ]
        },
        {
          "output_type": "stream",
          "name": "stdout",
          "text": [
            "109\n",
            "[INFO] Loaded DICOM series with size: (352, 352, 350)\n",
            "[INFO] Loaded mask with size: (38, 73, 36)\n"
          ]
        },
        {
          "output_type": "stream",
          "name": "stderr",
          "text": [
            "INFO:radiomics.featureextractor:Calculating features with label: 1\n",
            "INFO:radiomics.featureextractor:Loading image and mask\n",
            "INFO:radiomics.featureextractor:Computing shape\n",
            "INFO:radiomics.featureextractor:Adding image type \"Original\" with custom settings: {}\n",
            "INFO:radiomics.featureextractor:Calculating features for original image\n",
            "INFO:radiomics.featureextractor:Computing firstorder\n",
            "INFO:radiomics.featureextractor:Computing glcm\n",
            "GLCM is symmetrical, therefore Sum Average = 2 * Joint Average, only 1 needs to be calculated\n",
            "WARNING:radiomics.glcm:GLCM is symmetrical, therefore Sum Average = 2 * Joint Average, only 1 needs to be calculated\n",
            "INFO:radiomics.featureextractor:Computing gldm\n",
            "INFO:radiomics.featureextractor:Computing glrlm\n",
            "INFO:radiomics.featureextractor:Computing glszm\n",
            "INFO:radiomics.featureextractor:Computing ngtdm\n"
          ]
        },
        {
          "output_type": "stream",
          "name": "stdout",
          "text": [
            "110\n"
          ]
        },
        {
          "output_type": "stream",
          "name": "stderr",
          "text": [
            "INFO:radiomics.featureextractor:Calculating features with label: 1\n",
            "INFO:radiomics.featureextractor:Loading image and mask\n"
          ]
        },
        {
          "output_type": "stream",
          "name": "stdout",
          "text": [
            "[INFO] Loaded DICOM series with size: (216, 256, 176)\n",
            "[INFO] Loaded mask with size: (41, 55, 43)\n"
          ]
        },
        {
          "output_type": "stream",
          "name": "stderr",
          "text": [
            "INFO:radiomics.featureextractor:Computing shape\n",
            "INFO:radiomics.featureextractor:Adding image type \"Original\" with custom settings: {}\n",
            "INFO:radiomics.featureextractor:Calculating features for original image\n",
            "INFO:radiomics.featureextractor:Computing firstorder\n",
            "INFO:radiomics.featureextractor:Computing glcm\n",
            "GLCM is symmetrical, therefore Sum Average = 2 * Joint Average, only 1 needs to be calculated\n",
            "WARNING:radiomics.glcm:GLCM is symmetrical, therefore Sum Average = 2 * Joint Average, only 1 needs to be calculated\n",
            "INFO:radiomics.featureextractor:Computing gldm\n",
            "INFO:radiomics.featureextractor:Computing glrlm\n",
            "INFO:radiomics.featureextractor:Computing glszm\n",
            "INFO:radiomics.featureextractor:Computing ngtdm\n"
          ]
        },
        {
          "output_type": "stream",
          "name": "stdout",
          "text": [
            "111\n"
          ]
        },
        {
          "output_type": "stream",
          "name": "stderr",
          "text": [
            "INFO:radiomics.featureextractor:Calculating features with label: 1\n",
            "INFO:radiomics.featureextractor:Loading image and mask\n"
          ]
        },
        {
          "output_type": "stream",
          "name": "stdout",
          "text": [
            "[INFO] Loaded DICOM series with size: (216, 256, 176)\n",
            "[INFO] Loaded mask with size: (40, 37, 47)\n"
          ]
        },
        {
          "output_type": "stream",
          "name": "stderr",
          "text": [
            "INFO:radiomics.featureextractor:Computing shape\n",
            "INFO:radiomics.featureextractor:Adding image type \"Original\" with custom settings: {}\n",
            "INFO:radiomics.featureextractor:Calculating features for original image\n",
            "INFO:radiomics.featureextractor:Computing firstorder\n",
            "INFO:radiomics.featureextractor:Computing glcm\n",
            "GLCM is symmetrical, therefore Sum Average = 2 * Joint Average, only 1 needs to be calculated\n",
            "WARNING:radiomics.glcm:GLCM is symmetrical, therefore Sum Average = 2 * Joint Average, only 1 needs to be calculated\n",
            "INFO:radiomics.featureextractor:Computing gldm\n",
            "INFO:radiomics.featureextractor:Computing glrlm\n",
            "INFO:radiomics.featureextractor:Computing glszm\n",
            "INFO:radiomics.featureextractor:Computing ngtdm\n"
          ]
        },
        {
          "output_type": "stream",
          "name": "stdout",
          "text": [
            "112\n"
          ]
        },
        {
          "output_type": "stream",
          "name": "stderr",
          "text": [
            "INFO:radiomics.featureextractor:Calculating features with label: 1\n",
            "INFO:radiomics.featureextractor:Loading image and mask\n"
          ]
        },
        {
          "output_type": "stream",
          "name": "stdout",
          "text": [
            "[INFO] Loaded DICOM series with size: (224, 256, 192)\n",
            "[INFO] Loaded mask with size: (48, 53, 51)\n"
          ]
        },
        {
          "output_type": "stream",
          "name": "stderr",
          "text": [
            "INFO:radiomics.featureextractor:Computing shape\n",
            "INFO:radiomics.featureextractor:Adding image type \"Original\" with custom settings: {}\n",
            "INFO:radiomics.featureextractor:Calculating features for original image\n",
            "INFO:radiomics.featureextractor:Computing firstorder\n",
            "INFO:radiomics.featureextractor:Computing glcm\n",
            "GLCM is symmetrical, therefore Sum Average = 2 * Joint Average, only 1 needs to be calculated\n",
            "WARNING:radiomics.glcm:GLCM is symmetrical, therefore Sum Average = 2 * Joint Average, only 1 needs to be calculated\n",
            "INFO:radiomics.featureextractor:Computing gldm\n",
            "INFO:radiomics.featureextractor:Computing glrlm\n",
            "INFO:radiomics.featureextractor:Computing glszm\n",
            "INFO:radiomics.featureextractor:Computing ngtdm\n"
          ]
        },
        {
          "output_type": "stream",
          "name": "stdout",
          "text": [
            "113\n",
            "[INFO] Loaded DICOM series with size: (512, 512, 110)\n",
            "[INFO] Loaded mask with size: (76, 110, 68)\n"
          ]
        },
        {
          "output_type": "stream",
          "name": "stderr",
          "text": [
            "INFO:radiomics.featureextractor:Calculating features with label: 1\n",
            "INFO:radiomics.featureextractor:Loading image and mask\n",
            "INFO:radiomics.featureextractor:Computing shape\n",
            "INFO:radiomics.featureextractor:Adding image type \"Original\" with custom settings: {}\n",
            "INFO:radiomics.featureextractor:Calculating features for original image\n",
            "INFO:radiomics.featureextractor:Computing firstorder\n",
            "INFO:radiomics.featureextractor:Computing glcm\n",
            "GLCM is symmetrical, therefore Sum Average = 2 * Joint Average, only 1 needs to be calculated\n",
            "WARNING:radiomics.glcm:GLCM is symmetrical, therefore Sum Average = 2 * Joint Average, only 1 needs to be calculated\n",
            "INFO:radiomics.featureextractor:Computing gldm\n",
            "INFO:radiomics.featureextractor:Computing glrlm\n",
            "INFO:radiomics.featureextractor:Computing glszm\n",
            "INFO:radiomics.featureextractor:Computing ngtdm\n"
          ]
        },
        {
          "output_type": "stream",
          "name": "stdout",
          "text": [
            "114\n"
          ]
        },
        {
          "output_type": "stream",
          "name": "stderr",
          "text": [
            "INFO:radiomics.featureextractor:Calculating features with label: 1\n",
            "INFO:radiomics.featureextractor:Loading image and mask\n"
          ]
        },
        {
          "output_type": "stream",
          "name": "stdout",
          "text": [
            "[INFO] Loaded DICOM series with size: (224, 256, 192)\n",
            "[INFO] Loaded mask with size: (54, 75, 42)\n"
          ]
        },
        {
          "output_type": "stream",
          "name": "stderr",
          "text": [
            "INFO:radiomics.featureextractor:Computing shape\n",
            "INFO:radiomics.featureextractor:Adding image type \"Original\" with custom settings: {}\n",
            "INFO:radiomics.featureextractor:Calculating features for original image\n",
            "INFO:radiomics.featureextractor:Computing firstorder\n",
            "INFO:radiomics.featureextractor:Computing glcm\n",
            "GLCM is symmetrical, therefore Sum Average = 2 * Joint Average, only 1 needs to be calculated\n",
            "WARNING:radiomics.glcm:GLCM is symmetrical, therefore Sum Average = 2 * Joint Average, only 1 needs to be calculated\n",
            "INFO:radiomics.featureextractor:Computing gldm\n",
            "INFO:radiomics.featureextractor:Computing glrlm\n",
            "INFO:radiomics.featureextractor:Computing glszm\n",
            "INFO:radiomics.featureextractor:Computing ngtdm\n"
          ]
        }
      ],
      "source": [
        "feature_list = []\n",
        "\n",
        "# Loop over patients\n",
        "for patient, tumor in zip(clinical_df['Case Number'], clinical_df['WHO Grade']):\n",
        "    # Use pre-defined function to load dicom series to 3D images, load mask and resample the mask to the image space\n",
        "    idx = str(patient).zfill(3)\n",
        "    print(idx)\n",
        "    img_dirname = glob(f'{DATA_PATH}/data/ReMIND/sub-{idx}/anat/T1w')\n",
        "    seg_fname = glob(\n",
        "        f'{DATA_PATH}/data/ReMIND/sub-{idx}/seg/ReMIND-{idx}-preop-SEG-tumor-*.nrrd')\n",
        "\n",
        "    if len(img_dirname) == 0 or len(seg_fname)==0:\n",
        "        continue # Allows to skip subjects without image or without segmentation\n",
        "\n",
        "    image_sitk = load_dicom_series_to_3d_image(img_dirname[0])\n",
        "    reader = sitk.ImageFileReader() # Create a file reader\n",
        "    reader.SetImageIO(\"NrrdImageIO\") # Set the input type\n",
        "    reader.SetFileName(seg_fname[0]) # Set the file name\n",
        "    mask_sitk = reader.Execute() # Load\n",
        "    mask_sitk_rec = reconstruct_mask_in_image_space(mask_sitk, image_sitk) # Reconstruct in image space\n",
        "\n",
        "    result = extractor.execute(image_sitk, mask_sitk_rec)\n",
        "\n",
        "    result['patient'] = patient\n",
        "    result['tumor'] = tumor\n",
        "\n",
        "    feature_list.append(result)"
      ]
    },
    {
      "cell_type": "code",
      "execution_count": 40,
      "id": "109b55da-4ca7-4ce6-8067-62817344102a",
      "metadata": {
        "id": "109b55da-4ca7-4ce6-8067-62817344102a"
      },
      "outputs": [],
      "source": [
        "# Gather all radiomics data into a df\n",
        "radiomics = pd.DataFrame()\n",
        "\n",
        "for feature in feature_list:\n",
        "  new_df = pd.DataFrame.from_dict(data=feature, orient='index')\n",
        "  radiomics = pd.concat([radiomics, new_df.iloc[22:].T]) # Remove 22 first features which won't be useful (metadata)\n",
        "\n",
        "radiomics.to_csv(f'{DATA_PATH}/data/ReMIND/radiomics.csv')"
      ]
    },
    {
      "cell_type": "code",
      "execution_count": 41,
      "id": "c2d5454d-230d-41cb-82ec-dd1eb91c4512",
      "metadata": {
        "id": "c2d5454d-230d-41cb-82ec-dd1eb91c4512",
        "outputId": "bdfa2578-7c84-4f0e-d75a-46eb0a9d9e2a",
        "colab": {
          "base_uri": "https://localhost:8080/",
          "height": 255
        }
      },
      "outputs": [
        {
          "output_type": "execute_result",
          "data": {
            "text/plain": [
              "  original_shape_Elongation original_shape_Flatness  \\\n",
              "0                  0.837068                0.729102   \n",
              "0                  0.784021                0.669712   \n",
              "0                  0.566089                0.382592   \n",
              "0                  0.680973                0.451917   \n",
              "0                  0.632528                0.389113   \n",
              "\n",
              "  original_shape_LeastAxisLength original_shape_MajorAxisLength  \\\n",
              "0                      41.555383                      56.995313   \n",
              "0                      26.820277                       40.04745   \n",
              "0                       9.509478                      24.855385   \n",
              "0                       4.052799                       8.968017   \n",
              "0                      14.452207                       37.14145   \n",
              "\n",
              "  original_shape_Maximum2DDiameterColumn original_shape_Maximum2DDiameterRow  \\\n",
              "0                      65.75327922546943                   62.94624980721421   \n",
              "0                      37.02131180332762                   46.97090211108859   \n",
              "0                     26.700362586774993                   26.20627534148716   \n",
              "0                       9.48684127177409                   8.062274929221745   \n",
              "0                      38.47153442183275                  45.301701862125874   \n",
              "\n",
              "  original_shape_Maximum2DDiameterSlice original_shape_Maximum3DDiameter  \\\n",
              "0                     64.20109876152401                67.46173875265966   \n",
              "0                     47.23979168414865                48.91339120822668   \n",
              "0                    16.993597081732773               31.446899789863767   \n",
              "0                      9.48683315178416                10.86278778264727   \n",
              "0                     31.99197249749719                49.52153463896217   \n",
              "\n",
              "  original_shape_MeshVolume original_shape_MinorAxisLength  ...  \\\n",
              "0          75786.2505217298                      47.708958  ...   \n",
              "0        23126.969019231983                      31.398029  ...   \n",
              "0           2249.2897325947                      14.070369  ...   \n",
              "0          134.834496252025                       6.106975  ...   \n",
              "0         7101.510326144023                      23.493002  ...   \n",
              "\n",
              "  original_glszm_ZoneEntropy original_glszm_ZonePercentage  \\\n",
              "0           7.13977806517449           0.14495341322033473   \n",
              "0           6.55421088088172            0.0684942784226558   \n",
              "0          7.068037466232698           0.14634858812074003   \n",
              "0          4.978258106467671            0.4755244755244755   \n",
              "0          7.883485477275589           0.28265215459795645   \n",
              "\n",
              "  original_glszm_ZoneVariance original_ngtdm_Busyness  \\\n",
              "0           18449.80663276446      3.4423416583473414   \n",
              "0           35073.37826917299       6.054580027784872   \n",
              "0           1969.331392659347     0.26141935926235155   \n",
              "0           3.886461937716263     0.22624196356183374   \n",
              "0           242.6014109872974     0.35321329164631177   \n",
              "\n",
              "  original_ngtdm_Coarseness original_ngtdm_Complexity original_ngtdm_Contrast  \\\n",
              "0    0.00019116094308172998         6250.096857424745    0.029388346173303298   \n",
              "0     0.0004718621499096341         657.9184495561426    0.016541786186875136   \n",
              "0     0.0010980106153590378         4524.609054427423    0.017783892505607083   \n",
              "0      0.040115933613167024          342.256246667212     0.17696596563676195   \n",
              "0    0.00046837057160346195        25575.574160151613     0.04659586862716607   \n",
              "\n",
              "  original_ngtdm_Strength patient tumor  \n",
              "0       1.297054510456621       1     3  \n",
              "0      0.6239188063281047       2     2  \n",
              "0       5.028148359794059       3     2  \n",
              "0       5.823046861789972       4     1  \n",
              "0       8.255818131110123       6     2  \n",
              "\n",
              "[5 rows x 109 columns]"
            ],
            "text/html": [
              "\n",
              "  <div id=\"df-976e8d16-13bc-443a-b299-3b07617a0236\" class=\"colab-df-container\">\n",
              "    <div>\n",
              "<style scoped>\n",
              "    .dataframe tbody tr th:only-of-type {\n",
              "        vertical-align: middle;\n",
              "    }\n",
              "\n",
              "    .dataframe tbody tr th {\n",
              "        vertical-align: top;\n",
              "    }\n",
              "\n",
              "    .dataframe thead th {\n",
              "        text-align: right;\n",
              "    }\n",
              "</style>\n",
              "<table border=\"1\" class=\"dataframe\">\n",
              "  <thead>\n",
              "    <tr style=\"text-align: right;\">\n",
              "      <th></th>\n",
              "      <th>original_shape_Elongation</th>\n",
              "      <th>original_shape_Flatness</th>\n",
              "      <th>original_shape_LeastAxisLength</th>\n",
              "      <th>original_shape_MajorAxisLength</th>\n",
              "      <th>original_shape_Maximum2DDiameterColumn</th>\n",
              "      <th>original_shape_Maximum2DDiameterRow</th>\n",
              "      <th>original_shape_Maximum2DDiameterSlice</th>\n",
              "      <th>original_shape_Maximum3DDiameter</th>\n",
              "      <th>original_shape_MeshVolume</th>\n",
              "      <th>original_shape_MinorAxisLength</th>\n",
              "      <th>...</th>\n",
              "      <th>original_glszm_ZoneEntropy</th>\n",
              "      <th>original_glszm_ZonePercentage</th>\n",
              "      <th>original_glszm_ZoneVariance</th>\n",
              "      <th>original_ngtdm_Busyness</th>\n",
              "      <th>original_ngtdm_Coarseness</th>\n",
              "      <th>original_ngtdm_Complexity</th>\n",
              "      <th>original_ngtdm_Contrast</th>\n",
              "      <th>original_ngtdm_Strength</th>\n",
              "      <th>patient</th>\n",
              "      <th>tumor</th>\n",
              "    </tr>\n",
              "  </thead>\n",
              "  <tbody>\n",
              "    <tr>\n",
              "      <th>0</th>\n",
              "      <td>0.837068</td>\n",
              "      <td>0.729102</td>\n",
              "      <td>41.555383</td>\n",
              "      <td>56.995313</td>\n",
              "      <td>65.75327922546943</td>\n",
              "      <td>62.94624980721421</td>\n",
              "      <td>64.20109876152401</td>\n",
              "      <td>67.46173875265966</td>\n",
              "      <td>75786.2505217298</td>\n",
              "      <td>47.708958</td>\n",
              "      <td>...</td>\n",
              "      <td>7.13977806517449</td>\n",
              "      <td>0.14495341322033473</td>\n",
              "      <td>18449.80663276446</td>\n",
              "      <td>3.4423416583473414</td>\n",
              "      <td>0.00019116094308172998</td>\n",
              "      <td>6250.096857424745</td>\n",
              "      <td>0.029388346173303298</td>\n",
              "      <td>1.297054510456621</td>\n",
              "      <td>1</td>\n",
              "      <td>3</td>\n",
              "    </tr>\n",
              "    <tr>\n",
              "      <th>0</th>\n",
              "      <td>0.784021</td>\n",
              "      <td>0.669712</td>\n",
              "      <td>26.820277</td>\n",
              "      <td>40.04745</td>\n",
              "      <td>37.02131180332762</td>\n",
              "      <td>46.97090211108859</td>\n",
              "      <td>47.23979168414865</td>\n",
              "      <td>48.91339120822668</td>\n",
              "      <td>23126.969019231983</td>\n",
              "      <td>31.398029</td>\n",
              "      <td>...</td>\n",
              "      <td>6.55421088088172</td>\n",
              "      <td>0.0684942784226558</td>\n",
              "      <td>35073.37826917299</td>\n",
              "      <td>6.054580027784872</td>\n",
              "      <td>0.0004718621499096341</td>\n",
              "      <td>657.9184495561426</td>\n",
              "      <td>0.016541786186875136</td>\n",
              "      <td>0.6239188063281047</td>\n",
              "      <td>2</td>\n",
              "      <td>2</td>\n",
              "    </tr>\n",
              "    <tr>\n",
              "      <th>0</th>\n",
              "      <td>0.566089</td>\n",
              "      <td>0.382592</td>\n",
              "      <td>9.509478</td>\n",
              "      <td>24.855385</td>\n",
              "      <td>26.700362586774993</td>\n",
              "      <td>26.20627534148716</td>\n",
              "      <td>16.993597081732773</td>\n",
              "      <td>31.446899789863767</td>\n",
              "      <td>2249.2897325947</td>\n",
              "      <td>14.070369</td>\n",
              "      <td>...</td>\n",
              "      <td>7.068037466232698</td>\n",
              "      <td>0.14634858812074003</td>\n",
              "      <td>1969.331392659347</td>\n",
              "      <td>0.26141935926235155</td>\n",
              "      <td>0.0010980106153590378</td>\n",
              "      <td>4524.609054427423</td>\n",
              "      <td>0.017783892505607083</td>\n",
              "      <td>5.028148359794059</td>\n",
              "      <td>3</td>\n",
              "      <td>2</td>\n",
              "    </tr>\n",
              "    <tr>\n",
              "      <th>0</th>\n",
              "      <td>0.680973</td>\n",
              "      <td>0.451917</td>\n",
              "      <td>4.052799</td>\n",
              "      <td>8.968017</td>\n",
              "      <td>9.48684127177409</td>\n",
              "      <td>8.062274929221745</td>\n",
              "      <td>9.48683315178416</td>\n",
              "      <td>10.86278778264727</td>\n",
              "      <td>134.834496252025</td>\n",
              "      <td>6.106975</td>\n",
              "      <td>...</td>\n",
              "      <td>4.978258106467671</td>\n",
              "      <td>0.4755244755244755</td>\n",
              "      <td>3.886461937716263</td>\n",
              "      <td>0.22624196356183374</td>\n",
              "      <td>0.040115933613167024</td>\n",
              "      <td>342.256246667212</td>\n",
              "      <td>0.17696596563676195</td>\n",
              "      <td>5.823046861789972</td>\n",
              "      <td>4</td>\n",
              "      <td>1</td>\n",
              "    </tr>\n",
              "    <tr>\n",
              "      <th>0</th>\n",
              "      <td>0.632528</td>\n",
              "      <td>0.389113</td>\n",
              "      <td>14.452207</td>\n",
              "      <td>37.14145</td>\n",
              "      <td>38.47153442183275</td>\n",
              "      <td>45.301701862125874</td>\n",
              "      <td>31.99197249749719</td>\n",
              "      <td>49.52153463896217</td>\n",
              "      <td>7101.510326144023</td>\n",
              "      <td>23.493002</td>\n",
              "      <td>...</td>\n",
              "      <td>7.883485477275589</td>\n",
              "      <td>0.28265215459795645</td>\n",
              "      <td>242.6014109872974</td>\n",
              "      <td>0.35321329164631177</td>\n",
              "      <td>0.00046837057160346195</td>\n",
              "      <td>25575.574160151613</td>\n",
              "      <td>0.04659586862716607</td>\n",
              "      <td>8.255818131110123</td>\n",
              "      <td>6</td>\n",
              "      <td>2</td>\n",
              "    </tr>\n",
              "  </tbody>\n",
              "</table>\n",
              "<p>5 rows × 109 columns</p>\n",
              "</div>\n",
              "    <div class=\"colab-df-buttons\">\n",
              "\n",
              "  <div class=\"colab-df-container\">\n",
              "    <button class=\"colab-df-convert\" onclick=\"convertToInteractive('df-976e8d16-13bc-443a-b299-3b07617a0236')\"\n",
              "            title=\"Convert this dataframe to an interactive table.\"\n",
              "            style=\"display:none;\">\n",
              "\n",
              "  <svg xmlns=\"http://www.w3.org/2000/svg\" height=\"24px\" viewBox=\"0 -960 960 960\">\n",
              "    <path d=\"M120-120v-720h720v720H120Zm60-500h600v-160H180v160Zm220 220h160v-160H400v160Zm0 220h160v-160H400v160ZM180-400h160v-160H180v160Zm440 0h160v-160H620v160ZM180-180h160v-160H180v160Zm440 0h160v-160H620v160Z\"/>\n",
              "  </svg>\n",
              "    </button>\n",
              "\n",
              "  <style>\n",
              "    .colab-df-container {\n",
              "      display:flex;\n",
              "      gap: 12px;\n",
              "    }\n",
              "\n",
              "    .colab-df-convert {\n",
              "      background-color: #E8F0FE;\n",
              "      border: none;\n",
              "      border-radius: 50%;\n",
              "      cursor: pointer;\n",
              "      display: none;\n",
              "      fill: #1967D2;\n",
              "      height: 32px;\n",
              "      padding: 0 0 0 0;\n",
              "      width: 32px;\n",
              "    }\n",
              "\n",
              "    .colab-df-convert:hover {\n",
              "      background-color: #E2EBFA;\n",
              "      box-shadow: 0px 1px 2px rgba(60, 64, 67, 0.3), 0px 1px 3px 1px rgba(60, 64, 67, 0.15);\n",
              "      fill: #174EA6;\n",
              "    }\n",
              "\n",
              "    .colab-df-buttons div {\n",
              "      margin-bottom: 4px;\n",
              "    }\n",
              "\n",
              "    [theme=dark] .colab-df-convert {\n",
              "      background-color: #3B4455;\n",
              "      fill: #D2E3FC;\n",
              "    }\n",
              "\n",
              "    [theme=dark] .colab-df-convert:hover {\n",
              "      background-color: #434B5C;\n",
              "      box-shadow: 0px 1px 3px 1px rgba(0, 0, 0, 0.15);\n",
              "      filter: drop-shadow(0px 1px 2px rgba(0, 0, 0, 0.3));\n",
              "      fill: #FFFFFF;\n",
              "    }\n",
              "  </style>\n",
              "\n",
              "    <script>\n",
              "      const buttonEl =\n",
              "        document.querySelector('#df-976e8d16-13bc-443a-b299-3b07617a0236 button.colab-df-convert');\n",
              "      buttonEl.style.display =\n",
              "        google.colab.kernel.accessAllowed ? 'block' : 'none';\n",
              "\n",
              "      async function convertToInteractive(key) {\n",
              "        const element = document.querySelector('#df-976e8d16-13bc-443a-b299-3b07617a0236');\n",
              "        const dataTable =\n",
              "          await google.colab.kernel.invokeFunction('convertToInteractive',\n",
              "                                                    [key], {});\n",
              "        if (!dataTable) return;\n",
              "\n",
              "        const docLinkHtml = 'Like what you see? Visit the ' +\n",
              "          '<a target=\"_blank\" href=https://colab.research.google.com/notebooks/data_table.ipynb>data table notebook</a>'\n",
              "          + ' to learn more about interactive tables.';\n",
              "        element.innerHTML = '';\n",
              "        dataTable['output_type'] = 'display_data';\n",
              "        await google.colab.output.renderOutput(dataTable, element);\n",
              "        const docLink = document.createElement('div');\n",
              "        docLink.innerHTML = docLinkHtml;\n",
              "        element.appendChild(docLink);\n",
              "      }\n",
              "    </script>\n",
              "  </div>\n",
              "\n",
              "\n",
              "    <div id=\"df-43eee95c-01c8-4c7a-894a-eace9faf934f\">\n",
              "      <button class=\"colab-df-quickchart\" onclick=\"quickchart('df-43eee95c-01c8-4c7a-894a-eace9faf934f')\"\n",
              "                title=\"Suggest charts\"\n",
              "                style=\"display:none;\">\n",
              "\n",
              "<svg xmlns=\"http://www.w3.org/2000/svg\" height=\"24px\"viewBox=\"0 0 24 24\"\n",
              "     width=\"24px\">\n",
              "    <g>\n",
              "        <path d=\"M19 3H5c-1.1 0-2 .9-2 2v14c0 1.1.9 2 2 2h14c1.1 0 2-.9 2-2V5c0-1.1-.9-2-2-2zM9 17H7v-7h2v7zm4 0h-2V7h2v10zm4 0h-2v-4h2v4z\"/>\n",
              "    </g>\n",
              "</svg>\n",
              "      </button>\n",
              "\n",
              "<style>\n",
              "  .colab-df-quickchart {\n",
              "      --bg-color: #E8F0FE;\n",
              "      --fill-color: #1967D2;\n",
              "      --hover-bg-color: #E2EBFA;\n",
              "      --hover-fill-color: #174EA6;\n",
              "      --disabled-fill-color: #AAA;\n",
              "      --disabled-bg-color: #DDD;\n",
              "  }\n",
              "\n",
              "  [theme=dark] .colab-df-quickchart {\n",
              "      --bg-color: #3B4455;\n",
              "      --fill-color: #D2E3FC;\n",
              "      --hover-bg-color: #434B5C;\n",
              "      --hover-fill-color: #FFFFFF;\n",
              "      --disabled-bg-color: #3B4455;\n",
              "      --disabled-fill-color: #666;\n",
              "  }\n",
              "\n",
              "  .colab-df-quickchart {\n",
              "    background-color: var(--bg-color);\n",
              "    border: none;\n",
              "    border-radius: 50%;\n",
              "    cursor: pointer;\n",
              "    display: none;\n",
              "    fill: var(--fill-color);\n",
              "    height: 32px;\n",
              "    padding: 0;\n",
              "    width: 32px;\n",
              "  }\n",
              "\n",
              "  .colab-df-quickchart:hover {\n",
              "    background-color: var(--hover-bg-color);\n",
              "    box-shadow: 0 1px 2px rgba(60, 64, 67, 0.3), 0 1px 3px 1px rgba(60, 64, 67, 0.15);\n",
              "    fill: var(--button-hover-fill-color);\n",
              "  }\n",
              "\n",
              "  .colab-df-quickchart-complete:disabled,\n",
              "  .colab-df-quickchart-complete:disabled:hover {\n",
              "    background-color: var(--disabled-bg-color);\n",
              "    fill: var(--disabled-fill-color);\n",
              "    box-shadow: none;\n",
              "  }\n",
              "\n",
              "  .colab-df-spinner {\n",
              "    border: 2px solid var(--fill-color);\n",
              "    border-color: transparent;\n",
              "    border-bottom-color: var(--fill-color);\n",
              "    animation:\n",
              "      spin 1s steps(1) infinite;\n",
              "  }\n",
              "\n",
              "  @keyframes spin {\n",
              "    0% {\n",
              "      border-color: transparent;\n",
              "      border-bottom-color: var(--fill-color);\n",
              "      border-left-color: var(--fill-color);\n",
              "    }\n",
              "    20% {\n",
              "      border-color: transparent;\n",
              "      border-left-color: var(--fill-color);\n",
              "      border-top-color: var(--fill-color);\n",
              "    }\n",
              "    30% {\n",
              "      border-color: transparent;\n",
              "      border-left-color: var(--fill-color);\n",
              "      border-top-color: var(--fill-color);\n",
              "      border-right-color: var(--fill-color);\n",
              "    }\n",
              "    40% {\n",
              "      border-color: transparent;\n",
              "      border-right-color: var(--fill-color);\n",
              "      border-top-color: var(--fill-color);\n",
              "    }\n",
              "    60% {\n",
              "      border-color: transparent;\n",
              "      border-right-color: var(--fill-color);\n",
              "    }\n",
              "    80% {\n",
              "      border-color: transparent;\n",
              "      border-right-color: var(--fill-color);\n",
              "      border-bottom-color: var(--fill-color);\n",
              "    }\n",
              "    90% {\n",
              "      border-color: transparent;\n",
              "      border-bottom-color: var(--fill-color);\n",
              "    }\n",
              "  }\n",
              "</style>\n",
              "\n",
              "      <script>\n",
              "        async function quickchart(key) {\n",
              "          const quickchartButtonEl =\n",
              "            document.querySelector('#' + key + ' button');\n",
              "          quickchartButtonEl.disabled = true;  // To prevent multiple clicks.\n",
              "          quickchartButtonEl.classList.add('colab-df-spinner');\n",
              "          try {\n",
              "            const charts = await google.colab.kernel.invokeFunction(\n",
              "                'suggestCharts', [key], {});\n",
              "          } catch (error) {\n",
              "            console.error('Error during call to suggestCharts:', error);\n",
              "          }\n",
              "          quickchartButtonEl.classList.remove('colab-df-spinner');\n",
              "          quickchartButtonEl.classList.add('colab-df-quickchart-complete');\n",
              "        }\n",
              "        (() => {\n",
              "          let quickchartButtonEl =\n",
              "            document.querySelector('#df-43eee95c-01c8-4c7a-894a-eace9faf934f button');\n",
              "          quickchartButtonEl.style.display =\n",
              "            google.colab.kernel.accessAllowed ? 'block' : 'none';\n",
              "        })();\n",
              "      </script>\n",
              "    </div>\n",
              "\n",
              "    </div>\n",
              "  </div>\n"
            ],
            "application/vnd.google.colaboratory.intrinsic+json": {
              "type": "dataframe",
              "variable_name": "radiomics"
            }
          },
          "metadata": {},
          "execution_count": 41
        }
      ],
      "source": [
        "radiomics.head()"
      ]
    },
    {
      "cell_type": "markdown",
      "id": "869ef830-df42-41cf-8adf-b66bc7a6c01d",
      "metadata": {
        "id": "869ef830-df42-41cf-8adf-b66bc7a6c01d"
      },
      "source": [
        "## Preprocess and clean"
      ]
    },
    {
      "cell_type": "markdown",
      "id": "cf0917f7-babd-4b61-8f67-10f8b5f4abed",
      "metadata": {
        "id": "cf0917f7-babd-4b61-8f67-10f8b5f4abed"
      },
      "source": [
        "Now that we have extracted the radiomic features for all patients, we will process and clean the values."
      ]
    },
    {
      "cell_type": "markdown",
      "id": "d44f4237-40f9-41bb-ae0c-47f3c6b9ee0f",
      "metadata": {
        "id": "d44f4237-40f9-41bb-ae0c-47f3c6b9ee0f"
      },
      "source": [
        "### Detect outliers\n",
        "\n",
        "To identify outliers, several strategies are possible.\n",
        "\n",
        "#### Median Absolute Deviation\n",
        "One of the most common is to use the MAD (Median Absolute Deviation) rule.\n",
        "This statistical outlier detection method uses the median and the median absolute deviation as robust estimators to identify outliers in a dataset."
      ]
    },
    {
      "cell_type": "code",
      "execution_count": 42,
      "id": "319b4aad-99aa-4aa2-9943-ae69aef8257d",
      "metadata": {
        "id": "319b4aad-99aa-4aa2-9943-ae69aef8257d"
      },
      "outputs": [],
      "source": [
        "# Define the threshold multiplier and the radiomic value to inspect\n",
        "threshold=5.0\n",
        "outlier_col = 'original_shape_VoxelVolume'\n",
        "\n",
        "# Calculate the median\n",
        "median = np.median(radiomics[outlier_col])\n",
        "\n",
        "# Calculate the absolute differences from the median\n",
        "abs_diff = np.abs(radiomics[outlier_col] - median)\n",
        "\n",
        "# Calculate the MAD (Median Absolute Deviation)\n",
        "mad = np.median(abs_diff)\n",
        "\n",
        "# Define the threshold for outliers\n",
        "outlier_threshold = threshold * mad\n",
        "\n",
        "# Identify outliers based on the threshold\n",
        "outliers = [i for i, x in enumerate(radiomics[outlier_col]) if np.abs(x - median) > outlier_threshold]"
      ]
    },
    {
      "cell_type": "code",
      "execution_count": 43,
      "id": "e29d07be-a109-47bb-b7ba-40215b7961d9",
      "metadata": {
        "id": "e29d07be-a109-47bb-b7ba-40215b7961d9",
        "outputId": "4d20023d-d9ca-4196-d087-eb8e123a302a",
        "colab": {
          "base_uri": "https://localhost:8080/"
        }
      },
      "outputs": [
        {
          "output_type": "stream",
          "name": "stdout",
          "text": [
            "68837.93713608173\n"
          ]
        }
      ],
      "source": [
        "print(outlier_threshold)"
      ]
    },
    {
      "cell_type": "code",
      "execution_count": 44,
      "id": "7d70f896-d34a-4dfa-a9d3-65c8936d450a",
      "metadata": {
        "id": "7d70f896-d34a-4dfa-a9d3-65c8936d450a",
        "outputId": "c9636e25-c1c2-4ece-a6b1-ab9f077ef8c0",
        "colab": {
          "base_uri": "https://localhost:8080/",
          "height": 335
        }
      },
      "outputs": [
        {
          "output_type": "execute_result",
          "data": {
            "text/plain": [
              "0    296691.379846\n",
              "0     94799.163564\n",
              "0     591389.08549\n",
              "0    208322.525024\n",
              "0     94868.638409\n",
              "0    114567.834872\n",
              "0    138798.699897\n",
              "0    198578.659436\n",
              "Name: original_shape_VoxelVolume, dtype: object"
            ],
            "text/html": [
              "<div>\n",
              "<style scoped>\n",
              "    .dataframe tbody tr th:only-of-type {\n",
              "        vertical-align: middle;\n",
              "    }\n",
              "\n",
              "    .dataframe tbody tr th {\n",
              "        vertical-align: top;\n",
              "    }\n",
              "\n",
              "    .dataframe thead th {\n",
              "        text-align: right;\n",
              "    }\n",
              "</style>\n",
              "<table border=\"1\" class=\"dataframe\">\n",
              "  <thead>\n",
              "    <tr style=\"text-align: right;\">\n",
              "      <th></th>\n",
              "      <th>original_shape_VoxelVolume</th>\n",
              "    </tr>\n",
              "  </thead>\n",
              "  <tbody>\n",
              "    <tr>\n",
              "      <th>0</th>\n",
              "      <td>296691.379846</td>\n",
              "    </tr>\n",
              "    <tr>\n",
              "      <th>0</th>\n",
              "      <td>94799.163564</td>\n",
              "    </tr>\n",
              "    <tr>\n",
              "      <th>0</th>\n",
              "      <td>591389.08549</td>\n",
              "    </tr>\n",
              "    <tr>\n",
              "      <th>0</th>\n",
              "      <td>208322.525024</td>\n",
              "    </tr>\n",
              "    <tr>\n",
              "      <th>0</th>\n",
              "      <td>94868.638409</td>\n",
              "    </tr>\n",
              "    <tr>\n",
              "      <th>0</th>\n",
              "      <td>114567.834872</td>\n",
              "    </tr>\n",
              "    <tr>\n",
              "      <th>0</th>\n",
              "      <td>138798.699897</td>\n",
              "    </tr>\n",
              "    <tr>\n",
              "      <th>0</th>\n",
              "      <td>198578.659436</td>\n",
              "    </tr>\n",
              "  </tbody>\n",
              "</table>\n",
              "</div><br><label><b>dtype:</b> object</label>"
            ]
          },
          "metadata": {},
          "execution_count": 44
        }
      ],
      "source": [
        "radiomics[outlier_col].iloc[outliers]"
      ]
    },
    {
      "cell_type": "markdown",
      "id": "0f817ec5-20f7-4680-a2f4-6e57ea4df05e",
      "metadata": {
        "id": "0f817ec5-20f7-4680-a2f4-6e57ea4df05e"
      },
      "source": [
        "#### Interquartile Range\n",
        "\n",
        "The 1.5 IQR (Interquartile Range) rule uses the IQR to identify outliers based on quartiles."
      ]
    },
    {
      "cell_type": "markdown",
      "id": "bd580dc9-5102-4947-962d-11aabdc19362",
      "metadata": {
        "id": "bd580dc9-5102-4947-962d-11aabdc19362"
      },
      "source": [
        "<div class=\"alert alert-block alert-info\">\n",
        "<b>Q7.</b> Complete the following code to check the results of this method compared to the MAD rule.\n",
        "</div>"
      ]
    },
    {
      "cell_type": "code",
      "execution_count": 45,
      "id": "a22db987-d8ee-4000-b347-5b939a2b290d",
      "metadata": {
        "id": "a22db987-d8ee-4000-b347-5b939a2b290d"
      },
      "outputs": [],
      "source": [
        "# Define the radiomic value to inspect\n",
        "outlier_col = 'original_shape_VoxelVolume'\n",
        "\n",
        "# Calculate the quantiles\n",
        "q1 = np.quantile(a = radiomics[outlier_col],\n",
        "                 q = 0.25) # COMPLETE\n",
        "q3 = np.quantile(a = radiomics[outlier_col],\n",
        "                 q = 0.75) # COMPLETE\n",
        "\n",
        "# Calculate the interquartile range\n",
        "iqr = q3-q1 # COMPLETE\n",
        "\n",
        "# Compute the lower and upper bounds\n",
        "lower_bound = q1 - 1.5 * iqr\n",
        "upper_bound = q3 + 1.5 * iqr\n",
        "\n",
        "# Identify outliers based on the threshold\n",
        "outliers = [i for i, x in enumerate(radiomics[outlier_col]) if x > upper_bound or x < lower_bound]"
      ]
    },
    {
      "cell_type": "code",
      "execution_count": 46,
      "id": "b35d4e53-2185-46d3-b826-c4e492e33286",
      "metadata": {
        "id": "b35d4e53-2185-46d3-b826-c4e492e33286",
        "outputId": "73b2ed52-2bcb-426f-e5b5-b132338ace61",
        "colab": {
          "base_uri": "https://localhost:8080/"
        }
      },
      "outputs": [
        {
          "output_type": "execute_result",
          "data": {
            "text/plain": [
              "[21, 39, 43, 44, 52, 60, 66, 70]"
            ]
          },
          "metadata": {},
          "execution_count": 46
        }
      ],
      "source": [
        "outliers"
      ]
    },
    {
      "cell_type": "code",
      "execution_count": 47,
      "id": "2a823aec-7f27-4fd0-979f-09920ec18c79",
      "metadata": {
        "id": "2a823aec-7f27-4fd0-979f-09920ec18c79",
        "outputId": "a9a49d5e-bd7f-4690-bff1-eeeaac9474c1",
        "colab": {
          "base_uri": "https://localhost:8080/",
          "height": 335
        }
      },
      "outputs": [
        {
          "output_type": "execute_result",
          "data": {
            "text/plain": [
              "0    296691.379846\n",
              "0     94799.163564\n",
              "0     591389.08549\n",
              "0    208322.525024\n",
              "0     94868.638409\n",
              "0    114567.834872\n",
              "0    138798.699897\n",
              "0    198578.659436\n",
              "Name: original_shape_VoxelVolume, dtype: object"
            ],
            "text/html": [
              "<div>\n",
              "<style scoped>\n",
              "    .dataframe tbody tr th:only-of-type {\n",
              "        vertical-align: middle;\n",
              "    }\n",
              "\n",
              "    .dataframe tbody tr th {\n",
              "        vertical-align: top;\n",
              "    }\n",
              "\n",
              "    .dataframe thead th {\n",
              "        text-align: right;\n",
              "    }\n",
              "</style>\n",
              "<table border=\"1\" class=\"dataframe\">\n",
              "  <thead>\n",
              "    <tr style=\"text-align: right;\">\n",
              "      <th></th>\n",
              "      <th>original_shape_VoxelVolume</th>\n",
              "    </tr>\n",
              "  </thead>\n",
              "  <tbody>\n",
              "    <tr>\n",
              "      <th>0</th>\n",
              "      <td>296691.379846</td>\n",
              "    </tr>\n",
              "    <tr>\n",
              "      <th>0</th>\n",
              "      <td>94799.163564</td>\n",
              "    </tr>\n",
              "    <tr>\n",
              "      <th>0</th>\n",
              "      <td>591389.08549</td>\n",
              "    </tr>\n",
              "    <tr>\n",
              "      <th>0</th>\n",
              "      <td>208322.525024</td>\n",
              "    </tr>\n",
              "    <tr>\n",
              "      <th>0</th>\n",
              "      <td>94868.638409</td>\n",
              "    </tr>\n",
              "    <tr>\n",
              "      <th>0</th>\n",
              "      <td>114567.834872</td>\n",
              "    </tr>\n",
              "    <tr>\n",
              "      <th>0</th>\n",
              "      <td>138798.699897</td>\n",
              "    </tr>\n",
              "    <tr>\n",
              "      <th>0</th>\n",
              "      <td>198578.659436</td>\n",
              "    </tr>\n",
              "  </tbody>\n",
              "</table>\n",
              "</div><br><label><b>dtype:</b> object</label>"
            ]
          },
          "metadata": {},
          "execution_count": 47
        }
      ],
      "source": [
        "radiomics[outlier_col].iloc[outliers] # We retrieve the same values as before"
      ]
    },
    {
      "cell_type": "markdown",
      "id": "a19d9f2b-cf27-4ae0-89dd-7ffe0fff209b",
      "metadata": {
        "id": "a19d9f2b-cf27-4ae0-89dd-7ffe0fff209b"
      },
      "source": [
        "#### More advanced strategies\n",
        "\n",
        "To detect outliers, we can use functions defined in `scikit-learn`.\n",
        "\n",
        "The **Local Outlier Factor** measures the local deviation of the density of a given sample with respect to its neighbors. By comparing the local density of a sample to the local densities of its neighbors, one can identify samples that have a substantially lower density than their neighbors. These are considered outliers."
      ]
    },
    {
      "cell_type": "code",
      "execution_count": 48,
      "id": "4b69ddfb-4bdf-4ee5-9d3a-f7ad553522f8",
      "metadata": {
        "id": "4b69ddfb-4bdf-4ee5-9d3a-f7ad553522f8"
      },
      "outputs": [],
      "source": [
        "from sklearn.neighbors import LocalOutlierFactor\n",
        "\n",
        "clf = LocalOutlierFactor(n_neighbors=20, contamination=0.1)\n",
        "y_pred = clf.fit_predict(radiomics.drop(['tumor', 'patient'], axis=1)) # In this case, we can use all the features\n",
        "n_errors = (y_pred != radiomics['tumor']).sum()\n",
        "X_scores = clf.negative_outlier_factor_"
      ]
    },
    {
      "cell_type": "code",
      "execution_count": 49,
      "id": "091011bb-cd4c-4290-8082-2fb4f47aa85e",
      "metadata": {
        "id": "091011bb-cd4c-4290-8082-2fb4f47aa85e",
        "outputId": "8ae3199b-124b-4405-850e-622ef9d0eb0b",
        "colab": {
          "base_uri": "https://localhost:8080/"
        }
      },
      "outputs": [
        {
          "output_type": "execute_result",
          "data": {
            "text/plain": [
              "array([  -1.26091075,   -0.9982589 ,   -1.42113902,   -1.02280293,\n",
              "         -2.47656296,  -20.11074383,   -1.30695753,   -2.42226158,\n",
              "         -1.33688108,   -0.94898535,   -1.20718451,   -1.00487135,\n",
              "         -1.00246797,   -1.00946483,   -1.01089616,   -1.17881483,\n",
              "         -1.21843917,   -1.02615587,   -1.04372716,  -11.85255847,\n",
              "         -1.21376298,   -2.49581455,   -1.34887832,  -33.95132028,\n",
              "         -0.95447398,   -2.19365055,   -1.24491836,   -1.27882891,\n",
              "         -1.00935425,   -1.01137151,   -1.21407175,   -1.19986183,\n",
              "         -1.03262819,   -1.10300464,   -0.95186339,   -1.1743807 ,\n",
              "         -1.00758926,   -1.37196961,   -1.09282765,   -1.5118717 ,\n",
              "         -1.00075919,   -1.32146061,   -1.18013293,  -96.84683319,\n",
              "         -2.72536011,   -0.96110395,   -1.33227279,   -1.22743023,\n",
              "         -1.32862836,   -1.23451261,   -1.24704003,   -0.95291171,\n",
              "         -2.04043406,   -1.50141676,   -1.24135775,   -1.3231671 ,\n",
              "         -1.29290154,   -1.02032122,   -1.00075919,   -1.00226135,\n",
              "         -3.03949019,   -1.01801222,   -1.24289689,   -1.25941267,\n",
              "         -1.17878226,   -1.21266199, -494.97652284,   -1.01226258,\n",
              "         -1.17079706,   -1.60665984,   -4.04249637,   -1.31841235,\n",
              "         -0.9533346 ,   -0.95362158,   -1.44938821,   -1.18110123,\n",
              "         -1.40099374,   -1.16506254,   -1.29960387,   -1.00814799,\n",
              "         -1.24763613,   -1.26943536,   -1.26087934,   -1.18801535,\n",
              "        -29.30530565,   -1.20419785])"
            ]
          },
          "metadata": {},
          "execution_count": 49
        }
      ],
      "source": [
        "X_scores"
      ]
    },
    {
      "cell_type": "code",
      "execution_count": null,
      "id": "b78b825b-a24d-4265-ace6-490b2f15c489",
      "metadata": {
        "id": "b78b825b-a24d-4265-ace6-490b2f15c489",
        "outputId": "593f52d2-0f93-4b0e-b311-38ed47a45ab0"
      },
      "outputs": [
        {
          "data": {
            "text/plain": [
              "Index([5, 19, 23, 43, 60, 66, 70, 84], dtype='int64')"
            ]
          },
          "execution_count": 101,
          "metadata": {},
          "output_type": "execute_result"
        }
      ],
      "source": [
        "radiomics.reset_index().loc[X_scores < -3].index"
      ]
    },
    {
      "cell_type": "markdown",
      "id": "a12340ab-07fd-48cc-a1e7-ae6182b33cde",
      "metadata": {
        "id": "a12340ab-07fd-48cc-a1e7-ae6182b33cde"
      },
      "source": [
        "We can see samples with relatively low outlier scores. In practice, we could decide to remove these outliers, as too many outliers could prevent to learn proper boundary decisions for classification.\n",
        "\n",
        "We can also notice that some samples have already been detected with other techniques based on a single column. Note that others were not detected, probably because the sample was not an outlier based on the other columns."
      ]
    },
    {
      "cell_type": "markdown",
      "id": "795a331a-6ed9-489c-8000-db4a91a8d2ea",
      "metadata": {
        "id": "795a331a-6ed9-489c-8000-db4a91a8d2ea"
      },
      "source": [
        "### Standardization\n",
        "\n",
        "Different variables/features in a dataset have different range of value. To harmonize this, we usually use the **Z score**.\n",
        "By computing the Z scores of features, we can tell how many standard deviations away a data point is from the mean.\n",
        "\n",
        "Z scoring can also be used for outlier detection. After Z scoring, features follow a Normal distribution with:\n",
        "* 68% of the data points lie between +/- 1 standard deviation\n",
        "* 95% of the data points lie between +/- 2 standard deviation\n",
        "* 99.7% of the data points lie between +/- 3 standard deviation"
      ]
    },
    {
      "cell_type": "markdown",
      "id": "ceea7d27-f087-4f77-94c6-d52795fa2a73",
      "metadata": {
        "id": "ceea7d27-f087-4f77-94c6-d52795fa2a73"
      },
      "source": [
        "Z scoring can be applied directly on features using predefined functions from `scikit-learn`."
      ]
    },
    {
      "cell_type": "code",
      "execution_count": 50,
      "id": "21243b33-fdff-4546-a9dd-6aba8ec0f977",
      "metadata": {
        "id": "21243b33-fdff-4546-a9dd-6aba8ec0f977",
        "outputId": "45b2a6ae-3876-408e-8ee9-acf1d257ef4d",
        "colab": {
          "base_uri": "https://localhost:8080/",
          "height": 443
        }
      },
      "outputs": [
        {
          "output_type": "execute_result",
          "data": {
            "text/plain": [
              "    original_shape_Elongation  original_shape_Flatness  \\\n",
              "0                    0.939456                 1.174183   \n",
              "1                    0.605958                 0.877614   \n",
              "2                   -0.764132                -0.556163   \n",
              "3                   -0.041883                -0.209979   \n",
              "4                   -0.346446                -0.523602   \n",
              "..                        ...                      ...   \n",
              "81                   0.420627                 0.636664   \n",
              "82                   0.345298                 0.859998   \n",
              "83                   0.839616                 0.672119   \n",
              "84                  -0.169447                -0.575336   \n",
              "85                   0.585432                 0.249382   \n",
              "\n",
              "    original_shape_LeastAxisLength  original_shape_MajorAxisLength  \\\n",
              "0                         1.388581                        0.243067   \n",
              "1                         0.296726                       -0.380305   \n",
              "2                        -0.985984                       -0.939096   \n",
              "3                        -1.390318                       -1.523461   \n",
              "4                        -0.619734                       -0.487193   \n",
              "..                             ...                             ...   \n",
              "81                        0.446296                       -0.146471   \n",
              "82                        0.365027                       -0.321613   \n",
              "83                        0.684509                        0.022371   \n",
              "84                        0.523454                        1.048419   \n",
              "85                        0.690084                        0.319397   \n",
              "\n",
              "    original_shape_Maximum2DDiameterColumn  \\\n",
              "0                                 0.862474   \n",
              "1                                -0.324707   \n",
              "2                                -0.751160   \n",
              "3                                -1.462408   \n",
              "4                                -0.264785   \n",
              "..                                     ...   \n",
              "81                                0.046591   \n",
              "82                                0.088026   \n",
              "83                                0.351153   \n",
              "84                                2.034714   \n",
              "85                                0.510645   \n",
              "\n",
              "    original_shape_Maximum2DDiameterRow  \\\n",
              "0                              0.348601   \n",
              "1                             -0.220439   \n",
              "2                             -0.960072   \n",
              "3                             -1.606359   \n",
              "4                             -0.279896   \n",
              "..                                  ...   \n",
              "81                             0.046283   \n",
              "82                            -0.196430   \n",
              "83                             0.225826   \n",
              "84                             1.593258   \n",
              "85                             0.751183   \n",
              "\n",
              "    original_shape_Maximum2DDiameterSlice  original_shape_Maximum3DDiameter  \\\n",
              "0                                0.361958                          0.259096   \n",
              "1                               -0.203237                         -0.331985   \n",
              "2                               -1.211118                         -0.888590   \n",
              "3                               -1.461263                         -1.544544   \n",
              "4                               -0.711334                         -0.312605   \n",
              "..                                    ...                               ...   \n",
              "81                              -0.225937                          0.012552   \n",
              "82                              -0.461163                         -0.335540   \n",
              "83                               0.082043                          0.008104   \n",
              "84                               0.040602                          1.524606   \n",
              "85                               0.798703                          0.580440   \n",
              "\n",
              "    original_shape_MeshVolume  original_shape_MinorAxisLength  ...  \\\n",
              "0                    0.476664                        0.735172  ...   \n",
              "1                   -0.208376                       -0.130273  ...   \n",
              "2                   -0.479972                       -1.049665  ...   \n",
              "3                   -0.507479                       -1.472196  ...   \n",
              "4                   -0.416850                       -0.549708  ...   \n",
              "..                        ...                             ...  ...   \n",
              "81                  -0.120665                        0.061606  ...   \n",
              "82                  -0.203874                       -0.155505  ...   \n",
              "83                   0.047535                        0.425711  ...   \n",
              "84                   0.493628                        0.969308  ...   \n",
              "85                   0.225503                        0.650844  ...   \n",
              "\n",
              "    original_glszm_SmallAreaHighGrayLevelEmphasis  \\\n",
              "0                                       -0.132776   \n",
              "1                                       -0.173074   \n",
              "2                                       -0.056813   \n",
              "3                                       -0.181881   \n",
              "4                                        0.002120   \n",
              "..                                            ...   \n",
              "81                                      -0.149955   \n",
              "82                                      -0.164980   \n",
              "83                                      -0.159980   \n",
              "84                                       0.274080   \n",
              "85                                      -0.168793   \n",
              "\n",
              "    original_glszm_SmallAreaLowGrayLevelEmphasis  original_glszm_ZoneEntropy  \\\n",
              "0                                      -0.026887                    0.610861   \n",
              "1                                       0.412685                   -0.019814   \n",
              "2                                      -0.561054                    0.533594   \n",
              "3                                       1.361888                   -1.717169   \n",
              "4                                      -0.562359                    1.411860   \n",
              "..                                           ...                         ...   \n",
              "81                                     -0.417272                   -0.243121   \n",
              "82                                     -0.350450                    0.100010   \n",
              "83                                     -0.383022                    0.521963   \n",
              "84                                     -0.590278                    1.828673   \n",
              "85                                     -0.334546                   -0.510073   \n",
              "\n",
              "    original_glszm_ZonePercentage  original_glszm_ZoneVariance  \\\n",
              "0                       -0.267560                    -0.299108   \n",
              "1                       -0.745350                    -0.223174   \n",
              "2                       -0.258841                    -0.374388   \n",
              "3                        1.798166                    -0.383366   \n",
              "4                        0.592914                    -0.382275   \n",
              "..                            ...                          ...   \n",
              "81                      -0.658314                    -0.127137   \n",
              "82                      -0.699720                    -0.281625   \n",
              "83                       0.313467                    -0.375973   \n",
              "84                       1.756711                    -0.383114   \n",
              "85                      -0.864984                     0.273566   \n",
              "\n",
              "    original_ngtdm_Busyness  original_ngtdm_Coarseness  \\\n",
              "0                 -0.175100                  -0.362778   \n",
              "1                  0.029285                  -0.331175   \n",
              "2                 -0.423980                  -0.260679   \n",
              "3                 -0.426732                   4.132184   \n",
              "4                 -0.416798                  -0.331568   \n",
              "..                      ...                        ...   \n",
              "81                -0.133403                  -0.354240   \n",
              "82                -0.254581                  -0.332731   \n",
              "83                 0.074681                  -0.354185   \n",
              "84                -0.327847                  -0.376612   \n",
              "85                 0.218646                  -0.362898   \n",
              "\n",
              "    original_ngtdm_Complexity  original_ngtdm_Contrast  \\\n",
              "0                   -0.111674                -0.418324   \n",
              "1                   -0.123562                -0.500617   \n",
              "2                   -0.115342                -0.492660   \n",
              "3                   -0.124233                 0.527033   \n",
              "4                   -0.070594                -0.308096   \n",
              "..                        ...                      ...   \n",
              "81                  -0.122501                -0.542378   \n",
              "82                  -0.123404                -0.493012   \n",
              "83                  -0.121760                 0.090449   \n",
              "84                   0.042473                 0.628991   \n",
              "85                  -0.124150                -0.561127   \n",
              "\n",
              "    original_ngtdm_Strength  \n",
              "0                 -0.174167  \n",
              "1                 -0.318961  \n",
              "2                  0.628408  \n",
              "3                  0.799394  \n",
              "4                  1.322694  \n",
              "..                      ...  \n",
              "81                -0.285964  \n",
              "82                -0.371518  \n",
              "83                -0.411234  \n",
              "84                -0.187787  \n",
              "85                -0.421248  \n",
              "\n",
              "[86 rows x 107 columns]"
            ],
            "text/html": [
              "\n",
              "  <div id=\"df-34294516-0a0e-4c77-982e-837cfa63af53\" class=\"colab-df-container\">\n",
              "    <div>\n",
              "<style scoped>\n",
              "    .dataframe tbody tr th:only-of-type {\n",
              "        vertical-align: middle;\n",
              "    }\n",
              "\n",
              "    .dataframe tbody tr th {\n",
              "        vertical-align: top;\n",
              "    }\n",
              "\n",
              "    .dataframe thead th {\n",
              "        text-align: right;\n",
              "    }\n",
              "</style>\n",
              "<table border=\"1\" class=\"dataframe\">\n",
              "  <thead>\n",
              "    <tr style=\"text-align: right;\">\n",
              "      <th></th>\n",
              "      <th>original_shape_Elongation</th>\n",
              "      <th>original_shape_Flatness</th>\n",
              "      <th>original_shape_LeastAxisLength</th>\n",
              "      <th>original_shape_MajorAxisLength</th>\n",
              "      <th>original_shape_Maximum2DDiameterColumn</th>\n",
              "      <th>original_shape_Maximum2DDiameterRow</th>\n",
              "      <th>original_shape_Maximum2DDiameterSlice</th>\n",
              "      <th>original_shape_Maximum3DDiameter</th>\n",
              "      <th>original_shape_MeshVolume</th>\n",
              "      <th>original_shape_MinorAxisLength</th>\n",
              "      <th>...</th>\n",
              "      <th>original_glszm_SmallAreaHighGrayLevelEmphasis</th>\n",
              "      <th>original_glszm_SmallAreaLowGrayLevelEmphasis</th>\n",
              "      <th>original_glszm_ZoneEntropy</th>\n",
              "      <th>original_glszm_ZonePercentage</th>\n",
              "      <th>original_glszm_ZoneVariance</th>\n",
              "      <th>original_ngtdm_Busyness</th>\n",
              "      <th>original_ngtdm_Coarseness</th>\n",
              "      <th>original_ngtdm_Complexity</th>\n",
              "      <th>original_ngtdm_Contrast</th>\n",
              "      <th>original_ngtdm_Strength</th>\n",
              "    </tr>\n",
              "  </thead>\n",
              "  <tbody>\n",
              "    <tr>\n",
              "      <th>0</th>\n",
              "      <td>0.939456</td>\n",
              "      <td>1.174183</td>\n",
              "      <td>1.388581</td>\n",
              "      <td>0.243067</td>\n",
              "      <td>0.862474</td>\n",
              "      <td>0.348601</td>\n",
              "      <td>0.361958</td>\n",
              "      <td>0.259096</td>\n",
              "      <td>0.476664</td>\n",
              "      <td>0.735172</td>\n",
              "      <td>...</td>\n",
              "      <td>-0.132776</td>\n",
              "      <td>-0.026887</td>\n",
              "      <td>0.610861</td>\n",
              "      <td>-0.267560</td>\n",
              "      <td>-0.299108</td>\n",
              "      <td>-0.175100</td>\n",
              "      <td>-0.362778</td>\n",
              "      <td>-0.111674</td>\n",
              "      <td>-0.418324</td>\n",
              "      <td>-0.174167</td>\n",
              "    </tr>\n",
              "    <tr>\n",
              "      <th>1</th>\n",
              "      <td>0.605958</td>\n",
              "      <td>0.877614</td>\n",
              "      <td>0.296726</td>\n",
              "      <td>-0.380305</td>\n",
              "      <td>-0.324707</td>\n",
              "      <td>-0.220439</td>\n",
              "      <td>-0.203237</td>\n",
              "      <td>-0.331985</td>\n",
              "      <td>-0.208376</td>\n",
              "      <td>-0.130273</td>\n",
              "      <td>...</td>\n",
              "      <td>-0.173074</td>\n",
              "      <td>0.412685</td>\n",
              "      <td>-0.019814</td>\n",
              "      <td>-0.745350</td>\n",
              "      <td>-0.223174</td>\n",
              "      <td>0.029285</td>\n",
              "      <td>-0.331175</td>\n",
              "      <td>-0.123562</td>\n",
              "      <td>-0.500617</td>\n",
              "      <td>-0.318961</td>\n",
              "    </tr>\n",
              "    <tr>\n",
              "      <th>2</th>\n",
              "      <td>-0.764132</td>\n",
              "      <td>-0.556163</td>\n",
              "      <td>-0.985984</td>\n",
              "      <td>-0.939096</td>\n",
              "      <td>-0.751160</td>\n",
              "      <td>-0.960072</td>\n",
              "      <td>-1.211118</td>\n",
              "      <td>-0.888590</td>\n",
              "      <td>-0.479972</td>\n",
              "      <td>-1.049665</td>\n",
              "      <td>...</td>\n",
              "      <td>-0.056813</td>\n",
              "      <td>-0.561054</td>\n",
              "      <td>0.533594</td>\n",
              "      <td>-0.258841</td>\n",
              "      <td>-0.374388</td>\n",
              "      <td>-0.423980</td>\n",
              "      <td>-0.260679</td>\n",
              "      <td>-0.115342</td>\n",
              "      <td>-0.492660</td>\n",
              "      <td>0.628408</td>\n",
              "    </tr>\n",
              "    <tr>\n",
              "      <th>3</th>\n",
              "      <td>-0.041883</td>\n",
              "      <td>-0.209979</td>\n",
              "      <td>-1.390318</td>\n",
              "      <td>-1.523461</td>\n",
              "      <td>-1.462408</td>\n",
              "      <td>-1.606359</td>\n",
              "      <td>-1.461263</td>\n",
              "      <td>-1.544544</td>\n",
              "      <td>-0.507479</td>\n",
              "      <td>-1.472196</td>\n",
              "      <td>...</td>\n",
              "      <td>-0.181881</td>\n",
              "      <td>1.361888</td>\n",
              "      <td>-1.717169</td>\n",
              "      <td>1.798166</td>\n",
              "      <td>-0.383366</td>\n",
              "      <td>-0.426732</td>\n",
              "      <td>4.132184</td>\n",
              "      <td>-0.124233</td>\n",
              "      <td>0.527033</td>\n",
              "      <td>0.799394</td>\n",
              "    </tr>\n",
              "    <tr>\n",
              "      <th>4</th>\n",
              "      <td>-0.346446</td>\n",
              "      <td>-0.523602</td>\n",
              "      <td>-0.619734</td>\n",
              "      <td>-0.487193</td>\n",
              "      <td>-0.264785</td>\n",
              "      <td>-0.279896</td>\n",
              "      <td>-0.711334</td>\n",
              "      <td>-0.312605</td>\n",
              "      <td>-0.416850</td>\n",
              "      <td>-0.549708</td>\n",
              "      <td>...</td>\n",
              "      <td>0.002120</td>\n",
              "      <td>-0.562359</td>\n",
              "      <td>1.411860</td>\n",
              "      <td>0.592914</td>\n",
              "      <td>-0.382275</td>\n",
              "      <td>-0.416798</td>\n",
              "      <td>-0.331568</td>\n",
              "      <td>-0.070594</td>\n",
              "      <td>-0.308096</td>\n",
              "      <td>1.322694</td>\n",
              "    </tr>\n",
              "    <tr>\n",
              "      <th>...</th>\n",
              "      <td>...</td>\n",
              "      <td>...</td>\n",
              "      <td>...</td>\n",
              "      <td>...</td>\n",
              "      <td>...</td>\n",
              "      <td>...</td>\n",
              "      <td>...</td>\n",
              "      <td>...</td>\n",
              "      <td>...</td>\n",
              "      <td>...</td>\n",
              "      <td>...</td>\n",
              "      <td>...</td>\n",
              "      <td>...</td>\n",
              "      <td>...</td>\n",
              "      <td>...</td>\n",
              "      <td>...</td>\n",
              "      <td>...</td>\n",
              "      <td>...</td>\n",
              "      <td>...</td>\n",
              "      <td>...</td>\n",
              "      <td>...</td>\n",
              "    </tr>\n",
              "    <tr>\n",
              "      <th>81</th>\n",
              "      <td>0.420627</td>\n",
              "      <td>0.636664</td>\n",
              "      <td>0.446296</td>\n",
              "      <td>-0.146471</td>\n",
              "      <td>0.046591</td>\n",
              "      <td>0.046283</td>\n",
              "      <td>-0.225937</td>\n",
              "      <td>0.012552</td>\n",
              "      <td>-0.120665</td>\n",
              "      <td>0.061606</td>\n",
              "      <td>...</td>\n",
              "      <td>-0.149955</td>\n",
              "      <td>-0.417272</td>\n",
              "      <td>-0.243121</td>\n",
              "      <td>-0.658314</td>\n",
              "      <td>-0.127137</td>\n",
              "      <td>-0.133403</td>\n",
              "      <td>-0.354240</td>\n",
              "      <td>-0.122501</td>\n",
              "      <td>-0.542378</td>\n",
              "      <td>-0.285964</td>\n",
              "    </tr>\n",
              "    <tr>\n",
              "      <th>82</th>\n",
              "      <td>0.345298</td>\n",
              "      <td>0.859998</td>\n",
              "      <td>0.365027</td>\n",
              "      <td>-0.321613</td>\n",
              "      <td>0.088026</td>\n",
              "      <td>-0.196430</td>\n",
              "      <td>-0.461163</td>\n",
              "      <td>-0.335540</td>\n",
              "      <td>-0.203874</td>\n",
              "      <td>-0.155505</td>\n",
              "      <td>...</td>\n",
              "      <td>-0.164980</td>\n",
              "      <td>-0.350450</td>\n",
              "      <td>0.100010</td>\n",
              "      <td>-0.699720</td>\n",
              "      <td>-0.281625</td>\n",
              "      <td>-0.254581</td>\n",
              "      <td>-0.332731</td>\n",
              "      <td>-0.123404</td>\n",
              "      <td>-0.493012</td>\n",
              "      <td>-0.371518</td>\n",
              "    </tr>\n",
              "    <tr>\n",
              "      <th>83</th>\n",
              "      <td>0.839616</td>\n",
              "      <td>0.672119</td>\n",
              "      <td>0.684509</td>\n",
              "      <td>0.022371</td>\n",
              "      <td>0.351153</td>\n",
              "      <td>0.225826</td>\n",
              "      <td>0.082043</td>\n",
              "      <td>0.008104</td>\n",
              "      <td>0.047535</td>\n",
              "      <td>0.425711</td>\n",
              "      <td>...</td>\n",
              "      <td>-0.159980</td>\n",
              "      <td>-0.383022</td>\n",
              "      <td>0.521963</td>\n",
              "      <td>0.313467</td>\n",
              "      <td>-0.375973</td>\n",
              "      <td>0.074681</td>\n",
              "      <td>-0.354185</td>\n",
              "      <td>-0.121760</td>\n",
              "      <td>0.090449</td>\n",
              "      <td>-0.411234</td>\n",
              "    </tr>\n",
              "    <tr>\n",
              "      <th>84</th>\n",
              "      <td>-0.169447</td>\n",
              "      <td>-0.575336</td>\n",
              "      <td>0.523454</td>\n",
              "      <td>1.048419</td>\n",
              "      <td>2.034714</td>\n",
              "      <td>1.593258</td>\n",
              "      <td>0.040602</td>\n",
              "      <td>1.524606</td>\n",
              "      <td>0.493628</td>\n",
              "      <td>0.969308</td>\n",
              "      <td>...</td>\n",
              "      <td>0.274080</td>\n",
              "      <td>-0.590278</td>\n",
              "      <td>1.828673</td>\n",
              "      <td>1.756711</td>\n",
              "      <td>-0.383114</td>\n",
              "      <td>-0.327847</td>\n",
              "      <td>-0.376612</td>\n",
              "      <td>0.042473</td>\n",
              "      <td>0.628991</td>\n",
              "      <td>-0.187787</td>\n",
              "    </tr>\n",
              "    <tr>\n",
              "      <th>85</th>\n",
              "      <td>0.585432</td>\n",
              "      <td>0.249382</td>\n",
              "      <td>0.690084</td>\n",
              "      <td>0.319397</td>\n",
              "      <td>0.510645</td>\n",
              "      <td>0.751183</td>\n",
              "      <td>0.798703</td>\n",
              "      <td>0.580440</td>\n",
              "      <td>0.225503</td>\n",
              "      <td>0.650844</td>\n",
              "      <td>...</td>\n",
              "      <td>-0.168793</td>\n",
              "      <td>-0.334546</td>\n",
              "      <td>-0.510073</td>\n",
              "      <td>-0.864984</td>\n",
              "      <td>0.273566</td>\n",
              "      <td>0.218646</td>\n",
              "      <td>-0.362898</td>\n",
              "      <td>-0.124150</td>\n",
              "      <td>-0.561127</td>\n",
              "      <td>-0.421248</td>\n",
              "    </tr>\n",
              "  </tbody>\n",
              "</table>\n",
              "<p>86 rows × 107 columns</p>\n",
              "</div>\n",
              "    <div class=\"colab-df-buttons\">\n",
              "\n",
              "  <div class=\"colab-df-container\">\n",
              "    <button class=\"colab-df-convert\" onclick=\"convertToInteractive('df-34294516-0a0e-4c77-982e-837cfa63af53')\"\n",
              "            title=\"Convert this dataframe to an interactive table.\"\n",
              "            style=\"display:none;\">\n",
              "\n",
              "  <svg xmlns=\"http://www.w3.org/2000/svg\" height=\"24px\" viewBox=\"0 -960 960 960\">\n",
              "    <path d=\"M120-120v-720h720v720H120Zm60-500h600v-160H180v160Zm220 220h160v-160H400v160Zm0 220h160v-160H400v160ZM180-400h160v-160H180v160Zm440 0h160v-160H620v160ZM180-180h160v-160H180v160Zm440 0h160v-160H620v160Z\"/>\n",
              "  </svg>\n",
              "    </button>\n",
              "\n",
              "  <style>\n",
              "    .colab-df-container {\n",
              "      display:flex;\n",
              "      gap: 12px;\n",
              "    }\n",
              "\n",
              "    .colab-df-convert {\n",
              "      background-color: #E8F0FE;\n",
              "      border: none;\n",
              "      border-radius: 50%;\n",
              "      cursor: pointer;\n",
              "      display: none;\n",
              "      fill: #1967D2;\n",
              "      height: 32px;\n",
              "      padding: 0 0 0 0;\n",
              "      width: 32px;\n",
              "    }\n",
              "\n",
              "    .colab-df-convert:hover {\n",
              "      background-color: #E2EBFA;\n",
              "      box-shadow: 0px 1px 2px rgba(60, 64, 67, 0.3), 0px 1px 3px 1px rgba(60, 64, 67, 0.15);\n",
              "      fill: #174EA6;\n",
              "    }\n",
              "\n",
              "    .colab-df-buttons div {\n",
              "      margin-bottom: 4px;\n",
              "    }\n",
              "\n",
              "    [theme=dark] .colab-df-convert {\n",
              "      background-color: #3B4455;\n",
              "      fill: #D2E3FC;\n",
              "    }\n",
              "\n",
              "    [theme=dark] .colab-df-convert:hover {\n",
              "      background-color: #434B5C;\n",
              "      box-shadow: 0px 1px 3px 1px rgba(0, 0, 0, 0.15);\n",
              "      filter: drop-shadow(0px 1px 2px rgba(0, 0, 0, 0.3));\n",
              "      fill: #FFFFFF;\n",
              "    }\n",
              "  </style>\n",
              "\n",
              "    <script>\n",
              "      const buttonEl =\n",
              "        document.querySelector('#df-34294516-0a0e-4c77-982e-837cfa63af53 button.colab-df-convert');\n",
              "      buttonEl.style.display =\n",
              "        google.colab.kernel.accessAllowed ? 'block' : 'none';\n",
              "\n",
              "      async function convertToInteractive(key) {\n",
              "        const element = document.querySelector('#df-34294516-0a0e-4c77-982e-837cfa63af53');\n",
              "        const dataTable =\n",
              "          await google.colab.kernel.invokeFunction('convertToInteractive',\n",
              "                                                    [key], {});\n",
              "        if (!dataTable) return;\n",
              "\n",
              "        const docLinkHtml = 'Like what you see? Visit the ' +\n",
              "          '<a target=\"_blank\" href=https://colab.research.google.com/notebooks/data_table.ipynb>data table notebook</a>'\n",
              "          + ' to learn more about interactive tables.';\n",
              "        element.innerHTML = '';\n",
              "        dataTable['output_type'] = 'display_data';\n",
              "        await google.colab.output.renderOutput(dataTable, element);\n",
              "        const docLink = document.createElement('div');\n",
              "        docLink.innerHTML = docLinkHtml;\n",
              "        element.appendChild(docLink);\n",
              "      }\n",
              "    </script>\n",
              "  </div>\n",
              "\n",
              "\n",
              "    <div id=\"df-5f3e86db-7670-4af5-9dbb-819684db6045\">\n",
              "      <button class=\"colab-df-quickchart\" onclick=\"quickchart('df-5f3e86db-7670-4af5-9dbb-819684db6045')\"\n",
              "                title=\"Suggest charts\"\n",
              "                style=\"display:none;\">\n",
              "\n",
              "<svg xmlns=\"http://www.w3.org/2000/svg\" height=\"24px\"viewBox=\"0 0 24 24\"\n",
              "     width=\"24px\">\n",
              "    <g>\n",
              "        <path d=\"M19 3H5c-1.1 0-2 .9-2 2v14c0 1.1.9 2 2 2h14c1.1 0 2-.9 2-2V5c0-1.1-.9-2-2-2zM9 17H7v-7h2v7zm4 0h-2V7h2v10zm4 0h-2v-4h2v4z\"/>\n",
              "    </g>\n",
              "</svg>\n",
              "      </button>\n",
              "\n",
              "<style>\n",
              "  .colab-df-quickchart {\n",
              "      --bg-color: #E8F0FE;\n",
              "      --fill-color: #1967D2;\n",
              "      --hover-bg-color: #E2EBFA;\n",
              "      --hover-fill-color: #174EA6;\n",
              "      --disabled-fill-color: #AAA;\n",
              "      --disabled-bg-color: #DDD;\n",
              "  }\n",
              "\n",
              "  [theme=dark] .colab-df-quickchart {\n",
              "      --bg-color: #3B4455;\n",
              "      --fill-color: #D2E3FC;\n",
              "      --hover-bg-color: #434B5C;\n",
              "      --hover-fill-color: #FFFFFF;\n",
              "      --disabled-bg-color: #3B4455;\n",
              "      --disabled-fill-color: #666;\n",
              "  }\n",
              "\n",
              "  .colab-df-quickchart {\n",
              "    background-color: var(--bg-color);\n",
              "    border: none;\n",
              "    border-radius: 50%;\n",
              "    cursor: pointer;\n",
              "    display: none;\n",
              "    fill: var(--fill-color);\n",
              "    height: 32px;\n",
              "    padding: 0;\n",
              "    width: 32px;\n",
              "  }\n",
              "\n",
              "  .colab-df-quickchart:hover {\n",
              "    background-color: var(--hover-bg-color);\n",
              "    box-shadow: 0 1px 2px rgba(60, 64, 67, 0.3), 0 1px 3px 1px rgba(60, 64, 67, 0.15);\n",
              "    fill: var(--button-hover-fill-color);\n",
              "  }\n",
              "\n",
              "  .colab-df-quickchart-complete:disabled,\n",
              "  .colab-df-quickchart-complete:disabled:hover {\n",
              "    background-color: var(--disabled-bg-color);\n",
              "    fill: var(--disabled-fill-color);\n",
              "    box-shadow: none;\n",
              "  }\n",
              "\n",
              "  .colab-df-spinner {\n",
              "    border: 2px solid var(--fill-color);\n",
              "    border-color: transparent;\n",
              "    border-bottom-color: var(--fill-color);\n",
              "    animation:\n",
              "      spin 1s steps(1) infinite;\n",
              "  }\n",
              "\n",
              "  @keyframes spin {\n",
              "    0% {\n",
              "      border-color: transparent;\n",
              "      border-bottom-color: var(--fill-color);\n",
              "      border-left-color: var(--fill-color);\n",
              "    }\n",
              "    20% {\n",
              "      border-color: transparent;\n",
              "      border-left-color: var(--fill-color);\n",
              "      border-top-color: var(--fill-color);\n",
              "    }\n",
              "    30% {\n",
              "      border-color: transparent;\n",
              "      border-left-color: var(--fill-color);\n",
              "      border-top-color: var(--fill-color);\n",
              "      border-right-color: var(--fill-color);\n",
              "    }\n",
              "    40% {\n",
              "      border-color: transparent;\n",
              "      border-right-color: var(--fill-color);\n",
              "      border-top-color: var(--fill-color);\n",
              "    }\n",
              "    60% {\n",
              "      border-color: transparent;\n",
              "      border-right-color: var(--fill-color);\n",
              "    }\n",
              "    80% {\n",
              "      border-color: transparent;\n",
              "      border-right-color: var(--fill-color);\n",
              "      border-bottom-color: var(--fill-color);\n",
              "    }\n",
              "    90% {\n",
              "      border-color: transparent;\n",
              "      border-bottom-color: var(--fill-color);\n",
              "    }\n",
              "  }\n",
              "</style>\n",
              "\n",
              "      <script>\n",
              "        async function quickchart(key) {\n",
              "          const quickchartButtonEl =\n",
              "            document.querySelector('#' + key + ' button');\n",
              "          quickchartButtonEl.disabled = true;  // To prevent multiple clicks.\n",
              "          quickchartButtonEl.classList.add('colab-df-spinner');\n",
              "          try {\n",
              "            const charts = await google.colab.kernel.invokeFunction(\n",
              "                'suggestCharts', [key], {});\n",
              "          } catch (error) {\n",
              "            console.error('Error during call to suggestCharts:', error);\n",
              "          }\n",
              "          quickchartButtonEl.classList.remove('colab-df-spinner');\n",
              "          quickchartButtonEl.classList.add('colab-df-quickchart-complete');\n",
              "        }\n",
              "        (() => {\n",
              "          let quickchartButtonEl =\n",
              "            document.querySelector('#df-5f3e86db-7670-4af5-9dbb-819684db6045 button');\n",
              "          quickchartButtonEl.style.display =\n",
              "            google.colab.kernel.accessAllowed ? 'block' : 'none';\n",
              "        })();\n",
              "      </script>\n",
              "    </div>\n",
              "\n",
              "  <div id=\"id_39ec2b33-adac-47b4-aaae-0e1a10bac7b7\">\n",
              "    <style>\n",
              "      .colab-df-generate {\n",
              "        background-color: #E8F0FE;\n",
              "        border: none;\n",
              "        border-radius: 50%;\n",
              "        cursor: pointer;\n",
              "        display: none;\n",
              "        fill: #1967D2;\n",
              "        height: 32px;\n",
              "        padding: 0 0 0 0;\n",
              "        width: 32px;\n",
              "      }\n",
              "\n",
              "      .colab-df-generate:hover {\n",
              "        background-color: #E2EBFA;\n",
              "        box-shadow: 0px 1px 2px rgba(60, 64, 67, 0.3), 0px 1px 3px 1px rgba(60, 64, 67, 0.15);\n",
              "        fill: #174EA6;\n",
              "      }\n",
              "\n",
              "      [theme=dark] .colab-df-generate {\n",
              "        background-color: #3B4455;\n",
              "        fill: #D2E3FC;\n",
              "      }\n",
              "\n",
              "      [theme=dark] .colab-df-generate:hover {\n",
              "        background-color: #434B5C;\n",
              "        box-shadow: 0px 1px 3px 1px rgba(0, 0, 0, 0.15);\n",
              "        filter: drop-shadow(0px 1px 2px rgba(0, 0, 0, 0.3));\n",
              "        fill: #FFFFFF;\n",
              "      }\n",
              "    </style>\n",
              "    <button class=\"colab-df-generate\" onclick=\"generateWithVariable('radiomics_zscore_df')\"\n",
              "            title=\"Generate code using this dataframe.\"\n",
              "            style=\"display:none;\">\n",
              "\n",
              "  <svg xmlns=\"http://www.w3.org/2000/svg\" height=\"24px\"viewBox=\"0 0 24 24\"\n",
              "       width=\"24px\">\n",
              "    <path d=\"M7,19H8.4L18.45,9,17,7.55,7,17.6ZM5,21V16.75L18.45,3.32a2,2,0,0,1,2.83,0l1.4,1.43a1.91,1.91,0,0,1,.58,1.4,1.91,1.91,0,0,1-.58,1.4L9.25,21ZM18.45,9,17,7.55Zm-12,3A5.31,5.31,0,0,0,4.9,8.1,5.31,5.31,0,0,0,1,6.5,5.31,5.31,0,0,0,4.9,4.9,5.31,5.31,0,0,0,6.5,1,5.31,5.31,0,0,0,8.1,4.9,5.31,5.31,0,0,0,12,6.5,5.46,5.46,0,0,0,6.5,12Z\"/>\n",
              "  </svg>\n",
              "    </button>\n",
              "    <script>\n",
              "      (() => {\n",
              "      const buttonEl =\n",
              "        document.querySelector('#id_39ec2b33-adac-47b4-aaae-0e1a10bac7b7 button.colab-df-generate');\n",
              "      buttonEl.style.display =\n",
              "        google.colab.kernel.accessAllowed ? 'block' : 'none';\n",
              "\n",
              "      buttonEl.onclick = () => {\n",
              "        google.colab.notebook.generateWithVariable('radiomics_zscore_df');\n",
              "      }\n",
              "      })();\n",
              "    </script>\n",
              "  </div>\n",
              "\n",
              "    </div>\n",
              "  </div>\n"
            ],
            "application/vnd.google.colaboratory.intrinsic+json": {
              "type": "dataframe",
              "variable_name": "radiomics_zscore_df"
            }
          },
          "metadata": {},
          "execution_count": 50
        }
      ],
      "source": [
        "from sklearn.preprocessing import StandardScaler\n",
        "\n",
        "scaler = StandardScaler() # Create the scaler\n",
        "radiomics_zscore = scaler.fit_transform(radiomics.drop(['patient', 'tumor'], axis=1))\n",
        "radiomics_zscore_df = pd.DataFrame(radiomics_zscore, columns=radiomics.columns[:-2])\n",
        "\n",
        "radiomics_zscore_df"
      ]
    },
    {
      "cell_type": "markdown",
      "id": "830b8bf3-3d7e-428d-8b07-6cae410d79b9",
      "metadata": {
        "id": "830b8bf3-3d7e-428d-8b07-6cae410d79b9"
      },
      "source": [
        "Now that we have z-scored data, we can use the thresholds explained above to detect outliers."
      ]
    },
    {
      "cell_type": "code",
      "execution_count": 51,
      "id": "974e5a74-9e6e-45af-8312-72b3802b40a1",
      "metadata": {
        "id": "974e5a74-9e6e-45af-8312-72b3802b40a1",
        "outputId": "9711c6a8-dc7c-4333-f9b0-4c2f39728868",
        "colab": {
          "base_uri": "https://localhost:8080/",
          "height": 224
        }
      },
      "outputs": [
        {
          "output_type": "execute_result",
          "data": {
            "text/plain": [
              "    original_shape_Elongation  original_shape_Flatness  \\\n",
              "21                   0.848644                -0.952744   \n",
              "43                  -0.109783                 0.191423   \n",
              "44                   0.952114                 1.299971   \n",
              "70                   1.368535                 0.017191   \n",
              "\n",
              "    original_shape_LeastAxisLength  original_shape_MajorAxisLength  \\\n",
              "21                        1.087412                        2.695151   \n",
              "43                        3.978310                        3.433153   \n",
              "44                        2.655229                        1.006618   \n",
              "70                        1.531168                        1.361858   \n",
              "\n",
              "    original_shape_Maximum2DDiameterColumn  \\\n",
              "21                                3.618015   \n",
              "43                                4.086937   \n",
              "44                                1.752073   \n",
              "70                                2.115268   \n",
              "\n",
              "    original_shape_Maximum2DDiameterRow  \\\n",
              "21                             3.070422   \n",
              "43                             2.818940   \n",
              "44                             0.751924   \n",
              "70                             2.129513   \n",
              "\n",
              "    original_shape_Maximum2DDiameterSlice  original_shape_Maximum3DDiameter  \\\n",
              "21                               2.764395                          2.590094   \n",
              "43                               3.956156                          3.646438   \n",
              "44                               1.162901                          1.062911   \n",
              "70                               1.807506                          1.747152   \n",
              "\n",
              "    original_shape_MeshVolume  original_shape_MinorAxisLength  ...  \\\n",
              "21                   3.347922                        3.601300  ...   \n",
              "43                   7.181409                        3.314479  ...   \n",
              "44                   2.199601                        1.665471  ...   \n",
              "70                   2.072398                        2.402668  ...   \n",
              "\n",
              "    original_glszm_SmallAreaHighGrayLevelEmphasis  \\\n",
              "21                                      -0.158693   \n",
              "43                                       0.771115   \n",
              "44                                      -0.104296   \n",
              "70                                      -0.097366   \n",
              "\n",
              "    original_glszm_SmallAreaLowGrayLevelEmphasis  original_glszm_ZoneEntropy  \\\n",
              "21                                      0.006979                    0.365099   \n",
              "43                                     -0.451950                    2.180221   \n",
              "44                                      0.062354                    0.961085   \n",
              "70                                     -0.175061                    1.069756   \n",
              "\n",
              "    original_glszm_ZonePercentage  original_glszm_ZoneVariance  \\\n",
              "21                      -0.776702                     4.170389   \n",
              "43                       0.491888                     1.009722   \n",
              "44                      -0.524390                     2.132775   \n",
              "70                      -0.306721                     0.023564   \n",
              "\n",
              "    original_ngtdm_Busyness  original_ngtdm_Coarseness  \\\n",
              "21                 1.914382                  -0.377765   \n",
              "43                -0.182557                  -0.380806   \n",
              "44                 0.523193                  -0.373049   \n",
              "70                 0.323345                  -0.373808   \n",
              "\n",
              "    original_ngtdm_Complexity  original_ngtdm_Contrast  \\\n",
              "21                  -0.122820                -0.349833   \n",
              "43                   0.178656                 0.752636   \n",
              "44                  -0.114521                -0.291528   \n",
              "70                  -0.114060                -0.094087   \n",
              "\n",
              "    original_ngtdm_Strength  \n",
              "21                -0.401700  \n",
              "43                 0.151923  \n",
              "44                -0.232408  \n",
              "70                -0.334667  \n",
              "\n",
              "[4 rows x 107 columns]"
            ],
            "text/html": [
              "\n",
              "  <div id=\"df-7b378219-fe30-46aa-a2a8-ef36162bcd7f\" class=\"colab-df-container\">\n",
              "    <div>\n",
              "<style scoped>\n",
              "    .dataframe tbody tr th:only-of-type {\n",
              "        vertical-align: middle;\n",
              "    }\n",
              "\n",
              "    .dataframe tbody tr th {\n",
              "        vertical-align: top;\n",
              "    }\n",
              "\n",
              "    .dataframe thead th {\n",
              "        text-align: right;\n",
              "    }\n",
              "</style>\n",
              "<table border=\"1\" class=\"dataframe\">\n",
              "  <thead>\n",
              "    <tr style=\"text-align: right;\">\n",
              "      <th></th>\n",
              "      <th>original_shape_Elongation</th>\n",
              "      <th>original_shape_Flatness</th>\n",
              "      <th>original_shape_LeastAxisLength</th>\n",
              "      <th>original_shape_MajorAxisLength</th>\n",
              "      <th>original_shape_Maximum2DDiameterColumn</th>\n",
              "      <th>original_shape_Maximum2DDiameterRow</th>\n",
              "      <th>original_shape_Maximum2DDiameterSlice</th>\n",
              "      <th>original_shape_Maximum3DDiameter</th>\n",
              "      <th>original_shape_MeshVolume</th>\n",
              "      <th>original_shape_MinorAxisLength</th>\n",
              "      <th>...</th>\n",
              "      <th>original_glszm_SmallAreaHighGrayLevelEmphasis</th>\n",
              "      <th>original_glszm_SmallAreaLowGrayLevelEmphasis</th>\n",
              "      <th>original_glszm_ZoneEntropy</th>\n",
              "      <th>original_glszm_ZonePercentage</th>\n",
              "      <th>original_glszm_ZoneVariance</th>\n",
              "      <th>original_ngtdm_Busyness</th>\n",
              "      <th>original_ngtdm_Coarseness</th>\n",
              "      <th>original_ngtdm_Complexity</th>\n",
              "      <th>original_ngtdm_Contrast</th>\n",
              "      <th>original_ngtdm_Strength</th>\n",
              "    </tr>\n",
              "  </thead>\n",
              "  <tbody>\n",
              "    <tr>\n",
              "      <th>21</th>\n",
              "      <td>0.848644</td>\n",
              "      <td>-0.952744</td>\n",
              "      <td>1.087412</td>\n",
              "      <td>2.695151</td>\n",
              "      <td>3.618015</td>\n",
              "      <td>3.070422</td>\n",
              "      <td>2.764395</td>\n",
              "      <td>2.590094</td>\n",
              "      <td>3.347922</td>\n",
              "      <td>3.601300</td>\n",
              "      <td>...</td>\n",
              "      <td>-0.158693</td>\n",
              "      <td>0.006979</td>\n",
              "      <td>0.365099</td>\n",
              "      <td>-0.776702</td>\n",
              "      <td>4.170389</td>\n",
              "      <td>1.914382</td>\n",
              "      <td>-0.377765</td>\n",
              "      <td>-0.122820</td>\n",
              "      <td>-0.349833</td>\n",
              "      <td>-0.401700</td>\n",
              "    </tr>\n",
              "    <tr>\n",
              "      <th>43</th>\n",
              "      <td>-0.109783</td>\n",
              "      <td>0.191423</td>\n",
              "      <td>3.978310</td>\n",
              "      <td>3.433153</td>\n",
              "      <td>4.086937</td>\n",
              "      <td>2.818940</td>\n",
              "      <td>3.956156</td>\n",
              "      <td>3.646438</td>\n",
              "      <td>7.181409</td>\n",
              "      <td>3.314479</td>\n",
              "      <td>...</td>\n",
              "      <td>0.771115</td>\n",
              "      <td>-0.451950</td>\n",
              "      <td>2.180221</td>\n",
              "      <td>0.491888</td>\n",
              "      <td>1.009722</td>\n",
              "      <td>-0.182557</td>\n",
              "      <td>-0.380806</td>\n",
              "      <td>0.178656</td>\n",
              "      <td>0.752636</td>\n",
              "      <td>0.151923</td>\n",
              "    </tr>\n",
              "    <tr>\n",
              "      <th>44</th>\n",
              "      <td>0.952114</td>\n",
              "      <td>1.299971</td>\n",
              "      <td>2.655229</td>\n",
              "      <td>1.006618</td>\n",
              "      <td>1.752073</td>\n",
              "      <td>0.751924</td>\n",
              "      <td>1.162901</td>\n",
              "      <td>1.062911</td>\n",
              "      <td>2.199601</td>\n",
              "      <td>1.665471</td>\n",
              "      <td>...</td>\n",
              "      <td>-0.104296</td>\n",
              "      <td>0.062354</td>\n",
              "      <td>0.961085</td>\n",
              "      <td>-0.524390</td>\n",
              "      <td>2.132775</td>\n",
              "      <td>0.523193</td>\n",
              "      <td>-0.373049</td>\n",
              "      <td>-0.114521</td>\n",
              "      <td>-0.291528</td>\n",
              "      <td>-0.232408</td>\n",
              "    </tr>\n",
              "    <tr>\n",
              "      <th>70</th>\n",
              "      <td>1.368535</td>\n",
              "      <td>0.017191</td>\n",
              "      <td>1.531168</td>\n",
              "      <td>1.361858</td>\n",
              "      <td>2.115268</td>\n",
              "      <td>2.129513</td>\n",
              "      <td>1.807506</td>\n",
              "      <td>1.747152</td>\n",
              "      <td>2.072398</td>\n",
              "      <td>2.402668</td>\n",
              "      <td>...</td>\n",
              "      <td>-0.097366</td>\n",
              "      <td>-0.175061</td>\n",
              "      <td>1.069756</td>\n",
              "      <td>-0.306721</td>\n",
              "      <td>0.023564</td>\n",
              "      <td>0.323345</td>\n",
              "      <td>-0.373808</td>\n",
              "      <td>-0.114060</td>\n",
              "      <td>-0.094087</td>\n",
              "      <td>-0.334667</td>\n",
              "    </tr>\n",
              "  </tbody>\n",
              "</table>\n",
              "<p>4 rows × 107 columns</p>\n",
              "</div>\n",
              "    <div class=\"colab-df-buttons\">\n",
              "\n",
              "  <div class=\"colab-df-container\">\n",
              "    <button class=\"colab-df-convert\" onclick=\"convertToInteractive('df-7b378219-fe30-46aa-a2a8-ef36162bcd7f')\"\n",
              "            title=\"Convert this dataframe to an interactive table.\"\n",
              "            style=\"display:none;\">\n",
              "\n",
              "  <svg xmlns=\"http://www.w3.org/2000/svg\" height=\"24px\" viewBox=\"0 -960 960 960\">\n",
              "    <path d=\"M120-120v-720h720v720H120Zm60-500h600v-160H180v160Zm220 220h160v-160H400v160Zm0 220h160v-160H400v160ZM180-400h160v-160H180v160Zm440 0h160v-160H620v160ZM180-180h160v-160H180v160Zm440 0h160v-160H620v160Z\"/>\n",
              "  </svg>\n",
              "    </button>\n",
              "\n",
              "  <style>\n",
              "    .colab-df-container {\n",
              "      display:flex;\n",
              "      gap: 12px;\n",
              "    }\n",
              "\n",
              "    .colab-df-convert {\n",
              "      background-color: #E8F0FE;\n",
              "      border: none;\n",
              "      border-radius: 50%;\n",
              "      cursor: pointer;\n",
              "      display: none;\n",
              "      fill: #1967D2;\n",
              "      height: 32px;\n",
              "      padding: 0 0 0 0;\n",
              "      width: 32px;\n",
              "    }\n",
              "\n",
              "    .colab-df-convert:hover {\n",
              "      background-color: #E2EBFA;\n",
              "      box-shadow: 0px 1px 2px rgba(60, 64, 67, 0.3), 0px 1px 3px 1px rgba(60, 64, 67, 0.15);\n",
              "      fill: #174EA6;\n",
              "    }\n",
              "\n",
              "    .colab-df-buttons div {\n",
              "      margin-bottom: 4px;\n",
              "    }\n",
              "\n",
              "    [theme=dark] .colab-df-convert {\n",
              "      background-color: #3B4455;\n",
              "      fill: #D2E3FC;\n",
              "    }\n",
              "\n",
              "    [theme=dark] .colab-df-convert:hover {\n",
              "      background-color: #434B5C;\n",
              "      box-shadow: 0px 1px 3px 1px rgba(0, 0, 0, 0.15);\n",
              "      filter: drop-shadow(0px 1px 2px rgba(0, 0, 0, 0.3));\n",
              "      fill: #FFFFFF;\n",
              "    }\n",
              "  </style>\n",
              "\n",
              "    <script>\n",
              "      const buttonEl =\n",
              "        document.querySelector('#df-7b378219-fe30-46aa-a2a8-ef36162bcd7f button.colab-df-convert');\n",
              "      buttonEl.style.display =\n",
              "        google.colab.kernel.accessAllowed ? 'block' : 'none';\n",
              "\n",
              "      async function convertToInteractive(key) {\n",
              "        const element = document.querySelector('#df-7b378219-fe30-46aa-a2a8-ef36162bcd7f');\n",
              "        const dataTable =\n",
              "          await google.colab.kernel.invokeFunction('convertToInteractive',\n",
              "                                                    [key], {});\n",
              "        if (!dataTable) return;\n",
              "\n",
              "        const docLinkHtml = 'Like what you see? Visit the ' +\n",
              "          '<a target=\"_blank\" href=https://colab.research.google.com/notebooks/data_table.ipynb>data table notebook</a>'\n",
              "          + ' to learn more about interactive tables.';\n",
              "        element.innerHTML = '';\n",
              "        dataTable['output_type'] = 'display_data';\n",
              "        await google.colab.output.renderOutput(dataTable, element);\n",
              "        const docLink = document.createElement('div');\n",
              "        docLink.innerHTML = docLinkHtml;\n",
              "        element.appendChild(docLink);\n",
              "      }\n",
              "    </script>\n",
              "  </div>\n",
              "\n",
              "\n",
              "    <div id=\"df-cd5facf6-70fa-4217-befa-8b12418fce26\">\n",
              "      <button class=\"colab-df-quickchart\" onclick=\"quickchart('df-cd5facf6-70fa-4217-befa-8b12418fce26')\"\n",
              "                title=\"Suggest charts\"\n",
              "                style=\"display:none;\">\n",
              "\n",
              "<svg xmlns=\"http://www.w3.org/2000/svg\" height=\"24px\"viewBox=\"0 0 24 24\"\n",
              "     width=\"24px\">\n",
              "    <g>\n",
              "        <path d=\"M19 3H5c-1.1 0-2 .9-2 2v14c0 1.1.9 2 2 2h14c1.1 0 2-.9 2-2V5c0-1.1-.9-2-2-2zM9 17H7v-7h2v7zm4 0h-2V7h2v10zm4 0h-2v-4h2v4z\"/>\n",
              "    </g>\n",
              "</svg>\n",
              "      </button>\n",
              "\n",
              "<style>\n",
              "  .colab-df-quickchart {\n",
              "      --bg-color: #E8F0FE;\n",
              "      --fill-color: #1967D2;\n",
              "      --hover-bg-color: #E2EBFA;\n",
              "      --hover-fill-color: #174EA6;\n",
              "      --disabled-fill-color: #AAA;\n",
              "      --disabled-bg-color: #DDD;\n",
              "  }\n",
              "\n",
              "  [theme=dark] .colab-df-quickchart {\n",
              "      --bg-color: #3B4455;\n",
              "      --fill-color: #D2E3FC;\n",
              "      --hover-bg-color: #434B5C;\n",
              "      --hover-fill-color: #FFFFFF;\n",
              "      --disabled-bg-color: #3B4455;\n",
              "      --disabled-fill-color: #666;\n",
              "  }\n",
              "\n",
              "  .colab-df-quickchart {\n",
              "    background-color: var(--bg-color);\n",
              "    border: none;\n",
              "    border-radius: 50%;\n",
              "    cursor: pointer;\n",
              "    display: none;\n",
              "    fill: var(--fill-color);\n",
              "    height: 32px;\n",
              "    padding: 0;\n",
              "    width: 32px;\n",
              "  }\n",
              "\n",
              "  .colab-df-quickchart:hover {\n",
              "    background-color: var(--hover-bg-color);\n",
              "    box-shadow: 0 1px 2px rgba(60, 64, 67, 0.3), 0 1px 3px 1px rgba(60, 64, 67, 0.15);\n",
              "    fill: var(--button-hover-fill-color);\n",
              "  }\n",
              "\n",
              "  .colab-df-quickchart-complete:disabled,\n",
              "  .colab-df-quickchart-complete:disabled:hover {\n",
              "    background-color: var(--disabled-bg-color);\n",
              "    fill: var(--disabled-fill-color);\n",
              "    box-shadow: none;\n",
              "  }\n",
              "\n",
              "  .colab-df-spinner {\n",
              "    border: 2px solid var(--fill-color);\n",
              "    border-color: transparent;\n",
              "    border-bottom-color: var(--fill-color);\n",
              "    animation:\n",
              "      spin 1s steps(1) infinite;\n",
              "  }\n",
              "\n",
              "  @keyframes spin {\n",
              "    0% {\n",
              "      border-color: transparent;\n",
              "      border-bottom-color: var(--fill-color);\n",
              "      border-left-color: var(--fill-color);\n",
              "    }\n",
              "    20% {\n",
              "      border-color: transparent;\n",
              "      border-left-color: var(--fill-color);\n",
              "      border-top-color: var(--fill-color);\n",
              "    }\n",
              "    30% {\n",
              "      border-color: transparent;\n",
              "      border-left-color: var(--fill-color);\n",
              "      border-top-color: var(--fill-color);\n",
              "      border-right-color: var(--fill-color);\n",
              "    }\n",
              "    40% {\n",
              "      border-color: transparent;\n",
              "      border-right-color: var(--fill-color);\n",
              "      border-top-color: var(--fill-color);\n",
              "    }\n",
              "    60% {\n",
              "      border-color: transparent;\n",
              "      border-right-color: var(--fill-color);\n",
              "    }\n",
              "    80% {\n",
              "      border-color: transparent;\n",
              "      border-right-color: var(--fill-color);\n",
              "      border-bottom-color: var(--fill-color);\n",
              "    }\n",
              "    90% {\n",
              "      border-color: transparent;\n",
              "      border-bottom-color: var(--fill-color);\n",
              "    }\n",
              "  }\n",
              "</style>\n",
              "\n",
              "      <script>\n",
              "        async function quickchart(key) {\n",
              "          const quickchartButtonEl =\n",
              "            document.querySelector('#' + key + ' button');\n",
              "          quickchartButtonEl.disabled = true;  // To prevent multiple clicks.\n",
              "          quickchartButtonEl.classList.add('colab-df-spinner');\n",
              "          try {\n",
              "            const charts = await google.colab.kernel.invokeFunction(\n",
              "                'suggestCharts', [key], {});\n",
              "          } catch (error) {\n",
              "            console.error('Error during call to suggestCharts:', error);\n",
              "          }\n",
              "          quickchartButtonEl.classList.remove('colab-df-spinner');\n",
              "          quickchartButtonEl.classList.add('colab-df-quickchart-complete');\n",
              "        }\n",
              "        (() => {\n",
              "          let quickchartButtonEl =\n",
              "            document.querySelector('#df-cd5facf6-70fa-4217-befa-8b12418fce26 button');\n",
              "          quickchartButtonEl.style.display =\n",
              "            google.colab.kernel.accessAllowed ? 'block' : 'none';\n",
              "        })();\n",
              "      </script>\n",
              "    </div>\n",
              "\n",
              "    </div>\n",
              "  </div>\n"
            ],
            "application/vnd.google.colaboratory.intrinsic+json": {
              "type": "dataframe"
            }
          },
          "metadata": {},
          "execution_count": 51
        }
      ],
      "source": [
        "# Extreme values based on outlier columns.\n",
        "radiomics_zscore_df[(radiomics_zscore_df[outlier_col]<-2) | (radiomics_zscore_df[outlier_col]>2)]"
      ]
    },
    {
      "cell_type": "code",
      "execution_count": 53,
      "id": "c536f1e6-f651-42c8-a331-4fe658291d4a",
      "metadata": {
        "id": "c536f1e6-f651-42c8-a331-4fe658291d4a"
      },
      "outputs": [],
      "source": [
        "# Save our standardized measures\n",
        "radiomics_zscore_df['patient'] = radiomics['patient'].values\n",
        "radiomics_zscore_df['tumor'] = radiomics['tumor'].values\n",
        "radiomics_zscore_df.to_csv(f'{DATA_PATH}/data/ReMIND/radiomics_standardized.csv', index=False)"
      ]
    }
  ],
  "metadata": {
    "kernelspec": {
      "display_name": "Python 3",
      "name": "python3"
    },
    "language_info": {
      "codemirror_mode": {
        "name": "ipython",
        "version": 3
      },
      "file_extension": ".py",
      "mimetype": "text/x-python",
      "name": "python",
      "nbconvert_exporter": "python",
      "pygments_lexer": "ipython3",
      "version": "3.8.20"
    },
    "colab": {
      "provenance": [],
      "runtime_attributes": {
        "runtime_version": "2025.07"
      }
    }
  },
  "nbformat": 4,
  "nbformat_minor": 5
}